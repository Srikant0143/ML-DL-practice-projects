{
 "cells": [
  {
   "cell_type": "markdown",
   "id": "9df002cc",
   "metadata": {},
   "source": [
    "## Regression"
   ]
  },
  {
   "cell_type": "markdown",
   "id": "f0a301f0",
   "metadata": {},
   "source": [
    "### Playstore Apps Rating Prediction based on multiple variables"
   ]
  },
  {
   "cell_type": "markdown",
   "id": "60147ee3",
   "metadata": {},
   "source": [
    "In this lesson, we will cover the following concepts with the help of a business use case:\n",
    "* Use Case: Regression\n",
    "* Regression Algorithms\n",
    "* Types of Model Evaluation Metrics\n",
    "* Gradient Descent\n",
    "* Types of Gradient Descents\n",
    "* Use Case: Stochastic Gradient Descent (SGD)\n"
   ]
  },
  {
   "cell_type": "markdown",
   "id": "ede85993",
   "metadata": {},
   "source": [
    "#### Problem Statement\n",
    "\n",
    "Google Play Store team is about to launch a new feature wherein, certain apps that are promising are boosted in visibility. The boost will manifest in multiple ways including higher priority in recommendations sections (“Similar apps”, “You might also like”, “New and updated games”). These will also get a boost in search results visibility.  This feature will help bring more attention to newer apps that have the potential."
   ]
  },
  {
   "cell_type": "markdown",
   "id": "92f2cebc",
   "metadata": {},
   "source": [
    "#### <b> **Analysis to be done:** </b>\n",
    "\n",
    "The problem is to identify the apps that are going to be good for Google to promote. App ratings, which are provided by the customers, are always great indicators of the goodness of the app. The problem reduces to: predict which apps will have high ratings."
   ]
  },
  {
   "cell_type": "markdown",
   "id": "15fc034c",
   "metadata": {},
   "source": [
    "## Import Libraries"
   ]
  },
  {
   "cell_type": "code",
   "execution_count": 1,
   "id": "e9699472",
   "metadata": {},
   "outputs": [],
   "source": [
    "#importing Libraries\n",
    "import numpy as np\n",
    "import pandas as pd\n",
    "import matplotlib.pyplot as plt, seaborn as sns\n",
    "%matplotlib inline"
   ]
  },
  {
   "cell_type": "code",
   "execution_count": 2,
   "id": "84c96efd",
   "metadata": {},
   "outputs": [
    {
     "data": {
      "text/plain": [
       "['.ipynb_checkpoints',\n",
       " 'googleplaystore.csv',\n",
       " 'RatingvsCategor.png',\n",
       " 'Regression_project_with_Playstore_Rating_prediction.ipynb',\n",
       " 'Untitled.ipynb']"
      ]
     },
     "execution_count": 2,
     "metadata": {},
     "output_type": "execute_result"
    }
   ],
   "source": [
    "import os\n",
    "os.listdir()"
   ]
  },
  {
   "cell_type": "code",
   "execution_count": 3,
   "id": "587771bb",
   "metadata": {},
   "outputs": [],
   "source": [
    "#importing the dataset\n",
    "inp = pd.read_csv(\"googleplaystore.csv\")"
   ]
  },
  {
   "cell_type": "code",
   "execution_count": 4,
   "id": "2be3c2d0",
   "metadata": {},
   "outputs": [
    {
     "data": {
      "text/html": [
       "<div>\n",
       "<style scoped>\n",
       "    .dataframe tbody tr th:only-of-type {\n",
       "        vertical-align: middle;\n",
       "    }\n",
       "\n",
       "    .dataframe tbody tr th {\n",
       "        vertical-align: top;\n",
       "    }\n",
       "\n",
       "    .dataframe thead th {\n",
       "        text-align: right;\n",
       "    }\n",
       "</style>\n",
       "<table border=\"1\" class=\"dataframe\">\n",
       "  <thead>\n",
       "    <tr style=\"text-align: right;\">\n",
       "      <th></th>\n",
       "      <th>App</th>\n",
       "      <th>Category</th>\n",
       "      <th>Rating</th>\n",
       "      <th>Reviews</th>\n",
       "      <th>Size</th>\n",
       "      <th>Installs</th>\n",
       "      <th>Type</th>\n",
       "      <th>Price</th>\n",
       "      <th>Content_Rating</th>\n",
       "      <th>Genres</th>\n",
       "      <th>Last Updated</th>\n",
       "      <th>Current Ver</th>\n",
       "      <th>Android Ver</th>\n",
       "    </tr>\n",
       "  </thead>\n",
       "  <tbody>\n",
       "    <tr>\n",
       "      <th>0</th>\n",
       "      <td>Photo Editor &amp; Candy Camera &amp; Grid &amp; ScrapBook</td>\n",
       "      <td>ART_AND_DESIGN</td>\n",
       "      <td>4.1</td>\n",
       "      <td>159</td>\n",
       "      <td>19M</td>\n",
       "      <td>10,000+</td>\n",
       "      <td>Free</td>\n",
       "      <td>0</td>\n",
       "      <td>Everyone</td>\n",
       "      <td>Art_&amp;_Design</td>\n",
       "      <td>January 7, 2018</td>\n",
       "      <td>1.0.0</td>\n",
       "      <td>4.0.3 and up</td>\n",
       "    </tr>\n",
       "    <tr>\n",
       "      <th>1</th>\n",
       "      <td>Coloring book moana</td>\n",
       "      <td>ART_AND_DESIGN</td>\n",
       "      <td>3.9</td>\n",
       "      <td>967</td>\n",
       "      <td>14M</td>\n",
       "      <td>500,000+</td>\n",
       "      <td>Free</td>\n",
       "      <td>0</td>\n",
       "      <td>Everyone</td>\n",
       "      <td>Art_&amp;_Design_Pretend_Play</td>\n",
       "      <td>January 15, 2018</td>\n",
       "      <td>2.0.0</td>\n",
       "      <td>4.0.3 and up</td>\n",
       "    </tr>\n",
       "    <tr>\n",
       "      <th>2</th>\n",
       "      <td>U Launcher Lite – FREE Live Cool Themes, Hide ...</td>\n",
       "      <td>ART_AND_DESIGN</td>\n",
       "      <td>4.7</td>\n",
       "      <td>87510</td>\n",
       "      <td>8.7M</td>\n",
       "      <td>5,000,000+</td>\n",
       "      <td>Free</td>\n",
       "      <td>0</td>\n",
       "      <td>Everyone</td>\n",
       "      <td>Art_&amp;_Design</td>\n",
       "      <td>August 1, 2018</td>\n",
       "      <td>1.2.4</td>\n",
       "      <td>4.0.3 and up</td>\n",
       "    </tr>\n",
       "    <tr>\n",
       "      <th>3</th>\n",
       "      <td>Sketch - Draw &amp; Paint</td>\n",
       "      <td>ART_AND_DESIGN</td>\n",
       "      <td>4.5</td>\n",
       "      <td>215644</td>\n",
       "      <td>25M</td>\n",
       "      <td>50,000,000+</td>\n",
       "      <td>Free</td>\n",
       "      <td>0</td>\n",
       "      <td>Teen</td>\n",
       "      <td>Art_&amp;_Design</td>\n",
       "      <td>June 8, 2018</td>\n",
       "      <td>Varies with device</td>\n",
       "      <td>4.2 and up</td>\n",
       "    </tr>\n",
       "    <tr>\n",
       "      <th>4</th>\n",
       "      <td>Pixel Draw - Number Art Coloring Book</td>\n",
       "      <td>ART_AND_DESIGN</td>\n",
       "      <td>4.3</td>\n",
       "      <td>967</td>\n",
       "      <td>2.8M</td>\n",
       "      <td>100,000+</td>\n",
       "      <td>Free</td>\n",
       "      <td>0</td>\n",
       "      <td>Everyone</td>\n",
       "      <td>Art_&amp;_Design_Creativity</td>\n",
       "      <td>June 20, 2018</td>\n",
       "      <td>1.1</td>\n",
       "      <td>4.4 and up</td>\n",
       "    </tr>\n",
       "  </tbody>\n",
       "</table>\n",
       "</div>"
      ],
      "text/plain": [
       "                                                 App        Category  Rating  \\\n",
       "0     Photo Editor & Candy Camera & Grid & ScrapBook  ART_AND_DESIGN     4.1   \n",
       "1                                Coloring book moana  ART_AND_DESIGN     3.9   \n",
       "2  U Launcher Lite – FREE Live Cool Themes, Hide ...  ART_AND_DESIGN     4.7   \n",
       "3                              Sketch - Draw & Paint  ART_AND_DESIGN     4.5   \n",
       "4              Pixel Draw - Number Art Coloring Book  ART_AND_DESIGN     4.3   \n",
       "\n",
       "  Reviews  Size     Installs  Type Price Content_Rating  \\\n",
       "0     159   19M      10,000+  Free     0       Everyone   \n",
       "1     967   14M     500,000+  Free     0       Everyone   \n",
       "2   87510  8.7M   5,000,000+  Free     0       Everyone   \n",
       "3  215644   25M  50,000,000+  Free     0           Teen   \n",
       "4     967  2.8M     100,000+  Free     0       Everyone   \n",
       "\n",
       "                      Genres      Last Updated         Current Ver  \\\n",
       "0               Art_&_Design   January 7, 2018               1.0.0   \n",
       "1  Art_&_Design_Pretend_Play  January 15, 2018               2.0.0   \n",
       "2               Art_&_Design    August 1, 2018               1.2.4   \n",
       "3               Art_&_Design      June 8, 2018  Varies with device   \n",
       "4    Art_&_Design_Creativity     June 20, 2018                 1.1   \n",
       "\n",
       "    Android Ver  \n",
       "0  4.0.3 and up  \n",
       "1  4.0.3 and up  \n",
       "2  4.0.3 and up  \n",
       "3    4.2 and up  \n",
       "4    4.4 and up  "
      ]
     },
     "execution_count": 4,
     "metadata": {},
     "output_type": "execute_result"
    }
   ],
   "source": [
    "#checking top 5 rows\n",
    "inp.head()"
   ]
  },
  {
   "cell_type": "code",
   "execution_count": 5,
   "id": "fae2ae89",
   "metadata": {
    "scrolled": false
   },
   "outputs": [
    {
     "name": "stdout",
     "output_type": "stream",
     "text": [
      "<class 'pandas.core.frame.DataFrame'>\n",
      "RangeIndex: 10841 entries, 0 to 10840\n",
      "Data columns (total 13 columns):\n",
      " #   Column          Non-Null Count  Dtype  \n",
      "---  ------          --------------  -----  \n",
      " 0   App             10841 non-null  object \n",
      " 1   Category        10841 non-null  object \n",
      " 2   Rating          9367 non-null   float64\n",
      " 3   Reviews         10841 non-null  object \n",
      " 4   Size            10841 non-null  object \n",
      " 5   Installs        10841 non-null  object \n",
      " 6   Type            10840 non-null  object \n",
      " 7   Price           10841 non-null  object \n",
      " 8   Content_Rating  10840 non-null  object \n",
      " 9   Genres          10841 non-null  object \n",
      " 10  Last Updated    10841 non-null  object \n",
      " 11  Current Ver     10833 non-null  object \n",
      " 12  Android Ver     10838 non-null  object \n",
      "dtypes: float64(1), object(12)\n",
      "memory usage: 1.1+ MB\n"
     ]
    }
   ],
   "source": [
    "#observations\n",
    "inp.info()"
   ]
  },
  {
   "cell_type": "code",
   "execution_count": 6,
   "id": "f53f892e",
   "metadata": {
    "scrolled": true
   },
   "outputs": [
    {
     "data": {
      "text/plain": [
       "App                object\n",
       "Category           object\n",
       "Rating            float64\n",
       "Reviews            object\n",
       "Size               object\n",
       "Installs           object\n",
       "Type               object\n",
       "Price              object\n",
       "Content_Rating     object\n",
       "Genres             object\n",
       "Last Updated       object\n",
       "Current Ver        object\n",
       "Android Ver        object\n",
       "dtype: object"
      ]
     },
     "execution_count": 6,
     "metadata": {},
     "output_type": "execute_result"
    }
   ],
   "source": [
    "#check the data types\n",
    "inp.dtypes"
   ]
  },
  {
   "cell_type": "code",
   "execution_count": 7,
   "id": "89e75453",
   "metadata": {},
   "outputs": [
    {
     "data": {
      "text/plain": [
       "Index(['App', 'Category', 'Rating', 'Reviews', 'Size', 'Installs', 'Type',\n",
       "       'Price', 'Content_Rating', 'Genres', 'Last Updated', 'Current Ver',\n",
       "       'Android Ver'],\n",
       "      dtype='object')"
      ]
     },
     "execution_count": 7,
     "metadata": {},
     "output_type": "execute_result"
    }
   ],
   "source": [
    "#check columns\n",
    "inp.columns"
   ]
  },
  {
   "cell_type": "code",
   "execution_count": 8,
   "id": "9c97b23a",
   "metadata": {},
   "outputs": [
    {
     "data": {
      "text/plain": [
       "(10841, 13)"
      ]
     },
     "execution_count": 8,
     "metadata": {},
     "output_type": "execute_result"
    }
   ],
   "source": [
    "#check the no of rows and columns\n",
    "inp.shape"
   ]
  },
  {
   "cell_type": "code",
   "execution_count": 9,
   "id": "f302550c",
   "metadata": {},
   "outputs": [
    {
     "data": {
      "text/plain": [
       "140933"
      ]
     },
     "execution_count": 9,
     "metadata": {},
     "output_type": "execute_result"
    }
   ],
   "source": [
    "#size of the data set\n",
    "inp.size"
   ]
  },
  {
   "cell_type": "code",
   "execution_count": 10,
   "id": "8fc625b8",
   "metadata": {},
   "outputs": [
    {
     "data": {
      "text/plain": [
       "App                  0\n",
       "Category             0\n",
       "Rating            1474\n",
       "Reviews              0\n",
       "Size                 0\n",
       "Installs             0\n",
       "Type                 1\n",
       "Price                0\n",
       "Content_Rating       1\n",
       "Genres               0\n",
       "Last Updated         0\n",
       "Current Ver          8\n",
       "Android Ver          3\n",
       "dtype: int64"
      ]
     },
     "execution_count": 10,
     "metadata": {},
     "output_type": "execute_result"
    }
   ],
   "source": [
    "#check the null values in the dataset\n",
    "inp.isnull().sum(axis = 0)#.any()"
   ]
  },
  {
   "cell_type": "code",
   "execution_count": 11,
   "id": "f5ea6938",
   "metadata": {},
   "outputs": [
    {
     "data": {
      "text/html": [
       "<div>\n",
       "<style scoped>\n",
       "    .dataframe tbody tr th:only-of-type {\n",
       "        vertical-align: middle;\n",
       "    }\n",
       "\n",
       "    .dataframe tbody tr th {\n",
       "        vertical-align: top;\n",
       "    }\n",
       "\n",
       "    .dataframe thead th {\n",
       "        text-align: right;\n",
       "    }\n",
       "</style>\n",
       "<table border=\"1\" class=\"dataframe\">\n",
       "  <thead>\n",
       "    <tr style=\"text-align: right;\">\n",
       "      <th></th>\n",
       "      <th>Rating</th>\n",
       "    </tr>\n",
       "  </thead>\n",
       "  <tbody>\n",
       "    <tr>\n",
       "      <th>count</th>\n",
       "      <td>9367.000000</td>\n",
       "    </tr>\n",
       "    <tr>\n",
       "      <th>mean</th>\n",
       "      <td>4.193338</td>\n",
       "    </tr>\n",
       "    <tr>\n",
       "      <th>std</th>\n",
       "      <td>0.537431</td>\n",
       "    </tr>\n",
       "    <tr>\n",
       "      <th>min</th>\n",
       "      <td>1.000000</td>\n",
       "    </tr>\n",
       "    <tr>\n",
       "      <th>25%</th>\n",
       "      <td>4.000000</td>\n",
       "    </tr>\n",
       "    <tr>\n",
       "      <th>50%</th>\n",
       "      <td>4.300000</td>\n",
       "    </tr>\n",
       "    <tr>\n",
       "      <th>75%</th>\n",
       "      <td>4.500000</td>\n",
       "    </tr>\n",
       "    <tr>\n",
       "      <th>max</th>\n",
       "      <td>19.000000</td>\n",
       "    </tr>\n",
       "  </tbody>\n",
       "</table>\n",
       "</div>"
      ],
      "text/plain": [
       "            Rating\n",
       "count  9367.000000\n",
       "mean      4.193338\n",
       "std       0.537431\n",
       "min       1.000000\n",
       "25%       4.000000\n",
       "50%       4.300000\n",
       "75%       4.500000\n",
       "max      19.000000"
      ]
     },
     "execution_count": 11,
     "metadata": {},
     "output_type": "execute_result"
    }
   ],
   "source": [
    "#description of the data set numeric column\n",
    "inp.describe()"
   ]
  },
  {
   "cell_type": "code",
   "execution_count": 12,
   "id": "c337c964",
   "metadata": {},
   "outputs": [],
   "source": [
    "#treat the null values - drop the null vaules a\n",
    "inp.dropna(how = 'any', inplace = True)"
   ]
  },
  {
   "cell_type": "code",
   "execution_count": 13,
   "id": "81f34be9",
   "metadata": {},
   "outputs": [
    {
     "data": {
      "text/plain": [
       "App               0\n",
       "Category          0\n",
       "Rating            0\n",
       "Reviews           0\n",
       "Size              0\n",
       "Installs          0\n",
       "Type              0\n",
       "Price             0\n",
       "Content_Rating    0\n",
       "Genres            0\n",
       "Last Updated      0\n",
       "Current Ver       0\n",
       "Android Ver       0\n",
       "dtype: int64"
      ]
     },
     "execution_count": 13,
     "metadata": {},
     "output_type": "execute_result"
    }
   ],
   "source": [
    "inp.isnull().sum(axis=0)"
   ]
  },
  {
   "cell_type": "code",
   "execution_count": 14,
   "id": "34c2b91a",
   "metadata": {},
   "outputs": [
    {
     "data": {
      "text/html": [
       "<div>\n",
       "<style scoped>\n",
       "    .dataframe tbody tr th:only-of-type {\n",
       "        vertical-align: middle;\n",
       "    }\n",
       "\n",
       "    .dataframe tbody tr th {\n",
       "        vertical-align: top;\n",
       "    }\n",
       "\n",
       "    .dataframe thead th {\n",
       "        text-align: right;\n",
       "    }\n",
       "</style>\n",
       "<table border=\"1\" class=\"dataframe\">\n",
       "  <thead>\n",
       "    <tr style=\"text-align: right;\">\n",
       "      <th></th>\n",
       "      <th>App</th>\n",
       "      <th>Category</th>\n",
       "      <th>Rating</th>\n",
       "      <th>Reviews</th>\n",
       "      <th>Size</th>\n",
       "      <th>Installs</th>\n",
       "      <th>Type</th>\n",
       "      <th>Price</th>\n",
       "      <th>Content_Rating</th>\n",
       "      <th>Genres</th>\n",
       "      <th>Last Updated</th>\n",
       "      <th>Current Ver</th>\n",
       "      <th>Android Ver</th>\n",
       "    </tr>\n",
       "  </thead>\n",
       "  <tbody>\n",
       "    <tr>\n",
       "      <th>0</th>\n",
       "      <td>Photo Editor &amp; Candy Camera &amp; Grid &amp; ScrapBook</td>\n",
       "      <td>ART_AND_DESIGN</td>\n",
       "      <td>4.1</td>\n",
       "      <td>159</td>\n",
       "      <td>19M</td>\n",
       "      <td>10,000+</td>\n",
       "      <td>Free</td>\n",
       "      <td>0</td>\n",
       "      <td>Everyone</td>\n",
       "      <td>Art_&amp;_Design</td>\n",
       "      <td>January 7, 2018</td>\n",
       "      <td>1.0.0</td>\n",
       "      <td>4.0.3 and up</td>\n",
       "    </tr>\n",
       "    <tr>\n",
       "      <th>1</th>\n",
       "      <td>Coloring book moana</td>\n",
       "      <td>ART_AND_DESIGN</td>\n",
       "      <td>3.9</td>\n",
       "      <td>967</td>\n",
       "      <td>14M</td>\n",
       "      <td>500,000+</td>\n",
       "      <td>Free</td>\n",
       "      <td>0</td>\n",
       "      <td>Everyone</td>\n",
       "      <td>Art_&amp;_Design_Pretend_Play</td>\n",
       "      <td>January 15, 2018</td>\n",
       "      <td>2.0.0</td>\n",
       "      <td>4.0.3 and up</td>\n",
       "    </tr>\n",
       "    <tr>\n",
       "      <th>2</th>\n",
       "      <td>U Launcher Lite – FREE Live Cool Themes, Hide ...</td>\n",
       "      <td>ART_AND_DESIGN</td>\n",
       "      <td>4.7</td>\n",
       "      <td>87510</td>\n",
       "      <td>8.7M</td>\n",
       "      <td>5,000,000+</td>\n",
       "      <td>Free</td>\n",
       "      <td>0</td>\n",
       "      <td>Everyone</td>\n",
       "      <td>Art_&amp;_Design</td>\n",
       "      <td>August 1, 2018</td>\n",
       "      <td>1.2.4</td>\n",
       "      <td>4.0.3 and up</td>\n",
       "    </tr>\n",
       "    <tr>\n",
       "      <th>3</th>\n",
       "      <td>Sketch - Draw &amp; Paint</td>\n",
       "      <td>ART_AND_DESIGN</td>\n",
       "      <td>4.5</td>\n",
       "      <td>215644</td>\n",
       "      <td>25M</td>\n",
       "      <td>50,000,000+</td>\n",
       "      <td>Free</td>\n",
       "      <td>0</td>\n",
       "      <td>Teen</td>\n",
       "      <td>Art_&amp;_Design</td>\n",
       "      <td>June 8, 2018</td>\n",
       "      <td>Varies with device</td>\n",
       "      <td>4.2 and up</td>\n",
       "    </tr>\n",
       "    <tr>\n",
       "      <th>4</th>\n",
       "      <td>Pixel Draw - Number Art Coloring Book</td>\n",
       "      <td>ART_AND_DESIGN</td>\n",
       "      <td>4.3</td>\n",
       "      <td>967</td>\n",
       "      <td>2.8M</td>\n",
       "      <td>100,000+</td>\n",
       "      <td>Free</td>\n",
       "      <td>0</td>\n",
       "      <td>Everyone</td>\n",
       "      <td>Art_&amp;_Design_Creativity</td>\n",
       "      <td>June 20, 2018</td>\n",
       "      <td>1.1</td>\n",
       "      <td>4.4 and up</td>\n",
       "    </tr>\n",
       "  </tbody>\n",
       "</table>\n",
       "</div>"
      ],
      "text/plain": [
       "                                                 App        Category  Rating  \\\n",
       "0     Photo Editor & Candy Camera & Grid & ScrapBook  ART_AND_DESIGN     4.1   \n",
       "1                                Coloring book moana  ART_AND_DESIGN     3.9   \n",
       "2  U Launcher Lite – FREE Live Cool Themes, Hide ...  ART_AND_DESIGN     4.7   \n",
       "3                              Sketch - Draw & Paint  ART_AND_DESIGN     4.5   \n",
       "4              Pixel Draw - Number Art Coloring Book  ART_AND_DESIGN     4.3   \n",
       "\n",
       "  Reviews  Size     Installs  Type Price Content_Rating  \\\n",
       "0     159   19M      10,000+  Free     0       Everyone   \n",
       "1     967   14M     500,000+  Free     0       Everyone   \n",
       "2   87510  8.7M   5,000,000+  Free     0       Everyone   \n",
       "3  215644   25M  50,000,000+  Free     0           Teen   \n",
       "4     967  2.8M     100,000+  Free     0       Everyone   \n",
       "\n",
       "                      Genres      Last Updated         Current Ver  \\\n",
       "0               Art_&_Design   January 7, 2018               1.0.0   \n",
       "1  Art_&_Design_Pretend_Play  January 15, 2018               2.0.0   \n",
       "2               Art_&_Design    August 1, 2018               1.2.4   \n",
       "3               Art_&_Design      June 8, 2018  Varies with device   \n",
       "4    Art_&_Design_Creativity     June 20, 2018                 1.1   \n",
       "\n",
       "    Android Ver  \n",
       "0  4.0.3 and up  \n",
       "1  4.0.3 and up  \n",
       "2  4.0.3 and up  \n",
       "3    4.2 and up  \n",
       "4    4.4 and up  "
      ]
     },
     "execution_count": 14,
     "metadata": {},
     "output_type": "execute_result"
    }
   ],
   "source": [
    "inp.head()"
   ]
  },
  {
   "cell_type": "code",
   "execution_count": 15,
   "id": "60f23292",
   "metadata": {},
   "outputs": [
    {
     "data": {
      "text/plain": [
       "Price\n",
       "0        8715\n",
       "$2.99     114\n",
       "$0.99     106\n",
       "$4.99      70\n",
       "$1.99      59\n",
       "Name: count, dtype: int64"
      ]
     },
     "execution_count": 15,
     "metadata": {},
     "output_type": "execute_result"
    }
   ],
   "source": [
    "# cleaning the price column\n",
    "inp.Price.value_counts()[:5]"
   ]
  },
  {
   "cell_type": "code",
   "execution_count": 16,
   "id": "5f252ce8",
   "metadata": {},
   "outputs": [],
   "source": [
    "#modify the column with conditions\n",
    "#remove M and K\n",
    "\n",
    "inp['Price'] = inp.Price.map(lambda x: 0 if x =='0' else float(x[1:]))"
   ]
  },
  {
   "cell_type": "code",
   "execution_count": 17,
   "id": "efac292d",
   "metadata": {},
   "outputs": [
    {
     "data": {
      "text/plain": [
       "Price\n",
       "0.00    8715\n",
       "2.99     114\n",
       "0.99     106\n",
       "4.99      70\n",
       "1.99      59\n",
       "Name: count, dtype: int64"
      ]
     },
     "execution_count": 17,
     "metadata": {},
     "output_type": "execute_result"
    }
   ],
   "source": [
    "inp.Price.value_counts().head()"
   ]
  },
  {
   "cell_type": "code",
   "execution_count": 18,
   "id": "b3e92a74",
   "metadata": {},
   "outputs": [
    {
     "data": {
      "text/plain": [
       "count     9360\n",
       "unique    5990\n",
       "top          2\n",
       "freq        83\n",
       "Name: Reviews, dtype: object"
      ]
     },
     "execution_count": 18,
     "metadata": {},
     "output_type": "execute_result"
    }
   ],
   "source": [
    "inp.Reviews.describe()"
   ]
  },
  {
   "cell_type": "code",
   "execution_count": 19,
   "id": "2375e3ed",
   "metadata": {},
   "outputs": [],
   "source": [
    "#converting Reviews to numeric\n",
    "inp.Reviews = inp.Reviews.astype(\"int32\")"
   ]
  },
  {
   "cell_type": "code",
   "execution_count": 20,
   "id": "facf21f7",
   "metadata": {},
   "outputs": [
    {
     "data": {
      "text/plain": [
       "count    9.360000e+03\n",
       "mean     5.143767e+05\n",
       "std      3.145023e+06\n",
       "min      1.000000e+00\n",
       "25%      1.867500e+02\n",
       "50%      5.955000e+03\n",
       "75%      8.162750e+04\n",
       "max      7.815831e+07\n",
       "Name: Reviews, dtype: float64"
      ]
     },
     "execution_count": 20,
     "metadata": {},
     "output_type": "execute_result"
    }
   ],
   "source": [
    "inp.Reviews.describe()"
   ]
  },
  {
   "cell_type": "code",
   "execution_count": 21,
   "id": "4f052c05",
   "metadata": {},
   "outputs": [
    {
     "data": {
      "text/plain": [
       "Installs\n",
       "1,000,000+        1576\n",
       "10,000,000+       1252\n",
       "100,000+          1150\n",
       "10,000+           1009\n",
       "5,000,000+         752\n",
       "1,000+             712\n",
       "500,000+           537\n",
       "50,000+            466\n",
       "5,000+             431\n",
       "100,000,000+       409\n",
       "100+               309\n",
       "50,000,000+        289\n",
       "500+               201\n",
       "500,000,000+        72\n",
       "10+                 69\n",
       "1,000,000,000+      58\n",
       "50+                 56\n",
       "5+                   9\n",
       "1+                   3\n",
       "Name: count, dtype: int64"
      ]
     },
     "execution_count": 21,
     "metadata": {},
     "output_type": "execute_result"
    }
   ],
   "source": [
    "#handling the Installs column\n",
    "inp.Installs.value_counts()\n",
    "#inp['Installs'].value_counts()"
   ]
  },
  {
   "cell_type": "code",
   "execution_count": 22,
   "id": "35fc1357",
   "metadata": {},
   "outputs": [],
   "source": [
    "#cleaning the installs column, remove comma and plus\n",
    "#definging a function for it\n",
    "\n",
    "def clean_installs(val):\n",
    "    return val.replace(\",\",\"\").replace(\"+\",\"\")"
   ]
  },
  {
   "cell_type": "code",
   "execution_count": 23,
   "id": "f01ac74c",
   "metadata": {},
   "outputs": [],
   "source": [
    "#using the above function to clean the data\n",
    "inp.Installs = inp.Installs.map(clean_installs)"
   ]
  },
  {
   "cell_type": "code",
   "execution_count": 24,
   "id": "86d69d28",
   "metadata": {},
   "outputs": [
    {
     "data": {
      "text/plain": [
       "count        9360\n",
       "unique         19\n",
       "top       1000000\n",
       "freq         1576\n",
       "Name: Installs, dtype: object"
      ]
     },
     "execution_count": 24,
     "metadata": {},
     "output_type": "execute_result"
    }
   ],
   "source": [
    "inp.Installs.describe()"
   ]
  },
  {
   "cell_type": "code",
   "execution_count": 25,
   "id": "ed0ee4c8",
   "metadata": {},
   "outputs": [],
   "source": [
    "inp.Installs = inp.Installs.astype(\"int32\")"
   ]
  },
  {
   "cell_type": "code",
   "execution_count": 26,
   "id": "ae5cbaa2",
   "metadata": {},
   "outputs": [
    {
     "data": {
      "text/plain": [
       "count    9.360000e+03\n",
       "mean     1.790875e+07\n",
       "std      9.126637e+07\n",
       "min      1.000000e+00\n",
       "25%      1.000000e+04\n",
       "50%      5.000000e+05\n",
       "75%      5.000000e+06\n",
       "max      1.000000e+09\n",
       "Name: Installs, dtype: float64"
      ]
     },
     "execution_count": 26,
     "metadata": {},
     "output_type": "execute_result"
    }
   ],
   "source": [
    "inp.Installs.describe()"
   ]
  },
  {
   "cell_type": "code",
   "execution_count": 27,
   "id": "905f1e8f",
   "metadata": {
    "scrolled": false
   },
   "outputs": [
    {
     "data": {
      "text/plain": [
       "Size\n",
       "383k    1\n",
       "454k    1\n",
       "812k    1\n",
       "442k    1\n",
       "619k    1\n",
       "Name: count, dtype: int64"
      ]
     },
     "execution_count": 27,
     "metadata": {},
     "output_type": "execute_result"
    }
   ],
   "source": [
    "inp.Size.value_counts().tail()"
   ]
  },
  {
   "cell_type": "code",
   "execution_count": 28,
   "id": "621873db",
   "metadata": {},
   "outputs": [],
   "source": [
    "def clean_size(size):\n",
    "    if 'G' in size:\n",
    "        x = size[:-1]\n",
    "        x = float(x)*1000000\n",
    "        return x\n",
    "    elif 'M' in size:\n",
    "        x = size[:-1]\n",
    "        x = float(x)*1000\n",
    "        return x\n",
    "    elif 'k' in size:\n",
    "        x = size[:-1]\n",
    "        x = float(x)\n",
    "        return x\n",
    "    else:\n",
    "        return None"
   ]
  },
  {
   "cell_type": "code",
   "execution_count": 29,
   "id": "07cddfd4",
   "metadata": {},
   "outputs": [],
   "source": [
    "inp.Size = inp.Size.map(clean_size)"
   ]
  },
  {
   "cell_type": "code",
   "execution_count": 30,
   "id": "08f8a349",
   "metadata": {},
   "outputs": [
    {
     "data": {
      "text/plain": [
       "1637"
      ]
     },
     "execution_count": 30,
     "metadata": {},
     "output_type": "execute_result"
    }
   ],
   "source": [
    "inp.Size.isnull().sum()"
   ]
  },
  {
   "cell_type": "code",
   "execution_count": 31,
   "id": "1b8f5c62",
   "metadata": {},
   "outputs": [],
   "source": [
    "#fill the None values in the Size column\n",
    "inp.Size.fillna(method= 'ffill', inplace = True)  # filling with forward fill as there is no trend. and mean would skew the data more"
   ]
  },
  {
   "cell_type": "code",
   "execution_count": 32,
   "id": "58aadc0f",
   "metadata": {},
   "outputs": [
    {
     "data": {
      "text/plain": [
       "0"
      ]
     },
     "execution_count": 32,
     "metadata": {},
     "output_type": "execute_result"
    }
   ],
   "source": [
    "inp.Size.isnull().sum()"
   ]
  },
  {
   "cell_type": "code",
   "execution_count": 33,
   "id": "5282788c",
   "metadata": {},
   "outputs": [
    {
     "data": {
      "text/plain": [
       "count      9360.000000\n",
       "mean      23143.466079\n",
       "std       23245.147490\n",
       "min           8.500000\n",
       "25%        5500.000000\n",
       "50%       15000.000000\n",
       "75%       33000.000000\n",
       "max      100000.000000\n",
       "Name: Size, dtype: float64"
      ]
     },
     "execution_count": 33,
     "metadata": {},
     "output_type": "execute_result"
    }
   ],
   "source": [
    "inp.Size.describe()"
   ]
  },
  {
   "cell_type": "code",
   "execution_count": 34,
   "id": "d858ea29",
   "metadata": {
    "scrolled": true
   },
   "outputs": [
    {
     "data": {
      "text/plain": [
       "App                object\n",
       "Category           object\n",
       "Rating            float64\n",
       "Reviews             int32\n",
       "Size              float64\n",
       "Installs            int32\n",
       "Type               object\n",
       "Price             float64\n",
       "Content_Rating     object\n",
       "Genres             object\n",
       "Last Updated       object\n",
       "Current Ver        object\n",
       "Android Ver        object\n",
       "dtype: object"
      ]
     },
     "execution_count": 34,
     "metadata": {},
     "output_type": "execute_result"
    }
   ],
   "source": [
    "inp.dtypes"
   ]
  },
  {
   "cell_type": "code",
   "execution_count": 35,
   "id": "45f52fb4",
   "metadata": {},
   "outputs": [
    {
     "data": {
      "text/plain": [
       "count    9360.000000\n",
       "mean        4.191838\n",
       "std         0.515263\n",
       "min         1.000000\n",
       "25%         4.000000\n",
       "50%         4.300000\n",
       "75%         4.500000\n",
       "max         5.000000\n",
       "Name: Rating, dtype: float64"
      ]
     },
     "execution_count": 35,
     "metadata": {},
     "output_type": "execute_result"
    }
   ],
   "source": [
    "#To check if rating is betn 0 and 5. \n",
    "inp.Rating.describe()  # Note that Max is 5 "
   ]
  },
  {
   "cell_type": "code",
   "execution_count": 36,
   "id": "27fc90bb",
   "metadata": {},
   "outputs": [
    {
     "data": {
      "text/plain": [
       "7"
      ]
     },
     "execution_count": 36,
     "metadata": {},
     "output_type": "execute_result"
    }
   ],
   "source": [
    "# checking if Reviews are more than installs\n",
    "len(inp[inp.Reviews >inp.Installs])"
   ]
  },
  {
   "cell_type": "code",
   "execution_count": 37,
   "id": "98468a61",
   "metadata": {},
   "outputs": [
    {
     "data": {
      "text/html": [
       "<div>\n",
       "<style scoped>\n",
       "    .dataframe tbody tr th:only-of-type {\n",
       "        vertical-align: middle;\n",
       "    }\n",
       "\n",
       "    .dataframe tbody tr th {\n",
       "        vertical-align: top;\n",
       "    }\n",
       "\n",
       "    .dataframe thead th {\n",
       "        text-align: right;\n",
       "    }\n",
       "</style>\n",
       "<table border=\"1\" class=\"dataframe\">\n",
       "  <thead>\n",
       "    <tr style=\"text-align: right;\">\n",
       "      <th></th>\n",
       "      <th>App</th>\n",
       "      <th>Category</th>\n",
       "      <th>Rating</th>\n",
       "      <th>Reviews</th>\n",
       "      <th>Size</th>\n",
       "      <th>Installs</th>\n",
       "      <th>Type</th>\n",
       "      <th>Price</th>\n",
       "      <th>Content_Rating</th>\n",
       "      <th>Genres</th>\n",
       "      <th>Last Updated</th>\n",
       "      <th>Current Ver</th>\n",
       "      <th>Android Ver</th>\n",
       "    </tr>\n",
       "  </thead>\n",
       "  <tbody>\n",
       "    <tr>\n",
       "      <th>2454</th>\n",
       "      <td>KBA-EZ Health Guide</td>\n",
       "      <td>MEDICAL</td>\n",
       "      <td>5.0</td>\n",
       "      <td>4</td>\n",
       "      <td>25000.0</td>\n",
       "      <td>1</td>\n",
       "      <td>Free</td>\n",
       "      <td>0.00</td>\n",
       "      <td>Everyone</td>\n",
       "      <td>Medical</td>\n",
       "      <td>August 2, 2018</td>\n",
       "      <td>1.0.72</td>\n",
       "      <td>4.0.3 and up</td>\n",
       "    </tr>\n",
       "    <tr>\n",
       "      <th>4663</th>\n",
       "      <td>Alarmy (Sleep If U Can) - Pro</td>\n",
       "      <td>LIFESTYLE</td>\n",
       "      <td>4.8</td>\n",
       "      <td>10249</td>\n",
       "      <td>30000.0</td>\n",
       "      <td>10000</td>\n",
       "      <td>Paid</td>\n",
       "      <td>2.49</td>\n",
       "      <td>Everyone</td>\n",
       "      <td>Lifestyle</td>\n",
       "      <td>July 30, 2018</td>\n",
       "      <td>Varies with device</td>\n",
       "      <td>Varies with device</td>\n",
       "    </tr>\n",
       "    <tr>\n",
       "      <th>5917</th>\n",
       "      <td>Ra Ga Ba</td>\n",
       "      <td>GAME</td>\n",
       "      <td>5.0</td>\n",
       "      <td>2</td>\n",
       "      <td>20000.0</td>\n",
       "      <td>1</td>\n",
       "      <td>Paid</td>\n",
       "      <td>1.49</td>\n",
       "      <td>Everyone</td>\n",
       "      <td>Arcade</td>\n",
       "      <td>February 8, 2017</td>\n",
       "      <td>1.0.4</td>\n",
       "      <td>2.3 and up</td>\n",
       "    </tr>\n",
       "    <tr>\n",
       "      <th>6700</th>\n",
       "      <td>Brick Breaker BR</td>\n",
       "      <td>GAME</td>\n",
       "      <td>5.0</td>\n",
       "      <td>7</td>\n",
       "      <td>19000.0</td>\n",
       "      <td>5</td>\n",
       "      <td>Free</td>\n",
       "      <td>0.00</td>\n",
       "      <td>Everyone</td>\n",
       "      <td>Arcade</td>\n",
       "      <td>July 23, 2018</td>\n",
       "      <td>1</td>\n",
       "      <td>4.1 and up</td>\n",
       "    </tr>\n",
       "    <tr>\n",
       "      <th>7402</th>\n",
       "      <td>Trovami se ci riesci</td>\n",
       "      <td>GAME</td>\n",
       "      <td>5.0</td>\n",
       "      <td>11</td>\n",
       "      <td>6100.0</td>\n",
       "      <td>10</td>\n",
       "      <td>Free</td>\n",
       "      <td>0.00</td>\n",
       "      <td>Everyone</td>\n",
       "      <td>Arcade</td>\n",
       "      <td>March 11, 2017</td>\n",
       "      <td>0.1</td>\n",
       "      <td>2.3 and up</td>\n",
       "    </tr>\n",
       "    <tr>\n",
       "      <th>8591</th>\n",
       "      <td>DN Blog</td>\n",
       "      <td>SOCIAL</td>\n",
       "      <td>5.0</td>\n",
       "      <td>20</td>\n",
       "      <td>4200.0</td>\n",
       "      <td>10</td>\n",
       "      <td>Free</td>\n",
       "      <td>0.00</td>\n",
       "      <td>Teen</td>\n",
       "      <td>Social</td>\n",
       "      <td>July 23, 2018</td>\n",
       "      <td>1</td>\n",
       "      <td>4.0 and up</td>\n",
       "    </tr>\n",
       "    <tr>\n",
       "      <th>10697</th>\n",
       "      <td>Mu.F.O.</td>\n",
       "      <td>GAME</td>\n",
       "      <td>5.0</td>\n",
       "      <td>2</td>\n",
       "      <td>16000.0</td>\n",
       "      <td>1</td>\n",
       "      <td>Paid</td>\n",
       "      <td>0.99</td>\n",
       "      <td>Everyone</td>\n",
       "      <td>Arcade</td>\n",
       "      <td>March 3, 2017</td>\n",
       "      <td>1</td>\n",
       "      <td>2.3 and up</td>\n",
       "    </tr>\n",
       "  </tbody>\n",
       "</table>\n",
       "</div>"
      ],
      "text/plain": [
       "                                 App   Category  Rating  Reviews     Size  \\\n",
       "2454             KBA-EZ Health Guide    MEDICAL     5.0        4  25000.0   \n",
       "4663   Alarmy (Sleep If U Can) - Pro  LIFESTYLE     4.8    10249  30000.0   \n",
       "5917                        Ra Ga Ba       GAME     5.0        2  20000.0   \n",
       "6700                Brick Breaker BR       GAME     5.0        7  19000.0   \n",
       "7402            Trovami se ci riesci       GAME     5.0       11   6100.0   \n",
       "8591                         DN Blog     SOCIAL     5.0       20   4200.0   \n",
       "10697                        Mu.F.O.       GAME     5.0        2  16000.0   \n",
       "\n",
       "       Installs  Type  Price Content_Rating     Genres      Last Updated  \\\n",
       "2454          1  Free   0.00       Everyone    Medical    August 2, 2018   \n",
       "4663      10000  Paid   2.49       Everyone  Lifestyle     July 30, 2018   \n",
       "5917          1  Paid   1.49       Everyone     Arcade  February 8, 2017   \n",
       "6700          5  Free   0.00       Everyone     Arcade     July 23, 2018   \n",
       "7402         10  Free   0.00       Everyone     Arcade    March 11, 2017   \n",
       "8591         10  Free   0.00           Teen     Social     July 23, 2018   \n",
       "10697         1  Paid   0.99       Everyone     Arcade     March 3, 2017   \n",
       "\n",
       "              Current Ver         Android Ver  \n",
       "2454               1.0.72        4.0.3 and up  \n",
       "4663   Varies with device  Varies with device  \n",
       "5917                1.0.4          2.3 and up  \n",
       "6700                    1          4.1 and up  \n",
       "7402                  0.1          2.3 and up  \n",
       "8591                    1          4.0 and up  \n",
       "10697                   1          2.3 and up  "
      ]
     },
     "execution_count": 37,
     "metadata": {},
     "output_type": "execute_result"
    }
   ],
   "source": [
    "inp[inp.Reviews >inp.Installs]"
   ]
  },
  {
   "cell_type": "code",
   "execution_count": 38,
   "id": "fb207d4e",
   "metadata": {},
   "outputs": [],
   "source": [
    "inp = inp[inp.Reviews <= inp.Installs].copy()"
   ]
  },
  {
   "cell_type": "code",
   "execution_count": 39,
   "id": "6343669f",
   "metadata": {},
   "outputs": [
    {
     "data": {
      "text/plain": [
       "(9353, 13)"
      ]
     },
     "execution_count": 39,
     "metadata": {},
     "output_type": "execute_result"
    }
   ],
   "source": [
    "inp.shape"
   ]
  },
  {
   "cell_type": "code",
   "execution_count": 40,
   "id": "54b5a41b",
   "metadata": {},
   "outputs": [
    {
     "data": {
      "text/plain": [
       "0"
      ]
     },
     "execution_count": 40,
     "metadata": {},
     "output_type": "execute_result"
    }
   ],
   "source": [
    "#check if An app is Free and price is more than 0\n",
    "len(inp[(inp.Type =='Free') & (inp.Price >0)])"
   ]
  },
  {
   "cell_type": "markdown",
   "id": "67f240b1",
   "metadata": {},
   "source": [
    "### Exploratory Data Analysis & Tutlier Treatment"
   ]
  },
  {
   "cell_type": "markdown",
   "id": "d7d2f6e7",
   "metadata": {},
   "source": [
    "#### Box Plot : Price"
   ]
  },
  {
   "cell_type": "code",
   "execution_count": 41,
   "id": "e42ae35f",
   "metadata": {
    "scrolled": false
   },
   "outputs": [
    {
     "data": {
      "image/png": "[encoded data removed]",
      "text/plain": [
       "<Figure size 640x480 with 1 Axes>"
      ]
     },
     "metadata": {},
     "output_type": "display_data"
    }
   ],
   "source": [
    "sns.set_theme(style = 'whitegrid')\n",
    "sns.boxplot(inp.Price)\n",
    "plt.show()"
   ]
  },
  {
   "cell_type": "markdown",
   "id": "c5437c0c",
   "metadata": {},
   "source": [
    "From the above plot, it implies that Apps with 'Price' above 50, can be considered as outliers\n",
    "Hence check and drop the rows"
   ]
  },
  {
   "cell_type": "code",
   "execution_count": 42,
   "id": "6c2c4f6d",
   "metadata": {
    "scrolled": true
   },
   "outputs": [
    {
     "data": {
      "text/plain": [
       "17"
      ]
     },
     "execution_count": 42,
     "metadata": {},
     "output_type": "execute_result"
    }
   ],
   "source": [
    "len(inp[inp.Price > 50])"
   ]
  },
  {
   "cell_type": "code",
   "execution_count": 43,
   "id": "35092d2a",
   "metadata": {},
   "outputs": [
    {
     "data": {
      "text/html": [
       "<div>\n",
       "<style scoped>\n",
       "    .dataframe tbody tr th:only-of-type {\n",
       "        vertical-align: middle;\n",
       "    }\n",
       "\n",
       "    .dataframe tbody tr th {\n",
       "        vertical-align: top;\n",
       "    }\n",
       "\n",
       "    .dataframe thead th {\n",
       "        text-align: right;\n",
       "    }\n",
       "</style>\n",
       "<table border=\"1\" class=\"dataframe\">\n",
       "  <thead>\n",
       "    <tr style=\"text-align: right;\">\n",
       "      <th></th>\n",
       "      <th>App</th>\n",
       "      <th>Category</th>\n",
       "      <th>Rating</th>\n",
       "      <th>Reviews</th>\n",
       "      <th>Size</th>\n",
       "      <th>Installs</th>\n",
       "      <th>Type</th>\n",
       "      <th>Price</th>\n",
       "      <th>Content_Rating</th>\n",
       "      <th>Genres</th>\n",
       "      <th>Last Updated</th>\n",
       "      <th>Current Ver</th>\n",
       "      <th>Android Ver</th>\n",
       "    </tr>\n",
       "  </thead>\n",
       "  <tbody>\n",
       "    <tr>\n",
       "      <th>2253</th>\n",
       "      <td>Vargo Anesthesia Mega App</td>\n",
       "      <td>MEDICAL</td>\n",
       "      <td>4.6</td>\n",
       "      <td>92</td>\n",
       "      <td>32000.0</td>\n",
       "      <td>1000</td>\n",
       "      <td>Paid</td>\n",
       "      <td>79.99</td>\n",
       "      <td>Everyone</td>\n",
       "      <td>Medical</td>\n",
       "      <td>June 18, 2018</td>\n",
       "      <td>19</td>\n",
       "      <td>4.0.3 and up</td>\n",
       "    </tr>\n",
       "    <tr>\n",
       "      <th>2365</th>\n",
       "      <td>Vargo Anesthesia Mega App</td>\n",
       "      <td>MEDICAL</td>\n",
       "      <td>4.6</td>\n",
       "      <td>92</td>\n",
       "      <td>32000.0</td>\n",
       "      <td>1000</td>\n",
       "      <td>Paid</td>\n",
       "      <td>79.99</td>\n",
       "      <td>Everyone</td>\n",
       "      <td>Medical</td>\n",
       "      <td>June 18, 2018</td>\n",
       "      <td>19</td>\n",
       "      <td>4.0.3 and up</td>\n",
       "    </tr>\n",
       "    <tr>\n",
       "      <th>4197</th>\n",
       "      <td>most expensive app (H)</td>\n",
       "      <td>FAMILY</td>\n",
       "      <td>4.3</td>\n",
       "      <td>6</td>\n",
       "      <td>1500.0</td>\n",
       "      <td>100</td>\n",
       "      <td>Paid</td>\n",
       "      <td>399.99</td>\n",
       "      <td>Everyone</td>\n",
       "      <td>Entertainment</td>\n",
       "      <td>July 16, 2018</td>\n",
       "      <td>1</td>\n",
       "      <td>7.0 and up</td>\n",
       "    </tr>\n",
       "    <tr>\n",
       "      <th>4362</th>\n",
       "      <td>💎 I'm rich</td>\n",
       "      <td>LIFESTYLE</td>\n",
       "      <td>3.8</td>\n",
       "      <td>718</td>\n",
       "      <td>26000.0</td>\n",
       "      <td>10000</td>\n",
       "      <td>Paid</td>\n",
       "      <td>399.99</td>\n",
       "      <td>Everyone</td>\n",
       "      <td>Lifestyle</td>\n",
       "      <td>March 11, 2018</td>\n",
       "      <td>1.0.0</td>\n",
       "      <td>4.4 and up</td>\n",
       "    </tr>\n",
       "    <tr>\n",
       "      <th>4367</th>\n",
       "      <td>I'm Rich - Trump Edition</td>\n",
       "      <td>LIFESTYLE</td>\n",
       "      <td>3.6</td>\n",
       "      <td>275</td>\n",
       "      <td>7300.0</td>\n",
       "      <td>10000</td>\n",
       "      <td>Paid</td>\n",
       "      <td>400.00</td>\n",
       "      <td>Everyone</td>\n",
       "      <td>Lifestyle</td>\n",
       "      <td>May 3, 2018</td>\n",
       "      <td>1.0.1</td>\n",
       "      <td>4.1 and up</td>\n",
       "    </tr>\n",
       "    <tr>\n",
       "      <th>5351</th>\n",
       "      <td>I am rich</td>\n",
       "      <td>LIFESTYLE</td>\n",
       "      <td>3.8</td>\n",
       "      <td>3547</td>\n",
       "      <td>1800.0</td>\n",
       "      <td>100000</td>\n",
       "      <td>Paid</td>\n",
       "      <td>399.99</td>\n",
       "      <td>Everyone</td>\n",
       "      <td>Lifestyle</td>\n",
       "      <td>January 12, 2018</td>\n",
       "      <td>2</td>\n",
       "      <td>4.0.3 and up</td>\n",
       "    </tr>\n",
       "    <tr>\n",
       "      <th>5354</th>\n",
       "      <td>I am Rich Plus</td>\n",
       "      <td>FAMILY</td>\n",
       "      <td>4.0</td>\n",
       "      <td>856</td>\n",
       "      <td>8700.0</td>\n",
       "      <td>10000</td>\n",
       "      <td>Paid</td>\n",
       "      <td>399.99</td>\n",
       "      <td>Everyone</td>\n",
       "      <td>Entertainment</td>\n",
       "      <td>May 19, 2018</td>\n",
       "      <td>3</td>\n",
       "      <td>4.4 and up</td>\n",
       "    </tr>\n",
       "    <tr>\n",
       "      <th>5355</th>\n",
       "      <td>I am rich VIP</td>\n",
       "      <td>LIFESTYLE</td>\n",
       "      <td>3.8</td>\n",
       "      <td>411</td>\n",
       "      <td>2600.0</td>\n",
       "      <td>10000</td>\n",
       "      <td>Paid</td>\n",
       "      <td>299.99</td>\n",
       "      <td>Everyone</td>\n",
       "      <td>Lifestyle</td>\n",
       "      <td>July 21, 2018</td>\n",
       "      <td>1.1.1</td>\n",
       "      <td>4.3 and up</td>\n",
       "    </tr>\n",
       "    <tr>\n",
       "      <th>5356</th>\n",
       "      <td>I Am Rich Premium</td>\n",
       "      <td>FINANCE</td>\n",
       "      <td>4.1</td>\n",
       "      <td>1867</td>\n",
       "      <td>4700.0</td>\n",
       "      <td>50000</td>\n",
       "      <td>Paid</td>\n",
       "      <td>399.99</td>\n",
       "      <td>Everyone</td>\n",
       "      <td>Finance</td>\n",
       "      <td>November 12, 2017</td>\n",
       "      <td>1.6</td>\n",
       "      <td>4.0 and up</td>\n",
       "    </tr>\n",
       "    <tr>\n",
       "      <th>5357</th>\n",
       "      <td>I am extremely Rich</td>\n",
       "      <td>LIFESTYLE</td>\n",
       "      <td>2.9</td>\n",
       "      <td>41</td>\n",
       "      <td>2900.0</td>\n",
       "      <td>1000</td>\n",
       "      <td>Paid</td>\n",
       "      <td>379.99</td>\n",
       "      <td>Everyone</td>\n",
       "      <td>Lifestyle</td>\n",
       "      <td>July 1, 2018</td>\n",
       "      <td>1</td>\n",
       "      <td>4.0 and up</td>\n",
       "    </tr>\n",
       "    <tr>\n",
       "      <th>5358</th>\n",
       "      <td>I am Rich!</td>\n",
       "      <td>FINANCE</td>\n",
       "      <td>3.8</td>\n",
       "      <td>93</td>\n",
       "      <td>22000.0</td>\n",
       "      <td>1000</td>\n",
       "      <td>Paid</td>\n",
       "      <td>399.99</td>\n",
       "      <td>Everyone</td>\n",
       "      <td>Finance</td>\n",
       "      <td>December 11, 2017</td>\n",
       "      <td>1</td>\n",
       "      <td>4.1 and up</td>\n",
       "    </tr>\n",
       "    <tr>\n",
       "      <th>5359</th>\n",
       "      <td>I am rich(premium)</td>\n",
       "      <td>FINANCE</td>\n",
       "      <td>3.5</td>\n",
       "      <td>472</td>\n",
       "      <td>965.0</td>\n",
       "      <td>5000</td>\n",
       "      <td>Paid</td>\n",
       "      <td>399.99</td>\n",
       "      <td>Everyone</td>\n",
       "      <td>Finance</td>\n",
       "      <td>May 1, 2017</td>\n",
       "      <td>3.4</td>\n",
       "      <td>4.4 and up</td>\n",
       "    </tr>\n",
       "    <tr>\n",
       "      <th>5362</th>\n",
       "      <td>I Am Rich Pro</td>\n",
       "      <td>FAMILY</td>\n",
       "      <td>4.4</td>\n",
       "      <td>201</td>\n",
       "      <td>2700.0</td>\n",
       "      <td>5000</td>\n",
       "      <td>Paid</td>\n",
       "      <td>399.99</td>\n",
       "      <td>Everyone</td>\n",
       "      <td>Entertainment</td>\n",
       "      <td>May 30, 2017</td>\n",
       "      <td>1.54</td>\n",
       "      <td>1.6 and up</td>\n",
       "    </tr>\n",
       "    <tr>\n",
       "      <th>5364</th>\n",
       "      <td>I am rich (Most expensive app)</td>\n",
       "      <td>FINANCE</td>\n",
       "      <td>4.1</td>\n",
       "      <td>129</td>\n",
       "      <td>2700.0</td>\n",
       "      <td>1000</td>\n",
       "      <td>Paid</td>\n",
       "      <td>399.99</td>\n",
       "      <td>Teen</td>\n",
       "      <td>Finance</td>\n",
       "      <td>December 6, 2017</td>\n",
       "      <td>2</td>\n",
       "      <td>4.0.3 and up</td>\n",
       "    </tr>\n",
       "    <tr>\n",
       "      <th>5366</th>\n",
       "      <td>I Am Rich</td>\n",
       "      <td>FAMILY</td>\n",
       "      <td>3.6</td>\n",
       "      <td>217</td>\n",
       "      <td>4900.0</td>\n",
       "      <td>10000</td>\n",
       "      <td>Paid</td>\n",
       "      <td>389.99</td>\n",
       "      <td>Everyone</td>\n",
       "      <td>Entertainment</td>\n",
       "      <td>June 22, 2018</td>\n",
       "      <td>1.5</td>\n",
       "      <td>4.2 and up</td>\n",
       "    </tr>\n",
       "    <tr>\n",
       "      <th>5369</th>\n",
       "      <td>I am Rich</td>\n",
       "      <td>FINANCE</td>\n",
       "      <td>4.3</td>\n",
       "      <td>180</td>\n",
       "      <td>3800.0</td>\n",
       "      <td>5000</td>\n",
       "      <td>Paid</td>\n",
       "      <td>399.99</td>\n",
       "      <td>Everyone</td>\n",
       "      <td>Finance</td>\n",
       "      <td>March 22, 2018</td>\n",
       "      <td>1</td>\n",
       "      <td>4.2 and up</td>\n",
       "    </tr>\n",
       "    <tr>\n",
       "      <th>5373</th>\n",
       "      <td>I AM RICH PRO PLUS</td>\n",
       "      <td>FINANCE</td>\n",
       "      <td>4.0</td>\n",
       "      <td>36</td>\n",
       "      <td>41000.0</td>\n",
       "      <td>1000</td>\n",
       "      <td>Paid</td>\n",
       "      <td>399.99</td>\n",
       "      <td>Everyone</td>\n",
       "      <td>Finance</td>\n",
       "      <td>June 25, 2018</td>\n",
       "      <td>1.0.2</td>\n",
       "      <td>4.1 and up</td>\n",
       "    </tr>\n",
       "  </tbody>\n",
       "</table>\n",
       "</div>"
      ],
      "text/plain": [
       "                                 App   Category  Rating  Reviews     Size  \\\n",
       "2253       Vargo Anesthesia Mega App    MEDICAL     4.6       92  32000.0   \n",
       "2365       Vargo Anesthesia Mega App    MEDICAL     4.6       92  32000.0   \n",
       "4197          most expensive app (H)     FAMILY     4.3        6   1500.0   \n",
       "4362                      💎 I'm rich  LIFESTYLE     3.8      718  26000.0   \n",
       "4367        I'm Rich - Trump Edition  LIFESTYLE     3.6      275   7300.0   \n",
       "5351                       I am rich  LIFESTYLE     3.8     3547   1800.0   \n",
       "5354                  I am Rich Plus     FAMILY     4.0      856   8700.0   \n",
       "5355                   I am rich VIP  LIFESTYLE     3.8      411   2600.0   \n",
       "5356               I Am Rich Premium    FINANCE     4.1     1867   4700.0   \n",
       "5357             I am extremely Rich  LIFESTYLE     2.9       41   2900.0   \n",
       "5358                      I am Rich!    FINANCE     3.8       93  22000.0   \n",
       "5359              I am rich(premium)    FINANCE     3.5      472    965.0   \n",
       "5362                   I Am Rich Pro     FAMILY     4.4      201   2700.0   \n",
       "5364  I am rich (Most expensive app)    FINANCE     4.1      129   2700.0   \n",
       "5366                       I Am Rich     FAMILY     3.6      217   4900.0   \n",
       "5369                       I am Rich    FINANCE     4.3      180   3800.0   \n",
       "5373              I AM RICH PRO PLUS    FINANCE     4.0       36  41000.0   \n",
       "\n",
       "      Installs  Type   Price Content_Rating         Genres       Last Updated  \\\n",
       "2253      1000  Paid   79.99       Everyone        Medical      June 18, 2018   \n",
       "2365      1000  Paid   79.99       Everyone        Medical      June 18, 2018   \n",
       "4197       100  Paid  399.99       Everyone  Entertainment      July 16, 2018   \n",
       "4362     10000  Paid  399.99       Everyone      Lifestyle     March 11, 2018   \n",
       "4367     10000  Paid  400.00       Everyone      Lifestyle        May 3, 2018   \n",
       "5351    100000  Paid  399.99       Everyone      Lifestyle   January 12, 2018   \n",
       "5354     10000  Paid  399.99       Everyone  Entertainment       May 19, 2018   \n",
       "5355     10000  Paid  299.99       Everyone      Lifestyle      July 21, 2018   \n",
       "5356     50000  Paid  399.99       Everyone        Finance  November 12, 2017   \n",
       "5357      1000  Paid  379.99       Everyone      Lifestyle       July 1, 2018   \n",
       "5358      1000  Paid  399.99       Everyone        Finance  December 11, 2017   \n",
       "5359      5000  Paid  399.99       Everyone        Finance        May 1, 2017   \n",
       "5362      5000  Paid  399.99       Everyone  Entertainment       May 30, 2017   \n",
       "5364      1000  Paid  399.99           Teen        Finance   December 6, 2017   \n",
       "5366     10000  Paid  389.99       Everyone  Entertainment      June 22, 2018   \n",
       "5369      5000  Paid  399.99       Everyone        Finance     March 22, 2018   \n",
       "5373      1000  Paid  399.99       Everyone        Finance      June 25, 2018   \n",
       "\n",
       "     Current Ver   Android Ver  \n",
       "2253          19  4.0.3 and up  \n",
       "2365          19  4.0.3 and up  \n",
       "4197           1    7.0 and up  \n",
       "4362       1.0.0    4.4 and up  \n",
       "4367       1.0.1    4.1 and up  \n",
       "5351           2  4.0.3 and up  \n",
       "5354           3    4.4 and up  \n",
       "5355       1.1.1    4.3 and up  \n",
       "5356         1.6    4.0 and up  \n",
       "5357           1    4.0 and up  \n",
       "5358           1    4.1 and up  \n",
       "5359         3.4    4.4 and up  \n",
       "5362        1.54    1.6 and up  \n",
       "5364           2  4.0.3 and up  \n",
       "5366         1.5    4.2 and up  \n",
       "5369           1    4.2 and up  \n",
       "5373       1.0.2    4.1 and up  "
      ]
     },
     "execution_count": 43,
     "metadata": {},
     "output_type": "execute_result"
    }
   ],
   "source": [
    "inp[inp.Price > 50]"
   ]
  },
  {
   "cell_type": "code",
   "execution_count": 44,
   "id": "5ad046bc",
   "metadata": {},
   "outputs": [],
   "source": [
    "inp = inp[inp.Price <= 50].copy()"
   ]
  },
  {
   "cell_type": "code",
   "execution_count": 45,
   "id": "b92ab03d",
   "metadata": {},
   "outputs": [
    {
     "data": {
      "image/png": "[encoded data removed]",
      "text/plain": [
       "<Figure size 640x480 with 1 Axes>"
      ]
     },
     "metadata": {},
     "output_type": "display_data"
    }
   ],
   "source": [
    "sns.set_theme(style = 'whitegrid')\n",
    "sns.boxplot(inp.Price)\n",
    "plt.show()"
   ]
  },
  {
   "cell_type": "markdown",
   "id": "1899c639",
   "metadata": {},
   "source": [
    "#### Installs "
   ]
  },
  {
   "cell_type": "code",
   "execution_count": 46,
   "id": "c89b22f4",
   "metadata": {},
   "outputs": [
    {
     "data": {
      "image/png": "[encoded data removed]",
      "text/plain": [
       "<Figure size 640x480 with 1 Axes>"
      ]
     },
     "metadata": {},
     "output_type": "display_data"
    }
   ],
   "source": [
    "sns.boxplot(inp.Installs)\n",
    "plt.show()"
   ]
  },
  {
   "cell_type": "markdown",
   "id": "64752645",
   "metadata": {},
   "source": [
    "From the above plot, we observe that the no. of 'Installs' above 100 Million are less, and we can drop as more no of installs won't help much in our analysis"
   ]
  },
  {
   "cell_type": "code",
   "execution_count": 47,
   "id": "5f13ddcb",
   "metadata": {},
   "outputs": [
    {
     "data": {
      "text/plain": [
       "539"
      ]
     },
     "execution_count": 47,
     "metadata": {},
     "output_type": "execute_result"
    }
   ],
   "source": [
    "len(inp[inp.Installs >= 100000000])"
   ]
  },
  {
   "cell_type": "code",
   "execution_count": 48,
   "id": "865b6dc0",
   "metadata": {},
   "outputs": [
    {
     "data": {
      "text/plain": [
       "(9336, 13)"
      ]
     },
     "execution_count": 48,
     "metadata": {},
     "output_type": "execute_result"
    }
   ],
   "source": [
    "inp.shape"
   ]
  },
  {
   "cell_type": "code",
   "execution_count": 49,
   "id": "f21fc86d",
   "metadata": {
    "scrolled": true
   },
   "outputs": [
    {
     "data": {
      "text/plain": [
       "0.10         1000.0\n",
       "0.25        10000.0\n",
       "0.50       500000.0\n",
       "0.70      5000000.0\n",
       "0.90     10000000.0\n",
       "0.92     50000000.0\n",
       "0.95    100000000.0\n",
       "0.97    100000000.0\n",
       "0.99    500000000.0\n",
       "Name: Installs, dtype: float64"
      ]
     },
     "execution_count": 49,
     "metadata": {},
     "output_type": "execute_result"
    }
   ],
   "source": [
    "# checking the qualtile for the Installs\n",
    "inp.Installs.quantile([0.1, 0.25, 0.5, 0.7, 0.9,0.92, 0.95, 0.97, 0.99])"
   ]
  },
  {
   "cell_type": "code",
   "execution_count": 50,
   "id": "510056d2",
   "metadata": {},
   "outputs": [],
   "source": [
    "inp = inp[inp.Installs < 100000000].copy()"
   ]
  },
  {
   "cell_type": "code",
   "execution_count": 51,
   "id": "bfbd4688",
   "metadata": {},
   "outputs": [
    {
     "data": {
      "text/plain": [
       "0"
      ]
     },
     "execution_count": 51,
     "metadata": {},
     "output_type": "execute_result"
    }
   ],
   "source": [
    "len(inp[inp.Installs >= 100000000])"
   ]
  },
  {
   "cell_type": "code",
   "execution_count": 52,
   "id": "0787fb45",
   "metadata": {},
   "outputs": [
    {
     "data": {
      "text/plain": [
       "0.10        1000.0\n",
       "0.25       10000.0\n",
       "0.50      500000.0\n",
       "0.70     1000000.0\n",
       "0.90    10000000.0\n",
       "0.92    10000000.0\n",
       "0.95    10000000.0\n",
       "0.97    50000000.0\n",
       "0.99    50000000.0\n",
       "Name: Installs, dtype: float64"
      ]
     },
     "execution_count": 52,
     "metadata": {},
     "output_type": "execute_result"
    }
   ],
   "source": [
    "inp.Installs.quantile([0.1, 0.25, 0.5, 0.7, 0.9,0.92,0.95, 0.97, 0.99])"
   ]
  },
  {
   "cell_type": "markdown",
   "id": "72e176e2",
   "metadata": {},
   "source": [
    "### Reviews"
   ]
  },
  {
   "cell_type": "code",
   "execution_count": 53,
   "id": "24d9b728",
   "metadata": {},
   "outputs": [
    {
     "data": {
      "image/png": "[encoded data removed]",
      "text/plain": [
       "<Figure size 640x480 with 1 Axes>"
      ]
     },
     "metadata": {},
     "output_type": "display_data"
    }
   ],
   "source": [
    "sns.boxplot(inp.Reviews)\n",
    "plt.show()"
   ]
  },
  {
   "cell_type": "markdown",
   "id": "9e1ecb68",
   "metadata": {},
   "source": [
    "More Reviews won't help much in predicting the Rating for Latest apps, hence Reviews above 2 Million can be dropped."
   ]
  },
  {
   "cell_type": "code",
   "execution_count": 54,
   "id": "42335019",
   "metadata": {},
   "outputs": [
    {
     "data": {
      "text/plain": [
       "56"
      ]
     },
     "execution_count": 54,
     "metadata": {},
     "output_type": "execute_result"
    }
   ],
   "source": [
    "len(inp[inp.Reviews >= 2000000])"
   ]
  },
  {
   "cell_type": "code",
   "execution_count": 55,
   "id": "94a4a094",
   "metadata": {},
   "outputs": [],
   "source": [
    "inp = inp[inp.Reviews <= 2000000].copy()"
   ]
  },
  {
   "cell_type": "code",
   "execution_count": 56,
   "id": "4ef360d8",
   "metadata": {},
   "outputs": [
    {
     "data": {
      "text/plain": [
       "(8741, 13)"
      ]
     },
     "execution_count": 56,
     "metadata": {},
     "output_type": "execute_result"
    }
   ],
   "source": [
    "inp.shape"
   ]
  },
  {
   "cell_type": "code",
   "execution_count": 57,
   "id": "0adbc765",
   "metadata": {},
   "outputs": [
    {
     "data": {
      "image/png": "[encoded data removed]",
      "text/plain": [
       "<Figure size 640x480 with 1 Axes>"
      ]
     },
     "metadata": {},
     "output_type": "display_data"
    }
   ],
   "source": [
    "sns.boxplot(inp.Reviews)\n",
    "plt.show()"
   ]
  },
  {
   "cell_type": "markdown",
   "id": "a426f7ab",
   "metadata": {},
   "source": [
    "#### Checking distribution and skewness"
   ]
  },
  {
   "cell_type": "code",
   "execution_count": 58,
   "id": "0027c6a9",
   "metadata": {},
   "outputs": [
    {
     "data": {
      "text/plain": [
       "<function matplotlib.pyplot.show(close=None, block=None)>"
      ]
     },
     "execution_count": 58,
     "metadata": {},
     "output_type": "execute_result"
    },
    {
     "data": {
      "image/png": "[encoded data removed]",
      "text/plain": [
       "<Figure size 640x480 with 1 Axes>"
      ]
     },
     "metadata": {},
     "output_type": "display_data"
    }
   ],
   "source": [
    "inp.Rating.plot.hist()\n",
    "plt.show()"
   ]
  },
  {
   "cell_type": "code",
   "execution_count": 59,
   "id": "4b6e9b3f",
   "metadata": {},
   "outputs": [
    {
     "data": {
      "image/png": "[encoded data removed]",
      "text/plain": [
       "<Figure size 640x480 with 1 Axes>"
      ]
     },
     "metadata": {},
     "output_type": "display_data"
    }
   ],
   "source": [
    "inp[\"Size\"].plot.hist()\n",
    "plt.show()"
   ]
  },
  {
   "cell_type": "code",
   "execution_count": 60,
   "id": "2298c7e8",
   "metadata": {},
   "outputs": [
    {
     "data": {
      "text/plain": [
       "(8741, 13)"
      ]
     },
     "execution_count": 60,
     "metadata": {},
     "output_type": "execute_result"
    }
   ],
   "source": [
    "inp.shape"
   ]
  },
  {
   "cell_type": "code",
   "execution_count": 61,
   "id": "1ae3a388",
   "metadata": {},
   "outputs": [
    {
     "name": "stderr",
     "output_type": "stream",
     "text": [
      "C:\\ProgramData\\anaconda3\\Lib\\site-packages\\seaborn\\axisgrid.py:118: UserWarning: The figure layout has changed to tight\n",
      "  self._figure.tight_layout(*args, **kwargs)\n"
     ]
    },
    {
     "data": {
      "text/plain": [
       "<seaborn.axisgrid.PairGrid at 0x164cedace90>"
      ]
     },
     "execution_count": 61,
     "metadata": {},
     "output_type": "execute_result"
    },
    {
     "data": {
      "image/png": "[encoded data removed]",
      "text/plain": [
       "<Figure size 1000x250 with 4 Axes>"
      ]
     },
     "metadata": {},
     "output_type": "display_data"
    }
   ],
   "source": [
    "#plt.figure(figsize = (18,10))\n",
    "sns.pairplot(data = inp, y_vars = 'Rating' , x_vars = ['Reviews', 'Size', 'Installs', 'Price'])"
   ]
  },
  {
   "cell_type": "markdown",
   "id": "3126eabb",
   "metadata": {},
   "source": [
    "### Warnings importing (optional)"
   ]
  },
  {
   "cell_type": "code",
   "execution_count": 62,
   "id": "5a165466",
   "metadata": {},
   "outputs": [],
   "source": [
    "#Importing warnings\n",
    "import warnings\n",
    "warnings.filterwarnings(\"ignore\")"
   ]
  },
  {
   "cell_type": "markdown",
   "id": "0472e698",
   "metadata": {},
   "source": [
    "### Bi-Variate Analysis"
   ]
  },
  {
   "cell_type": "code",
   "execution_count": 63,
   "id": "811c2252",
   "metadata": {},
   "outputs": [
    {
     "data": {
      "text/html": [
       "<div>\n",
       "<style scoped>\n",
       "    .dataframe tbody tr th:only-of-type {\n",
       "        vertical-align: middle;\n",
       "    }\n",
       "\n",
       "    .dataframe tbody tr th {\n",
       "        vertical-align: top;\n",
       "    }\n",
       "\n",
       "    .dataframe thead th {\n",
       "        text-align: right;\n",
       "    }\n",
       "</style>\n",
       "<table border=\"1\" class=\"dataframe\">\n",
       "  <thead>\n",
       "    <tr style=\"text-align: right;\">\n",
       "      <th></th>\n",
       "      <th>App</th>\n",
       "      <th>Category</th>\n",
       "      <th>Rating</th>\n",
       "      <th>Reviews</th>\n",
       "      <th>Size</th>\n",
       "      <th>Installs</th>\n",
       "      <th>Type</th>\n",
       "      <th>Price</th>\n",
       "      <th>Content_Rating</th>\n",
       "      <th>Genres</th>\n",
       "      <th>Last Updated</th>\n",
       "      <th>Current Ver</th>\n",
       "      <th>Android Ver</th>\n",
       "    </tr>\n",
       "  </thead>\n",
       "  <tbody>\n",
       "    <tr>\n",
       "      <th>0</th>\n",
       "      <td>Photo Editor &amp; Candy Camera &amp; Grid &amp; ScrapBook</td>\n",
       "      <td>ART_AND_DESIGN</td>\n",
       "      <td>4.1</td>\n",
       "      <td>159</td>\n",
       "      <td>19000.0</td>\n",
       "      <td>10000</td>\n",
       "      <td>Free</td>\n",
       "      <td>0.0</td>\n",
       "      <td>Everyone</td>\n",
       "      <td>Art_&amp;_Design</td>\n",
       "      <td>January 7, 2018</td>\n",
       "      <td>1.0.0</td>\n",
       "      <td>4.0.3 and up</td>\n",
       "    </tr>\n",
       "    <tr>\n",
       "      <th>1</th>\n",
       "      <td>Coloring book moana</td>\n",
       "      <td>ART_AND_DESIGN</td>\n",
       "      <td>3.9</td>\n",
       "      <td>967</td>\n",
       "      <td>14000.0</td>\n",
       "      <td>500000</td>\n",
       "      <td>Free</td>\n",
       "      <td>0.0</td>\n",
       "      <td>Everyone</td>\n",
       "      <td>Art_&amp;_Design_Pretend_Play</td>\n",
       "      <td>January 15, 2018</td>\n",
       "      <td>2.0.0</td>\n",
       "      <td>4.0.3 and up</td>\n",
       "    </tr>\n",
       "    <tr>\n",
       "      <th>2</th>\n",
       "      <td>U Launcher Lite – FREE Live Cool Themes, Hide ...</td>\n",
       "      <td>ART_AND_DESIGN</td>\n",
       "      <td>4.7</td>\n",
       "      <td>87510</td>\n",
       "      <td>8700.0</td>\n",
       "      <td>5000000</td>\n",
       "      <td>Free</td>\n",
       "      <td>0.0</td>\n",
       "      <td>Everyone</td>\n",
       "      <td>Art_&amp;_Design</td>\n",
       "      <td>August 1, 2018</td>\n",
       "      <td>1.2.4</td>\n",
       "      <td>4.0.3 and up</td>\n",
       "    </tr>\n",
       "    <tr>\n",
       "      <th>3</th>\n",
       "      <td>Sketch - Draw &amp; Paint</td>\n",
       "      <td>ART_AND_DESIGN</td>\n",
       "      <td>4.5</td>\n",
       "      <td>215644</td>\n",
       "      <td>25000.0</td>\n",
       "      <td>50000000</td>\n",
       "      <td>Free</td>\n",
       "      <td>0.0</td>\n",
       "      <td>Teen</td>\n",
       "      <td>Art_&amp;_Design</td>\n",
       "      <td>June 8, 2018</td>\n",
       "      <td>Varies with device</td>\n",
       "      <td>4.2 and up</td>\n",
       "    </tr>\n",
       "    <tr>\n",
       "      <th>4</th>\n",
       "      <td>Pixel Draw - Number Art Coloring Book</td>\n",
       "      <td>ART_AND_DESIGN</td>\n",
       "      <td>4.3</td>\n",
       "      <td>967</td>\n",
       "      <td>2800.0</td>\n",
       "      <td>100000</td>\n",
       "      <td>Free</td>\n",
       "      <td>0.0</td>\n",
       "      <td>Everyone</td>\n",
       "      <td>Art_&amp;_Design_Creativity</td>\n",
       "      <td>June 20, 2018</td>\n",
       "      <td>1.1</td>\n",
       "      <td>4.4 and up</td>\n",
       "    </tr>\n",
       "  </tbody>\n",
       "</table>\n",
       "</div>"
      ],
      "text/plain": [
       "                                                 App        Category  Rating  \\\n",
       "0     Photo Editor & Candy Camera & Grid & ScrapBook  ART_AND_DESIGN     4.1   \n",
       "1                                Coloring book moana  ART_AND_DESIGN     3.9   \n",
       "2  U Launcher Lite – FREE Live Cool Themes, Hide ...  ART_AND_DESIGN     4.7   \n",
       "3                              Sketch - Draw & Paint  ART_AND_DESIGN     4.5   \n",
       "4              Pixel Draw - Number Art Coloring Book  ART_AND_DESIGN     4.3   \n",
       "\n",
       "   Reviews     Size  Installs  Type  Price Content_Rating  \\\n",
       "0      159  19000.0     10000  Free    0.0       Everyone   \n",
       "1      967  14000.0    500000  Free    0.0       Everyone   \n",
       "2    87510   8700.0   5000000  Free    0.0       Everyone   \n",
       "3   215644  25000.0  50000000  Free    0.0           Teen   \n",
       "4      967   2800.0    100000  Free    0.0       Everyone   \n",
       "\n",
       "                      Genres      Last Updated         Current Ver  \\\n",
       "0               Art_&_Design   January 7, 2018               1.0.0   \n",
       "1  Art_&_Design_Pretend_Play  January 15, 2018               2.0.0   \n",
       "2               Art_&_Design    August 1, 2018               1.2.4   \n",
       "3               Art_&_Design      June 8, 2018  Varies with device   \n",
       "4    Art_&_Design_Creativity     June 20, 2018                 1.1   \n",
       "\n",
       "    Android Ver  \n",
       "0  4.0.3 and up  \n",
       "1  4.0.3 and up  \n",
       "2  4.0.3 and up  \n",
       "3    4.2 and up  \n",
       "4    4.4 and up  "
      ]
     },
     "execution_count": 63,
     "metadata": {},
     "output_type": "execute_result"
    }
   ],
   "source": [
    "inp.head()"
   ]
  },
  {
   "cell_type": "markdown",
   "id": "a0ef004e",
   "metadata": {},
   "source": [
    "###### Scatter Plot/Joint Plot for Ratings vs Price"
   ]
  },
  {
   "cell_type": "code",
   "execution_count": 64,
   "id": "9e5c2c0f",
   "metadata": {},
   "outputs": [
    {
     "data": {
      "text/plain": [
       "<seaborn.axisgrid.JointGrid at 0x164d1082910>"
      ]
     },
     "execution_count": 64,
     "metadata": {},
     "output_type": "execute_result"
    },
    {
     "data": {
      "image/png": "[encoded data removed]",
      "text/plain": [
       "<Figure size 600x600 with 3 Axes>"
      ]
     },
     "metadata": {},
     "output_type": "display_data"
    }
   ],
   "source": [
    "sns.set_style(\"white\")\n",
    "#sns.scatterplot(data = inp, x = inp.Price, y = inp.Rating)\n",
    "sns.jointplot(data = inp, x = inp.Price, y = inp.Rating)\n"
   ]
  },
  {
   "cell_type": "markdown",
   "id": "f37b8360",
   "metadata": {},
   "source": [
    "###### 2. Ratings vs Size"
   ]
  },
  {
   "cell_type": "code",
   "execution_count": 65,
   "id": "8aa016a8",
   "metadata": {},
   "outputs": [
    {
     "data": {
      "text/plain": [
       "<seaborn.axisgrid.JointGrid at 0x164d24e1050>"
      ]
     },
     "execution_count": 65,
     "metadata": {},
     "output_type": "execute_result"
    },
    {
     "data": {
      "image/png": "[encoded data removed]",
      "text/plain": [
       "<Figure size 600x600 with 3 Axes>"
      ]
     },
     "metadata": {},
     "output_type": "display_data"
    }
   ],
   "source": [
    "#sns.set_style(\"white\")\n",
    "#plt.figure(figsize=(1,1))\n",
    "sns.jointplot(data = inp, x = inp.Size, y = inp.Rating)"
   ]
  },
  {
   "cell_type": "markdown",
   "id": "cde14a7c",
   "metadata": {},
   "source": [
    "###### 3. Rating vs Reviews"
   ]
  },
  {
   "cell_type": "code",
   "execution_count": 66,
   "id": "4e2ac383",
   "metadata": {},
   "outputs": [
    {
     "data": {
      "text/plain": [
       "<Axes: xlabel='Reviews', ylabel='Rating'>"
      ]
     },
     "execution_count": 66,
     "metadata": {},
     "output_type": "execute_result"
    },
    {
     "data": {
      "image/png": "[encoded data removed]",
      "text/plain": [
       "<Figure size 640x480 with 1 Axes>"
      ]
     },
     "metadata": {},
     "output_type": "display_data"
    }
   ],
   "source": [
    "sns.scatterplot(data = inp, x = inp.Reviews, y = inp.Rating)"
   ]
  },
  {
   "cell_type": "code",
   "execution_count": 67,
   "id": "46e78757",
   "metadata": {},
   "outputs": [
    {
     "data": {
      "text/plain": [
       "Index(['App', 'Category', 'Rating', 'Reviews', 'Size', 'Installs', 'Type',\n",
       "       'Price', 'Content_Rating', 'Genres', 'Last Updated', 'Current Ver',\n",
       "       'Android Ver'],\n",
       "      dtype='object')"
      ]
     },
     "execution_count": 67,
     "metadata": {},
     "output_type": "execute_result"
    }
   ],
   "source": [
    "inp.columns"
   ]
  },
  {
   "cell_type": "markdown",
   "id": "0e3acaec",
   "metadata": {},
   "source": [
    "###### 4. Rating vs Content Rating \n",
    "Box plot as content rating is non numeric"
   ]
  },
  {
   "cell_type": "code",
   "execution_count": 68,
   "id": "80158036",
   "metadata": {},
   "outputs": [
    {
     "data": {
      "text/plain": [
       "(array([0, 1, 2, 3, 4, 5]),\n",
       " [Text(0, 0, 'Everyone'),\n",
       "  Text(1, 0, 'Teen'),\n",
       "  Text(2, 0, 'Everyone_10+'),\n",
       "  Text(3, 0, 'Mature_17+'),\n",
       "  Text(4, 0, 'Adults_only_18+'),\n",
       "  Text(5, 0, 'Unrated')])"
      ]
     },
     "execution_count": 68,
     "metadata": {},
     "output_type": "execute_result"
    },
    {
     "data": {
      "image/png": "[encoded data removed]",
      "text/plain": [
       "<Figure size 1000x600 with 1 Axes>"
      ]
     },
     "metadata": {},
     "output_type": "display_data"
    }
   ],
   "source": [
    "plt.figure(figsize= (10,6))\n",
    "sns.boxplot(data = inp, x = inp.Content_Rating, y = inp.Rating)\n",
    "plt.xticks(rotation = 90)"
   ]
  },
  {
   "cell_type": "markdown",
   "id": "cfd7108d",
   "metadata": {},
   "source": [
    "###### 5.Ratings vs Category"
   ]
  },
  {
   "cell_type": "code",
   "execution_count": 69,
   "id": "3d081e4f",
   "metadata": {},
   "outputs": [
    {
     "data": {
      "image/png": "[encoded data removed]",
      "text/plain": [
       "<Figure size 1800x600 with 1 Axes>"
      ]
     },
     "metadata": {},
     "output_type": "display_data"
    }
   ],
   "source": [
    "plt.figure(figsize = (18,6))\n",
    "sns.boxplot(data = inp, x = \"Category\" , y = \"Rating\")\n",
    "plt.xticks(rotation = 90)\n",
    "plt.savefig('RatingvsCategor.png')"
   ]
  },
  {
   "cell_type": "markdown",
   "id": "05ce2f11",
   "metadata": {},
   "source": [
    "##### Pre-Processing the data set\n",
    "Make a copy"
   ]
  },
  {
   "cell_type": "code",
   "execution_count": 70,
   "id": "c8cdcc6e",
   "metadata": {},
   "outputs": [],
   "source": [
    "inp1 = inp.copy()"
   ]
  },
  {
   "cell_type": "code",
   "execution_count": 71,
   "id": "760b7b26",
   "metadata": {},
   "outputs": [],
   "source": [
    "# apply log transformation to reviews and Installs"
   ]
  },
  {
   "cell_type": "code",
   "execution_count": 72,
   "id": "d0ded349",
   "metadata": {},
   "outputs": [
    {
     "data": {
      "text/plain": [
       "count    8.741000e+03\n",
       "mean     3.487663e+06\n",
       "std      8.660249e+06\n",
       "min      5.000000e+00\n",
       "25%      1.000000e+04\n",
       "50%      1.000000e+05\n",
       "75%      5.000000e+06\n",
       "max      5.000000e+07\n",
       "Name: Installs, dtype: float64"
      ]
     },
     "execution_count": 72,
     "metadata": {},
     "output_type": "execute_result"
    }
   ],
   "source": [
    "# reducing the skew\n",
    "inp.Installs.describe()"
   ]
  },
  {
   "cell_type": "code",
   "execution_count": 73,
   "id": "6042bff2",
   "metadata": {},
   "outputs": [],
   "source": [
    "inp1.Installs = inp1.Installs.apply(np.log1p)"
   ]
  },
  {
   "cell_type": "code",
   "execution_count": 74,
   "id": "2e084237",
   "metadata": {},
   "outputs": [],
   "source": [
    "inp1.Reviews = inp1.Reviews.apply(np.log1p)"
   ]
  },
  {
   "cell_type": "code",
   "execution_count": 75,
   "id": "451dc3ae",
   "metadata": {},
   "outputs": [
    {
     "data": {
      "text/plain": [
       "App                object\n",
       "Category           object\n",
       "Rating            float64\n",
       "Reviews             int32\n",
       "Size              float64\n",
       "Installs            int32\n",
       "Type               object\n",
       "Price             float64\n",
       "Content_Rating     object\n",
       "Genres             object\n",
       "Last Updated       object\n",
       "Current Ver        object\n",
       "Android Ver        object\n",
       "dtype: object"
      ]
     },
     "execution_count": 75,
     "metadata": {},
     "output_type": "execute_result"
    }
   ],
   "source": [
    "inp.dtypes"
   ]
  },
  {
   "cell_type": "code",
   "execution_count": 76,
   "id": "550c93f2",
   "metadata": {},
   "outputs": [
    {
     "data": {
      "text/plain": [
       "(8741, 13)"
      ]
     },
     "execution_count": 76,
     "metadata": {},
     "output_type": "execute_result"
    }
   ],
   "source": [
    "inp1.shape"
   ]
  },
  {
   "cell_type": "code",
   "execution_count": 77,
   "id": "741dfeed",
   "metadata": {},
   "outputs": [],
   "source": [
    "#Dropping the variables that are not useful for our task (Srikant. Kamatagi)\n",
    "inp1.drop([\"App\",\"Last Updated\", \"Current Ver\", \"Android Ver\"], axis = 1, inplace = True)"
   ]
  },
  {
   "cell_type": "code",
   "execution_count": 78,
   "id": "f28e676e",
   "metadata": {},
   "outputs": [
    {
     "data": {
      "text/plain": [
       "(8741, 9)"
      ]
     },
     "execution_count": 78,
     "metadata": {},
     "output_type": "execute_result"
    }
   ],
   "source": [
    "inp1.shape"
   ]
  },
  {
   "cell_type": "code",
   "execution_count": 79,
   "id": "40688cb6",
   "metadata": {},
   "outputs": [
    {
     "data": {
      "text/plain": [
       "Category           object\n",
       "Rating            float64\n",
       "Reviews           float64\n",
       "Size              float64\n",
       "Installs          float64\n",
       "Type               object\n",
       "Price             float64\n",
       "Content_Rating     object\n",
       "Genres             object\n",
       "dtype: object"
      ]
     },
     "execution_count": 79,
     "metadata": {},
     "output_type": "execute_result"
    }
   ],
   "source": [
    "inp1.dtypes"
   ]
  },
  {
   "cell_type": "markdown",
   "id": "fbd51196",
   "metadata": {},
   "source": [
    "##### Get dummies"
   ]
  },
  {
   "cell_type": "code",
   "execution_count": 80,
   "id": "6b5762e3",
   "metadata": {},
   "outputs": [],
   "source": [
    "inp2 = pd.get_dummies(inp1, drop_first= True)"
   ]
  },
  {
   "cell_type": "code",
   "execution_count": 81,
   "id": "e5880df3",
   "metadata": {},
   "outputs": [
    {
     "data": {
      "text/plain": [
       "Index(['Rating', 'Reviews', 'Size', 'Installs', 'Price',\n",
       "       'Category_AUTO_AND_VEHICLES', 'Category_BEAUTY',\n",
       "       'Category_BOOKS_AND_REFERENCE', 'Category_BUSINESS', 'Category_COMICS',\n",
       "       ...\n",
       "       'Genres_Tools', 'Genres_Tools_Education', 'Genres_Travel_&_Local',\n",
       "       'Genres_Travel_&_Local_Action_&_Adventure', 'Genres_Trivia',\n",
       "       'Genres_Video_Players_&_Editors',\n",
       "       'Genres_Video_Players_&_Editors_Creativity',\n",
       "       'Genres_Video_Players_&_Editors_Music_&_Video', 'Genres_Weather',\n",
       "       'Genres_Word'],\n",
       "      dtype='object', length=157)"
      ]
     },
     "execution_count": 81,
     "metadata": {},
     "output_type": "execute_result"
    }
   ],
   "source": [
    "inp2.columns"
   ]
  },
  {
   "cell_type": "code",
   "execution_count": 82,
   "id": "3d774cfd",
   "metadata": {},
   "outputs": [
    {
     "data": {
      "text/plain": [
       "(8741, 157)"
      ]
     },
     "execution_count": 82,
     "metadata": {},
     "output_type": "execute_result"
    }
   ],
   "source": [
    "inp2.shape"
   ]
  },
  {
   "cell_type": "markdown",
   "id": "7c2afc54",
   "metadata": {},
   "source": [
    "##### Train- Test-split"
   ]
  },
  {
   "cell_type": "code",
   "execution_count": 83,
   "id": "17b6201a",
   "metadata": {},
   "outputs": [],
   "source": [
    "from sklearn.model_selection import train_test_split"
   ]
  },
  {
   "cell_type": "code",
   "execution_count": 84,
   "id": "a739f8b4",
   "metadata": {},
   "outputs": [],
   "source": [
    "df_train, df_test = train_test_split(inp2, train_size = 0.7, random_state = 100)"
   ]
  },
  {
   "cell_type": "code",
   "execution_count": 85,
   "id": "436d2a3b",
   "metadata": {},
   "outputs": [
    {
     "data": {
      "text/plain": [
       "((6118, 157), (2623, 157))"
      ]
     },
     "execution_count": 85,
     "metadata": {},
     "output_type": "execute_result"
    }
   ],
   "source": [
    "df_train.shape, df_test.shape"
   ]
  },
  {
   "cell_type": "code",
   "execution_count": 86,
   "id": "94aeada4",
   "metadata": {},
   "outputs": [],
   "source": [
    "y_train = df_train.pop(\"Rating\")"
   ]
  },
  {
   "cell_type": "code",
   "execution_count": 87,
   "id": "da02829d",
   "metadata": {},
   "outputs": [
    {
     "data": {
      "text/plain": [
       "6982    4.7\n",
       "Name: Rating, dtype: float64"
      ]
     },
     "execution_count": 87,
     "metadata": {},
     "output_type": "execute_result"
    }
   ],
   "source": [
    "y_train.head(1)"
   ]
  },
  {
   "cell_type": "code",
   "execution_count": 88,
   "id": "60faa84a",
   "metadata": {},
   "outputs": [],
   "source": [
    "X_train = df_train"
   ]
  },
  {
   "cell_type": "code",
   "execution_count": 89,
   "id": "7719069b",
   "metadata": {},
   "outputs": [
    {
     "data": {
      "text/html": [
       "<div>\n",
       "<style scoped>\n",
       "    .dataframe tbody tr th:only-of-type {\n",
       "        vertical-align: middle;\n",
       "    }\n",
       "\n",
       "    .dataframe tbody tr th {\n",
       "        vertical-align: top;\n",
       "    }\n",
       "\n",
       "    .dataframe thead th {\n",
       "        text-align: right;\n",
       "    }\n",
       "</style>\n",
       "<table border=\"1\" class=\"dataframe\">\n",
       "  <thead>\n",
       "    <tr style=\"text-align: right;\">\n",
       "      <th></th>\n",
       "      <th>Reviews</th>\n",
       "      <th>Size</th>\n",
       "      <th>Installs</th>\n",
       "      <th>Price</th>\n",
       "      <th>Category_AUTO_AND_VEHICLES</th>\n",
       "      <th>Category_BEAUTY</th>\n",
       "      <th>Category_BOOKS_AND_REFERENCE</th>\n",
       "      <th>Category_BUSINESS</th>\n",
       "      <th>Category_COMICS</th>\n",
       "      <th>Category_COMMUNICATION</th>\n",
       "      <th>...</th>\n",
       "      <th>Genres_Tools</th>\n",
       "      <th>Genres_Tools_Education</th>\n",
       "      <th>Genres_Travel_&amp;_Local</th>\n",
       "      <th>Genres_Travel_&amp;_Local_Action_&amp;_Adventure</th>\n",
       "      <th>Genres_Trivia</th>\n",
       "      <th>Genres_Video_Players_&amp;_Editors</th>\n",
       "      <th>Genres_Video_Players_&amp;_Editors_Creativity</th>\n",
       "      <th>Genres_Video_Players_&amp;_Editors_Music_&amp;_Video</th>\n",
       "      <th>Genres_Weather</th>\n",
       "      <th>Genres_Word</th>\n",
       "    </tr>\n",
       "  </thead>\n",
       "  <tbody>\n",
       "    <tr>\n",
       "      <th>6982</th>\n",
       "      <td>9.929935</td>\n",
       "      <td>25000.0</td>\n",
       "      <td>13.122365</td>\n",
       "      <td>0.0</td>\n",
       "      <td>False</td>\n",
       "      <td>False</td>\n",
       "      <td>False</td>\n",
       "      <td>False</td>\n",
       "      <td>False</td>\n",
       "      <td>False</td>\n",
       "      <td>...</td>\n",
       "      <td>False</td>\n",
       "      <td>False</td>\n",
       "      <td>False</td>\n",
       "      <td>False</td>\n",
       "      <td>False</td>\n",
       "      <td>False</td>\n",
       "      <td>False</td>\n",
       "      <td>False</td>\n",
       "      <td>False</td>\n",
       "      <td>False</td>\n",
       "    </tr>\n",
       "  </tbody>\n",
       "</table>\n",
       "<p>1 rows × 156 columns</p>\n",
       "</div>"
      ],
      "text/plain": [
       "       Reviews     Size   Installs  Price  Category_AUTO_AND_VEHICLES  \\\n",
       "6982  9.929935  25000.0  13.122365    0.0                       False   \n",
       "\n",
       "      Category_BEAUTY  Category_BOOKS_AND_REFERENCE  Category_BUSINESS  \\\n",
       "6982            False                         False              False   \n",
       "\n",
       "      Category_COMICS  Category_COMMUNICATION  ...  Genres_Tools  \\\n",
       "6982            False                   False  ...         False   \n",
       "\n",
       "      Genres_Tools_Education  Genres_Travel_&_Local  \\\n",
       "6982                   False                  False   \n",
       "\n",
       "      Genres_Travel_&_Local_Action_&_Adventure  Genres_Trivia  \\\n",
       "6982                                     False          False   \n",
       "\n",
       "      Genres_Video_Players_&_Editors  \\\n",
       "6982                           False   \n",
       "\n",
       "      Genres_Video_Players_&_Editors_Creativity  \\\n",
       "6982                                      False   \n",
       "\n",
       "      Genres_Video_Players_&_Editors_Music_&_Video  Genres_Weather  \\\n",
       "6982                                         False           False   \n",
       "\n",
       "      Genres_Word  \n",
       "6982        False  \n",
       "\n",
       "[1 rows x 156 columns]"
      ]
     },
     "execution_count": 89,
     "metadata": {},
     "output_type": "execute_result"
    }
   ],
   "source": [
    "X_train.head(1)"
   ]
  },
  {
   "cell_type": "code",
   "execution_count": 90,
   "id": "85b589a8",
   "metadata": {},
   "outputs": [],
   "source": [
    "y_test = df_test.pop(\"Rating\")"
   ]
  },
  {
   "cell_type": "code",
   "execution_count": 91,
   "id": "6963dee9",
   "metadata": {},
   "outputs": [],
   "source": [
    "X_test = df_test"
   ]
  },
  {
   "cell_type": "code",
   "execution_count": 92,
   "id": "71ed98f5",
   "metadata": {},
   "outputs": [
    {
     "data": {
      "text/html": [
       "<div>\n",
       "<style scoped>\n",
       "    .dataframe tbody tr th:only-of-type {\n",
       "        vertical-align: middle;\n",
       "    }\n",
       "\n",
       "    .dataframe tbody tr th {\n",
       "        vertical-align: top;\n",
       "    }\n",
       "\n",
       "    .dataframe thead th {\n",
       "        text-align: right;\n",
       "    }\n",
       "</style>\n",
       "<table border=\"1\" class=\"dataframe\">\n",
       "  <thead>\n",
       "    <tr style=\"text-align: right;\">\n",
       "      <th></th>\n",
       "      <th>Reviews</th>\n",
       "      <th>Size</th>\n",
       "      <th>Installs</th>\n",
       "      <th>Price</th>\n",
       "      <th>Category_AUTO_AND_VEHICLES</th>\n",
       "      <th>Category_BEAUTY</th>\n",
       "      <th>Category_BOOKS_AND_REFERENCE</th>\n",
       "      <th>Category_BUSINESS</th>\n",
       "      <th>Category_COMICS</th>\n",
       "      <th>Category_COMMUNICATION</th>\n",
       "      <th>...</th>\n",
       "      <th>Genres_Tools</th>\n",
       "      <th>Genres_Tools_Education</th>\n",
       "      <th>Genres_Travel_&amp;_Local</th>\n",
       "      <th>Genres_Travel_&amp;_Local_Action_&amp;_Adventure</th>\n",
       "      <th>Genres_Trivia</th>\n",
       "      <th>Genres_Video_Players_&amp;_Editors</th>\n",
       "      <th>Genres_Video_Players_&amp;_Editors_Creativity</th>\n",
       "      <th>Genres_Video_Players_&amp;_Editors_Music_&amp;_Video</th>\n",
       "      <th>Genres_Weather</th>\n",
       "      <th>Genres_Word</th>\n",
       "    </tr>\n",
       "  </thead>\n",
       "  <tbody>\n",
       "    <tr>\n",
       "      <th>7301</th>\n",
       "      <td>3.555348</td>\n",
       "      <td>4000.0</td>\n",
       "      <td>6.908755</td>\n",
       "      <td>0.0</td>\n",
       "      <td>False</td>\n",
       "      <td>False</td>\n",
       "      <td>False</td>\n",
       "      <td>False</td>\n",
       "      <td>False</td>\n",
       "      <td>False</td>\n",
       "      <td>...</td>\n",
       "      <td>False</td>\n",
       "      <td>False</td>\n",
       "      <td>False</td>\n",
       "      <td>False</td>\n",
       "      <td>False</td>\n",
       "      <td>False</td>\n",
       "      <td>False</td>\n",
       "      <td>False</td>\n",
       "      <td>False</td>\n",
       "      <td>False</td>\n",
       "    </tr>\n",
       "  </tbody>\n",
       "</table>\n",
       "<p>1 rows × 156 columns</p>\n",
       "</div>"
      ],
      "text/plain": [
       "       Reviews    Size  Installs  Price  Category_AUTO_AND_VEHICLES  \\\n",
       "7301  3.555348  4000.0  6.908755    0.0                       False   \n",
       "\n",
       "      Category_BEAUTY  Category_BOOKS_AND_REFERENCE  Category_BUSINESS  \\\n",
       "7301            False                         False              False   \n",
       "\n",
       "      Category_COMICS  Category_COMMUNICATION  ...  Genres_Tools  \\\n",
       "7301            False                   False  ...         False   \n",
       "\n",
       "      Genres_Tools_Education  Genres_Travel_&_Local  \\\n",
       "7301                   False                  False   \n",
       "\n",
       "      Genres_Travel_&_Local_Action_&_Adventure  Genres_Trivia  \\\n",
       "7301                                     False          False   \n",
       "\n",
       "      Genres_Video_Players_&_Editors  \\\n",
       "7301                           False   \n",
       "\n",
       "      Genres_Video_Players_&_Editors_Creativity  \\\n",
       "7301                                      False   \n",
       "\n",
       "      Genres_Video_Players_&_Editors_Music_&_Video  Genres_Weather  \\\n",
       "7301                                         False           False   \n",
       "\n",
       "      Genres_Word  \n",
       "7301        False  \n",
       "\n",
       "[1 rows x 156 columns]"
      ]
     },
     "execution_count": 92,
     "metadata": {},
     "output_type": "execute_result"
    }
   ],
   "source": [
    "X_test.head(1)"
   ]
  },
  {
   "cell_type": "code",
   "execution_count": 93,
   "id": "342b5de7",
   "metadata": {},
   "outputs": [],
   "source": [
    "# import statsmodel library\n",
    "import statsmodels.api as sm"
   ]
  },
  {
   "cell_type": "code",
   "execution_count": 94,
   "id": "4ac3df36",
   "metadata": {},
   "outputs": [],
   "source": [
    "model1 = sm.OLS(y_train, X_train.astype(float))"
   ]
  },
  {
   "cell_type": "code",
   "execution_count": 95,
   "id": "a744d3cb",
   "metadata": {},
   "outputs": [],
   "source": [
    "model1 = model1.fit()"
   ]
  },
  {
   "cell_type": "code",
   "execution_count": 96,
   "id": "3bd62ebf",
   "metadata": {
    "scrolled": false
   },
   "outputs": [
    {
     "data": {
      "text/html": [
       "<table class=\"simpletable\">\n",
       "<caption>OLS Regression Results</caption>\n",
       "<tr>\n",
       "  <th>Dep. Variable:</th>         <td>Rating</td>      <th>  R-squared (uncentered):</th>      <td>   0.987</td>\n",
       "</tr>\n",
       "<tr>\n",
       "  <th>Model:</th>                   <td>OLS</td>       <th>  Adj. R-squared (uncentered):</th> <td>   0.987</td>\n",
       "</tr>\n",
       "<tr>\n",
       "  <th>Method:</th>             <td>Least Squares</td>  <th>  F-statistic:       </th>          <td>   3609.</td>\n",
       "</tr>\n",
       "<tr>\n",
       "  <th>Date:</th>             <td>Sun, 26 Nov 2023</td> <th>  Prob (F-statistic):</th>           <td>  0.00</td> \n",
       "</tr>\n",
       "<tr>\n",
       "  <th>Time:</th>                 <td>18:31:02</td>     <th>  Log-Likelihood:    </th>          <td> -4192.3</td>\n",
       "</tr>\n",
       "<tr>\n",
       "  <th>No. Observations:</th>      <td>  6118</td>      <th>  AIC:               </th>          <td>   8637.</td>\n",
       "</tr>\n",
       "<tr>\n",
       "  <th>Df Residuals:</th>          <td>  5992</td>      <th>  BIC:               </th>          <td>   9483.</td>\n",
       "</tr>\n",
       "<tr>\n",
       "  <th>Df Model:</th>              <td>   126</td>      <th>                     </th>              <td> </td>   \n",
       "</tr>\n",
       "<tr>\n",
       "  <th>Covariance Type:</th>      <td>nonrobust</td>    <th>                     </th>              <td> </td>   \n",
       "</tr>\n",
       "</table>\n",
       "<table class=\"simpletable\">\n",
       "<tr>\n",
       "                        <td></td>                          <th>coef</th>     <th>std err</th>      <th>t</th>      <th>P>|t|</th>  <th>[0.025</th>    <th>0.975]</th>  \n",
       "</tr>\n",
       "<tr>\n",
       "  <th>Reviews</th>                                      <td>    0.1743</td> <td>    0.006</td> <td>   27.547</td> <td> 0.000</td> <td>    0.162</td> <td>    0.187</td>\n",
       "</tr>\n",
       "<tr>\n",
       "  <th>Size</th>                                         <td>-2.474e-09</td> <td> 3.37e-07</td> <td>   -0.007</td> <td> 0.994</td> <td>-6.64e-07</td> <td> 6.59e-07</td>\n",
       "</tr>\n",
       "<tr>\n",
       "  <th>Installs</th>                                     <td>   -0.1499</td> <td>    0.006</td> <td>  -23.660</td> <td> 0.000</td> <td>   -0.162</td> <td>   -0.138</td>\n",
       "</tr>\n",
       "<tr>\n",
       "  <th>Price</th>                                        <td>    0.0001</td> <td>    0.005</td> <td>    0.021</td> <td> 0.983</td> <td>   -0.010</td> <td>    0.010</td>\n",
       "</tr>\n",
       "<tr>\n",
       "  <th>Category_AUTO_AND_VEHICLES</th>                   <td>    2.0585</td> <td>    0.137</td> <td>   15.041</td> <td> 0.000</td> <td>    1.790</td> <td>    2.327</td>\n",
       "</tr>\n",
       "<tr>\n",
       "  <th>Category_BEAUTY</th>                              <td>    2.1151</td> <td>    0.139</td> <td>   15.189</td> <td> 0.000</td> <td>    1.842</td> <td>    2.388</td>\n",
       "</tr>\n",
       "<tr>\n",
       "  <th>Category_BOOKS_AND_REFERENCE</th>                 <td>    2.0890</td> <td>    0.134</td> <td>   15.554</td> <td> 0.000</td> <td>    1.826</td> <td>    2.352</td>\n",
       "</tr>\n",
       "<tr>\n",
       "  <th>Category_BUSINESS</th>                            <td>    1.9836</td> <td>    0.133</td> <td>   14.869</td> <td> 0.000</td> <td>    1.722</td> <td>    2.245</td>\n",
       "</tr>\n",
       "<tr>\n",
       "  <th>Category_COMICS</th>                              <td>    2.8902</td> <td>    0.238</td> <td>   12.158</td> <td> 0.000</td> <td>    2.424</td> <td>    3.356</td>\n",
       "</tr>\n",
       "<tr>\n",
       "  <th>Category_COMMUNICATION</th>                       <td>    1.9497</td> <td>    0.134</td> <td>   14.574</td> <td> 0.000</td> <td>    1.687</td> <td>    2.212</td>\n",
       "</tr>\n",
       "<tr>\n",
       "  <th>Category_DATING</th>                              <td>    1.9177</td> <td>    0.135</td> <td>   14.226</td> <td> 0.000</td> <td>    1.653</td> <td>    2.182</td>\n",
       "</tr>\n",
       "<tr>\n",
       "  <th>Category_EDUCATION</th>                           <td>    3.7592</td> <td>    0.279</td> <td>   13.487</td> <td> 0.000</td> <td>    3.213</td> <td>    4.306</td>\n",
       "</tr>\n",
       "<tr>\n",
       "  <th>Category_ENTERTAINMENT</th>                       <td>    3.6269</td> <td>    0.279</td> <td>   12.999</td> <td> 0.000</td> <td>    3.080</td> <td>    4.174</td>\n",
       "</tr>\n",
       "<tr>\n",
       "  <th>Category_EVENTS</th>                              <td>    2.1691</td> <td>    0.138</td> <td>   15.740</td> <td> 0.000</td> <td>    1.899</td> <td>    2.439</td>\n",
       "</tr>\n",
       "<tr>\n",
       "  <th>Category_FAMILY</th>                              <td>    3.7478</td> <td>    0.272</td> <td>   13.783</td> <td> 0.000</td> <td>    3.215</td> <td>    4.281</td>\n",
       "</tr>\n",
       "<tr>\n",
       "  <th>Category_FINANCE</th>                             <td>    1.9603</td> <td>    0.133</td> <td>   14.701</td> <td> 0.000</td> <td>    1.699</td> <td>    2.222</td>\n",
       "</tr>\n",
       "<tr>\n",
       "  <th>Category_FOOD_AND_DRINK</th>                      <td>    2.0036</td> <td>    0.135</td> <td>   14.806</td> <td> 0.000</td> <td>    1.738</td> <td>    2.269</td>\n",
       "</tr>\n",
       "<tr>\n",
       "  <th>Category_GAME</th>                                <td>    3.9559</td> <td>    0.267</td> <td>   14.838</td> <td> 0.000</td> <td>    3.433</td> <td>    4.479</td>\n",
       "</tr>\n",
       "<tr>\n",
       "  <th>Category_HEALTH_AND_FITNESS</th>                  <td>    2.0285</td> <td>    0.134</td> <td>   15.185</td> <td> 0.000</td> <td>    1.767</td> <td>    2.290</td>\n",
       "</tr>\n",
       "<tr>\n",
       "  <th>Category_HOUSE_AND_HOME</th>                      <td>    1.9921</td> <td>    0.137</td> <td>   14.590</td> <td> 0.000</td> <td>    1.724</td> <td>    2.260</td>\n",
       "</tr>\n",
       "<tr>\n",
       "  <th>Category_LIBRARIES_AND_DEMO</th>                  <td>    2.0463</td> <td>    0.137</td> <td>   14.889</td> <td> 0.000</td> <td>    1.777</td> <td>    2.316</td>\n",
       "</tr>\n",
       "<tr>\n",
       "  <th>Category_LIFESTYLE</th>                           <td>    1.9898</td> <td>    0.133</td> <td>   14.915</td> <td> 0.000</td> <td>    1.728</td> <td>    2.251</td>\n",
       "</tr>\n",
       "<tr>\n",
       "  <th>Category_MAPS_AND_NAVIGATION</th>                 <td>    1.9533</td> <td>    0.135</td> <td>   14.462</td> <td> 0.000</td> <td>    1.689</td> <td>    2.218</td>\n",
       "</tr>\n",
       "<tr>\n",
       "  <th>Category_MEDICAL</th>                             <td>    2.0380</td> <td>    0.133</td> <td>   15.290</td> <td> 0.000</td> <td>    1.777</td> <td>    2.299</td>\n",
       "</tr>\n",
       "<tr>\n",
       "  <th>Category_NEWS_AND_MAGAZINES</th>                  <td>    1.9730</td> <td>    0.134</td> <td>   14.744</td> <td> 0.000</td> <td>    1.711</td> <td>    2.235</td>\n",
       "</tr>\n",
       "<tr>\n",
       "  <th>Category_PARENTING</th>                           <td>    3.2968</td> <td>    0.248</td> <td>   13.295</td> <td> 0.000</td> <td>    2.811</td> <td>    3.783</td>\n",
       "</tr>\n",
       "<tr>\n",
       "  <th>Category_PERSONALIZATION</th>                     <td>    2.0739</td> <td>    0.133</td> <td>   15.541</td> <td> 0.000</td> <td>    1.812</td> <td>    2.336</td>\n",
       "</tr>\n",
       "<tr>\n",
       "  <th>Category_PHOTOGRAPHY</th>                         <td>    1.9733</td> <td>    0.134</td> <td>   14.743</td> <td> 0.000</td> <td>    1.711</td> <td>    2.236</td>\n",
       "</tr>\n",
       "<tr>\n",
       "  <th>Category_PRODUCTIVITY</th>                        <td>    1.9951</td> <td>    0.133</td> <td>   14.948</td> <td> 0.000</td> <td>    1.733</td> <td>    2.257</td>\n",
       "</tr>\n",
       "<tr>\n",
       "  <th>Category_SHOPPING</th>                            <td>    2.0270</td> <td>    0.134</td> <td>   15.140</td> <td> 0.000</td> <td>    1.765</td> <td>    2.289</td>\n",
       "</tr>\n",
       "<tr>\n",
       "  <th>Category_SOCIAL</th>                              <td>    1.9856</td> <td>    0.134</td> <td>   14.838</td> <td> 0.000</td> <td>    1.723</td> <td>    2.248</td>\n",
       "</tr>\n",
       "<tr>\n",
       "  <th>Category_SPORTS</th>                              <td>    3.8511</td> <td>    0.387</td> <td>    9.945</td> <td> 0.000</td> <td>    3.092</td> <td>    4.610</td>\n",
       "</tr>\n",
       "<tr>\n",
       "  <th>Category_TOOLS</th>                               <td>    2.6650</td> <td>    0.240</td> <td>   11.116</td> <td> 0.000</td> <td>    2.195</td> <td>    3.135</td>\n",
       "</tr>\n",
       "<tr>\n",
       "  <th>Category_TRAVEL_AND_LOCAL</th>                    <td>    2.6783</td> <td>    0.240</td> <td>   11.161</td> <td> 0.000</td> <td>    2.208</td> <td>    3.149</td>\n",
       "</tr>\n",
       "<tr>\n",
       "  <th>Category_VIDEO_PLAYERS</th>                       <td>    3.7478</td> <td>    0.738</td> <td>    5.078</td> <td> 0.000</td> <td>    2.301</td> <td>    5.195</td>\n",
       "</tr>\n",
       "<tr>\n",
       "  <th>Category_WEATHER</th>                             <td>    2.0086</td> <td>    0.136</td> <td>   14.722</td> <td> 0.000</td> <td>    1.741</td> <td>    2.276</td>\n",
       "</tr>\n",
       "<tr>\n",
       "  <th>Type_Paid</th>                                    <td>   -0.0668</td> <td>    0.035</td> <td>   -1.905</td> <td> 0.057</td> <td>   -0.136</td> <td>    0.002</td>\n",
       "</tr>\n",
       "<tr>\n",
       "  <th>Content_Rating_Everyone</th>                      <td>    0.5883</td> <td>    0.263</td> <td>    2.233</td> <td> 0.026</td> <td>    0.072</td> <td>    1.105</td>\n",
       "</tr>\n",
       "<tr>\n",
       "  <th>Content_Rating_Everyone_10+</th>                  <td>    0.5764</td> <td>    0.265</td> <td>    2.173</td> <td> 0.030</td> <td>    0.056</td> <td>    1.096</td>\n",
       "</tr>\n",
       "<tr>\n",
       "  <th>Content_Rating_Mature_17+</th>                    <td>    0.5815</td> <td>    0.265</td> <td>    2.190</td> <td> 0.029</td> <td>    0.061</td> <td>    1.102</td>\n",
       "</tr>\n",
       "<tr>\n",
       "  <th>Content_Rating_Teen</th>                          <td>    0.6005</td> <td>    0.264</td> <td>    2.277</td> <td> 0.023</td> <td>    0.084</td> <td>    1.117</td>\n",
       "</tr>\n",
       "<tr>\n",
       "  <th>Content_Rating_Unrated</th>                       <td>    0.6000</td> <td>    0.552</td> <td>    1.086</td> <td> 0.278</td> <td>   -0.483</td> <td>    1.683</td>\n",
       "</tr>\n",
       "<tr>\n",
       "  <th>Genres_Action_Action_&_Adventure</th>             <td>    0.3440</td> <td>    0.174</td> <td>    1.979</td> <td> 0.048</td> <td>    0.003</td> <td>    0.685</td>\n",
       "</tr>\n",
       "<tr>\n",
       "  <th>Genres_Adventure</th>                             <td>   -0.0627</td> <td>    0.077</td> <td>   -0.814</td> <td> 0.416</td> <td>   -0.214</td> <td>    0.088</td>\n",
       "</tr>\n",
       "<tr>\n",
       "  <th>Genres_Adventure_Action_&_Adventure</th>          <td>    0.1538</td> <td>    0.352</td> <td>    0.437</td> <td> 0.662</td> <td>   -0.536</td> <td>    0.843</td>\n",
       "</tr>\n",
       "<tr>\n",
       "  <th>Genres_Adventure_Brain_Games</th>                 <td>    0.5095</td> <td>    0.492</td> <td>    1.036</td> <td> 0.300</td> <td>   -0.455</td> <td>    1.474</td>\n",
       "</tr>\n",
       "<tr>\n",
       "  <th>Genres_Adventure_Education</th>                   <td>   -0.0109</td> <td>    0.492</td> <td>   -0.022</td> <td> 0.982</td> <td>   -0.975</td> <td>    0.953</td>\n",
       "</tr>\n",
       "<tr>\n",
       "  <th>Genres_Arcade</th>                                <td>    0.0375</td> <td>    0.058</td> <td>    0.649</td> <td> 0.517</td> <td>   -0.076</td> <td>    0.151</td>\n",
       "</tr>\n",
       "<tr>\n",
       "  <th>Genres_Arcade_Action_&_Adventure</th>             <td>    0.3621</td> <td>    0.199</td> <td>    1.822</td> <td> 0.068</td> <td>   -0.027</td> <td>    0.752</td>\n",
       "</tr>\n",
       "<tr>\n",
       "  <th>Genres_Arcade_Pretend_Play</th>                   <td>    0.4797</td> <td>    0.492</td> <td>    0.976</td> <td> 0.329</td> <td>   -0.484</td> <td>    1.443</td>\n",
       "</tr>\n",
       "<tr>\n",
       "  <th>Genres_Art_&_Design</th>                          <td>    4.2825</td> <td>    0.275</td> <td>   15.547</td> <td> 0.000</td> <td>    3.743</td> <td>    4.822</td>\n",
       "</tr>\n",
       "<tr>\n",
       "  <th>Genres_Art_&_Design_Creativity</th>               <td>    4.4386</td> <td>    0.359</td> <td>   12.357</td> <td> 0.000</td> <td>    3.734</td> <td>    5.143</td>\n",
       "</tr>\n",
       "<tr>\n",
       "  <th>Genres_Art_&_Design_Pretend_Play</th>             <td>    2.2062</td> <td>    0.371</td> <td>    5.944</td> <td> 0.000</td> <td>    1.479</td> <td>    2.934</td>\n",
       "</tr>\n",
       "<tr>\n",
       "  <th>Genres_Auto_&_Vehicles</th>                       <td>    2.0585</td> <td>    0.137</td> <td>   15.041</td> <td> 0.000</td> <td>    1.790</td> <td>    2.327</td>\n",
       "</tr>\n",
       "<tr>\n",
       "  <th>Genres_Beauty</th>                                <td>    2.1151</td> <td>    0.139</td> <td>   15.189</td> <td> 0.000</td> <td>    1.842</td> <td>    2.388</td>\n",
       "</tr>\n",
       "<tr>\n",
       "  <th>Genres_Board</th>                                 <td>    0.0488</td> <td>    0.091</td> <td>    0.537</td> <td> 0.591</td> <td>   -0.129</td> <td>    0.227</td>\n",
       "</tr>\n",
       "<tr>\n",
       "  <th>Genres_Board_Action_&_Adventure</th>              <td>    0.1333</td> <td>    0.290</td> <td>    0.459</td> <td> 0.646</td> <td>   -0.436</td> <td>    0.703</td>\n",
       "</tr>\n",
       "<tr>\n",
       "  <th>Genres_Board_Brain_Games</th>                     <td>    0.3744</td> <td>    0.160</td> <td>    2.343</td> <td> 0.019</td> <td>    0.061</td> <td>    0.688</td>\n",
       "</tr>\n",
       "<tr>\n",
       "  <th>Genres_Board_Pretend_Play</th>                    <td>  2.47e-12</td> <td> 4.22e-12</td> <td>    0.586</td> <td> 0.558</td> <td> -5.8e-12</td> <td> 1.07e-11</td>\n",
       "</tr>\n",
       "<tr>\n",
       "  <th>Genres_Books_&_Reference</th>                     <td>    2.0890</td> <td>    0.134</td> <td>   15.554</td> <td> 0.000</td> <td>    1.826</td> <td>    2.352</td>\n",
       "</tr>\n",
       "<tr>\n",
       "  <th>Genres_Books_&_Reference_Education</th>           <td>    0.7542</td> <td>    0.492</td> <td>    1.534</td> <td> 0.125</td> <td>   -0.210</td> <td>    1.718</td>\n",
       "</tr>\n",
       "<tr>\n",
       "  <th>Genres_Business</th>                              <td>    1.9836</td> <td>    0.133</td> <td>   14.869</td> <td> 0.000</td> <td>    1.722</td> <td>    2.245</td>\n",
       "</tr>\n",
       "<tr>\n",
       "  <th>Genres_Card</th>                                  <td>   -0.0888</td> <td>    0.097</td> <td>   -0.920</td> <td> 0.358</td> <td>   -0.278</td> <td>    0.100</td>\n",
       "</tr>\n",
       "<tr>\n",
       "  <th>Genres_Card_Action_&_Adventure</th>               <td>    0.0300</td> <td>    0.353</td> <td>    0.085</td> <td> 0.932</td> <td>   -0.661</td> <td>    0.721</td>\n",
       "</tr>\n",
       "<tr>\n",
       "  <th>Genres_Card_Brain_Games</th>                      <td>    0.6517</td> <td>    0.491</td> <td>    1.327</td> <td> 0.185</td> <td>   -0.311</td> <td>    1.615</td>\n",
       "</tr>\n",
       "<tr>\n",
       "  <th>Genres_Casino</th>                                <td>    0.0531</td> <td>    0.103</td> <td>    0.513</td> <td> 0.608</td> <td>   -0.150</td> <td>    0.256</td>\n",
       "</tr>\n",
       "<tr>\n",
       "  <th>Genres_Casual</th>                                <td>    0.1045</td> <td>    0.083</td> <td>    1.254</td> <td> 0.210</td> <td>   -0.059</td> <td>    0.268</td>\n",
       "</tr>\n",
       "<tr>\n",
       "  <th>Genres_Casual_Action_&_Adventure</th>             <td>    0.3183</td> <td>    0.155</td> <td>    2.055</td> <td> 0.040</td> <td>    0.015</td> <td>    0.622</td>\n",
       "</tr>\n",
       "<tr>\n",
       "  <th>Genres_Casual_Brain_Games</th>                    <td>    0.5270</td> <td>    0.177</td> <td>    2.986</td> <td> 0.003</td> <td>    0.181</td> <td>    0.873</td>\n",
       "</tr>\n",
       "<tr>\n",
       "  <th>Genres_Casual_Creativity</th>                     <td>    0.4031</td> <td>    0.251</td> <td>    1.608</td> <td> 0.108</td> <td>   -0.088</td> <td>    0.895</td>\n",
       "</tr>\n",
       "<tr>\n",
       "  <th>Genres_Casual_Education</th>                      <td>    0.4214</td> <td>    0.491</td> <td>    0.858</td> <td> 0.391</td> <td>   -0.542</td> <td>    1.385</td>\n",
       "</tr>\n",
       "<tr>\n",
       "  <th>Genres_Casual_Music_&_Video</th>                  <td>    0.3422</td> <td>    0.491</td> <td>    0.696</td> <td> 0.486</td> <td>   -0.621</td> <td>    1.306</td>\n",
       "</tr>\n",
       "<tr>\n",
       "  <th>Genres_Casual_Pretend_Play</th>                   <td>    0.2264</td> <td>    0.124</td> <td>    1.826</td> <td> 0.068</td> <td>   -0.017</td> <td>    0.469</td>\n",
       "</tr>\n",
       "<tr>\n",
       "  <th>Genres_Comics</th>                                <td>    1.0356</td> <td>    0.187</td> <td>    5.537</td> <td> 0.000</td> <td>    0.669</td> <td>    1.402</td>\n",
       "</tr>\n",
       "<tr>\n",
       "  <th>Genres_Comics_Creativity</th>                     <td>    1.8546</td> <td>    0.337</td> <td>    5.498</td> <td> 0.000</td> <td>    1.193</td> <td>    2.516</td>\n",
       "</tr>\n",
       "<tr>\n",
       "  <th>Genres_Communication</th>                         <td>    1.9497</td> <td>    0.134</td> <td>   14.574</td> <td> 0.000</td> <td>    1.687</td> <td>    2.212</td>\n",
       "</tr>\n",
       "<tr>\n",
       "  <th>Genres_Communication_Creativity</th>              <td>-2.227e-13</td> <td> 4.72e-13</td> <td>   -0.472</td> <td> 0.637</td> <td>-1.15e-12</td> <td> 7.02e-13</td>\n",
       "</tr>\n",
       "<tr>\n",
       "  <th>Genres_Dating</th>                                <td>    1.9177</td> <td>    0.135</td> <td>   14.226</td> <td> 0.000</td> <td>    1.653</td> <td>    2.182</td>\n",
       "</tr>\n",
       "<tr>\n",
       "  <th>Genres_Education</th>                             <td>    0.3894</td> <td>    0.083</td> <td>    4.710</td> <td> 0.000</td> <td>    0.227</td> <td>    0.551</td>\n",
       "</tr>\n",
       "<tr>\n",
       "  <th>Genres_Education_Action_&_Adventure</th>          <td>    0.5851</td> <td>    0.213</td> <td>    2.748</td> <td> 0.006</td> <td>    0.168</td> <td>    1.002</td>\n",
       "</tr>\n",
       "<tr>\n",
       "  <th>Genres_Education_Brain_Games</th>                 <td>    0.2754</td> <td>    0.258</td> <td>    1.067</td> <td> 0.286</td> <td>   -0.231</td> <td>    0.782</td>\n",
       "</tr>\n",
       "<tr>\n",
       "  <th>Genres_Education_Creativity</th>                  <td>    0.7045</td> <td>    0.214</td> <td>    3.294</td> <td> 0.001</td> <td>    0.285</td> <td>    1.124</td>\n",
       "</tr>\n",
       "<tr>\n",
       "  <th>Genres_Education_Education</th>                   <td>    0.4302</td> <td>    0.122</td> <td>    3.530</td> <td> 0.000</td> <td>    0.191</td> <td>    0.669</td>\n",
       "</tr>\n",
       "<tr>\n",
       "  <th>Genres_Education_Music_&_Video</th>               <td>    0.2210</td> <td>    0.291</td> <td>    0.759</td> <td> 0.448</td> <td>   -0.350</td> <td>    0.792</td>\n",
       "</tr>\n",
       "<tr>\n",
       "  <th>Genres_Education_Pretend_Play</th>                <td>    0.4952</td> <td>    0.148</td> <td>    3.344</td> <td> 0.001</td> <td>    0.205</td> <td>    0.786</td>\n",
       "</tr>\n",
       "<tr>\n",
       "  <th>Genres_Educational</th>                           <td>   -0.0861</td> <td>    0.126</td> <td>   -0.683</td> <td> 0.495</td> <td>   -0.333</td> <td>    0.161</td>\n",
       "</tr>\n",
       "<tr>\n",
       "  <th>Genres_Educational_Action_&_Adventure</th>        <td>    0.2307</td> <td>    0.291</td> <td>    0.793</td> <td> 0.428</td> <td>   -0.339</td> <td>    0.801</td>\n",
       "</tr>\n",
       "<tr>\n",
       "  <th>Genres_Educational_Brain_Games</th>               <td>    0.6939</td> <td>    0.230</td> <td>    3.011</td> <td> 0.003</td> <td>    0.242</td> <td>    1.146</td>\n",
       "</tr>\n",
       "<tr>\n",
       "  <th>Genres_Educational_Creativity</th>                <td>    0.1282</td> <td>    0.255</td> <td>    0.503</td> <td> 0.615</td> <td>   -0.371</td> <td>    0.628</td>\n",
       "</tr>\n",
       "<tr>\n",
       "  <th>Genres_Educational_Education</th>                 <td>    0.4638</td> <td>    0.125</td> <td>    3.699</td> <td> 0.000</td> <td>    0.218</td> <td>    0.710</td>\n",
       "</tr>\n",
       "<tr>\n",
       "  <th>Genres_Educational_Pretend_Play</th>              <td>    0.3146</td> <td>    0.166</td> <td>    1.901</td> <td> 0.057</td> <td>   -0.010</td> <td>    0.639</td>\n",
       "</tr>\n",
       "<tr>\n",
       "  <th>Genres_Entertainment</th>                         <td>    0.2177</td> <td>    0.081</td> <td>    2.674</td> <td> 0.008</td> <td>    0.058</td> <td>    0.377</td>\n",
       "</tr>\n",
       "<tr>\n",
       "  <th>Genres_Entertainment_Action_&_Adventure</th>      <td>    0.3087</td> <td>    0.291</td> <td>    1.062</td> <td> 0.288</td> <td>   -0.261</td> <td>    0.878</td>\n",
       "</tr>\n",
       "<tr>\n",
       "  <th>Genres_Entertainment_Brain_Games</th>             <td>    0.4127</td> <td>    0.255</td> <td>    1.619</td> <td> 0.106</td> <td>   -0.087</td> <td>    0.913</td>\n",
       "</tr>\n",
       "<tr>\n",
       "  <th>Genres_Entertainment_Creativity</th>              <td>    0.5485</td> <td>    0.353</td> <td>    1.554</td> <td> 0.120</td> <td>   -0.144</td> <td>    1.241</td>\n",
       "</tr>\n",
       "<tr>\n",
       "  <th>Genres_Entertainment_Education</th>               <td>  4.93e-13</td> <td> 7.66e-13</td> <td>    0.644</td> <td> 0.520</td> <td>-1.01e-12</td> <td> 1.99e-12</td>\n",
       "</tr>\n",
       "<tr>\n",
       "  <th>Genres_Entertainment_Music_&_Video</th>           <td>    0.2929</td> <td>    0.135</td> <td>    2.177</td> <td> 0.030</td> <td>    0.029</td> <td>    0.557</td>\n",
       "</tr>\n",
       "<tr>\n",
       "  <th>Genres_Entertainment_Pretend_Play</th>            <td>    0.2005</td> <td>    0.491</td> <td>    0.408</td> <td> 0.683</td> <td>   -0.763</td> <td>    1.164</td>\n",
       "</tr>\n",
       "<tr>\n",
       "  <th>Genres_Events</th>                                <td>    2.1691</td> <td>    0.138</td> <td>   15.740</td> <td> 0.000</td> <td>    1.899</td> <td>    2.439</td>\n",
       "</tr>\n",
       "<tr>\n",
       "  <th>Genres_Finance</th>                               <td>    1.9603</td> <td>    0.133</td> <td>   14.701</td> <td> 0.000</td> <td>    1.699</td> <td>    2.222</td>\n",
       "</tr>\n",
       "<tr>\n",
       "  <th>Genres_Food_&_Drink</th>                          <td>    2.0036</td> <td>    0.135</td> <td>   14.806</td> <td> 0.000</td> <td>    1.738</td> <td>    2.269</td>\n",
       "</tr>\n",
       "<tr>\n",
       "  <th>Genres_Health_&_Fitness</th>                      <td>    2.0285</td> <td>    0.134</td> <td>   15.185</td> <td> 0.000</td> <td>    1.767</td> <td>    2.290</td>\n",
       "</tr>\n",
       "<tr>\n",
       "  <th>Genres_Health_&_Fitness_Action_&_Adventure</th>   <td>   -0.1677</td> <td>    0.491</td> <td>   -0.341</td> <td> 0.733</td> <td>   -1.131</td> <td>    0.796</td>\n",
       "</tr>\n",
       "<tr>\n",
       "  <th>Genres_Health_&_Fitness_Education</th>            <td>    0.4871</td> <td>    0.491</td> <td>    0.992</td> <td> 0.321</td> <td>   -0.476</td> <td>    1.450</td>\n",
       "</tr>\n",
       "<tr>\n",
       "  <th>Genres_House_&_Home</th>                          <td>    1.9921</td> <td>    0.137</td> <td>   14.590</td> <td> 0.000</td> <td>    1.724</td> <td>    2.260</td>\n",
       "</tr>\n",
       "<tr>\n",
       "  <th>Genres_Libraries_&_Demo</th>                      <td>    2.0463</td> <td>    0.137</td> <td>   14.889</td> <td> 0.000</td> <td>    1.777</td> <td>    2.316</td>\n",
       "</tr>\n",
       "<tr>\n",
       "  <th>Genres_Lifestyle</th>                             <td>    1.9898</td> <td>    0.133</td> <td>   14.915</td> <td> 0.000</td> <td>    1.728</td> <td>    2.251</td>\n",
       "</tr>\n",
       "<tr>\n",
       "  <th>Genres_Lifestyle_Education</th>                   <td>    0.2861</td> <td>    0.491</td> <td>    0.582</td> <td> 0.560</td> <td>   -0.677</td> <td>    1.249</td>\n",
       "</tr>\n",
       "<tr>\n",
       "  <th>Genres_Lifestyle_Pretend_Play</th>                <td>  6.28e-13</td> <td> 1.03e-12</td> <td>    0.610</td> <td> 0.542</td> <td>-1.39e-12</td> <td> 2.65e-12</td>\n",
       "</tr>\n",
       "<tr>\n",
       "  <th>Genres_Maps_&_Navigation</th>                     <td>    1.9533</td> <td>    0.135</td> <td>   14.462</td> <td> 0.000</td> <td>    1.689</td> <td>    2.218</td>\n",
       "</tr>\n",
       "<tr>\n",
       "  <th>Genres_Medical</th>                               <td>    2.0380</td> <td>    0.133</td> <td>   15.290</td> <td> 0.000</td> <td>    1.777</td> <td>    2.299</td>\n",
       "</tr>\n",
       "<tr>\n",
       "  <th>Genres_Music</th>                                 <td>   -0.1229</td> <td>    0.134</td> <td>   -0.914</td> <td> 0.361</td> <td>   -0.387</td> <td>    0.141</td>\n",
       "</tr>\n",
       "<tr>\n",
       "  <th>Genres_Music_&_Audio_Music_&_Video</th>           <td>    0.6724</td> <td>    0.491</td> <td>    1.368</td> <td> 0.171</td> <td>   -0.291</td> <td>    1.636</td>\n",
       "</tr>\n",
       "<tr>\n",
       "  <th>Genres_Music_Music_&_Video</th>                   <td>    0.4177</td> <td>    0.352</td> <td>    1.188</td> <td> 0.235</td> <td>   -0.272</td> <td>    1.107</td>\n",
       "</tr>\n",
       "<tr>\n",
       "  <th>Genres_News_&_Magazines</th>                      <td>    1.9730</td> <td>    0.134</td> <td>   14.744</td> <td> 0.000</td> <td>    1.711</td> <td>    2.235</td>\n",
       "</tr>\n",
       "<tr>\n",
       "  <th>Genres_Parenting</th>                             <td>    0.8879</td> <td>    0.155</td> <td>    5.712</td> <td> 0.000</td> <td>    0.583</td> <td>    1.193</td>\n",
       "</tr>\n",
       "<tr>\n",
       "  <th>Genres_Parenting_Brain_Games</th>                 <td>    0.5581</td> <td>    0.401</td> <td>    1.393</td> <td> 0.164</td> <td>   -0.227</td> <td>    1.343</td>\n",
       "</tr>\n",
       "<tr>\n",
       "  <th>Genres_Parenting_Education</th>                   <td>    0.7152</td> <td>    0.300</td> <td>    2.385</td> <td> 0.017</td> <td>    0.127</td> <td>    1.303</td>\n",
       "</tr>\n",
       "<tr>\n",
       "  <th>Genres_Parenting_Music_&_Video</th>               <td>    1.1357</td> <td>    0.218</td> <td>    5.216</td> <td> 0.000</td> <td>    0.709</td> <td>    1.563</td>\n",
       "</tr>\n",
       "<tr>\n",
       "  <th>Genres_Personalization</th>                       <td>    2.0739</td> <td>    0.133</td> <td>   15.541</td> <td> 0.000</td> <td>    1.812</td> <td>    2.336</td>\n",
       "</tr>\n",
       "<tr>\n",
       "  <th>Genres_Photography</th>                           <td>    1.9733</td> <td>    0.134</td> <td>   14.743</td> <td> 0.000</td> <td>    1.711</td> <td>    2.236</td>\n",
       "</tr>\n",
       "<tr>\n",
       "  <th>Genres_Productivity</th>                          <td>    1.9951</td> <td>    0.133</td> <td>   14.948</td> <td> 0.000</td> <td>    1.733</td> <td>    2.257</td>\n",
       "</tr>\n",
       "<tr>\n",
       "  <th>Genres_Puzzle</th>                                <td>    0.3119</td> <td>    0.082</td> <td>    3.817</td> <td> 0.000</td> <td>    0.152</td> <td>    0.472</td>\n",
       "</tr>\n",
       "<tr>\n",
       "  <th>Genres_Puzzle_Action_&_Adventure</th>             <td>    0.2518</td> <td>    0.230</td> <td>    1.093</td> <td> 0.274</td> <td>   -0.200</td> <td>    0.703</td>\n",
       "</tr>\n",
       "<tr>\n",
       "  <th>Genres_Puzzle_Brain_Games</th>                    <td>    0.3505</td> <td>    0.179</td> <td>    1.957</td> <td> 0.050</td> <td>   -0.001</td> <td>    0.701</td>\n",
       "</tr>\n",
       "<tr>\n",
       "  <th>Genres_Puzzle_Creativity</th>                     <td>    0.3467</td> <td>    0.352</td> <td>    0.986</td> <td> 0.324</td> <td>   -0.343</td> <td>    1.036</td>\n",
       "</tr>\n",
       "<tr>\n",
       "  <th>Genres_Puzzle_Education</th>                      <td>    0.8174</td> <td>    0.491</td> <td>    1.664</td> <td> 0.096</td> <td>   -0.146</td> <td>    1.780</td>\n",
       "</tr>\n",
       "<tr>\n",
       "  <th>Genres_Racing</th>                                <td>   -0.0398</td> <td>    0.074</td> <td>   -0.535</td> <td> 0.592</td> <td>   -0.186</td> <td>    0.106</td>\n",
       "</tr>\n",
       "<tr>\n",
       "  <th>Genres_Racing_Action_&_Adventure</th>             <td>    0.3927</td> <td>    0.147</td> <td>    2.665</td> <td> 0.008</td> <td>    0.104</td> <td>    0.682</td>\n",
       "</tr>\n",
       "<tr>\n",
       "  <th>Genres_Racing_Pretend_Play</th>                   <td>    0.8938</td> <td>    0.492</td> <td>    1.818</td> <td> 0.069</td> <td>   -0.070</td> <td>    1.858</td>\n",
       "</tr>\n",
       "<tr>\n",
       "  <th>Genres_Role_Playing</th>                          <td>    0.1312</td> <td>    0.090</td> <td>    1.456</td> <td> 0.145</td> <td>   -0.045</td> <td>    0.308</td>\n",
       "</tr>\n",
       "<tr>\n",
       "  <th>Genres_Role_Playing_Action_&_Adventure</th>       <td>    0.1648</td> <td>    0.230</td> <td>    0.716</td> <td> 0.474</td> <td>   -0.286</td> <td>    0.616</td>\n",
       "</tr>\n",
       "<tr>\n",
       "  <th>Genres_Role_Playing_Brain_Games</th>              <td>    0.3014</td> <td>    0.491</td> <td>    0.613</td> <td> 0.540</td> <td>   -0.662</td> <td>    1.265</td>\n",
       "</tr>\n",
       "<tr>\n",
       "  <th>Genres_Role_Playing_Pretend_Play</th>             <td>    0.1648</td> <td>    0.255</td> <td>    0.647</td> <td> 0.517</td> <td>   -0.334</td> <td>    0.664</td>\n",
       "</tr>\n",
       "<tr>\n",
       "  <th>Genres_Shopping</th>                              <td>    2.0270</td> <td>    0.134</td> <td>   15.140</td> <td> 0.000</td> <td>    1.765</td> <td>    2.289</td>\n",
       "</tr>\n",
       "<tr>\n",
       "  <th>Genres_Simulation</th>                            <td>    0.1668</td> <td>    0.084</td> <td>    1.977</td> <td> 0.048</td> <td>    0.001</td> <td>    0.332</td>\n",
       "</tr>\n",
       "<tr>\n",
       "  <th>Genres_Simulation_Action_&_Adventure</th>         <td>    0.3286</td> <td>    0.177</td> <td>    1.860</td> <td> 0.063</td> <td>   -0.018</td> <td>    0.675</td>\n",
       "</tr>\n",
       "<tr>\n",
       "  <th>Genres_Simulation_Education</th>                  <td>    0.2088</td> <td>    0.286</td> <td>    0.729</td> <td> 0.466</td> <td>   -0.353</td> <td>    0.770</td>\n",
       "</tr>\n",
       "<tr>\n",
       "  <th>Genres_Simulation_Pretend_Play</th>               <td>    0.1599</td> <td>    0.290</td> <td>    0.551</td> <td> 0.582</td> <td>   -0.409</td> <td>    0.729</td>\n",
       "</tr>\n",
       "<tr>\n",
       "  <th>Genres_Social</th>                                <td>    1.9856</td> <td>    0.134</td> <td>   14.838</td> <td> 0.000</td> <td>    1.723</td> <td>    2.248</td>\n",
       "</tr>\n",
       "<tr>\n",
       "  <th>Genres_Sports</th>                                <td>    0.1331</td> <td>    0.283</td> <td>    0.471</td> <td> 0.638</td> <td>   -0.421</td> <td>    0.687</td>\n",
       "</tr>\n",
       "<tr>\n",
       "  <th>Genres_Sports_Action_&_Adventure</th>             <td>    0.1888</td> <td>    0.255</td> <td>    0.741</td> <td> 0.459</td> <td>   -0.311</td> <td>    0.688</td>\n",
       "</tr>\n",
       "<tr>\n",
       "  <th>Genres_Strategy</th>                              <td>    0.0906</td> <td>    0.092</td> <td>    0.983</td> <td> 0.326</td> <td>   -0.090</td> <td>    0.271</td>\n",
       "</tr>\n",
       "<tr>\n",
       "  <th>Genres_Strategy_Action_&_Adventure</th>           <td>    0.3380</td> <td>    0.492</td> <td>    0.687</td> <td> 0.492</td> <td>   -0.627</td> <td>    1.303</td>\n",
       "</tr>\n",
       "<tr>\n",
       "  <th>Genres_Strategy_Creativity</th>                   <td>    0.0833</td> <td>    0.491</td> <td>    0.170</td> <td> 0.865</td> <td>   -0.880</td> <td>    1.047</td>\n",
       "</tr>\n",
       "<tr>\n",
       "  <th>Genres_Strategy_Education</th>                    <td>    0.8011</td> <td>    0.491</td> <td>    1.631</td> <td> 0.103</td> <td>   -0.162</td> <td>    1.764</td>\n",
       "</tr>\n",
       "<tr>\n",
       "  <th>Genres_Tools</th>                                 <td>    1.2232</td> <td>    0.185</td> <td>    6.616</td> <td> 0.000</td> <td>    0.861</td> <td>    1.586</td>\n",
       "</tr>\n",
       "<tr>\n",
       "  <th>Genres_Tools_Education</th>                       <td>    1.4418</td> <td>    0.336</td> <td>    4.297</td> <td> 0.000</td> <td>    0.784</td> <td>    2.100</td>\n",
       "</tr>\n",
       "<tr>\n",
       "  <th>Genres_Travel_&_Local</th>                        <td>    1.3027</td> <td>    0.186</td> <td>    6.993</td> <td> 0.000</td> <td>    0.938</td> <td>    1.668</td>\n",
       "</tr>\n",
       "<tr>\n",
       "  <th>Genres_Travel_&_Local_Action_&_Adventure</th>     <td>    1.3756</td> <td>    0.336</td> <td>    4.099</td> <td> 0.000</td> <td>    0.718</td> <td>    2.033</td>\n",
       "</tr>\n",
       "<tr>\n",
       "  <th>Genres_Trivia</th>                                <td>   -0.1037</td> <td>    0.127</td> <td>   -0.816</td> <td> 0.415</td> <td>   -0.353</td> <td>    0.145</td>\n",
       "</tr>\n",
       "<tr>\n",
       "  <th>Genres_Video_Players_&_Editors</th>               <td>    0.0657</td> <td>    0.692</td> <td>    0.095</td> <td> 0.924</td> <td>   -1.291</td> <td>    1.422</td>\n",
       "</tr>\n",
       "<tr>\n",
       "  <th>Genres_Video_Players_&_Editors_Creativity</th>    <td>   -0.0118</td> <td>    0.491</td> <td>   -0.024</td> <td> 0.981</td> <td>   -0.975</td> <td>    0.951</td>\n",
       "</tr>\n",
       "<tr>\n",
       "  <th>Genres_Video_Players_&_Editors_Music_&_Video</th> <td>    0.1304</td> <td>    0.491</td> <td>    0.265</td> <td> 0.791</td> <td>   -0.833</td> <td>    1.094</td>\n",
       "</tr>\n",
       "<tr>\n",
       "  <th>Genres_Weather</th>                               <td>    2.0086</td> <td>    0.136</td> <td>   14.722</td> <td> 0.000</td> <td>    1.741</td> <td>    2.276</td>\n",
       "</tr>\n",
       "<tr>\n",
       "  <th>Genres_Word</th>                                  <td>    0.1573</td> <td>    0.117</td> <td>    1.343</td> <td> 0.179</td> <td>   -0.072</td> <td>    0.387</td>\n",
       "</tr>\n",
       "</table>\n",
       "<table class=\"simpletable\">\n",
       "<tr>\n",
       "  <th>Omnibus:</th>       <td>2288.467</td> <th>  Durbin-Watson:     </th> <td>   2.013</td> \n",
       "</tr>\n",
       "<tr>\n",
       "  <th>Prob(Omnibus):</th>  <td> 0.000</td>  <th>  Jarque-Bera (JB):  </th> <td>13605.697</td>\n",
       "</tr>\n",
       "<tr>\n",
       "  <th>Skew:</th>           <td>-1.676</td>  <th>  Prob(JB):          </th> <td>    0.00</td> \n",
       "</tr>\n",
       "<tr>\n",
       "  <th>Kurtosis:</th>       <td> 9.491</td>  <th>  Cond. No.          </th> <td>6.00e+20</td> \n",
       "</tr>\n",
       "</table><br/><br/>Notes:<br/>[1] R² is computed without centering (uncentered) since the model does not contain a constant.<br/>[2] Standard Errors assume that the covariance matrix of the errors is correctly specified.<br/>[3] The smallest eigenvalue is 1.66e-29. This might indicate that there are<br/>strong multicollinearity problems or that the design matrix is singular."
      ],
      "text/latex": [
       "\\begin{center}\n",
       "\\begin{tabular}{lclc}\n",
       "\\toprule\n",
       "\\textbf{Dep. Variable:}                                        &      Rating      & \\textbf{  R-squared (uncentered):}      &     0.987   \\\\\n",
       "\\textbf{Model:}                                                &       OLS        & \\textbf{  Adj. R-squared (uncentered):} &     0.987   \\\\\n",
       "\\textbf{Method:}                                               &  Least Squares   & \\textbf{  F-statistic:       }          &     3609.   \\\\\n",
       "\\textbf{Date:}                                                 & Sun, 26 Nov 2023 & \\textbf{  Prob (F-statistic):}          &     0.00    \\\\\n",
       "\\textbf{Time:}                                                 &     18:31:02     & \\textbf{  Log-Likelihood:    }          &   -4192.3   \\\\\n",
       "\\textbf{No. Observations:}                                     &        6118      & \\textbf{  AIC:               }          &     8637.   \\\\\n",
       "\\textbf{Df Residuals:}                                         &        5992      & \\textbf{  BIC:               }          &     9483.   \\\\\n",
       "\\textbf{Df Model:}                                             &         126      & \\textbf{                     }          &             \\\\\n",
       "\\textbf{Covariance Type:}                                      &    nonrobust     & \\textbf{                     }          &             \\\\\n",
       "\\bottomrule\n",
       "\\end{tabular}\n",
       "\\begin{tabular}{lcccccc}\n",
       "                                                               & \\textbf{coef} & \\textbf{std err} & \\textbf{t} & \\textbf{P$> |$t$|$} & \\textbf{[0.025} & \\textbf{0.975]}  \\\\\n",
       "\\midrule\n",
       "\\textbf{Reviews}                                               &       0.1743  &        0.006     &    27.547  &         0.000        &        0.162    &        0.187     \\\\\n",
       "\\textbf{Size}                                                  &   -2.474e-09  &     3.37e-07     &    -0.007  &         0.994        &    -6.64e-07    &     6.59e-07     \\\\\n",
       "\\textbf{Installs}                                              &      -0.1499  &        0.006     &   -23.660  &         0.000        &       -0.162    &       -0.138     \\\\\n",
       "\\textbf{Price}                                                 &       0.0001  &        0.005     &     0.021  &         0.983        &       -0.010    &        0.010     \\\\\n",
       "\\textbf{Category\\_AUTO\\_AND\\_VEHICLES}                         &       2.0585  &        0.137     &    15.041  &         0.000        &        1.790    &        2.327     \\\\\n",
       "\\textbf{Category\\_BEAUTY}                                      &       2.1151  &        0.139     &    15.189  &         0.000        &        1.842    &        2.388     \\\\\n",
       "\\textbf{Category\\_BOOKS\\_AND\\_REFERENCE}                       &       2.0890  &        0.134     &    15.554  &         0.000        &        1.826    &        2.352     \\\\\n",
       "\\textbf{Category\\_BUSINESS}                                    &       1.9836  &        0.133     &    14.869  &         0.000        &        1.722    &        2.245     \\\\\n",
       "\\textbf{Category\\_COMICS}                                      &       2.8902  &        0.238     &    12.158  &         0.000        &        2.424    &        3.356     \\\\\n",
       "\\textbf{Category\\_COMMUNICATION}                               &       1.9497  &        0.134     &    14.574  &         0.000        &        1.687    &        2.212     \\\\\n",
       "\\textbf{Category\\_DATING}                                      &       1.9177  &        0.135     &    14.226  &         0.000        &        1.653    &        2.182     \\\\\n",
       "\\textbf{Category\\_EDUCATION}                                   &       3.7592  &        0.279     &    13.487  &         0.000        &        3.213    &        4.306     \\\\\n",
       "\\textbf{Category\\_ENTERTAINMENT}                               &       3.6269  &        0.279     &    12.999  &         0.000        &        3.080    &        4.174     \\\\\n",
       "\\textbf{Category\\_EVENTS}                                      &       2.1691  &        0.138     &    15.740  &         0.000        &        1.899    &        2.439     \\\\\n",
       "\\textbf{Category\\_FAMILY}                                      &       3.7478  &        0.272     &    13.783  &         0.000        &        3.215    &        4.281     \\\\\n",
       "\\textbf{Category\\_FINANCE}                                     &       1.9603  &        0.133     &    14.701  &         0.000        &        1.699    &        2.222     \\\\\n",
       "\\textbf{Category\\_FOOD\\_AND\\_DRINK}                            &       2.0036  &        0.135     &    14.806  &         0.000        &        1.738    &        2.269     \\\\\n",
       "\\textbf{Category\\_GAME}                                        &       3.9559  &        0.267     &    14.838  &         0.000        &        3.433    &        4.479     \\\\\n",
       "\\textbf{Category\\_HEALTH\\_AND\\_FITNESS}                        &       2.0285  &        0.134     &    15.185  &         0.000        &        1.767    &        2.290     \\\\\n",
       "\\textbf{Category\\_HOUSE\\_AND\\_HOME}                            &       1.9921  &        0.137     &    14.590  &         0.000        &        1.724    &        2.260     \\\\\n",
       "\\textbf{Category\\_LIBRARIES\\_AND\\_DEMO}                        &       2.0463  &        0.137     &    14.889  &         0.000        &        1.777    &        2.316     \\\\\n",
       "\\textbf{Category\\_LIFESTYLE}                                   &       1.9898  &        0.133     &    14.915  &         0.000        &        1.728    &        2.251     \\\\\n",
       "\\textbf{Category\\_MAPS\\_AND\\_NAVIGATION}                       &       1.9533  &        0.135     &    14.462  &         0.000        &        1.689    &        2.218     \\\\\n",
       "\\textbf{Category\\_MEDICAL}                                     &       2.0380  &        0.133     &    15.290  &         0.000        &        1.777    &        2.299     \\\\\n",
       "\\textbf{Category\\_NEWS\\_AND\\_MAGAZINES}                        &       1.9730  &        0.134     &    14.744  &         0.000        &        1.711    &        2.235     \\\\\n",
       "\\textbf{Category\\_PARENTING}                                   &       3.2968  &        0.248     &    13.295  &         0.000        &        2.811    &        3.783     \\\\\n",
       "\\textbf{Category\\_PERSONALIZATION}                             &       2.0739  &        0.133     &    15.541  &         0.000        &        1.812    &        2.336     \\\\\n",
       "\\textbf{Category\\_PHOTOGRAPHY}                                 &       1.9733  &        0.134     &    14.743  &         0.000        &        1.711    &        2.236     \\\\\n",
       "\\textbf{Category\\_PRODUCTIVITY}                                &       1.9951  &        0.133     &    14.948  &         0.000        &        1.733    &        2.257     \\\\\n",
       "\\textbf{Category\\_SHOPPING}                                    &       2.0270  &        0.134     &    15.140  &         0.000        &        1.765    &        2.289     \\\\\n",
       "\\textbf{Category\\_SOCIAL}                                      &       1.9856  &        0.134     &    14.838  &         0.000        &        1.723    &        2.248     \\\\\n",
       "\\textbf{Category\\_SPORTS}                                      &       3.8511  &        0.387     &     9.945  &         0.000        &        3.092    &        4.610     \\\\\n",
       "\\textbf{Category\\_TOOLS}                                       &       2.6650  &        0.240     &    11.116  &         0.000        &        2.195    &        3.135     \\\\\n",
       "\\textbf{Category\\_TRAVEL\\_AND\\_LOCAL}                          &       2.6783  &        0.240     &    11.161  &         0.000        &        2.208    &        3.149     \\\\\n",
       "\\textbf{Category\\_VIDEO\\_PLAYERS}                              &       3.7478  &        0.738     &     5.078  &         0.000        &        2.301    &        5.195     \\\\\n",
       "\\textbf{Category\\_WEATHER}                                     &       2.0086  &        0.136     &    14.722  &         0.000        &        1.741    &        2.276     \\\\\n",
       "\\textbf{Type\\_Paid}                                            &      -0.0668  &        0.035     &    -1.905  &         0.057        &       -0.136    &        0.002     \\\\\n",
       "\\textbf{Content\\_Rating\\_Everyone}                             &       0.5883  &        0.263     &     2.233  &         0.026        &        0.072    &        1.105     \\\\\n",
       "\\textbf{Content\\_Rating\\_Everyone\\_10+}                        &       0.5764  &        0.265     &     2.173  &         0.030        &        0.056    &        1.096     \\\\\n",
       "\\textbf{Content\\_Rating\\_Mature\\_17+}                          &       0.5815  &        0.265     &     2.190  &         0.029        &        0.061    &        1.102     \\\\\n",
       "\\textbf{Content\\_Rating\\_Teen}                                 &       0.6005  &        0.264     &     2.277  &         0.023        &        0.084    &        1.117     \\\\\n",
       "\\textbf{Content\\_Rating\\_Unrated}                              &       0.6000  &        0.552     &     1.086  &         0.278        &       -0.483    &        1.683     \\\\\n",
       "\\textbf{Genres\\_Action\\_Action\\_\\&\\_Adventure}                 &       0.3440  &        0.174     &     1.979  &         0.048        &        0.003    &        0.685     \\\\\n",
       "\\textbf{Genres\\_Adventure}                                     &      -0.0627  &        0.077     &    -0.814  &         0.416        &       -0.214    &        0.088     \\\\\n",
       "\\textbf{Genres\\_Adventure\\_Action\\_\\&\\_Adventure}              &       0.1538  &        0.352     &     0.437  &         0.662        &       -0.536    &        0.843     \\\\\n",
       "\\textbf{Genres\\_Adventure\\_Brain\\_Games}                       &       0.5095  &        0.492     &     1.036  &         0.300        &       -0.455    &        1.474     \\\\\n",
       "\\textbf{Genres\\_Adventure\\_Education}                          &      -0.0109  &        0.492     &    -0.022  &         0.982        &       -0.975    &        0.953     \\\\\n",
       "\\textbf{Genres\\_Arcade}                                        &       0.0375  &        0.058     &     0.649  &         0.517        &       -0.076    &        0.151     \\\\\n",
       "\\textbf{Genres\\_Arcade\\_Action\\_\\&\\_Adventure}                 &       0.3621  &        0.199     &     1.822  &         0.068        &       -0.027    &        0.752     \\\\\n",
       "\\textbf{Genres\\_Arcade\\_Pretend\\_Play}                         &       0.4797  &        0.492     &     0.976  &         0.329        &       -0.484    &        1.443     \\\\\n",
       "\\textbf{Genres\\_Art\\_\\&\\_Design}                               &       4.2825  &        0.275     &    15.547  &         0.000        &        3.743    &        4.822     \\\\\n",
       "\\textbf{Genres\\_Art\\_\\&\\_Design\\_Creativity}                   &       4.4386  &        0.359     &    12.357  &         0.000        &        3.734    &        5.143     \\\\\n",
       "\\textbf{Genres\\_Art\\_\\&\\_Design\\_Pretend\\_Play}                &       2.2062  &        0.371     &     5.944  &         0.000        &        1.479    &        2.934     \\\\\n",
       "\\textbf{Genres\\_Auto\\_\\&\\_Vehicles}                            &       2.0585  &        0.137     &    15.041  &         0.000        &        1.790    &        2.327     \\\\\n",
       "\\textbf{Genres\\_Beauty}                                        &       2.1151  &        0.139     &    15.189  &         0.000        &        1.842    &        2.388     \\\\\n",
       "\\textbf{Genres\\_Board}                                         &       0.0488  &        0.091     &     0.537  &         0.591        &       -0.129    &        0.227     \\\\\n",
       "\\textbf{Genres\\_Board\\_Action\\_\\&\\_Adventure}                  &       0.1333  &        0.290     &     0.459  &         0.646        &       -0.436    &        0.703     \\\\\n",
       "\\textbf{Genres\\_Board\\_Brain\\_Games}                           &       0.3744  &        0.160     &     2.343  &         0.019        &        0.061    &        0.688     \\\\\n",
       "\\textbf{Genres\\_Board\\_Pretend\\_Play}                          &     2.47e-12  &     4.22e-12     &     0.586  &         0.558        &     -5.8e-12    &     1.07e-11     \\\\\n",
       "\\textbf{Genres\\_Books\\_\\&\\_Reference}                          &       2.0890  &        0.134     &    15.554  &         0.000        &        1.826    &        2.352     \\\\\n",
       "\\textbf{Genres\\_Books\\_\\&\\_Reference\\_Education}               &       0.7542  &        0.492     &     1.534  &         0.125        &       -0.210    &        1.718     \\\\\n",
       "\\textbf{Genres\\_Business}                                      &       1.9836  &        0.133     &    14.869  &         0.000        &        1.722    &        2.245     \\\\\n",
       "\\textbf{Genres\\_Card}                                          &      -0.0888  &        0.097     &    -0.920  &         0.358        &       -0.278    &        0.100     \\\\\n",
       "\\textbf{Genres\\_Card\\_Action\\_\\&\\_Adventure}                   &       0.0300  &        0.353     &     0.085  &         0.932        &       -0.661    &        0.721     \\\\\n",
       "\\textbf{Genres\\_Card\\_Brain\\_Games}                            &       0.6517  &        0.491     &     1.327  &         0.185        &       -0.311    &        1.615     \\\\\n",
       "\\textbf{Genres\\_Casino}                                        &       0.0531  &        0.103     &     0.513  &         0.608        &       -0.150    &        0.256     \\\\\n",
       "\\textbf{Genres\\_Casual}                                        &       0.1045  &        0.083     &     1.254  &         0.210        &       -0.059    &        0.268     \\\\\n",
       "\\textbf{Genres\\_Casual\\_Action\\_\\&\\_Adventure}                 &       0.3183  &        0.155     &     2.055  &         0.040        &        0.015    &        0.622     \\\\\n",
       "\\textbf{Genres\\_Casual\\_Brain\\_Games}                          &       0.5270  &        0.177     &     2.986  &         0.003        &        0.181    &        0.873     \\\\\n",
       "\\textbf{Genres\\_Casual\\_Creativity}                            &       0.4031  &        0.251     &     1.608  &         0.108        &       -0.088    &        0.895     \\\\\n",
       "\\textbf{Genres\\_Casual\\_Education}                             &       0.4214  &        0.491     &     0.858  &         0.391        &       -0.542    &        1.385     \\\\\n",
       "\\textbf{Genres\\_Casual\\_Music\\_\\&\\_Video}                      &       0.3422  &        0.491     &     0.696  &         0.486        &       -0.621    &        1.306     \\\\\n",
       "\\textbf{Genres\\_Casual\\_Pretend\\_Play}                         &       0.2264  &        0.124     &     1.826  &         0.068        &       -0.017    &        0.469     \\\\\n",
       "\\textbf{Genres\\_Comics}                                        &       1.0356  &        0.187     &     5.537  &         0.000        &        0.669    &        1.402     \\\\\n",
       "\\textbf{Genres\\_Comics\\_Creativity}                            &       1.8546  &        0.337     &     5.498  &         0.000        &        1.193    &        2.516     \\\\\n",
       "\\textbf{Genres\\_Communication}                                 &       1.9497  &        0.134     &    14.574  &         0.000        &        1.687    &        2.212     \\\\\n",
       "\\textbf{Genres\\_Communication\\_Creativity}                     &   -2.227e-13  &     4.72e-13     &    -0.472  &         0.637        &    -1.15e-12    &     7.02e-13     \\\\\n",
       "\\textbf{Genres\\_Dating}                                        &       1.9177  &        0.135     &    14.226  &         0.000        &        1.653    &        2.182     \\\\\n",
       "\\textbf{Genres\\_Education}                                     &       0.3894  &        0.083     &     4.710  &         0.000        &        0.227    &        0.551     \\\\\n",
       "\\textbf{Genres\\_Education\\_Action\\_\\&\\_Adventure}              &       0.5851  &        0.213     &     2.748  &         0.006        &        0.168    &        1.002     \\\\\n",
       "\\textbf{Genres\\_Education\\_Brain\\_Games}                       &       0.2754  &        0.258     &     1.067  &         0.286        &       -0.231    &        0.782     \\\\\n",
       "\\textbf{Genres\\_Education\\_Creativity}                         &       0.7045  &        0.214     &     3.294  &         0.001        &        0.285    &        1.124     \\\\\n",
       "\\textbf{Genres\\_Education\\_Education}                          &       0.4302  &        0.122     &     3.530  &         0.000        &        0.191    &        0.669     \\\\\n",
       "\\textbf{Genres\\_Education\\_Music\\_\\&\\_Video}                   &       0.2210  &        0.291     &     0.759  &         0.448        &       -0.350    &        0.792     \\\\\n",
       "\\textbf{Genres\\_Education\\_Pretend\\_Play}                      &       0.4952  &        0.148     &     3.344  &         0.001        &        0.205    &        0.786     \\\\\n",
       "\\textbf{Genres\\_Educational}                                   &      -0.0861  &        0.126     &    -0.683  &         0.495        &       -0.333    &        0.161     \\\\\n",
       "\\textbf{Genres\\_Educational\\_Action\\_\\&\\_Adventure}            &       0.2307  &        0.291     &     0.793  &         0.428        &       -0.339    &        0.801     \\\\\n",
       "\\textbf{Genres\\_Educational\\_Brain\\_Games}                     &       0.6939  &        0.230     &     3.011  &         0.003        &        0.242    &        1.146     \\\\\n",
       "\\textbf{Genres\\_Educational\\_Creativity}                       &       0.1282  &        0.255     &     0.503  &         0.615        &       -0.371    &        0.628     \\\\\n",
       "\\textbf{Genres\\_Educational\\_Education}                        &       0.4638  &        0.125     &     3.699  &         0.000        &        0.218    &        0.710     \\\\\n",
       "\\textbf{Genres\\_Educational\\_Pretend\\_Play}                    &       0.3146  &        0.166     &     1.901  &         0.057        &       -0.010    &        0.639     \\\\\n",
       "\\textbf{Genres\\_Entertainment}                                 &       0.2177  &        0.081     &     2.674  &         0.008        &        0.058    &        0.377     \\\\\n",
       "\\textbf{Genres\\_Entertainment\\_Action\\_\\&\\_Adventure}          &       0.3087  &        0.291     &     1.062  &         0.288        &       -0.261    &        0.878     \\\\\n",
       "\\textbf{Genres\\_Entertainment\\_Brain\\_Games}                   &       0.4127  &        0.255     &     1.619  &         0.106        &       -0.087    &        0.913     \\\\\n",
       "\\textbf{Genres\\_Entertainment\\_Creativity}                     &       0.5485  &        0.353     &     1.554  &         0.120        &       -0.144    &        1.241     \\\\\n",
       "\\textbf{Genres\\_Entertainment\\_Education}                      &     4.93e-13  &     7.66e-13     &     0.644  &         0.520        &    -1.01e-12    &     1.99e-12     \\\\\n",
       "\\textbf{Genres\\_Entertainment\\_Music\\_\\&\\_Video}               &       0.2929  &        0.135     &     2.177  &         0.030        &        0.029    &        0.557     \\\\\n",
       "\\textbf{Genres\\_Entertainment\\_Pretend\\_Play}                  &       0.2005  &        0.491     &     0.408  &         0.683        &       -0.763    &        1.164     \\\\\n",
       "\\textbf{Genres\\_Events}                                        &       2.1691  &        0.138     &    15.740  &         0.000        &        1.899    &        2.439     \\\\\n",
       "\\textbf{Genres\\_Finance}                                       &       1.9603  &        0.133     &    14.701  &         0.000        &        1.699    &        2.222     \\\\\n",
       "\\textbf{Genres\\_Food\\_\\&\\_Drink}                               &       2.0036  &        0.135     &    14.806  &         0.000        &        1.738    &        2.269     \\\\\n",
       "\\textbf{Genres\\_Health\\_\\&\\_Fitness}                           &       2.0285  &        0.134     &    15.185  &         0.000        &        1.767    &        2.290     \\\\\n",
       "\\textbf{Genres\\_Health\\_\\&\\_Fitness\\_Action\\_\\&\\_Adventure}    &      -0.1677  &        0.491     &    -0.341  &         0.733        &       -1.131    &        0.796     \\\\\n",
       "\\textbf{Genres\\_Health\\_\\&\\_Fitness\\_Education}                &       0.4871  &        0.491     &     0.992  &         0.321        &       -0.476    &        1.450     \\\\\n",
       "\\textbf{Genres\\_House\\_\\&\\_Home}                               &       1.9921  &        0.137     &    14.590  &         0.000        &        1.724    &        2.260     \\\\\n",
       "\\textbf{Genres\\_Libraries\\_\\&\\_Demo}                           &       2.0463  &        0.137     &    14.889  &         0.000        &        1.777    &        2.316     \\\\\n",
       "\\textbf{Genres\\_Lifestyle}                                     &       1.9898  &        0.133     &    14.915  &         0.000        &        1.728    &        2.251     \\\\\n",
       "\\textbf{Genres\\_Lifestyle\\_Education}                          &       0.2861  &        0.491     &     0.582  &         0.560        &       -0.677    &        1.249     \\\\\n",
       "\\textbf{Genres\\_Lifestyle\\_Pretend\\_Play}                      &     6.28e-13  &     1.03e-12     &     0.610  &         0.542        &    -1.39e-12    &     2.65e-12     \\\\\n",
       "\\textbf{Genres\\_Maps\\_\\&\\_Navigation}                          &       1.9533  &        0.135     &    14.462  &         0.000        &        1.689    &        2.218     \\\\\n",
       "\\textbf{Genres\\_Medical}                                       &       2.0380  &        0.133     &    15.290  &         0.000        &        1.777    &        2.299     \\\\\n",
       "\\textbf{Genres\\_Music}                                         &      -0.1229  &        0.134     &    -0.914  &         0.361        &       -0.387    &        0.141     \\\\\n",
       "\\textbf{Genres\\_Music\\_\\&\\_Audio\\_Music\\_\\&\\_Video}            &       0.6724  &        0.491     &     1.368  &         0.171        &       -0.291    &        1.636     \\\\\n",
       "\\textbf{Genres\\_Music\\_Music\\_\\&\\_Video}                       &       0.4177  &        0.352     &     1.188  &         0.235        &       -0.272    &        1.107     \\\\\n",
       "\\textbf{Genres\\_News\\_\\&\\_Magazines}                           &       1.9730  &        0.134     &    14.744  &         0.000        &        1.711    &        2.235     \\\\\n",
       "\\textbf{Genres\\_Parenting}                                     &       0.8879  &        0.155     &     5.712  &         0.000        &        0.583    &        1.193     \\\\\n",
       "\\textbf{Genres\\_Parenting\\_Brain\\_Games}                       &       0.5581  &        0.401     &     1.393  &         0.164        &       -0.227    &        1.343     \\\\\n",
       "\\textbf{Genres\\_Parenting\\_Education}                          &       0.7152  &        0.300     &     2.385  &         0.017        &        0.127    &        1.303     \\\\\n",
       "\\textbf{Genres\\_Parenting\\_Music\\_\\&\\_Video}                   &       1.1357  &        0.218     &     5.216  &         0.000        &        0.709    &        1.563     \\\\\n",
       "\\textbf{Genres\\_Personalization}                               &       2.0739  &        0.133     &    15.541  &         0.000        &        1.812    &        2.336     \\\\\n",
       "\\textbf{Genres\\_Photography}                                   &       1.9733  &        0.134     &    14.743  &         0.000        &        1.711    &        2.236     \\\\\n",
       "\\textbf{Genres\\_Productivity}                                  &       1.9951  &        0.133     &    14.948  &         0.000        &        1.733    &        2.257     \\\\\n",
       "\\textbf{Genres\\_Puzzle}                                        &       0.3119  &        0.082     &     3.817  &         0.000        &        0.152    &        0.472     \\\\\n",
       "\\textbf{Genres\\_Puzzle\\_Action\\_\\&\\_Adventure}                 &       0.2518  &        0.230     &     1.093  &         0.274        &       -0.200    &        0.703     \\\\\n",
       "\\textbf{Genres\\_Puzzle\\_Brain\\_Games}                          &       0.3505  &        0.179     &     1.957  &         0.050        &       -0.001    &        0.701     \\\\\n",
       "\\textbf{Genres\\_Puzzle\\_Creativity}                            &       0.3467  &        0.352     &     0.986  &         0.324        &       -0.343    &        1.036     \\\\\n",
       "\\textbf{Genres\\_Puzzle\\_Education}                             &       0.8174  &        0.491     &     1.664  &         0.096        &       -0.146    &        1.780     \\\\\n",
       "\\textbf{Genres\\_Racing}                                        &      -0.0398  &        0.074     &    -0.535  &         0.592        &       -0.186    &        0.106     \\\\\n",
       "\\textbf{Genres\\_Racing\\_Action\\_\\&\\_Adventure}                 &       0.3927  &        0.147     &     2.665  &         0.008        &        0.104    &        0.682     \\\\\n",
       "\\textbf{Genres\\_Racing\\_Pretend\\_Play}                         &       0.8938  &        0.492     &     1.818  &         0.069        &       -0.070    &        1.858     \\\\\n",
       "\\textbf{Genres\\_Role\\_Playing}                                 &       0.1312  &        0.090     &     1.456  &         0.145        &       -0.045    &        0.308     \\\\\n",
       "\\textbf{Genres\\_Role\\_Playing\\_Action\\_\\&\\_Adventure}          &       0.1648  &        0.230     &     0.716  &         0.474        &       -0.286    &        0.616     \\\\\n",
       "\\textbf{Genres\\_Role\\_Playing\\_Brain\\_Games}                   &       0.3014  &        0.491     &     0.613  &         0.540        &       -0.662    &        1.265     \\\\\n",
       "\\textbf{Genres\\_Role\\_Playing\\_Pretend\\_Play}                  &       0.1648  &        0.255     &     0.647  &         0.517        &       -0.334    &        0.664     \\\\\n",
       "\\textbf{Genres\\_Shopping}                                      &       2.0270  &        0.134     &    15.140  &         0.000        &        1.765    &        2.289     \\\\\n",
       "\\textbf{Genres\\_Simulation}                                    &       0.1668  &        0.084     &     1.977  &         0.048        &        0.001    &        0.332     \\\\\n",
       "\\textbf{Genres\\_Simulation\\_Action\\_\\&\\_Adventure}             &       0.3286  &        0.177     &     1.860  &         0.063        &       -0.018    &        0.675     \\\\\n",
       "\\textbf{Genres\\_Simulation\\_Education}                         &       0.2088  &        0.286     &     0.729  &         0.466        &       -0.353    &        0.770     \\\\\n",
       "\\textbf{Genres\\_Simulation\\_Pretend\\_Play}                     &       0.1599  &        0.290     &     0.551  &         0.582        &       -0.409    &        0.729     \\\\\n",
       "\\textbf{Genres\\_Social}                                        &       1.9856  &        0.134     &    14.838  &         0.000        &        1.723    &        2.248     \\\\\n",
       "\\textbf{Genres\\_Sports}                                        &       0.1331  &        0.283     &     0.471  &         0.638        &       -0.421    &        0.687     \\\\\n",
       "\\textbf{Genres\\_Sports\\_Action\\_\\&\\_Adventure}                 &       0.1888  &        0.255     &     0.741  &         0.459        &       -0.311    &        0.688     \\\\\n",
       "\\textbf{Genres\\_Strategy}                                      &       0.0906  &        0.092     &     0.983  &         0.326        &       -0.090    &        0.271     \\\\\n",
       "\\textbf{Genres\\_Strategy\\_Action\\_\\&\\_Adventure}               &       0.3380  &        0.492     &     0.687  &         0.492        &       -0.627    &        1.303     \\\\\n",
       "\\textbf{Genres\\_Strategy\\_Creativity}                          &       0.0833  &        0.491     &     0.170  &         0.865        &       -0.880    &        1.047     \\\\\n",
       "\\textbf{Genres\\_Strategy\\_Education}                           &       0.8011  &        0.491     &     1.631  &         0.103        &       -0.162    &        1.764     \\\\\n",
       "\\textbf{Genres\\_Tools}                                         &       1.2232  &        0.185     &     6.616  &         0.000        &        0.861    &        1.586     \\\\\n",
       "\\textbf{Genres\\_Tools\\_Education}                              &       1.4418  &        0.336     &     4.297  &         0.000        &        0.784    &        2.100     \\\\\n",
       "\\textbf{Genres\\_Travel\\_\\&\\_Local}                             &       1.3027  &        0.186     &     6.993  &         0.000        &        0.938    &        1.668     \\\\\n",
       "\\textbf{Genres\\_Travel\\_\\&\\_Local\\_Action\\_\\&\\_Adventure}      &       1.3756  &        0.336     &     4.099  &         0.000        &        0.718    &        2.033     \\\\\n",
       "\\textbf{Genres\\_Trivia}                                        &      -0.1037  &        0.127     &    -0.816  &         0.415        &       -0.353    &        0.145     \\\\\n",
       "\\textbf{Genres\\_Video\\_Players\\_\\&\\_Editors}                   &       0.0657  &        0.692     &     0.095  &         0.924        &       -1.291    &        1.422     \\\\\n",
       "\\textbf{Genres\\_Video\\_Players\\_\\&\\_Editors\\_Creativity}       &      -0.0118  &        0.491     &    -0.024  &         0.981        &       -0.975    &        0.951     \\\\\n",
       "\\textbf{Genres\\_Video\\_Players\\_\\&\\_Editors\\_Music\\_\\&\\_Video} &       0.1304  &        0.491     &     0.265  &         0.791        &       -0.833    &        1.094     \\\\\n",
       "\\textbf{Genres\\_Weather}                                       &       2.0086  &        0.136     &    14.722  &         0.000        &        1.741    &        2.276     \\\\\n",
       "\\textbf{Genres\\_Word}                                          &       0.1573  &        0.117     &     1.343  &         0.179        &       -0.072    &        0.387     \\\\\n",
       "\\bottomrule\n",
       "\\end{tabular}\n",
       "\\begin{tabular}{lclc}\n",
       "\\textbf{Omnibus:}       & 2288.467 & \\textbf{  Durbin-Watson:     } &     2.013  \\\\\n",
       "\\textbf{Prob(Omnibus):} &   0.000  & \\textbf{  Jarque-Bera (JB):  } & 13605.697  \\\\\n",
       "\\textbf{Skew:}          &  -1.676  & \\textbf{  Prob(JB):          } &      0.00  \\\\\n",
       "\\textbf{Kurtosis:}      &   9.491  & \\textbf{  Cond. No.          } &  6.00e+20  \\\\\n",
       "\\bottomrule\n",
       "\\end{tabular}\n",
       "%\\caption{OLS Regression Results}\n",
       "\\end{center}\n",
       "\n",
       "Notes: \\newline\n",
       " [1] R² is computed without centering (uncentered) since the model does not contain a constant. \\newline\n",
       " [2] Standard Errors assume that the covariance matrix of the errors is correctly specified. \\newline\n",
       " [3] The smallest eigenvalue is 1.66e-29. This might indicate that there are \\newline\n",
       " strong multicollinearity problems or that the design matrix is singular."
      ],
      "text/plain": [
       "<class 'statsmodels.iolib.summary.Summary'>\n",
       "\"\"\"\n",
       "                                 OLS Regression Results                                \n",
       "=======================================================================================\n",
       "Dep. Variable:                 Rating   R-squared (uncentered):                   0.987\n",
       "Model:                            OLS   Adj. R-squared (uncentered):              0.987\n",
       "Method:                 Least Squares   F-statistic:                              3609.\n",
       "Date:                Sun, 26 Nov 2023   Prob (F-statistic):                        0.00\n",
       "Time:                        18:31:02   Log-Likelihood:                         -4192.3\n",
       "No. Observations:                6118   AIC:                                      8637.\n",
       "Df Residuals:                    5992   BIC:                                      9483.\n",
       "Df Model:                         126                                                  \n",
       "Covariance Type:            nonrobust                                                  \n",
       "================================================================================================================\n",
       "                                                   coef    std err          t      P>|t|      [0.025      0.975]\n",
       "----------------------------------------------------------------------------------------------------------------\n",
       "Reviews                                          0.1743      0.006     27.547      0.000       0.162       0.187\n",
       "Size                                         -2.474e-09   3.37e-07     -0.007      0.994   -6.64e-07    6.59e-07\n",
       "Installs                                        -0.1499      0.006    -23.660      0.000      -0.162      -0.138\n",
       "Price                                            0.0001      0.005      0.021      0.983      -0.010       0.010\n",
       "Category_AUTO_AND_VEHICLES                       2.0585      0.137     15.041      0.000       1.790       2.327\n",
       "Category_BEAUTY                                  2.1151      0.139     15.189      0.000       1.842       2.388\n",
       "Category_BOOKS_AND_REFERENCE                     2.0890      0.134     15.554      0.000       1.826       2.352\n",
       "Category_BUSINESS                                1.9836      0.133     14.869      0.000       1.722       2.245\n",
       "Category_COMICS                                  2.8902      0.238     12.158      0.000       2.424       3.356\n",
       "Category_COMMUNICATION                           1.9497      0.134     14.574      0.000       1.687       2.212\n",
       "Category_DATING                                  1.9177      0.135     14.226      0.000       1.653       2.182\n",
       "Category_EDUCATION                               3.7592      0.279     13.487      0.000       3.213       4.306\n",
       "Category_ENTERTAINMENT                           3.6269      0.279     12.999      0.000       3.080       4.174\n",
       "Category_EVENTS                                  2.1691      0.138     15.740      0.000       1.899       2.439\n",
       "Category_FAMILY                                  3.7478      0.272     13.783      0.000       3.215       4.281\n",
       "Category_FINANCE                                 1.9603      0.133     14.701      0.000       1.699       2.222\n",
       "Category_FOOD_AND_DRINK                          2.0036      0.135     14.806      0.000       1.738       2.269\n",
       "Category_GAME                                    3.9559      0.267     14.838      0.000       3.433       4.479\n",
       "Category_HEALTH_AND_FITNESS                      2.0285      0.134     15.185      0.000       1.767       2.290\n",
       "Category_HOUSE_AND_HOME                          1.9921      0.137     14.590      0.000       1.724       2.260\n",
       "Category_LIBRARIES_AND_DEMO                      2.0463      0.137     14.889      0.000       1.777       2.316\n",
       "Category_LIFESTYLE                               1.9898      0.133     14.915      0.000       1.728       2.251\n",
       "Category_MAPS_AND_NAVIGATION                     1.9533      0.135     14.462      0.000       1.689       2.218\n",
       "Category_MEDICAL                                 2.0380      0.133     15.290      0.000       1.777       2.299\n",
       "Category_NEWS_AND_MAGAZINES                      1.9730      0.134     14.744      0.000       1.711       2.235\n",
       "Category_PARENTING                               3.2968      0.248     13.295      0.000       2.811       3.783\n",
       "Category_PERSONALIZATION                         2.0739      0.133     15.541      0.000       1.812       2.336\n",
       "Category_PHOTOGRAPHY                             1.9733      0.134     14.743      0.000       1.711       2.236\n",
       "Category_PRODUCTIVITY                            1.9951      0.133     14.948      0.000       1.733       2.257\n",
       "Category_SHOPPING                                2.0270      0.134     15.140      0.000       1.765       2.289\n",
       "Category_SOCIAL                                  1.9856      0.134     14.838      0.000       1.723       2.248\n",
       "Category_SPORTS                                  3.8511      0.387      9.945      0.000       3.092       4.610\n",
       "Category_TOOLS                                   2.6650      0.240     11.116      0.000       2.195       3.135\n",
       "Category_TRAVEL_AND_LOCAL                        2.6783      0.240     11.161      0.000       2.208       3.149\n",
       "Category_VIDEO_PLAYERS                           3.7478      0.738      5.078      0.000       2.301       5.195\n",
       "Category_WEATHER                                 2.0086      0.136     14.722      0.000       1.741       2.276\n",
       "Type_Paid                                       -0.0668      0.035     -1.905      0.057      -0.136       0.002\n",
       "Content_Rating_Everyone                          0.5883      0.263      2.233      0.026       0.072       1.105\n",
       "Content_Rating_Everyone_10+                      0.5764      0.265      2.173      0.030       0.056       1.096\n",
       "Content_Rating_Mature_17+                        0.5815      0.265      2.190      0.029       0.061       1.102\n",
       "Content_Rating_Teen                              0.6005      0.264      2.277      0.023       0.084       1.117\n",
       "Content_Rating_Unrated                           0.6000      0.552      1.086      0.278      -0.483       1.683\n",
       "Genres_Action_Action_&_Adventure                 0.3440      0.174      1.979      0.048       0.003       0.685\n",
       "Genres_Adventure                                -0.0627      0.077     -0.814      0.416      -0.214       0.088\n",
       "Genres_Adventure_Action_&_Adventure              0.1538      0.352      0.437      0.662      -0.536       0.843\n",
       "Genres_Adventure_Brain_Games                     0.5095      0.492      1.036      0.300      -0.455       1.474\n",
       "Genres_Adventure_Education                      -0.0109      0.492     -0.022      0.982      -0.975       0.953\n",
       "Genres_Arcade                                    0.0375      0.058      0.649      0.517      -0.076       0.151\n",
       "Genres_Arcade_Action_&_Adventure                 0.3621      0.199      1.822      0.068      -0.027       0.752\n",
       "Genres_Arcade_Pretend_Play                       0.4797      0.492      0.976      0.329      -0.484       1.443\n",
       "Genres_Art_&_Design                              4.2825      0.275     15.547      0.000       3.743       4.822\n",
       "Genres_Art_&_Design_Creativity                   4.4386      0.359     12.357      0.000       3.734       5.143\n",
       "Genres_Art_&_Design_Pretend_Play                 2.2062      0.371      5.944      0.000       1.479       2.934\n",
       "Genres_Auto_&_Vehicles                           2.0585      0.137     15.041      0.000       1.790       2.327\n",
       "Genres_Beauty                                    2.1151      0.139     15.189      0.000       1.842       2.388\n",
       "Genres_Board                                     0.0488      0.091      0.537      0.591      -0.129       0.227\n",
       "Genres_Board_Action_&_Adventure                  0.1333      0.290      0.459      0.646      -0.436       0.703\n",
       "Genres_Board_Brain_Games                         0.3744      0.160      2.343      0.019       0.061       0.688\n",
       "Genres_Board_Pretend_Play                      2.47e-12   4.22e-12      0.586      0.558    -5.8e-12    1.07e-11\n",
       "Genres_Books_&_Reference                         2.0890      0.134     15.554      0.000       1.826       2.352\n",
       "Genres_Books_&_Reference_Education               0.7542      0.492      1.534      0.125      -0.210       1.718\n",
       "Genres_Business                                  1.9836      0.133     14.869      0.000       1.722       2.245\n",
       "Genres_Card                                     -0.0888      0.097     -0.920      0.358      -0.278       0.100\n",
       "Genres_Card_Action_&_Adventure                   0.0300      0.353      0.085      0.932      -0.661       0.721\n",
       "Genres_Card_Brain_Games                          0.6517      0.491      1.327      0.185      -0.311       1.615\n",
       "Genres_Casino                                    0.0531      0.103      0.513      0.608      -0.150       0.256\n",
       "Genres_Casual                                    0.1045      0.083      1.254      0.210      -0.059       0.268\n",
       "Genres_Casual_Action_&_Adventure                 0.3183      0.155      2.055      0.040       0.015       0.622\n",
       "Genres_Casual_Brain_Games                        0.5270      0.177      2.986      0.003       0.181       0.873\n",
       "Genres_Casual_Creativity                         0.4031      0.251      1.608      0.108      -0.088       0.895\n",
       "Genres_Casual_Education                          0.4214      0.491      0.858      0.391      -0.542       1.385\n",
       "Genres_Casual_Music_&_Video                      0.3422      0.491      0.696      0.486      -0.621       1.306\n",
       "Genres_Casual_Pretend_Play                       0.2264      0.124      1.826      0.068      -0.017       0.469\n",
       "Genres_Comics                                    1.0356      0.187      5.537      0.000       0.669       1.402\n",
       "Genres_Comics_Creativity                         1.8546      0.337      5.498      0.000       1.193       2.516\n",
       "Genres_Communication                             1.9497      0.134     14.574      0.000       1.687       2.212\n",
       "Genres_Communication_Creativity              -2.227e-13   4.72e-13     -0.472      0.637   -1.15e-12    7.02e-13\n",
       "Genres_Dating                                    1.9177      0.135     14.226      0.000       1.653       2.182\n",
       "Genres_Education                                 0.3894      0.083      4.710      0.000       0.227       0.551\n",
       "Genres_Education_Action_&_Adventure              0.5851      0.213      2.748      0.006       0.168       1.002\n",
       "Genres_Education_Brain_Games                     0.2754      0.258      1.067      0.286      -0.231       0.782\n",
       "Genres_Education_Creativity                      0.7045      0.214      3.294      0.001       0.285       1.124\n",
       "Genres_Education_Education                       0.4302      0.122      3.530      0.000       0.191       0.669\n",
       "Genres_Education_Music_&_Video                   0.2210      0.291      0.759      0.448      -0.350       0.792\n",
       "Genres_Education_Pretend_Play                    0.4952      0.148      3.344      0.001       0.205       0.786\n",
       "Genres_Educational                              -0.0861      0.126     -0.683      0.495      -0.333       0.161\n",
       "Genres_Educational_Action_&_Adventure            0.2307      0.291      0.793      0.428      -0.339       0.801\n",
       "Genres_Educational_Brain_Games                   0.6939      0.230      3.011      0.003       0.242       1.146\n",
       "Genres_Educational_Creativity                    0.1282      0.255      0.503      0.615      -0.371       0.628\n",
       "Genres_Educational_Education                     0.4638      0.125      3.699      0.000       0.218       0.710\n",
       "Genres_Educational_Pretend_Play                  0.3146      0.166      1.901      0.057      -0.010       0.639\n",
       "Genres_Entertainment                             0.2177      0.081      2.674      0.008       0.058       0.377\n",
       "Genres_Entertainment_Action_&_Adventure          0.3087      0.291      1.062      0.288      -0.261       0.878\n",
       "Genres_Entertainment_Brain_Games                 0.4127      0.255      1.619      0.106      -0.087       0.913\n",
       "Genres_Entertainment_Creativity                  0.5485      0.353      1.554      0.120      -0.144       1.241\n",
       "Genres_Entertainment_Education                 4.93e-13   7.66e-13      0.644      0.520   -1.01e-12    1.99e-12\n",
       "Genres_Entertainment_Music_&_Video               0.2929      0.135      2.177      0.030       0.029       0.557\n",
       "Genres_Entertainment_Pretend_Play                0.2005      0.491      0.408      0.683      -0.763       1.164\n",
       "Genres_Events                                    2.1691      0.138     15.740      0.000       1.899       2.439\n",
       "Genres_Finance                                   1.9603      0.133     14.701      0.000       1.699       2.222\n",
       "Genres_Food_&_Drink                              2.0036      0.135     14.806      0.000       1.738       2.269\n",
       "Genres_Health_&_Fitness                          2.0285      0.134     15.185      0.000       1.767       2.290\n",
       "Genres_Health_&_Fitness_Action_&_Adventure      -0.1677      0.491     -0.341      0.733      -1.131       0.796\n",
       "Genres_Health_&_Fitness_Education                0.4871      0.491      0.992      0.321      -0.476       1.450\n",
       "Genres_House_&_Home                              1.9921      0.137     14.590      0.000       1.724       2.260\n",
       "Genres_Libraries_&_Demo                          2.0463      0.137     14.889      0.000       1.777       2.316\n",
       "Genres_Lifestyle                                 1.9898      0.133     14.915      0.000       1.728       2.251\n",
       "Genres_Lifestyle_Education                       0.2861      0.491      0.582      0.560      -0.677       1.249\n",
       "Genres_Lifestyle_Pretend_Play                  6.28e-13   1.03e-12      0.610      0.542   -1.39e-12    2.65e-12\n",
       "Genres_Maps_&_Navigation                         1.9533      0.135     14.462      0.000       1.689       2.218\n",
       "Genres_Medical                                   2.0380      0.133     15.290      0.000       1.777       2.299\n",
       "Genres_Music                                    -0.1229      0.134     -0.914      0.361      -0.387       0.141\n",
       "Genres_Music_&_Audio_Music_&_Video               0.6724      0.491      1.368      0.171      -0.291       1.636\n",
       "Genres_Music_Music_&_Video                       0.4177      0.352      1.188      0.235      -0.272       1.107\n",
       "Genres_News_&_Magazines                          1.9730      0.134     14.744      0.000       1.711       2.235\n",
       "Genres_Parenting                                 0.8879      0.155      5.712      0.000       0.583       1.193\n",
       "Genres_Parenting_Brain_Games                     0.5581      0.401      1.393      0.164      -0.227       1.343\n",
       "Genres_Parenting_Education                       0.7152      0.300      2.385      0.017       0.127       1.303\n",
       "Genres_Parenting_Music_&_Video                   1.1357      0.218      5.216      0.000       0.709       1.563\n",
       "Genres_Personalization                           2.0739      0.133     15.541      0.000       1.812       2.336\n",
       "Genres_Photography                               1.9733      0.134     14.743      0.000       1.711       2.236\n",
       "Genres_Productivity                              1.9951      0.133     14.948      0.000       1.733       2.257\n",
       "Genres_Puzzle                                    0.3119      0.082      3.817      0.000       0.152       0.472\n",
       "Genres_Puzzle_Action_&_Adventure                 0.2518      0.230      1.093      0.274      -0.200       0.703\n",
       "Genres_Puzzle_Brain_Games                        0.3505      0.179      1.957      0.050      -0.001       0.701\n",
       "Genres_Puzzle_Creativity                         0.3467      0.352      0.986      0.324      -0.343       1.036\n",
       "Genres_Puzzle_Education                          0.8174      0.491      1.664      0.096      -0.146       1.780\n",
       "Genres_Racing                                   -0.0398      0.074     -0.535      0.592      -0.186       0.106\n",
       "Genres_Racing_Action_&_Adventure                 0.3927      0.147      2.665      0.008       0.104       0.682\n",
       "Genres_Racing_Pretend_Play                       0.8938      0.492      1.818      0.069      -0.070       1.858\n",
       "Genres_Role_Playing                              0.1312      0.090      1.456      0.145      -0.045       0.308\n",
       "Genres_Role_Playing_Action_&_Adventure           0.1648      0.230      0.716      0.474      -0.286       0.616\n",
       "Genres_Role_Playing_Brain_Games                  0.3014      0.491      0.613      0.540      -0.662       1.265\n",
       "Genres_Role_Playing_Pretend_Play                 0.1648      0.255      0.647      0.517      -0.334       0.664\n",
       "Genres_Shopping                                  2.0270      0.134     15.140      0.000       1.765       2.289\n",
       "Genres_Simulation                                0.1668      0.084      1.977      0.048       0.001       0.332\n",
       "Genres_Simulation_Action_&_Adventure             0.3286      0.177      1.860      0.063      -0.018       0.675\n",
       "Genres_Simulation_Education                      0.2088      0.286      0.729      0.466      -0.353       0.770\n",
       "Genres_Simulation_Pretend_Play                   0.1599      0.290      0.551      0.582      -0.409       0.729\n",
       "Genres_Social                                    1.9856      0.134     14.838      0.000       1.723       2.248\n",
       "Genres_Sports                                    0.1331      0.283      0.471      0.638      -0.421       0.687\n",
       "Genres_Sports_Action_&_Adventure                 0.1888      0.255      0.741      0.459      -0.311       0.688\n",
       "Genres_Strategy                                  0.0906      0.092      0.983      0.326      -0.090       0.271\n",
       "Genres_Strategy_Action_&_Adventure               0.3380      0.492      0.687      0.492      -0.627       1.303\n",
       "Genres_Strategy_Creativity                       0.0833      0.491      0.170      0.865      -0.880       1.047\n",
       "Genres_Strategy_Education                        0.8011      0.491      1.631      0.103      -0.162       1.764\n",
       "Genres_Tools                                     1.2232      0.185      6.616      0.000       0.861       1.586\n",
       "Genres_Tools_Education                           1.4418      0.336      4.297      0.000       0.784       2.100\n",
       "Genres_Travel_&_Local                            1.3027      0.186      6.993      0.000       0.938       1.668\n",
       "Genres_Travel_&_Local_Action_&_Adventure         1.3756      0.336      4.099      0.000       0.718       2.033\n",
       "Genres_Trivia                                   -0.1037      0.127     -0.816      0.415      -0.353       0.145\n",
       "Genres_Video_Players_&_Editors                   0.0657      0.692      0.095      0.924      -1.291       1.422\n",
       "Genres_Video_Players_&_Editors_Creativity       -0.0118      0.491     -0.024      0.981      -0.975       0.951\n",
       "Genres_Video_Players_&_Editors_Music_&_Video     0.1304      0.491      0.265      0.791      -0.833       1.094\n",
       "Genres_Weather                                   2.0086      0.136     14.722      0.000       1.741       2.276\n",
       "Genres_Word                                      0.1573      0.117      1.343      0.179      -0.072       0.387\n",
       "==============================================================================\n",
       "Omnibus:                     2288.467   Durbin-Watson:                   2.013\n",
       "Prob(Omnibus):                  0.000   Jarque-Bera (JB):            13605.697\n",
       "Skew:                          -1.676   Prob(JB):                         0.00\n",
       "Kurtosis:                       9.491   Cond. No.                     6.00e+20\n",
       "==============================================================================\n",
       "\n",
       "Notes:\n",
       "[1] R² is computed without centering (uncentered) since the model does not contain a constant.\n",
       "[2] Standard Errors assume that the covariance matrix of the errors is correctly specified.\n",
       "[3] The smallest eigenvalue is 1.66e-29. This might indicate that there are\n",
       "strong multicollinearity problems or that the design matrix is singular.\n",
       "\"\"\""
      ]
     },
     "execution_count": 96,
     "metadata": {},
     "output_type": "execute_result"
    }
   ],
   "source": [
    "model1.summary()"
   ]
  },
  {
   "cell_type": "code",
   "execution_count": 97,
   "id": "e2447fca",
   "metadata": {},
   "outputs": [],
   "source": [
    "# predicting the y from test\n",
    "import sklearn.metrics as metrics\n",
    "y_test_pred = model1.predict(X_test)"
   ]
  },
  {
   "cell_type": "code",
   "execution_count": 98,
   "id": "b75027fa",
   "metadata": {},
   "outputs": [
    {
     "name": "stdout",
     "output_type": "stream",
     "text": [
      "0.5096352757373669\n"
     ]
    }
   ],
   "source": [
    "#assessing the Root mean Squared Error\n",
    "print(np.sqrt(metrics.mean_squared_error(y_test, y_test_pred)))"
   ]
  },
  {
   "cell_type": "code",
   "execution_count": 99,
   "id": "0ecba33e",
   "metadata": {},
   "outputs": [
    {
     "name": "stdout",
     "output_type": "stream",
     "text": [
      "MPE: -2.278182741203155\n"
     ]
    }
   ],
   "source": [
    "# defining MPE - mean percentage error\n",
    "def MPE(y_test, y_test_pred):\n",
    "    return (((y_test - y_test_pred)/y_test).mean()) * 100\n",
    "print('MPE: ' + str(MPE(y_test, y_test_pred)))"
   ]
  },
  {
   "cell_type": "code",
   "execution_count": 100,
   "id": "47213259",
   "metadata": {},
   "outputs": [
    {
     "name": "stdout",
     "output_type": "stream",
     "text": [
      "MAPE: 9.84718099762957\n"
     ]
    }
   ],
   "source": [
    "# defining mean absolute percentage error\n",
    "def MAPE(y_test, y_test_pred):\n",
    "    return (np.mean(np.abs(y_test - y_test_pred)/y_test)*100)\n",
    "print('MAPE: ' + str(MAPE(y_test, y_test_pred)))"
   ]
  },
  {
   "cell_type": "markdown",
   "id": "3c223b0a",
   "metadata": {},
   "source": [
    "##### Feature Selection"
   ]
  },
  {
   "cell_type": "code",
   "execution_count": 101,
   "id": "5fd4af36",
   "metadata": {},
   "outputs": [],
   "source": [
    "# found 99 variables with p-value less than 0.05"
   ]
  },
  {
   "cell_type": "code",
   "execution_count": 102,
   "id": "73f26cb2",
   "metadata": {},
   "outputs": [],
   "source": [
    "#Create inp3\n",
    "inp3 = inp2[['Rating','Reviews','Installs','Category_AUTO_AND_VEHICLES','Category_BEAUTY',\n",
    "             'Category_BOOKS_AND_REFERENCE','Category_BUSINESS','Category_COMICS',\n",
    "             'Category_COMMUNICATION','Category_DATING','Category_EDUCATION','Category_EDUCATION',\n",
    "             'Category_ENTERTAINMENT','Category_EVENTS','Category_FAMILY','Category_FINANCE',\n",
    "             'Category_FOOD_AND_DRINK','Category_GAME','Category_HEALTH_AND_FITNESS',\n",
    "             'Category_HOUSE_AND_HOME','Category_LIBRARIES_AND_DEMO','Category_LIFESTYLE',\n",
    "             'Category_MAPS_AND_NAVIGATION','Category_MEDICAL','Category_NEWS_AND_MAGAZINES',\n",
    "             'Category_PARENTING','Category_PERSONALIZATION','Category_PHOTOGRAPHY','Category_PRODUCTIVITY',\n",
    "             'Category_SHOPPING','Category_SOCIAL','Category_SPORTS','Category_TOOLS','Category_TRAVEL_AND_LOCAL',\n",
    "             'Category_VIDEO_PLAYERS','Category_WEATHER','Type_Paid','Content_Rating_Everyone',\n",
    "             'Content_Rating_Everyone_10+','Content_Rating_Mature_17+','Content_Rating_Teen','Content_Rating_Unrated',\n",
    "             'Genres_Art_&_Design','Genres_Art_&_Design_Creativity','Genres_Art_&_Design_Pretend_Play',\n",
    "             'Genres_Auto_&_Vehicles','Genres_Beauty','Genres_Board_Brain_Games','Genres_Books_&_Reference',\n",
    "             'Genres_Business','Genres_Casual','Genres_Casual_Action_&_Adventure','Genres_Casual_Brain_Games',\n",
    "             'Genres_Casual_Pretend_Play','Genres_Comics','Genres_Comics_Creativity','Genres_Communication',\n",
    "             'Genres_Dating','Genres_Education','Genres_Education_Action_&_Adventure','Genres_Education_Creativity',\n",
    "             'Genres_Education_Education','Genres_Education_Pretend_Play','Genres_Educational_Education',\n",
    "             'Genres_Educational_Pretend_Play','Genres_Entertainment','Genres_Entertainment_Brain_Games',\n",
    "             'Genres_Entertainment_Creativity','Genres_Entertainment_Music_&_Video','Genres_Events',\n",
    "             'Genres_Finance','Genres_Food_&_Drink','Genres_Health_&_Fitness','Genres_House_&_Home',\n",
    "             'Genres_Libraries_&_Demo','Genres_Lifestyle','Genres_Maps_&_Navigation','Genres_Medical',\n",
    "             'Genres_Music_Music_&_Video','Genres_News_&_Magazines','Genres_Parenting','Genres_Parenting_Education',\n",
    "             'Genres_Parenting_Music_&_Video','Genres_Personalization','Genres_Photography','Genres_Productivity',\n",
    "             'Genres_Puzzle','Genres_Puzzle_Brain_Games','Genres_Racing_Action_&_Adventure','Genres_Role_Playing',\n",
    "             'Genres_Shopping','Genres_Simulation','Genres_Simulation_Action_&_Adventure','Genres_Social',\n",
    "             'Genres_Strategy','Genres_Tools','Genres_Tools_Education','Genres_Travel_&_Local',\n",
    "             'Genres_Travel_&_Local_Action_&_Adventure','Genres_Weather']]"
   ]
  },
  {
   "cell_type": "code",
   "execution_count": 103,
   "id": "30e65a16",
   "metadata": {},
   "outputs": [
    {
     "data": {
      "text/plain": [
       "Rating                                      float64\n",
       "Reviews                                     float64\n",
       "Installs                                    float64\n",
       "Category_AUTO_AND_VEHICLES                     bool\n",
       "Category_BEAUTY                                bool\n",
       "                                             ...   \n",
       "Genres_Tools                                   bool\n",
       "Genres_Tools_Education                         bool\n",
       "Genres_Travel_&_Local                          bool\n",
       "Genres_Travel_&_Local_Action_&_Adventure       bool\n",
       "Genres_Weather                                 bool\n",
       "Length: 100, dtype: object"
      ]
     },
     "execution_count": 103,
     "metadata": {},
     "output_type": "execute_result"
    }
   ],
   "source": [
    "inp3.dtypes"
   ]
  },
  {
   "cell_type": "code",
   "execution_count": 104,
   "id": "af6b96e8",
   "metadata": {},
   "outputs": [
    {
     "data": {
      "text/plain": [
       "(8741, 100)"
      ]
     },
     "execution_count": 104,
     "metadata": {},
     "output_type": "execute_result"
    }
   ],
   "source": [
    "inp3.shape"
   ]
  },
  {
   "cell_type": "code",
   "execution_count": 105,
   "id": "0b9cd03a",
   "metadata": {},
   "outputs": [],
   "source": [
    "df_train, df_test = train_test_split(inp3, train_size= 0.7, random_state= 100)"
   ]
  },
  {
   "cell_type": "code",
   "execution_count": 106,
   "id": "dc93c580",
   "metadata": {},
   "outputs": [
    {
     "data": {
      "text/plain": [
       "((6118, 100), (2623, 100))"
      ]
     },
     "execution_count": 106,
     "metadata": {},
     "output_type": "execute_result"
    }
   ],
   "source": [
    "df_train.shape, df_test.shape"
   ]
  },
  {
   "cell_type": "code",
   "execution_count": 107,
   "id": "c7c9d500",
   "metadata": {},
   "outputs": [],
   "source": [
    "y_train1 = df_train.pop('Rating')"
   ]
  },
  {
   "cell_type": "code",
   "execution_count": 108,
   "id": "3004a8ce",
   "metadata": {},
   "outputs": [],
   "source": [
    "X_train1 = df_train"
   ]
  },
  {
   "cell_type": "code",
   "execution_count": 109,
   "id": "03d78206",
   "metadata": {},
   "outputs": [
    {
     "data": {
      "text/html": [
       "<div>\n",
       "<style scoped>\n",
       "    .dataframe tbody tr th:only-of-type {\n",
       "        vertical-align: middle;\n",
       "    }\n",
       "\n",
       "    .dataframe tbody tr th {\n",
       "        vertical-align: top;\n",
       "    }\n",
       "\n",
       "    .dataframe thead th {\n",
       "        text-align: right;\n",
       "    }\n",
       "</style>\n",
       "<table border=\"1\" class=\"dataframe\">\n",
       "  <thead>\n",
       "    <tr style=\"text-align: right;\">\n",
       "      <th></th>\n",
       "      <th>Reviews</th>\n",
       "      <th>Installs</th>\n",
       "      <th>Category_AUTO_AND_VEHICLES</th>\n",
       "      <th>Category_BEAUTY</th>\n",
       "      <th>Category_BOOKS_AND_REFERENCE</th>\n",
       "      <th>Category_BUSINESS</th>\n",
       "      <th>Category_COMICS</th>\n",
       "      <th>Category_COMMUNICATION</th>\n",
       "      <th>Category_DATING</th>\n",
       "      <th>Category_EDUCATION</th>\n",
       "      <th>...</th>\n",
       "      <th>Genres_Shopping</th>\n",
       "      <th>Genres_Simulation</th>\n",
       "      <th>Genres_Simulation_Action_&amp;_Adventure</th>\n",
       "      <th>Genres_Social</th>\n",
       "      <th>Genres_Strategy</th>\n",
       "      <th>Genres_Tools</th>\n",
       "      <th>Genres_Tools_Education</th>\n",
       "      <th>Genres_Travel_&amp;_Local</th>\n",
       "      <th>Genres_Travel_&amp;_Local_Action_&amp;_Adventure</th>\n",
       "      <th>Genres_Weather</th>\n",
       "    </tr>\n",
       "  </thead>\n",
       "  <tbody>\n",
       "    <tr>\n",
       "      <th>6982</th>\n",
       "      <td>9.929935</td>\n",
       "      <td>13.122365</td>\n",
       "      <td>False</td>\n",
       "      <td>False</td>\n",
       "      <td>False</td>\n",
       "      <td>False</td>\n",
       "      <td>False</td>\n",
       "      <td>False</td>\n",
       "      <td>False</td>\n",
       "      <td>False</td>\n",
       "      <td>...</td>\n",
       "      <td>False</td>\n",
       "      <td>False</td>\n",
       "      <td>False</td>\n",
       "      <td>False</td>\n",
       "      <td>False</td>\n",
       "      <td>False</td>\n",
       "      <td>False</td>\n",
       "      <td>False</td>\n",
       "      <td>False</td>\n",
       "      <td>False</td>\n",
       "    </tr>\n",
       "  </tbody>\n",
       "</table>\n",
       "<p>1 rows × 99 columns</p>\n",
       "</div>"
      ],
      "text/plain": [
       "       Reviews   Installs  Category_AUTO_AND_VEHICLES  Category_BEAUTY  \\\n",
       "6982  9.929935  13.122365                       False            False   \n",
       "\n",
       "      Category_BOOKS_AND_REFERENCE  Category_BUSINESS  Category_COMICS  \\\n",
       "6982                         False              False            False   \n",
       "\n",
       "      Category_COMMUNICATION  Category_DATING  Category_EDUCATION  ...  \\\n",
       "6982                   False            False               False  ...   \n",
       "\n",
       "      Genres_Shopping  Genres_Simulation  \\\n",
       "6982            False              False   \n",
       "\n",
       "      Genres_Simulation_Action_&_Adventure  Genres_Social  Genres_Strategy  \\\n",
       "6982                                 False          False            False   \n",
       "\n",
       "      Genres_Tools  Genres_Tools_Education  Genres_Travel_&_Local  \\\n",
       "6982         False                   False                  False   \n",
       "\n",
       "      Genres_Travel_&_Local_Action_&_Adventure  Genres_Weather  \n",
       "6982                                     False           False  \n",
       "\n",
       "[1 rows x 99 columns]"
      ]
     },
     "execution_count": 109,
     "metadata": {},
     "output_type": "execute_result"
    }
   ],
   "source": [
    "X_train1.head(1)"
   ]
  },
  {
   "cell_type": "code",
   "execution_count": 110,
   "id": "a32cc6fd",
   "metadata": {},
   "outputs": [],
   "source": [
    "y_test1 = df_test.pop('Rating')"
   ]
  },
  {
   "cell_type": "code",
   "execution_count": 111,
   "id": "c0a8c6f5",
   "metadata": {},
   "outputs": [],
   "source": [
    "X_test1 = df_test"
   ]
  },
  {
   "cell_type": "code",
   "execution_count": 112,
   "id": "1bd540ce",
   "metadata": {},
   "outputs": [
    {
     "data": {
      "text/html": [
       "<div>\n",
       "<style scoped>\n",
       "    .dataframe tbody tr th:only-of-type {\n",
       "        vertical-align: middle;\n",
       "    }\n",
       "\n",
       "    .dataframe tbody tr th {\n",
       "        vertical-align: top;\n",
       "    }\n",
       "\n",
       "    .dataframe thead th {\n",
       "        text-align: right;\n",
       "    }\n",
       "</style>\n",
       "<table border=\"1\" class=\"dataframe\">\n",
       "  <thead>\n",
       "    <tr style=\"text-align: right;\">\n",
       "      <th></th>\n",
       "      <th>Reviews</th>\n",
       "      <th>Installs</th>\n",
       "      <th>Category_AUTO_AND_VEHICLES</th>\n",
       "      <th>Category_BEAUTY</th>\n",
       "      <th>Category_BOOKS_AND_REFERENCE</th>\n",
       "      <th>Category_BUSINESS</th>\n",
       "      <th>Category_COMICS</th>\n",
       "      <th>Category_COMMUNICATION</th>\n",
       "      <th>Category_DATING</th>\n",
       "      <th>Category_EDUCATION</th>\n",
       "      <th>...</th>\n",
       "      <th>Genres_Shopping</th>\n",
       "      <th>Genres_Simulation</th>\n",
       "      <th>Genres_Simulation_Action_&amp;_Adventure</th>\n",
       "      <th>Genres_Social</th>\n",
       "      <th>Genres_Strategy</th>\n",
       "      <th>Genres_Tools</th>\n",
       "      <th>Genres_Tools_Education</th>\n",
       "      <th>Genres_Travel_&amp;_Local</th>\n",
       "      <th>Genres_Travel_&amp;_Local_Action_&amp;_Adventure</th>\n",
       "      <th>Genres_Weather</th>\n",
       "    </tr>\n",
       "  </thead>\n",
       "  <tbody>\n",
       "    <tr>\n",
       "      <th>7301</th>\n",
       "      <td>3.555348</td>\n",
       "      <td>6.908755</td>\n",
       "      <td>False</td>\n",
       "      <td>False</td>\n",
       "      <td>False</td>\n",
       "      <td>False</td>\n",
       "      <td>False</td>\n",
       "      <td>False</td>\n",
       "      <td>False</td>\n",
       "      <td>False</td>\n",
       "      <td>...</td>\n",
       "      <td>False</td>\n",
       "      <td>False</td>\n",
       "      <td>False</td>\n",
       "      <td>False</td>\n",
       "      <td>False</td>\n",
       "      <td>False</td>\n",
       "      <td>False</td>\n",
       "      <td>False</td>\n",
       "      <td>False</td>\n",
       "      <td>False</td>\n",
       "    </tr>\n",
       "  </tbody>\n",
       "</table>\n",
       "<p>1 rows × 99 columns</p>\n",
       "</div>"
      ],
      "text/plain": [
       "       Reviews  Installs  Category_AUTO_AND_VEHICLES  Category_BEAUTY  \\\n",
       "7301  3.555348  6.908755                       False            False   \n",
       "\n",
       "      Category_BOOKS_AND_REFERENCE  Category_BUSINESS  Category_COMICS  \\\n",
       "7301                         False              False            False   \n",
       "\n",
       "      Category_COMMUNICATION  Category_DATING  Category_EDUCATION  ...  \\\n",
       "7301                   False            False               False  ...   \n",
       "\n",
       "      Genres_Shopping  Genres_Simulation  \\\n",
       "7301            False              False   \n",
       "\n",
       "      Genres_Simulation_Action_&_Adventure  Genres_Social  Genres_Strategy  \\\n",
       "7301                                 False          False            False   \n",
       "\n",
       "      Genres_Tools  Genres_Tools_Education  Genres_Travel_&_Local  \\\n",
       "7301         False                   False                  False   \n",
       "\n",
       "      Genres_Travel_&_Local_Action_&_Adventure  Genres_Weather  \n",
       "7301                                     False           False  \n",
       "\n",
       "[1 rows x 99 columns]"
      ]
     },
     "execution_count": 112,
     "metadata": {},
     "output_type": "execute_result"
    }
   ],
   "source": [
    "X_test1.head(1)"
   ]
  },
  {
   "cell_type": "code",
   "execution_count": 113,
   "id": "bbc845aa",
   "metadata": {},
   "outputs": [],
   "source": [
    "#create a 2nd model with new data\n",
    "model2 = sm.OLS(y_train1, X_train1.astype(float))"
   ]
  },
  {
   "cell_type": "code",
   "execution_count": 114,
   "id": "3f84a86d",
   "metadata": {},
   "outputs": [],
   "source": [
    "model2 = model2.fit()"
   ]
  },
  {
   "cell_type": "code",
   "execution_count": 115,
   "id": "15079e06",
   "metadata": {
    "scrolled": false
   },
   "outputs": [
    {
     "data": {
      "text/html": [
       "<table class=\"simpletable\">\n",
       "<caption>OLS Regression Results</caption>\n",
       "<tr>\n",
       "  <th>Dep. Variable:</th>         <td>Rating</td>      <th>  R-squared (uncentered):</th>      <td>   0.987</td>\n",
       "</tr>\n",
       "<tr>\n",
       "  <th>Model:</th>                   <td>OLS</td>       <th>  Adj. R-squared (uncentered):</th> <td>   0.987</td>\n",
       "</tr>\n",
       "<tr>\n",
       "  <th>Method:</th>             <td>Least Squares</td>  <th>  F-statistic:       </th>          <td>   6240.</td>\n",
       "</tr>\n",
       "<tr>\n",
       "  <th>Date:</th>             <td>Sun, 26 Nov 2023</td> <th>  Prob (F-statistic):</th>           <td>  0.00</td> \n",
       "</tr>\n",
       "<tr>\n",
       "  <th>Time:</th>                 <td>18:31:05</td>     <th>  Log-Likelihood:    </th>          <td> -4213.7</td>\n",
       "</tr>\n",
       "<tr>\n",
       "  <th>No. Observations:</th>      <td>  6118</td>      <th>  AIC:               </th>          <td>   8573.</td>\n",
       "</tr>\n",
       "<tr>\n",
       "  <th>Df Residuals:</th>          <td>  6045</td>      <th>  BIC:               </th>          <td>   9064.</td>\n",
       "</tr>\n",
       "<tr>\n",
       "  <th>Df Model:</th>              <td>    73</td>      <th>                     </th>              <td> </td>   \n",
       "</tr>\n",
       "<tr>\n",
       "  <th>Covariance Type:</th>      <td>nonrobust</td>    <th>                     </th>              <td> </td>   \n",
       "</tr>\n",
       "</table>\n",
       "<table class=\"simpletable\">\n",
       "<tr>\n",
       "                      <td></td>                        <th>coef</th>     <th>std err</th>      <th>t</th>      <th>P>|t|</th>  <th>[0.025</th>    <th>0.975]</th>  \n",
       "</tr>\n",
       "<tr>\n",
       "  <th>Reviews</th>                                  <td>    0.1735</td> <td>    0.006</td> <td>   27.757</td> <td> 0.000</td> <td>    0.161</td> <td>    0.186</td>\n",
       "</tr>\n",
       "<tr>\n",
       "  <th>Installs</th>                                 <td>   -0.1481</td> <td>    0.006</td> <td>  -23.579</td> <td> 0.000</td> <td>   -0.160</td> <td>   -0.136</td>\n",
       "</tr>\n",
       "<tr>\n",
       "  <th>Category_AUTO_AND_VEHICLES</th>               <td>    2.0380</td> <td>    0.137</td> <td>   14.923</td> <td> 0.000</td> <td>    1.770</td> <td>    2.306</td>\n",
       "</tr>\n",
       "<tr>\n",
       "  <th>Category_BEAUTY</th>                          <td>    2.0951</td> <td>    0.139</td> <td>   15.076</td> <td> 0.000</td> <td>    1.823</td> <td>    2.368</td>\n",
       "</tr>\n",
       "<tr>\n",
       "  <th>Category_BOOKS_AND_REFERENCE</th>             <td>    2.0692</td> <td>    0.134</td> <td>   15.438</td> <td> 0.000</td> <td>    1.806</td> <td>    2.332</td>\n",
       "</tr>\n",
       "<tr>\n",
       "  <th>Category_BUSINESS</th>                        <td>    1.9635</td> <td>    0.133</td> <td>   14.749</td> <td> 0.000</td> <td>    1.703</td> <td>    2.225</td>\n",
       "</tr>\n",
       "<tr>\n",
       "  <th>Category_COMICS</th>                          <td>    2.8656</td> <td>    0.237</td> <td>   12.073</td> <td> 0.000</td> <td>    2.400</td> <td>    3.331</td>\n",
       "</tr>\n",
       "<tr>\n",
       "  <th>Category_COMMUNICATION</th>                   <td>    1.9292</td> <td>    0.133</td> <td>   14.452</td> <td> 0.000</td> <td>    1.668</td> <td>    2.191</td>\n",
       "</tr>\n",
       "<tr>\n",
       "  <th>Category_DATING</th>                          <td>    1.9022</td> <td>    0.135</td> <td>   14.134</td> <td> 0.000</td> <td>    1.638</td> <td>    2.166</td>\n",
       "</tr>\n",
       "<tr>\n",
       "  <th>Category_EDUCATION</th>                       <td>    1.9406</td> <td>    0.136</td> <td>   14.221</td> <td> 0.000</td> <td>    1.673</td> <td>    2.208</td>\n",
       "</tr>\n",
       "<tr>\n",
       "  <th>Category_EDUCATION</th>                       <td>    1.9406</td> <td>    0.136</td> <td>   14.221</td> <td> 0.000</td> <td>    1.673</td> <td>    2.208</td>\n",
       "</tr>\n",
       "<tr>\n",
       "  <th>Category_ENTERTAINMENT</th>                   <td>    3.7500</td> <td>    0.273</td> <td>   13.718</td> <td> 0.000</td> <td>    3.214</td> <td>    4.286</td>\n",
       "</tr>\n",
       "<tr>\n",
       "  <th>Category_EVENTS</th>                          <td>    2.1508</td> <td>    0.138</td> <td>   15.636</td> <td> 0.000</td> <td>    1.881</td> <td>    2.420</td>\n",
       "</tr>\n",
       "<tr>\n",
       "  <th>Category_FAMILY</th>                          <td>    3.8680</td> <td>    0.266</td> <td>   14.523</td> <td> 0.000</td> <td>    3.346</td> <td>    4.390</td>\n",
       "</tr>\n",
       "<tr>\n",
       "  <th>Category_FINANCE</th>                         <td>    1.9400</td> <td>    0.133</td> <td>   14.580</td> <td> 0.000</td> <td>    1.679</td> <td>    2.201</td>\n",
       "</tr>\n",
       "<tr>\n",
       "  <th>Category_FOOD_AND_DRINK</th>                  <td>    1.9828</td> <td>    0.135</td> <td>   14.684</td> <td> 0.000</td> <td>    1.718</td> <td>    2.247</td>\n",
       "</tr>\n",
       "<tr>\n",
       "  <th>Category_GAME</th>                            <td>    3.9327</td> <td>    0.265</td> <td>   14.837</td> <td> 0.000</td> <td>    3.413</td> <td>    4.452</td>\n",
       "</tr>\n",
       "<tr>\n",
       "  <th>Category_HEALTH_AND_FITNESS</th>              <td>    2.0080</td> <td>    0.133</td> <td>   15.065</td> <td> 0.000</td> <td>    1.747</td> <td>    2.269</td>\n",
       "</tr>\n",
       "<tr>\n",
       "  <th>Category_HOUSE_AND_HOME</th>                  <td>    1.9706</td> <td>    0.136</td> <td>   14.463</td> <td> 0.000</td> <td>    1.704</td> <td>    2.238</td>\n",
       "</tr>\n",
       "<tr>\n",
       "  <th>Category_LIBRARIES_AND_DEMO</th>              <td>    2.0257</td> <td>    0.137</td> <td>   14.770</td> <td> 0.000</td> <td>    1.757</td> <td>    2.295</td>\n",
       "</tr>\n",
       "<tr>\n",
       "  <th>Category_LIFESTYLE</th>                       <td>    1.9702</td> <td>    0.133</td> <td>   14.798</td> <td> 0.000</td> <td>    1.709</td> <td>    2.231</td>\n",
       "</tr>\n",
       "<tr>\n",
       "  <th>Category_MAPS_AND_NAVIGATION</th>             <td>    1.9326</td> <td>    0.135</td> <td>   14.340</td> <td> 0.000</td> <td>    1.668</td> <td>    2.197</td>\n",
       "</tr>\n",
       "<tr>\n",
       "  <th>Category_MEDICAL</th>                         <td>    2.0185</td> <td>    0.133</td> <td>   15.178</td> <td> 0.000</td> <td>    1.758</td> <td>    2.279</td>\n",
       "</tr>\n",
       "<tr>\n",
       "  <th>Category_NEWS_AND_MAGAZINES</th>              <td>    1.9543</td> <td>    0.134</td> <td>   14.633</td> <td> 0.000</td> <td>    1.693</td> <td>    2.216</td>\n",
       "</tr>\n",
       "<tr>\n",
       "  <th>Category_PARENTING</th>                       <td>    3.8101</td> <td>    0.553</td> <td>    6.894</td> <td> 0.000</td> <td>    2.727</td> <td>    4.893</td>\n",
       "</tr>\n",
       "<tr>\n",
       "  <th>Category_PERSONALIZATION</th>                 <td>    2.0539</td> <td>    0.133</td> <td>   15.424</td> <td> 0.000</td> <td>    1.793</td> <td>    2.315</td>\n",
       "</tr>\n",
       "<tr>\n",
       "  <th>Category_PHOTOGRAPHY</th>                     <td>    1.9518</td> <td>    0.134</td> <td>   14.615</td> <td> 0.000</td> <td>    1.690</td> <td>    2.214</td>\n",
       "</tr>\n",
       "<tr>\n",
       "  <th>Category_PRODUCTIVITY</th>                    <td>    1.9742</td> <td>    0.133</td> <td>   14.824</td> <td> 0.000</td> <td>    1.713</td> <td>    2.235</td>\n",
       "</tr>\n",
       "<tr>\n",
       "  <th>Category_SHOPPING</th>                        <td>    2.0066</td> <td>    0.134</td> <td>   15.019</td> <td> 0.000</td> <td>    1.745</td> <td>    2.268</td>\n",
       "</tr>\n",
       "<tr>\n",
       "  <th>Category_SOCIAL</th>                          <td>    1.9684</td> <td>    0.134</td> <td>   14.737</td> <td> 0.000</td> <td>    1.707</td> <td>    2.230</td>\n",
       "</tr>\n",
       "<tr>\n",
       "  <th>Category_SPORTS</th>                          <td>    3.9435</td> <td>    0.265</td> <td>   14.869</td> <td> 0.000</td> <td>    3.424</td> <td>    4.463</td>\n",
       "</tr>\n",
       "<tr>\n",
       "  <th>Category_TOOLS</th>                           <td>    2.6362</td> <td>    0.239</td> <td>   11.014</td> <td> 0.000</td> <td>    2.167</td> <td>    3.105</td>\n",
       "</tr>\n",
       "<tr>\n",
       "  <th>Category_TRAVEL_AND_LOCAL</th>                <td>    2.6502</td> <td>    0.240</td> <td>   11.062</td> <td> 0.000</td> <td>    2.181</td> <td>    3.120</td>\n",
       "</tr>\n",
       "<tr>\n",
       "  <th>Category_VIDEO_PLAYERS</th>                   <td>    3.7724</td> <td>    0.269</td> <td>   14.044</td> <td> 0.000</td> <td>    3.246</td> <td>    4.299</td>\n",
       "</tr>\n",
       "<tr>\n",
       "  <th>Category_WEATHER</th>                         <td>    1.9874</td> <td>    0.136</td> <td>   14.597</td> <td> 0.000</td> <td>    1.720</td> <td>    2.254</td>\n",
       "</tr>\n",
       "<tr>\n",
       "  <th>Type_Paid</th>                                <td>   -0.0633</td> <td>    0.027</td> <td>   -2.304</td> <td> 0.021</td> <td>   -0.117</td> <td>   -0.009</td>\n",
       "</tr>\n",
       "<tr>\n",
       "  <th>Content_Rating_Everyone</th>                  <td>    0.6153</td> <td>    0.263</td> <td>    2.340</td> <td> 0.019</td> <td>    0.100</td> <td>    1.131</td>\n",
       "</tr>\n",
       "<tr>\n",
       "  <th>Content_Rating_Everyone_10+</th>              <td>    0.5947</td> <td>    0.265</td> <td>    2.245</td> <td> 0.025</td> <td>    0.075</td> <td>    1.114</td>\n",
       "</tr>\n",
       "<tr>\n",
       "  <th>Content_Rating_Mature_17+</th>                <td>    0.5978</td> <td>    0.265</td> <td>    2.255</td> <td> 0.024</td> <td>    0.078</td> <td>    1.117</td>\n",
       "</tr>\n",
       "<tr>\n",
       "  <th>Content_Rating_Teen</th>                      <td>    0.6136</td> <td>    0.263</td> <td>    2.330</td> <td> 0.020</td> <td>    0.097</td> <td>    1.130</td>\n",
       "</tr>\n",
       "<tr>\n",
       "  <th>Content_Rating_Unrated</th>                   <td>    0.6281</td> <td>    0.552</td> <td>    1.138</td> <td> 0.255</td> <td>   -0.454</td> <td>    1.710</td>\n",
       "</tr>\n",
       "<tr>\n",
       "  <th>Genres_Art_&_Design</th>                      <td>    4.2411</td> <td>    0.275</td> <td>   15.429</td> <td> 0.000</td> <td>    3.702</td> <td>    4.780</td>\n",
       "</tr>\n",
       "<tr>\n",
       "  <th>Genres_Art_&_Design_Creativity</th>           <td>    4.3971</td> <td>    0.359</td> <td>   12.261</td> <td> 0.000</td> <td>    3.694</td> <td>    5.100</td>\n",
       "</tr>\n",
       "<tr>\n",
       "  <th>Genres_Art_&_Design_Pretend_Play</th>         <td>    2.1013</td> <td>    0.369</td> <td>    5.700</td> <td> 0.000</td> <td>    1.379</td> <td>    2.824</td>\n",
       "</tr>\n",
       "<tr>\n",
       "  <th>Genres_Auto_&_Vehicles</th>                   <td>    2.0380</td> <td>    0.137</td> <td>   14.923</td> <td> 0.000</td> <td>    1.770</td> <td>    2.306</td>\n",
       "</tr>\n",
       "<tr>\n",
       "  <th>Genres_Beauty</th>                            <td>    2.0951</td> <td>    0.139</td> <td>   15.076</td> <td> 0.000</td> <td>    1.823</td> <td>    2.368</td>\n",
       "</tr>\n",
       "<tr>\n",
       "  <th>Genres_Board_Brain_Games</th>                 <td>    0.2129</td> <td>    0.145</td> <td>    1.464</td> <td> 0.143</td> <td>   -0.072</td> <td>    0.498</td>\n",
       "</tr>\n",
       "<tr>\n",
       "  <th>Genres_Books_&_Reference</th>                 <td>    2.0692</td> <td>    0.134</td> <td>   15.438</td> <td> 0.000</td> <td>    1.806</td> <td>    2.332</td>\n",
       "</tr>\n",
       "<tr>\n",
       "  <th>Genres_Business</th>                          <td>    1.9635</td> <td>    0.133</td> <td>   14.749</td> <td> 0.000</td> <td>    1.703</td> <td>    2.225</td>\n",
       "</tr>\n",
       "<tr>\n",
       "  <th>Genres_Casual</th>                            <td>   -0.0384</td> <td>    0.058</td> <td>   -0.663</td> <td> 0.508</td> <td>   -0.152</td> <td>    0.075</td>\n",
       "</tr>\n",
       "<tr>\n",
       "  <th>Genres_Casual_Action_&_Adventure</th>         <td>    0.1544</td> <td>    0.140</td> <td>    1.103</td> <td> 0.270</td> <td>   -0.120</td> <td>    0.429</td>\n",
       "</tr>\n",
       "<tr>\n",
       "  <th>Genres_Casual_Brain_Games</th>                <td>    0.3790</td> <td>    0.165</td> <td>    2.291</td> <td> 0.022</td> <td>    0.055</td> <td>    0.703</td>\n",
       "</tr>\n",
       "<tr>\n",
       "  <th>Genres_Casual_Pretend_Play</th>               <td>    0.0680</td> <td>    0.106</td> <td>    0.642</td> <td> 0.521</td> <td>   -0.140</td> <td>    0.276</td>\n",
       "</tr>\n",
       "<tr>\n",
       "  <th>Genres_Comics</th>                            <td>    1.0275</td> <td>    0.187</td> <td>    5.499</td> <td> 0.000</td> <td>    0.661</td> <td>    1.394</td>\n",
       "</tr>\n",
       "<tr>\n",
       "  <th>Genres_Comics_Creativity</th>                 <td>    1.8381</td> <td>    0.337</td> <td>    5.455</td> <td> 0.000</td> <td>    1.177</td> <td>    2.499</td>\n",
       "</tr>\n",
       "<tr>\n",
       "  <th>Genres_Communication</th>                     <td>    1.9292</td> <td>    0.133</td> <td>   14.452</td> <td> 0.000</td> <td>    1.668</td> <td>    2.191</td>\n",
       "</tr>\n",
       "<tr>\n",
       "  <th>Genres_Dating</th>                            <td>    1.9022</td> <td>    0.135</td> <td>   14.134</td> <td> 0.000</td> <td>    1.638</td> <td>    2.166</td>\n",
       "</tr>\n",
       "<tr>\n",
       "  <th>Genres_Education</th>                         <td>    0.2294</td> <td>    0.050</td> <td>    4.610</td> <td> 0.000</td> <td>    0.132</td> <td>    0.327</td>\n",
       "</tr>\n",
       "<tr>\n",
       "  <th>Genres_Education_Action_&_Adventure</th>      <td>    0.4204</td> <td>    0.202</td> <td>    2.080</td> <td> 0.038</td> <td>    0.024</td> <td>    0.817</td>\n",
       "</tr>\n",
       "<tr>\n",
       "  <th>Genres_Education_Creativity</th>              <td>    0.5382</td> <td>    0.203</td> <td>    2.652</td> <td> 0.008</td> <td>    0.140</td> <td>    0.936</td>\n",
       "</tr>\n",
       "<tr>\n",
       "  <th>Genres_Education_Education</th>               <td>    0.2670</td> <td>    0.102</td> <td>    2.615</td> <td> 0.009</td> <td>    0.067</td> <td>    0.467</td>\n",
       "</tr>\n",
       "<tr>\n",
       "  <th>Genres_Education_Pretend_Play</th>            <td>    0.3322</td> <td>    0.132</td> <td>    2.513</td> <td> 0.012</td> <td>    0.073</td> <td>    0.591</td>\n",
       "</tr>\n",
       "<tr>\n",
       "  <th>Genres_Educational_Education</th>             <td>    0.3002</td> <td>    0.106</td> <td>    2.820</td> <td> 0.005</td> <td>    0.092</td> <td>    0.509</td>\n",
       "</tr>\n",
       "<tr>\n",
       "  <th>Genres_Educational_Pretend_Play</th>          <td>    0.1494</td> <td>    0.151</td> <td>    0.987</td> <td> 0.324</td> <td>   -0.147</td> <td>    0.446</td>\n",
       "</tr>\n",
       "<tr>\n",
       "  <th>Genres_Entertainment</th>                     <td>    0.0606</td> <td>    0.049</td> <td>    1.238</td> <td> 0.216</td> <td>   -0.035</td> <td>    0.157</td>\n",
       "</tr>\n",
       "<tr>\n",
       "  <th>Genres_Entertainment_Brain_Games</th>         <td>    0.2489</td> <td>    0.246</td> <td>    1.012</td> <td> 0.312</td> <td>   -0.233</td> <td>    0.731</td>\n",
       "</tr>\n",
       "<tr>\n",
       "  <th>Genres_Entertainment_Creativity</th>          <td>    0.3824</td> <td>    0.346</td> <td>    1.104</td> <td> 0.270</td> <td>   -0.296</td> <td>    1.061</td>\n",
       "</tr>\n",
       "<tr>\n",
       "  <th>Genres_Entertainment_Music_&_Video</th>       <td>    0.1304</td> <td>    0.117</td> <td>    1.111</td> <td> 0.267</td> <td>   -0.100</td> <td>    0.361</td>\n",
       "</tr>\n",
       "<tr>\n",
       "  <th>Genres_Events</th>                            <td>    2.1508</td> <td>    0.138</td> <td>   15.636</td> <td> 0.000</td> <td>    1.881</td> <td>    2.420</td>\n",
       "</tr>\n",
       "<tr>\n",
       "  <th>Genres_Finance</th>                           <td>    1.9400</td> <td>    0.133</td> <td>   14.580</td> <td> 0.000</td> <td>    1.679</td> <td>    2.201</td>\n",
       "</tr>\n",
       "<tr>\n",
       "  <th>Genres_Food_&_Drink</th>                      <td>    1.9828</td> <td>    0.135</td> <td>   14.684</td> <td> 0.000</td> <td>    1.718</td> <td>    2.247</td>\n",
       "</tr>\n",
       "<tr>\n",
       "  <th>Genres_Health_&_Fitness</th>                  <td>    2.0080</td> <td>    0.133</td> <td>   15.065</td> <td> 0.000</td> <td>    1.747</td> <td>    2.269</td>\n",
       "</tr>\n",
       "<tr>\n",
       "  <th>Genres_House_&_Home</th>                      <td>    1.9706</td> <td>    0.136</td> <td>   14.463</td> <td> 0.000</td> <td>    1.704</td> <td>    2.238</td>\n",
       "</tr>\n",
       "<tr>\n",
       "  <th>Genres_Libraries_&_Demo</th>                  <td>    2.0257</td> <td>    0.137</td> <td>   14.770</td> <td> 0.000</td> <td>    1.757</td> <td>    2.295</td>\n",
       "</tr>\n",
       "<tr>\n",
       "  <th>Genres_Lifestyle</th>                         <td>    1.9702</td> <td>    0.133</td> <td>   14.798</td> <td> 0.000</td> <td>    1.709</td> <td>    2.231</td>\n",
       "</tr>\n",
       "<tr>\n",
       "  <th>Genres_Maps_&_Navigation</th>                 <td>    1.9326</td> <td>    0.135</td> <td>   14.340</td> <td> 0.000</td> <td>    1.668</td> <td>    2.197</td>\n",
       "</tr>\n",
       "<tr>\n",
       "  <th>Genres_Medical</th>                           <td>    2.0185</td> <td>    0.133</td> <td>   15.178</td> <td> 0.000</td> <td>    1.758</td> <td>    2.279</td>\n",
       "</tr>\n",
       "<tr>\n",
       "  <th>Genres_Music_Music_&_Video</th>               <td>    0.2580</td> <td>    0.345</td> <td>    0.748</td> <td> 0.455</td> <td>   -0.418</td> <td>    0.935</td>\n",
       "</tr>\n",
       "<tr>\n",
       "  <th>Genres_News_&_Magazines</th>                  <td>    1.9543</td> <td>    0.134</td> <td>   14.633</td> <td> 0.000</td> <td>    1.693</td> <td>    2.216</td>\n",
       "</tr>\n",
       "<tr>\n",
       "  <th>Genres_Parenting</th>                         <td>    0.3347</td> <td>    0.493</td> <td>    0.678</td> <td> 0.498</td> <td>   -0.633</td> <td>    1.302</td>\n",
       "</tr>\n",
       "<tr>\n",
       "  <th>Genres_Parenting_Education</th>               <td>    0.1569</td> <td>    0.594</td> <td>    0.264</td> <td> 0.792</td> <td>   -1.007</td> <td>    1.321</td>\n",
       "</tr>\n",
       "<tr>\n",
       "  <th>Genres_Parenting_Music_&_Video</th>           <td>    0.5794</td> <td>    0.531</td> <td>    1.091</td> <td> 0.275</td> <td>   -0.462</td> <td>    1.620</td>\n",
       "</tr>\n",
       "<tr>\n",
       "  <th>Genres_Personalization</th>                   <td>    2.0539</td> <td>    0.133</td> <td>   15.424</td> <td> 0.000</td> <td>    1.793</td> <td>    2.315</td>\n",
       "</tr>\n",
       "<tr>\n",
       "  <th>Genres_Photography</th>                       <td>    1.9518</td> <td>    0.134</td> <td>   14.615</td> <td> 0.000</td> <td>    1.690</td> <td>    2.214</td>\n",
       "</tr>\n",
       "<tr>\n",
       "  <th>Genres_Productivity</th>                      <td>    1.9742</td> <td>    0.133</td> <td>   14.824</td> <td> 0.000</td> <td>    1.713</td> <td>    2.235</td>\n",
       "</tr>\n",
       "<tr>\n",
       "  <th>Genres_Puzzle</th>                            <td>    0.1926</td> <td>    0.063</td> <td>    3.056</td> <td> 0.002</td> <td>    0.069</td> <td>    0.316</td>\n",
       "</tr>\n",
       "<tr>\n",
       "  <th>Genres_Puzzle_Brain_Games</th>                <td>    0.1873</td> <td>    0.166</td> <td>    1.126</td> <td> 0.260</td> <td>   -0.139</td> <td>    0.513</td>\n",
       "</tr>\n",
       "<tr>\n",
       "  <th>Genres_Racing_Action_&_Adventure</th>         <td>    0.2276</td> <td>    0.131</td> <td>    1.735</td> <td> 0.083</td> <td>   -0.030</td> <td>    0.485</td>\n",
       "</tr>\n",
       "<tr>\n",
       "  <th>Genres_Role_Playing</th>                      <td>    0.0018</td> <td>    0.071</td> <td>    0.025</td> <td> 0.980</td> <td>   -0.136</td> <td>    0.140</td>\n",
       "</tr>\n",
       "<tr>\n",
       "  <th>Genres_Shopping</th>                          <td>    2.0066</td> <td>    0.134</td> <td>   15.019</td> <td> 0.000</td> <td>    1.745</td> <td>    2.268</td>\n",
       "</tr>\n",
       "<tr>\n",
       "  <th>Genres_Simulation</th>                        <td>    0.0143</td> <td>    0.056</td> <td>    0.255</td> <td> 0.799</td> <td>   -0.096</td> <td>    0.125</td>\n",
       "</tr>\n",
       "<tr>\n",
       "  <th>Genres_Simulation_Action_&_Adventure</th>     <td>    0.1796</td> <td>    0.166</td> <td>    1.085</td> <td> 0.278</td> <td>   -0.145</td> <td>    0.504</td>\n",
       "</tr>\n",
       "<tr>\n",
       "  <th>Genres_Social</th>                            <td>    1.9684</td> <td>    0.134</td> <td>   14.737</td> <td> 0.000</td> <td>    1.707</td> <td>    2.230</td>\n",
       "</tr>\n",
       "<tr>\n",
       "  <th>Genres_Strategy</th>                          <td>   -0.0485</td> <td>    0.071</td> <td>   -0.681</td> <td> 0.496</td> <td>   -0.188</td> <td>    0.091</td>\n",
       "</tr>\n",
       "<tr>\n",
       "  <th>Genres_Tools</th>                             <td>    1.2105</td> <td>    0.185</td> <td>    6.556</td> <td> 0.000</td> <td>    0.849</td> <td>    1.573</td>\n",
       "</tr>\n",
       "<tr>\n",
       "  <th>Genres_Tools_Education</th>                   <td>    1.4257</td> <td>    0.335</td> <td>    4.254</td> <td> 0.000</td> <td>    0.769</td> <td>    2.083</td>\n",
       "</tr>\n",
       "<tr>\n",
       "  <th>Genres_Travel_&_Local</th>                    <td>    1.2885</td> <td>    0.186</td> <td>    6.925</td> <td> 0.000</td> <td>    0.924</td> <td>    1.653</td>\n",
       "</tr>\n",
       "<tr>\n",
       "  <th>Genres_Travel_&_Local_Action_&_Adventure</th> <td>    1.3617</td> <td>    0.335</td> <td>    4.062</td> <td> 0.000</td> <td>    0.705</td> <td>    2.019</td>\n",
       "</tr>\n",
       "<tr>\n",
       "  <th>Genres_Weather</th>                           <td>    1.9874</td> <td>    0.136</td> <td>   14.597</td> <td> 0.000</td> <td>    1.720</td> <td>    2.254</td>\n",
       "</tr>\n",
       "</table>\n",
       "<table class=\"simpletable\">\n",
       "<tr>\n",
       "  <th>Omnibus:</th>       <td>2277.411</td> <th>  Durbin-Watson:     </th> <td>   2.015</td> \n",
       "</tr>\n",
       "<tr>\n",
       "  <th>Prob(Omnibus):</th>  <td> 0.000</td>  <th>  Jarque-Bera (JB):  </th> <td>13443.036</td>\n",
       "</tr>\n",
       "<tr>\n",
       "  <th>Skew:</th>           <td>-1.669</td>  <th>  Prob(JB):          </th> <td>    0.00</td> \n",
       "</tr>\n",
       "<tr>\n",
       "  <th>Kurtosis:</th>       <td> 9.449</td>  <th>  Cond. No.          </th> <td>1.23e+16</td> \n",
       "</tr>\n",
       "</table><br/><br/>Notes:<br/>[1] R² is computed without centering (uncentered) since the model does not contain a constant.<br/>[2] Standard Errors assume that the covariance matrix of the errors is correctly specified.<br/>[3] The smallest eigenvalue is 9.13e-27. This might indicate that there are<br/>strong multicollinearity problems or that the design matrix is singular."
      ],
      "text/latex": [
       "\\begin{center}\n",
       "\\begin{tabular}{lclc}\n",
       "\\toprule\n",
       "\\textbf{Dep. Variable:}                                   &      Rating      & \\textbf{  R-squared (uncentered):}      &     0.987   \\\\\n",
       "\\textbf{Model:}                                           &       OLS        & \\textbf{  Adj. R-squared (uncentered):} &     0.987   \\\\\n",
       "\\textbf{Method:}                                          &  Least Squares   & \\textbf{  F-statistic:       }          &     6240.   \\\\\n",
       "\\textbf{Date:}                                            & Sun, 26 Nov 2023 & \\textbf{  Prob (F-statistic):}          &     0.00    \\\\\n",
       "\\textbf{Time:}                                            &     18:31:05     & \\textbf{  Log-Likelihood:    }          &   -4213.7   \\\\\n",
       "\\textbf{No. Observations:}                                &        6118      & \\textbf{  AIC:               }          &     8573.   \\\\\n",
       "\\textbf{Df Residuals:}                                    &        6045      & \\textbf{  BIC:               }          &     9064.   \\\\\n",
       "\\textbf{Df Model:}                                        &          73      & \\textbf{                     }          &             \\\\\n",
       "\\textbf{Covariance Type:}                                 &    nonrobust     & \\textbf{                     }          &             \\\\\n",
       "\\bottomrule\n",
       "\\end{tabular}\n",
       "\\begin{tabular}{lcccccc}\n",
       "                                                          & \\textbf{coef} & \\textbf{std err} & \\textbf{t} & \\textbf{P$> |$t$|$} & \\textbf{[0.025} & \\textbf{0.975]}  \\\\\n",
       "\\midrule\n",
       "\\textbf{Reviews}                                          &       0.1735  &        0.006     &    27.757  &         0.000        &        0.161    &        0.186     \\\\\n",
       "\\textbf{Installs}                                         &      -0.1481  &        0.006     &   -23.579  &         0.000        &       -0.160    &       -0.136     \\\\\n",
       "\\textbf{Category\\_AUTO\\_AND\\_VEHICLES}                    &       2.0380  &        0.137     &    14.923  &         0.000        &        1.770    &        2.306     \\\\\n",
       "\\textbf{Category\\_BEAUTY}                                 &       2.0951  &        0.139     &    15.076  &         0.000        &        1.823    &        2.368     \\\\\n",
       "\\textbf{Category\\_BOOKS\\_AND\\_REFERENCE}                  &       2.0692  &        0.134     &    15.438  &         0.000        &        1.806    &        2.332     \\\\\n",
       "\\textbf{Category\\_BUSINESS}                               &       1.9635  &        0.133     &    14.749  &         0.000        &        1.703    &        2.225     \\\\\n",
       "\\textbf{Category\\_COMICS}                                 &       2.8656  &        0.237     &    12.073  &         0.000        &        2.400    &        3.331     \\\\\n",
       "\\textbf{Category\\_COMMUNICATION}                          &       1.9292  &        0.133     &    14.452  &         0.000        &        1.668    &        2.191     \\\\\n",
       "\\textbf{Category\\_DATING}                                 &       1.9022  &        0.135     &    14.134  &         0.000        &        1.638    &        2.166     \\\\\n",
       "\\textbf{Category\\_EDUCATION}                              &       1.9406  &        0.136     &    14.221  &         0.000        &        1.673    &        2.208     \\\\\n",
       "\\textbf{Category\\_EDUCATION}                              &       1.9406  &        0.136     &    14.221  &         0.000        &        1.673    &        2.208     \\\\\n",
       "\\textbf{Category\\_ENTERTAINMENT}                          &       3.7500  &        0.273     &    13.718  &         0.000        &        3.214    &        4.286     \\\\\n",
       "\\textbf{Category\\_EVENTS}                                 &       2.1508  &        0.138     &    15.636  &         0.000        &        1.881    &        2.420     \\\\\n",
       "\\textbf{Category\\_FAMILY}                                 &       3.8680  &        0.266     &    14.523  &         0.000        &        3.346    &        4.390     \\\\\n",
       "\\textbf{Category\\_FINANCE}                                &       1.9400  &        0.133     &    14.580  &         0.000        &        1.679    &        2.201     \\\\\n",
       "\\textbf{Category\\_FOOD\\_AND\\_DRINK}                       &       1.9828  &        0.135     &    14.684  &         0.000        &        1.718    &        2.247     \\\\\n",
       "\\textbf{Category\\_GAME}                                   &       3.9327  &        0.265     &    14.837  &         0.000        &        3.413    &        4.452     \\\\\n",
       "\\textbf{Category\\_HEALTH\\_AND\\_FITNESS}                   &       2.0080  &        0.133     &    15.065  &         0.000        &        1.747    &        2.269     \\\\\n",
       "\\textbf{Category\\_HOUSE\\_AND\\_HOME}                       &       1.9706  &        0.136     &    14.463  &         0.000        &        1.704    &        2.238     \\\\\n",
       "\\textbf{Category\\_LIBRARIES\\_AND\\_DEMO}                   &       2.0257  &        0.137     &    14.770  &         0.000        &        1.757    &        2.295     \\\\\n",
       "\\textbf{Category\\_LIFESTYLE}                              &       1.9702  &        0.133     &    14.798  &         0.000        &        1.709    &        2.231     \\\\\n",
       "\\textbf{Category\\_MAPS\\_AND\\_NAVIGATION}                  &       1.9326  &        0.135     &    14.340  &         0.000        &        1.668    &        2.197     \\\\\n",
       "\\textbf{Category\\_MEDICAL}                                &       2.0185  &        0.133     &    15.178  &         0.000        &        1.758    &        2.279     \\\\\n",
       "\\textbf{Category\\_NEWS\\_AND\\_MAGAZINES}                   &       1.9543  &        0.134     &    14.633  &         0.000        &        1.693    &        2.216     \\\\\n",
       "\\textbf{Category\\_PARENTING}                              &       3.8101  &        0.553     &     6.894  &         0.000        &        2.727    &        4.893     \\\\\n",
       "\\textbf{Category\\_PERSONALIZATION}                        &       2.0539  &        0.133     &    15.424  &         0.000        &        1.793    &        2.315     \\\\\n",
       "\\textbf{Category\\_PHOTOGRAPHY}                            &       1.9518  &        0.134     &    14.615  &         0.000        &        1.690    &        2.214     \\\\\n",
       "\\textbf{Category\\_PRODUCTIVITY}                           &       1.9742  &        0.133     &    14.824  &         0.000        &        1.713    &        2.235     \\\\\n",
       "\\textbf{Category\\_SHOPPING}                               &       2.0066  &        0.134     &    15.019  &         0.000        &        1.745    &        2.268     \\\\\n",
       "\\textbf{Category\\_SOCIAL}                                 &       1.9684  &        0.134     &    14.737  &         0.000        &        1.707    &        2.230     \\\\\n",
       "\\textbf{Category\\_SPORTS}                                 &       3.9435  &        0.265     &    14.869  &         0.000        &        3.424    &        4.463     \\\\\n",
       "\\textbf{Category\\_TOOLS}                                  &       2.6362  &        0.239     &    11.014  &         0.000        &        2.167    &        3.105     \\\\\n",
       "\\textbf{Category\\_TRAVEL\\_AND\\_LOCAL}                     &       2.6502  &        0.240     &    11.062  &         0.000        &        2.181    &        3.120     \\\\\n",
       "\\textbf{Category\\_VIDEO\\_PLAYERS}                         &       3.7724  &        0.269     &    14.044  &         0.000        &        3.246    &        4.299     \\\\\n",
       "\\textbf{Category\\_WEATHER}                                &       1.9874  &        0.136     &    14.597  &         0.000        &        1.720    &        2.254     \\\\\n",
       "\\textbf{Type\\_Paid}                                       &      -0.0633  &        0.027     &    -2.304  &         0.021        &       -0.117    &       -0.009     \\\\\n",
       "\\textbf{Content\\_Rating\\_Everyone}                        &       0.6153  &        0.263     &     2.340  &         0.019        &        0.100    &        1.131     \\\\\n",
       "\\textbf{Content\\_Rating\\_Everyone\\_10+}                   &       0.5947  &        0.265     &     2.245  &         0.025        &        0.075    &        1.114     \\\\\n",
       "\\textbf{Content\\_Rating\\_Mature\\_17+}                     &       0.5978  &        0.265     &     2.255  &         0.024        &        0.078    &        1.117     \\\\\n",
       "\\textbf{Content\\_Rating\\_Teen}                            &       0.6136  &        0.263     &     2.330  &         0.020        &        0.097    &        1.130     \\\\\n",
       "\\textbf{Content\\_Rating\\_Unrated}                         &       0.6281  &        0.552     &     1.138  &         0.255        &       -0.454    &        1.710     \\\\\n",
       "\\textbf{Genres\\_Art\\_\\&\\_Design}                          &       4.2411  &        0.275     &    15.429  &         0.000        &        3.702    &        4.780     \\\\\n",
       "\\textbf{Genres\\_Art\\_\\&\\_Design\\_Creativity}              &       4.3971  &        0.359     &    12.261  &         0.000        &        3.694    &        5.100     \\\\\n",
       "\\textbf{Genres\\_Art\\_\\&\\_Design\\_Pretend\\_Play}           &       2.1013  &        0.369     &     5.700  &         0.000        &        1.379    &        2.824     \\\\\n",
       "\\textbf{Genres\\_Auto\\_\\&\\_Vehicles}                       &       2.0380  &        0.137     &    14.923  &         0.000        &        1.770    &        2.306     \\\\\n",
       "\\textbf{Genres\\_Beauty}                                   &       2.0951  &        0.139     &    15.076  &         0.000        &        1.823    &        2.368     \\\\\n",
       "\\textbf{Genres\\_Board\\_Brain\\_Games}                      &       0.2129  &        0.145     &     1.464  &         0.143        &       -0.072    &        0.498     \\\\\n",
       "\\textbf{Genres\\_Books\\_\\&\\_Reference}                     &       2.0692  &        0.134     &    15.438  &         0.000        &        1.806    &        2.332     \\\\\n",
       "\\textbf{Genres\\_Business}                                 &       1.9635  &        0.133     &    14.749  &         0.000        &        1.703    &        2.225     \\\\\n",
       "\\textbf{Genres\\_Casual}                                   &      -0.0384  &        0.058     &    -0.663  &         0.508        &       -0.152    &        0.075     \\\\\n",
       "\\textbf{Genres\\_Casual\\_Action\\_\\&\\_Adventure}            &       0.1544  &        0.140     &     1.103  &         0.270        &       -0.120    &        0.429     \\\\\n",
       "\\textbf{Genres\\_Casual\\_Brain\\_Games}                     &       0.3790  &        0.165     &     2.291  &         0.022        &        0.055    &        0.703     \\\\\n",
       "\\textbf{Genres\\_Casual\\_Pretend\\_Play}                    &       0.0680  &        0.106     &     0.642  &         0.521        &       -0.140    &        0.276     \\\\\n",
       "\\textbf{Genres\\_Comics}                                   &       1.0275  &        0.187     &     5.499  &         0.000        &        0.661    &        1.394     \\\\\n",
       "\\textbf{Genres\\_Comics\\_Creativity}                       &       1.8381  &        0.337     &     5.455  &         0.000        &        1.177    &        2.499     \\\\\n",
       "\\textbf{Genres\\_Communication}                            &       1.9292  &        0.133     &    14.452  &         0.000        &        1.668    &        2.191     \\\\\n",
       "\\textbf{Genres\\_Dating}                                   &       1.9022  &        0.135     &    14.134  &         0.000        &        1.638    &        2.166     \\\\\n",
       "\\textbf{Genres\\_Education}                                &       0.2294  &        0.050     &     4.610  &         0.000        &        0.132    &        0.327     \\\\\n",
       "\\textbf{Genres\\_Education\\_Action\\_\\&\\_Adventure}         &       0.4204  &        0.202     &     2.080  &         0.038        &        0.024    &        0.817     \\\\\n",
       "\\textbf{Genres\\_Education\\_Creativity}                    &       0.5382  &        0.203     &     2.652  &         0.008        &        0.140    &        0.936     \\\\\n",
       "\\textbf{Genres\\_Education\\_Education}                     &       0.2670  &        0.102     &     2.615  &         0.009        &        0.067    &        0.467     \\\\\n",
       "\\textbf{Genres\\_Education\\_Pretend\\_Play}                 &       0.3322  &        0.132     &     2.513  &         0.012        &        0.073    &        0.591     \\\\\n",
       "\\textbf{Genres\\_Educational\\_Education}                   &       0.3002  &        0.106     &     2.820  &         0.005        &        0.092    &        0.509     \\\\\n",
       "\\textbf{Genres\\_Educational\\_Pretend\\_Play}               &       0.1494  &        0.151     &     0.987  &         0.324        &       -0.147    &        0.446     \\\\\n",
       "\\textbf{Genres\\_Entertainment}                            &       0.0606  &        0.049     &     1.238  &         0.216        &       -0.035    &        0.157     \\\\\n",
       "\\textbf{Genres\\_Entertainment\\_Brain\\_Games}              &       0.2489  &        0.246     &     1.012  &         0.312        &       -0.233    &        0.731     \\\\\n",
       "\\textbf{Genres\\_Entertainment\\_Creativity}                &       0.3824  &        0.346     &     1.104  &         0.270        &       -0.296    &        1.061     \\\\\n",
       "\\textbf{Genres\\_Entertainment\\_Music\\_\\&\\_Video}          &       0.1304  &        0.117     &     1.111  &         0.267        &       -0.100    &        0.361     \\\\\n",
       "\\textbf{Genres\\_Events}                                   &       2.1508  &        0.138     &    15.636  &         0.000        &        1.881    &        2.420     \\\\\n",
       "\\textbf{Genres\\_Finance}                                  &       1.9400  &        0.133     &    14.580  &         0.000        &        1.679    &        2.201     \\\\\n",
       "\\textbf{Genres\\_Food\\_\\&\\_Drink}                          &       1.9828  &        0.135     &    14.684  &         0.000        &        1.718    &        2.247     \\\\\n",
       "\\textbf{Genres\\_Health\\_\\&\\_Fitness}                      &       2.0080  &        0.133     &    15.065  &         0.000        &        1.747    &        2.269     \\\\\n",
       "\\textbf{Genres\\_House\\_\\&\\_Home}                          &       1.9706  &        0.136     &    14.463  &         0.000        &        1.704    &        2.238     \\\\\n",
       "\\textbf{Genres\\_Libraries\\_\\&\\_Demo}                      &       2.0257  &        0.137     &    14.770  &         0.000        &        1.757    &        2.295     \\\\\n",
       "\\textbf{Genres\\_Lifestyle}                                &       1.9702  &        0.133     &    14.798  &         0.000        &        1.709    &        2.231     \\\\\n",
       "\\textbf{Genres\\_Maps\\_\\&\\_Navigation}                     &       1.9326  &        0.135     &    14.340  &         0.000        &        1.668    &        2.197     \\\\\n",
       "\\textbf{Genres\\_Medical}                                  &       2.0185  &        0.133     &    15.178  &         0.000        &        1.758    &        2.279     \\\\\n",
       "\\textbf{Genres\\_Music\\_Music\\_\\&\\_Video}                  &       0.2580  &        0.345     &     0.748  &         0.455        &       -0.418    &        0.935     \\\\\n",
       "\\textbf{Genres\\_News\\_\\&\\_Magazines}                      &       1.9543  &        0.134     &    14.633  &         0.000        &        1.693    &        2.216     \\\\\n",
       "\\textbf{Genres\\_Parenting}                                &       0.3347  &        0.493     &     0.678  &         0.498        &       -0.633    &        1.302     \\\\\n",
       "\\textbf{Genres\\_Parenting\\_Education}                     &       0.1569  &        0.594     &     0.264  &         0.792        &       -1.007    &        1.321     \\\\\n",
       "\\textbf{Genres\\_Parenting\\_Music\\_\\&\\_Video}              &       0.5794  &        0.531     &     1.091  &         0.275        &       -0.462    &        1.620     \\\\\n",
       "\\textbf{Genres\\_Personalization}                          &       2.0539  &        0.133     &    15.424  &         0.000        &        1.793    &        2.315     \\\\\n",
       "\\textbf{Genres\\_Photography}                              &       1.9518  &        0.134     &    14.615  &         0.000        &        1.690    &        2.214     \\\\\n",
       "\\textbf{Genres\\_Productivity}                             &       1.9742  &        0.133     &    14.824  &         0.000        &        1.713    &        2.235     \\\\\n",
       "\\textbf{Genres\\_Puzzle}                                   &       0.1926  &        0.063     &     3.056  &         0.002        &        0.069    &        0.316     \\\\\n",
       "\\textbf{Genres\\_Puzzle\\_Brain\\_Games}                     &       0.1873  &        0.166     &     1.126  &         0.260        &       -0.139    &        0.513     \\\\\n",
       "\\textbf{Genres\\_Racing\\_Action\\_\\&\\_Adventure}            &       0.2276  &        0.131     &     1.735  &         0.083        &       -0.030    &        0.485     \\\\\n",
       "\\textbf{Genres\\_Role\\_Playing}                            &       0.0018  &        0.071     &     0.025  &         0.980        &       -0.136    &        0.140     \\\\\n",
       "\\textbf{Genres\\_Shopping}                                 &       2.0066  &        0.134     &    15.019  &         0.000        &        1.745    &        2.268     \\\\\n",
       "\\textbf{Genres\\_Simulation}                               &       0.0143  &        0.056     &     0.255  &         0.799        &       -0.096    &        0.125     \\\\\n",
       "\\textbf{Genres\\_Simulation\\_Action\\_\\&\\_Adventure}        &       0.1796  &        0.166     &     1.085  &         0.278        &       -0.145    &        0.504     \\\\\n",
       "\\textbf{Genres\\_Social}                                   &       1.9684  &        0.134     &    14.737  &         0.000        &        1.707    &        2.230     \\\\\n",
       "\\textbf{Genres\\_Strategy}                                 &      -0.0485  &        0.071     &    -0.681  &         0.496        &       -0.188    &        0.091     \\\\\n",
       "\\textbf{Genres\\_Tools}                                    &       1.2105  &        0.185     &     6.556  &         0.000        &        0.849    &        1.573     \\\\\n",
       "\\textbf{Genres\\_Tools\\_Education}                         &       1.4257  &        0.335     &     4.254  &         0.000        &        0.769    &        2.083     \\\\\n",
       "\\textbf{Genres\\_Travel\\_\\&\\_Local}                        &       1.2885  &        0.186     &     6.925  &         0.000        &        0.924    &        1.653     \\\\\n",
       "\\textbf{Genres\\_Travel\\_\\&\\_Local\\_Action\\_\\&\\_Adventure} &       1.3617  &        0.335     &     4.062  &         0.000        &        0.705    &        2.019     \\\\\n",
       "\\textbf{Genres\\_Weather}                                  &       1.9874  &        0.136     &    14.597  &         0.000        &        1.720    &        2.254     \\\\\n",
       "\\bottomrule\n",
       "\\end{tabular}\n",
       "\\begin{tabular}{lclc}\n",
       "\\textbf{Omnibus:}       & 2277.411 & \\textbf{  Durbin-Watson:     } &     2.015  \\\\\n",
       "\\textbf{Prob(Omnibus):} &   0.000  & \\textbf{  Jarque-Bera (JB):  } & 13443.036  \\\\\n",
       "\\textbf{Skew:}          &  -1.669  & \\textbf{  Prob(JB):          } &      0.00  \\\\\n",
       "\\textbf{Kurtosis:}      &   9.449  & \\textbf{  Cond. No.          } &  1.23e+16  \\\\\n",
       "\\bottomrule\n",
       "\\end{tabular}\n",
       "%\\caption{OLS Regression Results}\n",
       "\\end{center}\n",
       "\n",
       "Notes: \\newline\n",
       " [1] R² is computed without centering (uncentered) since the model does not contain a constant. \\newline\n",
       " [2] Standard Errors assume that the covariance matrix of the errors is correctly specified. \\newline\n",
       " [3] The smallest eigenvalue is 9.13e-27. This might indicate that there are \\newline\n",
       " strong multicollinearity problems or that the design matrix is singular."
      ],
      "text/plain": [
       "<class 'statsmodels.iolib.summary.Summary'>\n",
       "\"\"\"\n",
       "                                 OLS Regression Results                                \n",
       "=======================================================================================\n",
       "Dep. Variable:                 Rating   R-squared (uncentered):                   0.987\n",
       "Model:                            OLS   Adj. R-squared (uncentered):              0.987\n",
       "Method:                 Least Squares   F-statistic:                              6240.\n",
       "Date:                Sun, 26 Nov 2023   Prob (F-statistic):                        0.00\n",
       "Time:                        18:31:05   Log-Likelihood:                         -4213.7\n",
       "No. Observations:                6118   AIC:                                      8573.\n",
       "Df Residuals:                    6045   BIC:                                      9064.\n",
       "Df Model:                          73                                                  \n",
       "Covariance Type:            nonrobust                                                  \n",
       "============================================================================================================\n",
       "                                               coef    std err          t      P>|t|      [0.025      0.975]\n",
       "------------------------------------------------------------------------------------------------------------\n",
       "Reviews                                      0.1735      0.006     27.757      0.000       0.161       0.186\n",
       "Installs                                    -0.1481      0.006    -23.579      0.000      -0.160      -0.136\n",
       "Category_AUTO_AND_VEHICLES                   2.0380      0.137     14.923      0.000       1.770       2.306\n",
       "Category_BEAUTY                              2.0951      0.139     15.076      0.000       1.823       2.368\n",
       "Category_BOOKS_AND_REFERENCE                 2.0692      0.134     15.438      0.000       1.806       2.332\n",
       "Category_BUSINESS                            1.9635      0.133     14.749      0.000       1.703       2.225\n",
       "Category_COMICS                              2.8656      0.237     12.073      0.000       2.400       3.331\n",
       "Category_COMMUNICATION                       1.9292      0.133     14.452      0.000       1.668       2.191\n",
       "Category_DATING                              1.9022      0.135     14.134      0.000       1.638       2.166\n",
       "Category_EDUCATION                           1.9406      0.136     14.221      0.000       1.673       2.208\n",
       "Category_EDUCATION                           1.9406      0.136     14.221      0.000       1.673       2.208\n",
       "Category_ENTERTAINMENT                       3.7500      0.273     13.718      0.000       3.214       4.286\n",
       "Category_EVENTS                              2.1508      0.138     15.636      0.000       1.881       2.420\n",
       "Category_FAMILY                              3.8680      0.266     14.523      0.000       3.346       4.390\n",
       "Category_FINANCE                             1.9400      0.133     14.580      0.000       1.679       2.201\n",
       "Category_FOOD_AND_DRINK                      1.9828      0.135     14.684      0.000       1.718       2.247\n",
       "Category_GAME                                3.9327      0.265     14.837      0.000       3.413       4.452\n",
       "Category_HEALTH_AND_FITNESS                  2.0080      0.133     15.065      0.000       1.747       2.269\n",
       "Category_HOUSE_AND_HOME                      1.9706      0.136     14.463      0.000       1.704       2.238\n",
       "Category_LIBRARIES_AND_DEMO                  2.0257      0.137     14.770      0.000       1.757       2.295\n",
       "Category_LIFESTYLE                           1.9702      0.133     14.798      0.000       1.709       2.231\n",
       "Category_MAPS_AND_NAVIGATION                 1.9326      0.135     14.340      0.000       1.668       2.197\n",
       "Category_MEDICAL                             2.0185      0.133     15.178      0.000       1.758       2.279\n",
       "Category_NEWS_AND_MAGAZINES                  1.9543      0.134     14.633      0.000       1.693       2.216\n",
       "Category_PARENTING                           3.8101      0.553      6.894      0.000       2.727       4.893\n",
       "Category_PERSONALIZATION                     2.0539      0.133     15.424      0.000       1.793       2.315\n",
       "Category_PHOTOGRAPHY                         1.9518      0.134     14.615      0.000       1.690       2.214\n",
       "Category_PRODUCTIVITY                        1.9742      0.133     14.824      0.000       1.713       2.235\n",
       "Category_SHOPPING                            2.0066      0.134     15.019      0.000       1.745       2.268\n",
       "Category_SOCIAL                              1.9684      0.134     14.737      0.000       1.707       2.230\n",
       "Category_SPORTS                              3.9435      0.265     14.869      0.000       3.424       4.463\n",
       "Category_TOOLS                               2.6362      0.239     11.014      0.000       2.167       3.105\n",
       "Category_TRAVEL_AND_LOCAL                    2.6502      0.240     11.062      0.000       2.181       3.120\n",
       "Category_VIDEO_PLAYERS                       3.7724      0.269     14.044      0.000       3.246       4.299\n",
       "Category_WEATHER                             1.9874      0.136     14.597      0.000       1.720       2.254\n",
       "Type_Paid                                   -0.0633      0.027     -2.304      0.021      -0.117      -0.009\n",
       "Content_Rating_Everyone                      0.6153      0.263      2.340      0.019       0.100       1.131\n",
       "Content_Rating_Everyone_10+                  0.5947      0.265      2.245      0.025       0.075       1.114\n",
       "Content_Rating_Mature_17+                    0.5978      0.265      2.255      0.024       0.078       1.117\n",
       "Content_Rating_Teen                          0.6136      0.263      2.330      0.020       0.097       1.130\n",
       "Content_Rating_Unrated                       0.6281      0.552      1.138      0.255      -0.454       1.710\n",
       "Genres_Art_&_Design                          4.2411      0.275     15.429      0.000       3.702       4.780\n",
       "Genres_Art_&_Design_Creativity               4.3971      0.359     12.261      0.000       3.694       5.100\n",
       "Genres_Art_&_Design_Pretend_Play             2.1013      0.369      5.700      0.000       1.379       2.824\n",
       "Genres_Auto_&_Vehicles                       2.0380      0.137     14.923      0.000       1.770       2.306\n",
       "Genres_Beauty                                2.0951      0.139     15.076      0.000       1.823       2.368\n",
       "Genres_Board_Brain_Games                     0.2129      0.145      1.464      0.143      -0.072       0.498\n",
       "Genres_Books_&_Reference                     2.0692      0.134     15.438      0.000       1.806       2.332\n",
       "Genres_Business                              1.9635      0.133     14.749      0.000       1.703       2.225\n",
       "Genres_Casual                               -0.0384      0.058     -0.663      0.508      -0.152       0.075\n",
       "Genres_Casual_Action_&_Adventure             0.1544      0.140      1.103      0.270      -0.120       0.429\n",
       "Genres_Casual_Brain_Games                    0.3790      0.165      2.291      0.022       0.055       0.703\n",
       "Genres_Casual_Pretend_Play                   0.0680      0.106      0.642      0.521      -0.140       0.276\n",
       "Genres_Comics                                1.0275      0.187      5.499      0.000       0.661       1.394\n",
       "Genres_Comics_Creativity                     1.8381      0.337      5.455      0.000       1.177       2.499\n",
       "Genres_Communication                         1.9292      0.133     14.452      0.000       1.668       2.191\n",
       "Genres_Dating                                1.9022      0.135     14.134      0.000       1.638       2.166\n",
       "Genres_Education                             0.2294      0.050      4.610      0.000       0.132       0.327\n",
       "Genres_Education_Action_&_Adventure          0.4204      0.202      2.080      0.038       0.024       0.817\n",
       "Genres_Education_Creativity                  0.5382      0.203      2.652      0.008       0.140       0.936\n",
       "Genres_Education_Education                   0.2670      0.102      2.615      0.009       0.067       0.467\n",
       "Genres_Education_Pretend_Play                0.3322      0.132      2.513      0.012       0.073       0.591\n",
       "Genres_Educational_Education                 0.3002      0.106      2.820      0.005       0.092       0.509\n",
       "Genres_Educational_Pretend_Play              0.1494      0.151      0.987      0.324      -0.147       0.446\n",
       "Genres_Entertainment                         0.0606      0.049      1.238      0.216      -0.035       0.157\n",
       "Genres_Entertainment_Brain_Games             0.2489      0.246      1.012      0.312      -0.233       0.731\n",
       "Genres_Entertainment_Creativity              0.3824      0.346      1.104      0.270      -0.296       1.061\n",
       "Genres_Entertainment_Music_&_Video           0.1304      0.117      1.111      0.267      -0.100       0.361\n",
       "Genres_Events                                2.1508      0.138     15.636      0.000       1.881       2.420\n",
       "Genres_Finance                               1.9400      0.133     14.580      0.000       1.679       2.201\n",
       "Genres_Food_&_Drink                          1.9828      0.135     14.684      0.000       1.718       2.247\n",
       "Genres_Health_&_Fitness                      2.0080      0.133     15.065      0.000       1.747       2.269\n",
       "Genres_House_&_Home                          1.9706      0.136     14.463      0.000       1.704       2.238\n",
       "Genres_Libraries_&_Demo                      2.0257      0.137     14.770      0.000       1.757       2.295\n",
       "Genres_Lifestyle                             1.9702      0.133     14.798      0.000       1.709       2.231\n",
       "Genres_Maps_&_Navigation                     1.9326      0.135     14.340      0.000       1.668       2.197\n",
       "Genres_Medical                               2.0185      0.133     15.178      0.000       1.758       2.279\n",
       "Genres_Music_Music_&_Video                   0.2580      0.345      0.748      0.455      -0.418       0.935\n",
       "Genres_News_&_Magazines                      1.9543      0.134     14.633      0.000       1.693       2.216\n",
       "Genres_Parenting                             0.3347      0.493      0.678      0.498      -0.633       1.302\n",
       "Genres_Parenting_Education                   0.1569      0.594      0.264      0.792      -1.007       1.321\n",
       "Genres_Parenting_Music_&_Video               0.5794      0.531      1.091      0.275      -0.462       1.620\n",
       "Genres_Personalization                       2.0539      0.133     15.424      0.000       1.793       2.315\n",
       "Genres_Photography                           1.9518      0.134     14.615      0.000       1.690       2.214\n",
       "Genres_Productivity                          1.9742      0.133     14.824      0.000       1.713       2.235\n",
       "Genres_Puzzle                                0.1926      0.063      3.056      0.002       0.069       0.316\n",
       "Genres_Puzzle_Brain_Games                    0.1873      0.166      1.126      0.260      -0.139       0.513\n",
       "Genres_Racing_Action_&_Adventure             0.2276      0.131      1.735      0.083      -0.030       0.485\n",
       "Genres_Role_Playing                          0.0018      0.071      0.025      0.980      -0.136       0.140\n",
       "Genres_Shopping                              2.0066      0.134     15.019      0.000       1.745       2.268\n",
       "Genres_Simulation                            0.0143      0.056      0.255      0.799      -0.096       0.125\n",
       "Genres_Simulation_Action_&_Adventure         0.1796      0.166      1.085      0.278      -0.145       0.504\n",
       "Genres_Social                                1.9684      0.134     14.737      0.000       1.707       2.230\n",
       "Genres_Strategy                             -0.0485      0.071     -0.681      0.496      -0.188       0.091\n",
       "Genres_Tools                                 1.2105      0.185      6.556      0.000       0.849       1.573\n",
       "Genres_Tools_Education                       1.4257      0.335      4.254      0.000       0.769       2.083\n",
       "Genres_Travel_&_Local                        1.2885      0.186      6.925      0.000       0.924       1.653\n",
       "Genres_Travel_&_Local_Action_&_Adventure     1.3617      0.335      4.062      0.000       0.705       2.019\n",
       "Genres_Weather                               1.9874      0.136     14.597      0.000       1.720       2.254\n",
       "==============================================================================\n",
       "Omnibus:                     2277.411   Durbin-Watson:                   2.015\n",
       "Prob(Omnibus):                  0.000   Jarque-Bera (JB):            13443.036\n",
       "Skew:                          -1.669   Prob(JB):                         0.00\n",
       "Kurtosis:                       9.449   Cond. No.                     1.23e+16\n",
       "==============================================================================\n",
       "\n",
       "Notes:\n",
       "[1] R² is computed without centering (uncentered) since the model does not contain a constant.\n",
       "[2] Standard Errors assume that the covariance matrix of the errors is correctly specified.\n",
       "[3] The smallest eigenvalue is 9.13e-27. This might indicate that there are\n",
       "strong multicollinearity problems or that the design matrix is singular.\n",
       "\"\"\""
      ]
     },
     "execution_count": 115,
     "metadata": {},
     "output_type": "execute_result"
    }
   ],
   "source": [
    "model2.summary()"
   ]
  },
  {
   "cell_type": "code",
   "execution_count": 116,
   "id": "08f38003",
   "metadata": {},
   "outputs": [],
   "source": [
    "# predicting using model2\n",
    "import sklearn.metrics as metrics"
   ]
  },
  {
   "cell_type": "code",
   "execution_count": 117,
   "id": "67a550d4",
   "metadata": {},
   "outputs": [],
   "source": [
    "y_test_pred1 = model2.predict(X_test1)"
   ]
  },
  {
   "cell_type": "code",
   "execution_count": 118,
   "id": "ba174c6f",
   "metadata": {},
   "outputs": [
    {
     "name": "stdout",
     "output_type": "stream",
     "text": [
      "0.5092427997227157\n"
     ]
    }
   ],
   "source": [
    "print(np.sqrt(metrics.mean_squared_error(y_test1, y_test_pred1)))"
   ]
  },
  {
   "cell_type": "code",
   "execution_count": 119,
   "id": "1716e3a9",
   "metadata": {},
   "outputs": [
    {
     "name": "stdout",
     "output_type": "stream",
     "text": [
      "MAPE: 9.82898607995677\n"
     ]
    }
   ],
   "source": [
    "def MAPEE(y_test1, y_test_pred1):\n",
    "    return np.mean(np.abs((y_test1 - y_test_pred1)/y_test1)) * 100\n",
    "print('MAPE: ' + str(MAPEE(y_test1, y_test_pred1)))"
   ]
  },
  {
   "cell_type": "markdown",
   "id": "ca5c763f",
   "metadata": {},
   "source": [
    "Model2 shows slight improvement as RMSE and MAPE is slightly lower than model1"
   ]
  },
  {
   "cell_type": "markdown",
   "id": "aaff0f95",
   "metadata": {},
   "source": [
    "#### Use Case: Ridge, Lasso, ElasticNet Regression for Training and Prediction:"
   ]
  },
  {
   "cell_type": "markdown",
   "id": "61b1287d",
   "metadata": {},
   "source": [
    "We are going to use the same dataset that we used in the previous use case at the time of training of \"model2\" i.e. inp3"
   ]
  },
  {
   "cell_type": "markdown",
   "id": "a083b512",
   "metadata": {},
   "source": [
    "### Ridge Regression"
   ]
  },
  {
   "cell_type": "code",
   "execution_count": 120,
   "id": "979d217c",
   "metadata": {},
   "outputs": [
    {
     "data": {
      "text/html": [
       "<style>#sk-container-id-1 {color: black;}#sk-container-id-1 pre{padding: 0;}#sk-container-id-1 div.sk-toggleable {background-color: white;}#sk-container-id-1 label.sk-toggleable__label {cursor: pointer;display: block;width: 100%;margin-bottom: 0;padding: 0.3em;box-sizing: border-box;text-align: center;}#sk-container-id-1 label.sk-toggleable__label-arrow:before {content: \"▸\";float: left;margin-right: 0.25em;color: #696969;}#sk-container-id-1 label.sk-toggleable__label-arrow:hover:before {color: black;}#sk-container-id-1 div.sk-estimator:hover label.sk-toggleable__label-arrow:before {color: black;}#sk-container-id-1 div.sk-toggleable__content {max-height: 0;max-width: 0;overflow: hidden;text-align: left;background-color: #f0f8ff;}#sk-container-id-1 div.sk-toggleable__content pre {margin: 0.2em;color: black;border-radius: 0.25em;background-color: #f0f8ff;}#sk-container-id-1 input.sk-toggleable__control:checked~div.sk-toggleable__content {max-height: 200px;max-width: 100%;overflow: auto;}#sk-container-id-1 input.sk-toggleable__control:checked~label.sk-toggleable__label-arrow:before {content: \"▾\";}#sk-container-id-1 div.sk-estimator input.sk-toggleable__control:checked~label.sk-toggleable__label {background-color: #d4ebff;}#sk-container-id-1 div.sk-label input.sk-toggleable__control:checked~label.sk-toggleable__label {background-color: #d4ebff;}#sk-container-id-1 input.sk-hidden--visually {border: 0;clip: rect(1px 1px 1px 1px);clip: rect(1px, 1px, 1px, 1px);height: 1px;margin: -1px;overflow: hidden;padding: 0;position: absolute;width: 1px;}#sk-container-id-1 div.sk-estimator {font-family: monospace;background-color: #f0f8ff;border: 1px dotted black;border-radius: 0.25em;box-sizing: border-box;margin-bottom: 0.5em;}#sk-container-id-1 div.sk-estimator:hover {background-color: #d4ebff;}#sk-container-id-1 div.sk-parallel-item::after {content: \"\";width: 100%;border-bottom: 1px solid gray;flex-grow: 1;}#sk-container-id-1 div.sk-label:hover label.sk-toggleable__label {background-color: #d4ebff;}#sk-container-id-1 div.sk-serial::before {content: \"\";position: absolute;border-left: 1px solid gray;box-sizing: border-box;top: 0;bottom: 0;left: 50%;z-index: 0;}#sk-container-id-1 div.sk-serial {display: flex;flex-direction: column;align-items: center;background-color: white;padding-right: 0.2em;padding-left: 0.2em;position: relative;}#sk-container-id-1 div.sk-item {position: relative;z-index: 1;}#sk-container-id-1 div.sk-parallel {display: flex;align-items: stretch;justify-content: center;background-color: white;position: relative;}#sk-container-id-1 div.sk-item::before, #sk-container-id-1 div.sk-parallel-item::before {content: \"\";position: absolute;border-left: 1px solid gray;box-sizing: border-box;top: 0;bottom: 0;left: 50%;z-index: -1;}#sk-container-id-1 div.sk-parallel-item {display: flex;flex-direction: column;z-index: 1;position: relative;background-color: white;}#sk-container-id-1 div.sk-parallel-item:first-child::after {align-self: flex-end;width: 50%;}#sk-container-id-1 div.sk-parallel-item:last-child::after {align-self: flex-start;width: 50%;}#sk-container-id-1 div.sk-parallel-item:only-child::after {width: 0;}#sk-container-id-1 div.sk-dashed-wrapped {border: 1px dashed gray;margin: 0 0.4em 0.5em 0.4em;box-sizing: border-box;padding-bottom: 0.4em;background-color: white;}#sk-container-id-1 div.sk-label label {font-family: monospace;font-weight: bold;display: inline-block;line-height: 1.2em;}#sk-container-id-1 div.sk-label-container {text-align: center;}#sk-container-id-1 div.sk-container {/* jupyter's `normalize.less` sets `[hidden] { display: none; }` but bootstrap.min.css set `[hidden] { display: none !important; }` so we also need the `!important` here to be able to override the default hidden behavior on the sphinx rendered scikit-learn.org. See: https://github.com/scikit-learn/scikit-learn/issues/21755 */display: inline-block !important;position: relative;}#sk-container-id-1 div.sk-text-repr-fallback {display: none;}</style><div id=\"sk-container-id-1\" class=\"sk-top-container\"><div class=\"sk-text-repr-fallback\"><pre>Ridge(alpha=0.001)</pre><b>In a Jupyter environment, please rerun this cell to show the HTML representation or trust the notebook. <br />On GitHub, the HTML representation is unable to render, please try loading this page with nbviewer.org.</b></div><div class=\"sk-container\" hidden><div class=\"sk-item\"><div class=\"sk-estimator sk-toggleable\"><input class=\"sk-toggleable__control sk-hidden--visually\" id=\"sk-estimator-id-1\" type=\"checkbox\" checked><label for=\"sk-estimator-id-1\" class=\"sk-toggleable__label sk-toggleable__label-arrow\">Ridge</label><div class=\"sk-toggleable__content\"><pre>Ridge(alpha=0.001)</pre></div></div></div></div></div>"
      ],
      "text/plain": [
       "Ridge(alpha=0.001)"
      ]
     },
     "execution_count": 120,
     "metadata": {},
     "output_type": "execute_result"
    }
   ],
   "source": [
    "# Importing Ridge\n",
    "import sklearn\n",
    "from sklearn.linear_model import Ridge\n",
    "ridgeReg = Ridge(alpha = 0.001)\n",
    "ridgeReg.fit(X_train1, y_train1)"
   ]
  },
  {
   "cell_type": "markdown",
   "id": "b043c8c1",
   "metadata": {},
   "source": [
    "#### Evaluating using RMSE"
   ]
  },
  {
   "cell_type": "code",
   "execution_count": 121,
   "id": "801cd939",
   "metadata": {},
   "outputs": [
    {
     "name": "stdout",
     "output_type": "stream",
     "text": [
      "0.4803176854377079\n",
      "0.4954908773814979\n",
      "R2 Value/coefficient of Determination: 0.1415209820696729\n"
     ]
    }
   ],
   "source": [
    "print(np.sqrt(sklearn.metrics.mean_squared_error(y_train1, ridgeReg.predict(X_train1))))\n",
    "print(np.sqrt(sklearn.metrics.mean_squared_error(y_test1, ridgeReg.predict(X_test1))))\n",
    "print(\"R2 Value/coefficient of Determination: {}\".format(ridgeReg.score(X_test1, y_test1)))"
   ]
  },
  {
   "cell_type": "markdown",
   "id": "b003542f",
   "metadata": {},
   "source": [
    "### Lasso Regression"
   ]
  },
  {
   "cell_type": "code",
   "execution_count": 122,
   "id": "49e36686",
   "metadata": {},
   "outputs": [
    {
     "data": {
      "text/html": [
       "<style>#sk-container-id-2 {color: black;}#sk-container-id-2 pre{padding: 0;}#sk-container-id-2 div.sk-toggleable {background-color: white;}#sk-container-id-2 label.sk-toggleable__label {cursor: pointer;display: block;width: 100%;margin-bottom: 0;padding: 0.3em;box-sizing: border-box;text-align: center;}#sk-container-id-2 label.sk-toggleable__label-arrow:before {content: \"▸\";float: left;margin-right: 0.25em;color: #696969;}#sk-container-id-2 label.sk-toggleable__label-arrow:hover:before {color: black;}#sk-container-id-2 div.sk-estimator:hover label.sk-toggleable__label-arrow:before {color: black;}#sk-container-id-2 div.sk-toggleable__content {max-height: 0;max-width: 0;overflow: hidden;text-align: left;background-color: #f0f8ff;}#sk-container-id-2 div.sk-toggleable__content pre {margin: 0.2em;color: black;border-radius: 0.25em;background-color: #f0f8ff;}#sk-container-id-2 input.sk-toggleable__control:checked~div.sk-toggleable__content {max-height: 200px;max-width: 100%;overflow: auto;}#sk-container-id-2 input.sk-toggleable__control:checked~label.sk-toggleable__label-arrow:before {content: \"▾\";}#sk-container-id-2 div.sk-estimator input.sk-toggleable__control:checked~label.sk-toggleable__label {background-color: #d4ebff;}#sk-container-id-2 div.sk-label input.sk-toggleable__control:checked~label.sk-toggleable__label {background-color: #d4ebff;}#sk-container-id-2 input.sk-hidden--visually {border: 0;clip: rect(1px 1px 1px 1px);clip: rect(1px, 1px, 1px, 1px);height: 1px;margin: -1px;overflow: hidden;padding: 0;position: absolute;width: 1px;}#sk-container-id-2 div.sk-estimator {font-family: monospace;background-color: #f0f8ff;border: 1px dotted black;border-radius: 0.25em;box-sizing: border-box;margin-bottom: 0.5em;}#sk-container-id-2 div.sk-estimator:hover {background-color: #d4ebff;}#sk-container-id-2 div.sk-parallel-item::after {content: \"\";width: 100%;border-bottom: 1px solid gray;flex-grow: 1;}#sk-container-id-2 div.sk-label:hover label.sk-toggleable__label {background-color: #d4ebff;}#sk-container-id-2 div.sk-serial::before {content: \"\";position: absolute;border-left: 1px solid gray;box-sizing: border-box;top: 0;bottom: 0;left: 50%;z-index: 0;}#sk-container-id-2 div.sk-serial {display: flex;flex-direction: column;align-items: center;background-color: white;padding-right: 0.2em;padding-left: 0.2em;position: relative;}#sk-container-id-2 div.sk-item {position: relative;z-index: 1;}#sk-container-id-2 div.sk-parallel {display: flex;align-items: stretch;justify-content: center;background-color: white;position: relative;}#sk-container-id-2 div.sk-item::before, #sk-container-id-2 div.sk-parallel-item::before {content: \"\";position: absolute;border-left: 1px solid gray;box-sizing: border-box;top: 0;bottom: 0;left: 50%;z-index: -1;}#sk-container-id-2 div.sk-parallel-item {display: flex;flex-direction: column;z-index: 1;position: relative;background-color: white;}#sk-container-id-2 div.sk-parallel-item:first-child::after {align-self: flex-end;width: 50%;}#sk-container-id-2 div.sk-parallel-item:last-child::after {align-self: flex-start;width: 50%;}#sk-container-id-2 div.sk-parallel-item:only-child::after {width: 0;}#sk-container-id-2 div.sk-dashed-wrapped {border: 1px dashed gray;margin: 0 0.4em 0.5em 0.4em;box-sizing: border-box;padding-bottom: 0.4em;background-color: white;}#sk-container-id-2 div.sk-label label {font-family: monospace;font-weight: bold;display: inline-block;line-height: 1.2em;}#sk-container-id-2 div.sk-label-container {text-align: center;}#sk-container-id-2 div.sk-container {/* jupyter's `normalize.less` sets `[hidden] { display: none; }` but bootstrap.min.css set `[hidden] { display: none !important; }` so we also need the `!important` here to be able to override the default hidden behavior on the sphinx rendered scikit-learn.org. See: https://github.com/scikit-learn/scikit-learn/issues/21755 */display: inline-block !important;position: relative;}#sk-container-id-2 div.sk-text-repr-fallback {display: none;}</style><div id=\"sk-container-id-2\" class=\"sk-top-container\"><div class=\"sk-text-repr-fallback\"><pre>Lasso(alpha=0.001)</pre><b>In a Jupyter environment, please rerun this cell to show the HTML representation or trust the notebook. <br />On GitHub, the HTML representation is unable to render, please try loading this page with nbviewer.org.</b></div><div class=\"sk-container\" hidden><div class=\"sk-item\"><div class=\"sk-estimator sk-toggleable\"><input class=\"sk-toggleable__control sk-hidden--visually\" id=\"sk-estimator-id-2\" type=\"checkbox\" checked><label for=\"sk-estimator-id-2\" class=\"sk-toggleable__label sk-toggleable__label-arrow\">Lasso</label><div class=\"sk-toggleable__content\"><pre>Lasso(alpha=0.001)</pre></div></div></div></div></div>"
      ],
      "text/plain": [
       "Lasso(alpha=0.001)"
      ]
     },
     "execution_count": 122,
     "metadata": {},
     "output_type": "execute_result"
    }
   ],
   "source": [
    "from sklearn.linear_model import Lasso\n",
    "Lassoreg = Lasso(alpha = 0.001)\n",
    "Lassoreg.fit(X_train1, y_train1)"
   ]
  },
  {
   "cell_type": "code",
   "execution_count": 123,
   "id": "a3ff1d09",
   "metadata": {},
   "outputs": [
    {
     "name": "stdout",
     "output_type": "stream",
     "text": [
      "0.48393781602472424\n",
      "0.4980306543172661\n",
      "Value of R2 / Coefficient of Determination: 0.13269767857952475\n"
     ]
    }
   ],
   "source": [
    "print(np.sqrt(sklearn.metrics.mean_squared_error(y_train1, Lassoreg.predict(X_train1))))\n",
    "print(np.sqrt(sklearn.metrics.mean_squared_error(y_test1, Lassoreg.predict(X_test1))))\n",
    "print('Value of R2 / Coefficient of Determination: {}'.format(Lassoreg.score(X_test1, y_test1)))"
   ]
  },
  {
   "cell_type": "markdown",
   "id": "63232bcf",
   "metadata": {},
   "source": [
    "### ElasticNet Regression"
   ]
  },
  {
   "cell_type": "code",
   "execution_count": 124,
   "id": "49bf79f6",
   "metadata": {},
   "outputs": [
    {
     "data": {
      "text/html": [
       "<style>#sk-container-id-3 {color: black;}#sk-container-id-3 pre{padding: 0;}#sk-container-id-3 div.sk-toggleable {background-color: white;}#sk-container-id-3 label.sk-toggleable__label {cursor: pointer;display: block;width: 100%;margin-bottom: 0;padding: 0.3em;box-sizing: border-box;text-align: center;}#sk-container-id-3 label.sk-toggleable__label-arrow:before {content: \"▸\";float: left;margin-right: 0.25em;color: #696969;}#sk-container-id-3 label.sk-toggleable__label-arrow:hover:before {color: black;}#sk-container-id-3 div.sk-estimator:hover label.sk-toggleable__label-arrow:before {color: black;}#sk-container-id-3 div.sk-toggleable__content {max-height: 0;max-width: 0;overflow: hidden;text-align: left;background-color: #f0f8ff;}#sk-container-id-3 div.sk-toggleable__content pre {margin: 0.2em;color: black;border-radius: 0.25em;background-color: #f0f8ff;}#sk-container-id-3 input.sk-toggleable__control:checked~div.sk-toggleable__content {max-height: 200px;max-width: 100%;overflow: auto;}#sk-container-id-3 input.sk-toggleable__control:checked~label.sk-toggleable__label-arrow:before {content: \"▾\";}#sk-container-id-3 div.sk-estimator input.sk-toggleable__control:checked~label.sk-toggleable__label {background-color: #d4ebff;}#sk-container-id-3 div.sk-label input.sk-toggleable__control:checked~label.sk-toggleable__label {background-color: #d4ebff;}#sk-container-id-3 input.sk-hidden--visually {border: 0;clip: rect(1px 1px 1px 1px);clip: rect(1px, 1px, 1px, 1px);height: 1px;margin: -1px;overflow: hidden;padding: 0;position: absolute;width: 1px;}#sk-container-id-3 div.sk-estimator {font-family: monospace;background-color: #f0f8ff;border: 1px dotted black;border-radius: 0.25em;box-sizing: border-box;margin-bottom: 0.5em;}#sk-container-id-3 div.sk-estimator:hover {background-color: #d4ebff;}#sk-container-id-3 div.sk-parallel-item::after {content: \"\";width: 100%;border-bottom: 1px solid gray;flex-grow: 1;}#sk-container-id-3 div.sk-label:hover label.sk-toggleable__label {background-color: #d4ebff;}#sk-container-id-3 div.sk-serial::before {content: \"\";position: absolute;border-left: 1px solid gray;box-sizing: border-box;top: 0;bottom: 0;left: 50%;z-index: 0;}#sk-container-id-3 div.sk-serial {display: flex;flex-direction: column;align-items: center;background-color: white;padding-right: 0.2em;padding-left: 0.2em;position: relative;}#sk-container-id-3 div.sk-item {position: relative;z-index: 1;}#sk-container-id-3 div.sk-parallel {display: flex;align-items: stretch;justify-content: center;background-color: white;position: relative;}#sk-container-id-3 div.sk-item::before, #sk-container-id-3 div.sk-parallel-item::before {content: \"\";position: absolute;border-left: 1px solid gray;box-sizing: border-box;top: 0;bottom: 0;left: 50%;z-index: -1;}#sk-container-id-3 div.sk-parallel-item {display: flex;flex-direction: column;z-index: 1;position: relative;background-color: white;}#sk-container-id-3 div.sk-parallel-item:first-child::after {align-self: flex-end;width: 50%;}#sk-container-id-3 div.sk-parallel-item:last-child::after {align-self: flex-start;width: 50%;}#sk-container-id-3 div.sk-parallel-item:only-child::after {width: 0;}#sk-container-id-3 div.sk-dashed-wrapped {border: 1px dashed gray;margin: 0 0.4em 0.5em 0.4em;box-sizing: border-box;padding-bottom: 0.4em;background-color: white;}#sk-container-id-3 div.sk-label label {font-family: monospace;font-weight: bold;display: inline-block;line-height: 1.2em;}#sk-container-id-3 div.sk-label-container {text-align: center;}#sk-container-id-3 div.sk-container {/* jupyter's `normalize.less` sets `[hidden] { display: none; }` but bootstrap.min.css set `[hidden] { display: none !important; }` so we also need the `!important` here to be able to override the default hidden behavior on the sphinx rendered scikit-learn.org. See: https://github.com/scikit-learn/scikit-learn/issues/21755 */display: inline-block !important;position: relative;}#sk-container-id-3 div.sk-text-repr-fallback {display: none;}</style><div id=\"sk-container-id-3\" class=\"sk-top-container\"><div class=\"sk-text-repr-fallback\"><pre>ElasticNet(alpha=0.001)</pre><b>In a Jupyter environment, please rerun this cell to show the HTML representation or trust the notebook. <br />On GitHub, the HTML representation is unable to render, please try loading this page with nbviewer.org.</b></div><div class=\"sk-container\" hidden><div class=\"sk-item\"><div class=\"sk-estimator sk-toggleable\"><input class=\"sk-toggleable__control sk-hidden--visually\" id=\"sk-estimator-id-3\" type=\"checkbox\" checked><label for=\"sk-estimator-id-3\" class=\"sk-toggleable__label sk-toggleable__label-arrow\">ElasticNet</label><div class=\"sk-toggleable__content\"><pre>ElasticNet(alpha=0.001)</pre></div></div></div></div></div>"
      ],
      "text/plain": [
       "ElasticNet(alpha=0.001)"
      ]
     },
     "execution_count": 124,
     "metadata": {},
     "output_type": "execute_result"
    }
   ],
   "source": [
    "# import library\n",
    "from sklearn.linear_model import ElasticNet\n",
    "elasticnet = ElasticNet(alpha = 0.001)\n",
    "elasticnet.fit(X_train1, y_train1)"
   ]
  },
  {
   "cell_type": "code",
   "execution_count": 125,
   "id": "b335c911",
   "metadata": {},
   "outputs": [
    {
     "name": "stdout",
     "output_type": "stream",
     "text": [
      "0.4823938336254305\n",
      "0.4967273963935741\n",
      "The value of R2 / coefficient of determination: 0.1372308923129555\n"
     ]
    }
   ],
   "source": [
    "#Evaluating using RMSE\n",
    "\n",
    "print(np.sqrt(sklearn.metrics.mean_squared_error(y_train1, elasticnet.predict(X_train1))))\n",
    "print(np.sqrt(sklearn.metrics.mean_squared_error(y_test1, elasticnet.predict(X_test1))))\n",
    "print(\"The value of R2 / coefficient of determination: {}\".format(elasticnet.score(X_test1, y_test1)))"
   ]
  },
  {
   "cell_type": "markdown",
   "id": "c7405add",
   "metadata": {},
   "source": [
    "All the regression analysis"
   ]
  }
 ],
 "metadata": {
  "kernelspec": {
   "display_name": "Python 3 (ipykernel)",
   "language": "python",
   "name": "python3"
  },
  "language_info": {
   "codemirror_mode": {
    "name": "ipython",
    "version": 3
   },
   "file_extension": ".py",
   "mimetype": "text/x-python",
   "name": "python",
   "nbconvert_exporter": "python",
   "pygments_lexer": "ipython3",
   "version": "3.11.5"
  }
 },
 "nbformat": 4,
 "nbformat_minor": 5
}
