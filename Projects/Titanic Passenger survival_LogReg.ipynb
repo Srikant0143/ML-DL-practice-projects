{
 "cells": [
  {
   "cell_type": "markdown",
   "id": "3a4a7e0d",
   "metadata": {},
   "source": [
    "## Logistic Regression"
   ]
  },
  {
   "cell_type": "markdown",
   "id": "b0d8c38f",
   "metadata": {},
   "source": [
    "### Analysis on people survived on Titanic Ship Sinking"
   ]
  },
  {
   "cell_type": "code",
   "execution_count": 1,
   "id": "672cb720",
   "metadata": {},
   "outputs": [],
   "source": [
    "# importing Libraties\n",
    "\n",
    "import pandas as pd\n",
    "import numpy as np\n",
    "\n",
    "import matplotlib.pyplot as plt\n",
    "from pandas.plotting import scatter_matrix\n",
    "%matplotlib inline\n",
    "\n",
    "import seaborn as sns\n",
    "sns.set(style = 'white', color_codes = True,font_scale=1.5)\n",
    "\n",
    "# for model validation\n",
    "from sklearn.linear_model import LogisticRegression\n",
    "from sklearn.model_selection import train_test_split\n",
    "\n",
    "# for metrics and reporting\n",
    "from sklearn import metrics\n",
    "from sklearn.metrics import confusion_matrix, classification_report\n",
    "from sklearn.metrics import accuracy_score, precision_score, recall_score, f1_score #all these comes under classification report"
   ]
  },
  {
   "cell_type": "code",
   "execution_count": 2,
   "id": "74d30b38",
   "metadata": {},
   "outputs": [
    {
     "data": {
      "text/html": [
       "<div>\n",
       "<style scoped>\n",
       "    .dataframe tbody tr th:only-of-type {\n",
       "        vertical-align: middle;\n",
       "    }\n",
       "\n",
       "    .dataframe tbody tr th {\n",
       "        vertical-align: top;\n",
       "    }\n",
       "\n",
       "    .dataframe thead th {\n",
       "        text-align: right;\n",
       "    }\n",
       "</style>\n",
       "<table border=\"1\" class=\"dataframe\">\n",
       "  <thead>\n",
       "    <tr style=\"text-align: right;\">\n",
       "      <th></th>\n",
       "      <th>PassengerId</th>\n",
       "      <th>Survived</th>\n",
       "      <th>Pclass</th>\n",
       "      <th>Name</th>\n",
       "      <th>Sex</th>\n",
       "      <th>Age</th>\n",
       "      <th>SibSp</th>\n",
       "      <th>Parch</th>\n",
       "      <th>Ticket</th>\n",
       "      <th>Fare</th>\n",
       "      <th>Cabin</th>\n",
       "      <th>Embarked</th>\n",
       "    </tr>\n",
       "  </thead>\n",
       "  <tbody>\n",
       "    <tr>\n",
       "      <th>0</th>\n",
       "      <td>1</td>\n",
       "      <td>0</td>\n",
       "      <td>3</td>\n",
       "      <td>Braund, Mr. Owen Harris</td>\n",
       "      <td>male</td>\n",
       "      <td>22.0</td>\n",
       "      <td>1</td>\n",
       "      <td>0</td>\n",
       "      <td>A/5 21171</td>\n",
       "      <td>7.2500</td>\n",
       "      <td>NaN</td>\n",
       "      <td>S</td>\n",
       "    </tr>\n",
       "    <tr>\n",
       "      <th>1</th>\n",
       "      <td>2</td>\n",
       "      <td>1</td>\n",
       "      <td>1</td>\n",
       "      <td>Cumings, Mrs. John Bradley (Florence Briggs Th...</td>\n",
       "      <td>female</td>\n",
       "      <td>38.0</td>\n",
       "      <td>1</td>\n",
       "      <td>0</td>\n",
       "      <td>PC 17599</td>\n",
       "      <td>71.2833</td>\n",
       "      <td>C85</td>\n",
       "      <td>C</td>\n",
       "    </tr>\n",
       "    <tr>\n",
       "      <th>2</th>\n",
       "      <td>3</td>\n",
       "      <td>1</td>\n",
       "      <td>3</td>\n",
       "      <td>Heikkinen, Miss. Laina</td>\n",
       "      <td>female</td>\n",
       "      <td>26.0</td>\n",
       "      <td>0</td>\n",
       "      <td>0</td>\n",
       "      <td>STON/O2. 3101282</td>\n",
       "      <td>7.9250</td>\n",
       "      <td>NaN</td>\n",
       "      <td>S</td>\n",
       "    </tr>\n",
       "    <tr>\n",
       "      <th>3</th>\n",
       "      <td>4</td>\n",
       "      <td>1</td>\n",
       "      <td>1</td>\n",
       "      <td>Futrelle, Mrs. Jacques Heath (Lily May Peel)</td>\n",
       "      <td>female</td>\n",
       "      <td>35.0</td>\n",
       "      <td>1</td>\n",
       "      <td>0</td>\n",
       "      <td>113803</td>\n",
       "      <td>53.1000</td>\n",
       "      <td>C123</td>\n",
       "      <td>S</td>\n",
       "    </tr>\n",
       "    <tr>\n",
       "      <th>4</th>\n",
       "      <td>5</td>\n",
       "      <td>0</td>\n",
       "      <td>3</td>\n",
       "      <td>Allen, Mr. William Henry</td>\n",
       "      <td>male</td>\n",
       "      <td>35.0</td>\n",
       "      <td>0</td>\n",
       "      <td>0</td>\n",
       "      <td>373450</td>\n",
       "      <td>8.0500</td>\n",
       "      <td>NaN</td>\n",
       "      <td>S</td>\n",
       "    </tr>\n",
       "  </tbody>\n",
       "</table>\n",
       "</div>"
      ],
      "text/plain": [
       "   PassengerId  Survived  Pclass  \\\n",
       "0            1         0       3   \n",
       "1            2         1       1   \n",
       "2            3         1       3   \n",
       "3            4         1       1   \n",
       "4            5         0       3   \n",
       "\n",
       "                                                Name     Sex   Age  SibSp  \\\n",
       "0                            Braund, Mr. Owen Harris    male  22.0      1   \n",
       "1  Cumings, Mrs. John Bradley (Florence Briggs Th...  female  38.0      1   \n",
       "2                             Heikkinen, Miss. Laina  female  26.0      0   \n",
       "3       Futrelle, Mrs. Jacques Heath (Lily May Peel)  female  35.0      1   \n",
       "4                           Allen, Mr. William Henry    male  35.0      0   \n",
       "\n",
       "   Parch            Ticket     Fare Cabin Embarked  \n",
       "0      0         A/5 21171   7.2500   NaN        S  \n",
       "1      0          PC 17599  71.2833   C85        C  \n",
       "2      0  STON/O2. 3101282   7.9250   NaN        S  \n",
       "3      0            113803  53.1000  C123        S  \n",
       "4      0            373450   8.0500   NaN        S  "
      ]
     },
     "execution_count": 2,
     "metadata": {},
     "output_type": "execute_result"
    }
   ],
   "source": [
    "df_train = pd.read_csv(\"train.csv\")\n",
    "df_train.head()"
   ]
  },
  {
   "cell_type": "code",
   "execution_count": 3,
   "id": "8c2ed6f2",
   "metadata": {},
   "outputs": [
    {
     "data": {
      "text/plain": [
       "(891, 12)"
      ]
     },
     "execution_count": 3,
     "metadata": {},
     "output_type": "execute_result"
    }
   ],
   "source": [
    "df_train.shape"
   ]
  },
  {
   "cell_type": "code",
   "execution_count": 4,
   "id": "93ba166e",
   "metadata": {},
   "outputs": [
    {
     "data": {
      "text/plain": [
       "10692"
      ]
     },
     "execution_count": 4,
     "metadata": {},
     "output_type": "execute_result"
    }
   ],
   "source": [
    "df_train.size"
   ]
  },
  {
   "cell_type": "code",
   "execution_count": 5,
   "id": "5cd346e3",
   "metadata": {},
   "outputs": [
    {
     "data": {
      "text/plain": [
       "Survived\n",
       "0    549\n",
       "1    342\n",
       "Name: count, dtype: int64"
      ]
     },
     "execution_count": 5,
     "metadata": {},
     "output_type": "execute_result"
    }
   ],
   "source": [
    "# the target variable will be Survived. \n",
    "df_train.Survived.value_counts()  # note that there is approx 39% of passengers survived"
   ]
  },
  {
   "cell_type": "code",
   "execution_count": 6,
   "id": "f5f3b34e",
   "metadata": {},
   "outputs": [
    {
     "data": {
      "text/plain": [
       "Sex\n",
       "male      577\n",
       "female    314\n",
       "Name: count, dtype: int64"
      ]
     },
     "execution_count": 6,
     "metadata": {},
     "output_type": "execute_result"
    }
   ],
   "source": [
    "df_train.Sex.value_counts()"
   ]
  },
  {
   "cell_type": "code",
   "execution_count": 7,
   "id": "4f760a36",
   "metadata": {},
   "outputs": [
    {
     "data": {
      "text/plain": [
       "Embarked\n",
       "S    644\n",
       "C    168\n",
       "Q     77\n",
       "Name: count, dtype: int64"
      ]
     },
     "execution_count": 7,
     "metadata": {},
     "output_type": "execute_result"
    }
   ],
   "source": [
    "df_train.Embarked.value_counts()"
   ]
  },
  {
   "cell_type": "code",
   "execution_count": 8,
   "id": "ae0d5e4a",
   "metadata": {},
   "outputs": [
    {
     "data": {
      "text/plain": [
       "PassengerId      0\n",
       "Survived         0\n",
       "Pclass           0\n",
       "Name             0\n",
       "Sex              0\n",
       "Age            177\n",
       "SibSp            0\n",
       "Parch            0\n",
       "Ticket           0\n",
       "Fare             0\n",
       "Cabin          687\n",
       "Embarked         2\n",
       "dtype: int64"
      ]
     },
     "execution_count": 8,
     "metadata": {},
     "output_type": "execute_result"
    }
   ],
   "source": [
    "df_train.isnull().sum()  # note that majority of values missing from cabin column, better option would be to drop the column\n",
    "\n",
    "#in age column, portion of missing values is around 20% hence we can fill them with appropriate values."
   ]
  },
  {
   "cell_type": "code",
   "execution_count": 9,
   "id": "e4314e11",
   "metadata": {},
   "outputs": [],
   "source": [
    "# there are only 891 rows in the titanic data frame. Cabin is almost all missing values, \n",
    "# so we can drop that variable completely, \n",
    "\n",
    "# but what about age? \n",
    "# Age seems like a relevant predictor for survival right? We'd want to keep the variables, \n",
    "# but it has 177 missing values.  \n",
    "\n",
    "# Need to find a way to approximate for those missing values!"
   ]
  },
  {
   "cell_type": "code",
   "execution_count": 10,
   "id": "39185b2d",
   "metadata": {},
   "outputs": [],
   "source": [
    "# drop all the variables that aren't relevant for predicting survival. \n",
    "# We should at least keep the following:\n",
    "\n",
    "# Survived - This variable is obviously relevant.\n",
    "# Pclass   - Does a passenger's class on the boat affect their survivability?\n",
    "# Sex      - Could a passenger's gender impact their survival rate?\n",
    "# Age      - Does a person's age impact their survival rate?\n",
    "# SibSp    - Does the number of relatives on the boat (that are siblings or a spouse) \n",
    "#            affect a person survivability? Probability\n",
    "# Parch    - Does the number of relatives on the boat (that are children or parents) \n",
    "#            affect a person survivability? Probability\n",
    "# Fare     - Does the fare a person paid effect his survivability? Maybe - let's keep it.\n",
    "# Embarked - Does a person's point of embarkation matter? \n",
    "#            It depends on how the boat was filled... Let's keep it."
   ]
  },
  {
   "cell_type": "code",
   "execution_count": 11,
   "id": "c39f35a3",
   "metadata": {},
   "outputs": [],
   "source": [
    "# What about a person's name, ticket number, and passenger ID number? \n",
    "# They're irrelavant for predicting survivability. \n",
    "# And as you recall, the cabin variable is almost all missing values, \n",
    "# so we can just drop all of these."
   ]
  },
  {
   "cell_type": "code",
   "execution_count": 12,
   "id": "fefb8f65",
   "metadata": {},
   "outputs": [
    {
     "data": {
      "text/plain": [
       "Index(['PassengerId', 'Survived', 'Pclass', 'Name', 'Sex', 'Age', 'SibSp',\n",
       "       'Parch', 'Ticket', 'Fare', 'Cabin', 'Embarked'],\n",
       "      dtype='object')"
      ]
     },
     "execution_count": 12,
     "metadata": {},
     "output_type": "execute_result"
    }
   ],
   "source": [
    "df_train.columns"
   ]
  },
  {
   "cell_type": "code",
   "execution_count": 13,
   "id": "e36f49f6",
   "metadata": {},
   "outputs": [
    {
     "data": {
      "text/html": [
       "<div>\n",
       "<style scoped>\n",
       "    .dataframe tbody tr th:only-of-type {\n",
       "        vertical-align: middle;\n",
       "    }\n",
       "\n",
       "    .dataframe tbody tr th {\n",
       "        vertical-align: top;\n",
       "    }\n",
       "\n",
       "    .dataframe thead th {\n",
       "        text-align: right;\n",
       "    }\n",
       "</style>\n",
       "<table border=\"1\" class=\"dataframe\">\n",
       "  <thead>\n",
       "    <tr style=\"text-align: right;\">\n",
       "      <th></th>\n",
       "      <th>Survived</th>\n",
       "      <th>Pclass</th>\n",
       "      <th>Sex</th>\n",
       "      <th>Age</th>\n",
       "      <th>SibSp</th>\n",
       "      <th>Parch</th>\n",
       "      <th>Fare</th>\n",
       "      <th>Embarked</th>\n",
       "    </tr>\n",
       "  </thead>\n",
       "  <tbody>\n",
       "    <tr>\n",
       "      <th>0</th>\n",
       "      <td>0</td>\n",
       "      <td>3</td>\n",
       "      <td>male</td>\n",
       "      <td>22.0</td>\n",
       "      <td>1</td>\n",
       "      <td>0</td>\n",
       "      <td>7.2500</td>\n",
       "      <td>S</td>\n",
       "    </tr>\n",
       "    <tr>\n",
       "      <th>1</th>\n",
       "      <td>1</td>\n",
       "      <td>1</td>\n",
       "      <td>female</td>\n",
       "      <td>38.0</td>\n",
       "      <td>1</td>\n",
       "      <td>0</td>\n",
       "      <td>71.2833</td>\n",
       "      <td>C</td>\n",
       "    </tr>\n",
       "    <tr>\n",
       "      <th>2</th>\n",
       "      <td>1</td>\n",
       "      <td>3</td>\n",
       "      <td>female</td>\n",
       "      <td>26.0</td>\n",
       "      <td>0</td>\n",
       "      <td>0</td>\n",
       "      <td>7.9250</td>\n",
       "      <td>S</td>\n",
       "    </tr>\n",
       "    <tr>\n",
       "      <th>3</th>\n",
       "      <td>1</td>\n",
       "      <td>1</td>\n",
       "      <td>female</td>\n",
       "      <td>35.0</td>\n",
       "      <td>1</td>\n",
       "      <td>0</td>\n",
       "      <td>53.1000</td>\n",
       "      <td>S</td>\n",
       "    </tr>\n",
       "    <tr>\n",
       "      <th>4</th>\n",
       "      <td>0</td>\n",
       "      <td>3</td>\n",
       "      <td>male</td>\n",
       "      <td>35.0</td>\n",
       "      <td>0</td>\n",
       "      <td>0</td>\n",
       "      <td>8.0500</td>\n",
       "      <td>S</td>\n",
       "    </tr>\n",
       "  </tbody>\n",
       "</table>\n",
       "</div>"
      ],
      "text/plain": [
       "   Survived  Pclass     Sex   Age  SibSp  Parch     Fare Embarked\n",
       "0         0       3    male  22.0      1      0   7.2500        S\n",
       "1         1       1  female  38.0      1      0  71.2833        C\n",
       "2         1       3  female  26.0      0      0   7.9250        S\n",
       "3         1       1  female  35.0      1      0  53.1000        S\n",
       "4         0       3    male  35.0      0      0   8.0500        S"
      ]
     },
     "execution_count": 13,
     "metadata": {},
     "output_type": "execute_result"
    }
   ],
   "source": [
    "df_train = df_train.drop(['PassengerId','Name', 'Ticket', 'Cabin'], axis = 1)\n",
    "df_train.head()"
   ]
  },
  {
   "cell_type": "code",
   "execution_count": 14,
   "id": "61374c49",
   "metadata": {},
   "outputs": [
    {
     "data": {
      "text/plain": [
       "Pclass\n",
       "3    491\n",
       "1    216\n",
       "2    184\n",
       "Name: count, dtype: int64"
      ]
     },
     "execution_count": 14,
     "metadata": {},
     "output_type": "execute_result"
    }
   ],
   "source": [
    "# treating missing values in Age column\n",
    "df_train.Pclass.value_counts()"
   ]
  },
  {
   "cell_type": "code",
   "execution_count": 15,
   "id": "da6f2972",
   "metadata": {},
   "outputs": [
    {
     "data": {
      "text/plain": [
       "(38.233440860215055, 29.87763005780347, 25.14061971830986)"
      ]
     },
     "execution_count": 15,
     "metadata": {},
     "output_type": "execute_result"
    }
   ],
   "source": [
    "# using class to check the average age of passenger and filling with avg based on class\n",
    "\n",
    "p_1 = df_train[df_train['Pclass'] == 1]['Age'].mean()\n",
    "#filtering the Pclass, class wise and taking the mean of the age in that class\n",
    "p_2 = df_train[df_train['Pclass'] == 2]['Age'].mean()\n",
    "p_3 = df_train[df_train['Pclass'] == 3]['Age'].mean()\n",
    "p_1, p_2, p_3   #avg age in each class . Helpful in filling the missing age class wise"
   ]
  },
  {
   "cell_type": "code",
   "execution_count": 16,
   "id": "352eeb26",
   "metadata": {},
   "outputs": [
    {
     "data": {
      "text/html": [
       "<div>\n",
       "<style scoped>\n",
       "    .dataframe tbody tr th:only-of-type {\n",
       "        vertical-align: middle;\n",
       "    }\n",
       "\n",
       "    .dataframe tbody tr th {\n",
       "        vertical-align: top;\n",
       "    }\n",
       "\n",
       "    .dataframe thead th {\n",
       "        text-align: right;\n",
       "    }\n",
       "</style>\n",
       "<table border=\"1\" class=\"dataframe\">\n",
       "  <thead>\n",
       "    <tr style=\"text-align: right;\">\n",
       "      <th></th>\n",
       "      <th>Age</th>\n",
       "      <th>Fare</th>\n",
       "    </tr>\n",
       "    <tr>\n",
       "      <th>Pclass</th>\n",
       "      <th></th>\n",
       "      <th></th>\n",
       "    </tr>\n",
       "  </thead>\n",
       "  <tbody>\n",
       "    <tr>\n",
       "      <th>1</th>\n",
       "      <td>38.233441</td>\n",
       "      <td>84.154687</td>\n",
       "    </tr>\n",
       "    <tr>\n",
       "      <th>2</th>\n",
       "      <td>29.877630</td>\n",
       "      <td>20.662183</td>\n",
       "    </tr>\n",
       "    <tr>\n",
       "      <th>3</th>\n",
       "      <td>25.140620</td>\n",
       "      <td>13.675550</td>\n",
       "    </tr>\n",
       "  </tbody>\n",
       "</table>\n",
       "</div>"
      ],
      "text/plain": [
       "              Age       Fare\n",
       "Pclass                      \n",
       "1       38.233441  84.154687\n",
       "2       29.877630  20.662183\n",
       "3       25.140620  13.675550"
      ]
     },
     "execution_count": 16,
     "metadata": {},
     "output_type": "execute_result"
    }
   ],
   "source": [
    "# another way of checking\n",
    "df_train.groupby(['Pclass'])[['Age', 'Fare']].mean()"
   ]
  },
  {
   "cell_type": "code",
   "execution_count": 17,
   "id": "f87412a7",
   "metadata": {},
   "outputs": [],
   "source": [
    "# create a function which will accept the columns Pclass and Age, and check null value and tried to fill the \n",
    "# avg age class wise\n",
    "\n",
    "def age_approx(cols):\n",
    "    Age = cols[0]\n",
    "    Pclass = cols[1]\n",
    "    if pd.isnull(Age):\n",
    "        if Pclass == 1:\n",
    "            return 38\n",
    "        elif Pclass == 2:\n",
    "            return 29\n",
    "        else:\n",
    "            return 25\n",
    "    else:\n",
    "        return Age"
   ]
  },
  {
   "cell_type": "code",
   "execution_count": 18,
   "id": "40b812a7",
   "metadata": {},
   "outputs": [],
   "source": [
    "# apply the function to the age column based on Pclass\n",
    "df_train['Age'] = df_train[['Age', 'Pclass']].apply(age_approx, axis = 1) "
   ]
  },
  {
   "cell_type": "code",
   "execution_count": 19,
   "id": "3988af14",
   "metadata": {},
   "outputs": [
    {
     "data": {
      "text/plain": [
       "Survived    0\n",
       "Pclass      0\n",
       "Sex         0\n",
       "Age         0\n",
       "SibSp       0\n",
       "Parch       0\n",
       "Fare        0\n",
       "Embarked    2\n",
       "dtype: int64"
      ]
     },
     "execution_count": 19,
     "metadata": {},
     "output_type": "execute_result"
    }
   ],
   "source": [
    "df_train.isnull().sum()"
   ]
  },
  {
   "cell_type": "code",
   "execution_count": 20,
   "id": "0816bd0c",
   "metadata": {},
   "outputs": [],
   "source": [
    "# drop the  rows where Embarked are missing\n",
    "df_train.dropna(inplace= True)"
   ]
  },
  {
   "cell_type": "code",
   "execution_count": 21,
   "id": "6f599af3",
   "metadata": {
    "scrolled": false
   },
   "outputs": [
    {
     "data": {
      "text/plain": [
       "Survived    0\n",
       "Pclass      0\n",
       "Sex         0\n",
       "Age         0\n",
       "SibSp       0\n",
       "Parch       0\n",
       "Fare        0\n",
       "Embarked    0\n",
       "dtype: int64"
      ]
     },
     "execution_count": 21,
     "metadata": {},
     "output_type": "execute_result"
    }
   ],
   "source": [
    "df_train.isnull().sum()"
   ]
  },
  {
   "cell_type": "code",
   "execution_count": 22,
   "id": "838f7127",
   "metadata": {},
   "outputs": [
    {
     "data": {
      "text/plain": [
       "Survived      int64\n",
       "Pclass        int64\n",
       "Sex          object\n",
       "Age         float64\n",
       "SibSp         int64\n",
       "Parch         int64\n",
       "Fare        float64\n",
       "Embarked     object\n",
       "dtype: object"
      ]
     },
     "execution_count": 22,
     "metadata": {},
     "output_type": "execute_result"
    }
   ],
   "source": [
    "df_train.dtypes"
   ]
  },
  {
   "cell_type": "code",
   "execution_count": 23,
   "id": "9402de15",
   "metadata": {},
   "outputs": [],
   "source": [
    "# as we have categorical columns, need to convert them to numerical\n",
    "#use one hot encoding/get dummies to convert. as both Sex and Embark columns are nominal"
   ]
  },
  {
   "cell_type": "code",
   "execution_count": 24,
   "id": "9f46871b",
   "metadata": {
    "scrolled": true
   },
   "outputs": [
    {
     "data": {
      "text/html": [
       "<div>\n",
       "<style scoped>\n",
       "    .dataframe tbody tr th:only-of-type {\n",
       "        vertical-align: middle;\n",
       "    }\n",
       "\n",
       "    .dataframe tbody tr th {\n",
       "        vertical-align: top;\n",
       "    }\n",
       "\n",
       "    .dataframe thead th {\n",
       "        text-align: right;\n",
       "    }\n",
       "</style>\n",
       "<table border=\"1\" class=\"dataframe\">\n",
       "  <thead>\n",
       "    <tr style=\"text-align: right;\">\n",
       "      <th></th>\n",
       "      <th>Survived</th>\n",
       "      <th>Pclass</th>\n",
       "      <th>Age</th>\n",
       "      <th>SibSp</th>\n",
       "      <th>Parch</th>\n",
       "      <th>Fare</th>\n",
       "      <th>Sex_male</th>\n",
       "      <th>Embarked_Q</th>\n",
       "      <th>Embarked_S</th>\n",
       "    </tr>\n",
       "  </thead>\n",
       "  <tbody>\n",
       "    <tr>\n",
       "      <th>0</th>\n",
       "      <td>0</td>\n",
       "      <td>3</td>\n",
       "      <td>22.0</td>\n",
       "      <td>1</td>\n",
       "      <td>0</td>\n",
       "      <td>7.2500</td>\n",
       "      <td>1</td>\n",
       "      <td>0</td>\n",
       "      <td>1</td>\n",
       "    </tr>\n",
       "    <tr>\n",
       "      <th>1</th>\n",
       "      <td>1</td>\n",
       "      <td>1</td>\n",
       "      <td>38.0</td>\n",
       "      <td>1</td>\n",
       "      <td>0</td>\n",
       "      <td>71.2833</td>\n",
       "      <td>0</td>\n",
       "      <td>0</td>\n",
       "      <td>0</td>\n",
       "    </tr>\n",
       "    <tr>\n",
       "      <th>2</th>\n",
       "      <td>1</td>\n",
       "      <td>3</td>\n",
       "      <td>26.0</td>\n",
       "      <td>0</td>\n",
       "      <td>0</td>\n",
       "      <td>7.9250</td>\n",
       "      <td>0</td>\n",
       "      <td>0</td>\n",
       "      <td>1</td>\n",
       "    </tr>\n",
       "    <tr>\n",
       "      <th>3</th>\n",
       "      <td>1</td>\n",
       "      <td>1</td>\n",
       "      <td>35.0</td>\n",
       "      <td>1</td>\n",
       "      <td>0</td>\n",
       "      <td>53.1000</td>\n",
       "      <td>0</td>\n",
       "      <td>0</td>\n",
       "      <td>1</td>\n",
       "    </tr>\n",
       "    <tr>\n",
       "      <th>4</th>\n",
       "      <td>0</td>\n",
       "      <td>3</td>\n",
       "      <td>35.0</td>\n",
       "      <td>0</td>\n",
       "      <td>0</td>\n",
       "      <td>8.0500</td>\n",
       "      <td>1</td>\n",
       "      <td>0</td>\n",
       "      <td>1</td>\n",
       "    </tr>\n",
       "  </tbody>\n",
       "</table>\n",
       "</div>"
      ],
      "text/plain": [
       "   Survived  Pclass   Age  SibSp  Parch     Fare  Sex_male  Embarked_Q  \\\n",
       "0         0       3  22.0      1      0   7.2500         1           0   \n",
       "1         1       1  38.0      1      0  71.2833         0           0   \n",
       "2         1       3  26.0      0      0   7.9250         0           0   \n",
       "3         1       1  35.0      1      0  53.1000         0           0   \n",
       "4         0       3  35.0      0      0   8.0500         1           0   \n",
       "\n",
       "   Embarked_S  \n",
       "0           1  \n",
       "1           0  \n",
       "2           1  \n",
       "3           1  \n",
       "4           1  "
      ]
     },
     "execution_count": 24,
     "metadata": {},
     "output_type": "execute_result"
    }
   ],
   "source": [
    "df_train_dummied = pd.get_dummies(df_train, columns=['Sex', 'Embarked'], drop_first= True, dtype= int)\n",
    "df_train_dummied.head()\n",
    "\n",
    "# in this the original Sex & embarked columns are dropped as well with drop_first"
   ]
  },
  {
   "cell_type": "code",
   "execution_count": 25,
   "id": "dd7916c8",
   "metadata": {
    "scrolled": true
   },
   "outputs": [
    {
     "data": {
      "text/html": [
       "<div>\n",
       "<style scoped>\n",
       "    .dataframe tbody tr th:only-of-type {\n",
       "        vertical-align: middle;\n",
       "    }\n",
       "\n",
       "    .dataframe tbody tr th {\n",
       "        vertical-align: top;\n",
       "    }\n",
       "\n",
       "    .dataframe thead th {\n",
       "        text-align: right;\n",
       "    }\n",
       "</style>\n",
       "<table border=\"1\" class=\"dataframe\">\n",
       "  <thead>\n",
       "    <tr style=\"text-align: right;\">\n",
       "      <th></th>\n",
       "      <th>Survived</th>\n",
       "      <th>Pclass</th>\n",
       "      <th>Age</th>\n",
       "      <th>SibSp</th>\n",
       "      <th>Parch</th>\n",
       "      <th>Fare</th>\n",
       "      <th>Sex_male</th>\n",
       "      <th>Embarked_Q</th>\n",
       "      <th>Embarked_S</th>\n",
       "    </tr>\n",
       "  </thead>\n",
       "  <tbody>\n",
       "    <tr>\n",
       "      <th>Survived</th>\n",
       "      <td>1.000000</td>\n",
       "      <td>-0.335549</td>\n",
       "      <td>-0.054899</td>\n",
       "      <td>-0.034040</td>\n",
       "      <td>0.083151</td>\n",
       "      <td>0.255290</td>\n",
       "      <td>-0.541585</td>\n",
       "      <td>0.004536</td>\n",
       "      <td>-0.151777</td>\n",
       "    </tr>\n",
       "    <tr>\n",
       "      <th>Pclass</th>\n",
       "      <td>-0.335549</td>\n",
       "      <td>1.000000</td>\n",
       "      <td>-0.400979</td>\n",
       "      <td>0.081656</td>\n",
       "      <td>0.016824</td>\n",
       "      <td>-0.548193</td>\n",
       "      <td>0.127741</td>\n",
       "      <td>0.220558</td>\n",
       "      <td>0.076466</td>\n",
       "    </tr>\n",
       "    <tr>\n",
       "      <th>Age</th>\n",
       "      <td>-0.054899</td>\n",
       "      <td>-0.400979</td>\n",
       "      <td>1.000000</td>\n",
       "      <td>-0.242393</td>\n",
       "      <td>-0.173838</td>\n",
       "      <td>0.118665</td>\n",
       "      <td>0.085232</td>\n",
       "      <td>-0.070862</td>\n",
       "      <td>0.006319</td>\n",
       "    </tr>\n",
       "    <tr>\n",
       "      <th>SibSp</th>\n",
       "      <td>-0.034040</td>\n",
       "      <td>0.081656</td>\n",
       "      <td>-0.242393</td>\n",
       "      <td>1.000000</td>\n",
       "      <td>0.414542</td>\n",
       "      <td>0.160887</td>\n",
       "      <td>-0.116348</td>\n",
       "      <td>-0.026692</td>\n",
       "      <td>0.069438</td>\n",
       "    </tr>\n",
       "    <tr>\n",
       "      <th>Parch</th>\n",
       "      <td>0.083151</td>\n",
       "      <td>0.016824</td>\n",
       "      <td>-0.173838</td>\n",
       "      <td>0.414542</td>\n",
       "      <td>1.000000</td>\n",
       "      <td>0.217532</td>\n",
       "      <td>-0.247508</td>\n",
       "      <td>-0.081585</td>\n",
       "      <td>0.061512</td>\n",
       "    </tr>\n",
       "    <tr>\n",
       "      <th>Fare</th>\n",
       "      <td>0.255290</td>\n",
       "      <td>-0.548193</td>\n",
       "      <td>0.118665</td>\n",
       "      <td>0.160887</td>\n",
       "      <td>0.217532</td>\n",
       "      <td>1.000000</td>\n",
       "      <td>-0.179958</td>\n",
       "      <td>-0.116684</td>\n",
       "      <td>-0.163758</td>\n",
       "    </tr>\n",
       "    <tr>\n",
       "      <th>Sex_male</th>\n",
       "      <td>-0.541585</td>\n",
       "      <td>0.127741</td>\n",
       "      <td>0.085232</td>\n",
       "      <td>-0.116348</td>\n",
       "      <td>-0.247508</td>\n",
       "      <td>-0.179958</td>\n",
       "      <td>1.000000</td>\n",
       "      <td>-0.075217</td>\n",
       "      <td>0.121405</td>\n",
       "    </tr>\n",
       "    <tr>\n",
       "      <th>Embarked_Q</th>\n",
       "      <td>0.004536</td>\n",
       "      <td>0.220558</td>\n",
       "      <td>-0.070862</td>\n",
       "      <td>-0.026692</td>\n",
       "      <td>-0.081585</td>\n",
       "      <td>-0.116684</td>\n",
       "      <td>-0.075217</td>\n",
       "      <td>1.000000</td>\n",
       "      <td>-0.499261</td>\n",
       "    </tr>\n",
       "    <tr>\n",
       "      <th>Embarked_S</th>\n",
       "      <td>-0.151777</td>\n",
       "      <td>0.076466</td>\n",
       "      <td>0.006319</td>\n",
       "      <td>0.069438</td>\n",
       "      <td>0.061512</td>\n",
       "      <td>-0.163758</td>\n",
       "      <td>0.121405</td>\n",
       "      <td>-0.499261</td>\n",
       "      <td>1.000000</td>\n",
       "    </tr>\n",
       "  </tbody>\n",
       "</table>\n",
       "</div>"
      ],
      "text/plain": [
       "            Survived    Pclass       Age     SibSp     Parch      Fare  \\\n",
       "Survived    1.000000 -0.335549 -0.054899 -0.034040  0.083151  0.255290   \n",
       "Pclass     -0.335549  1.000000 -0.400979  0.081656  0.016824 -0.548193   \n",
       "Age        -0.054899 -0.400979  1.000000 -0.242393 -0.173838  0.118665   \n",
       "SibSp      -0.034040  0.081656 -0.242393  1.000000  0.414542  0.160887   \n",
       "Parch       0.083151  0.016824 -0.173838  0.414542  1.000000  0.217532   \n",
       "Fare        0.255290 -0.548193  0.118665  0.160887  0.217532  1.000000   \n",
       "Sex_male   -0.541585  0.127741  0.085232 -0.116348 -0.247508 -0.179958   \n",
       "Embarked_Q  0.004536  0.220558 -0.070862 -0.026692 -0.081585 -0.116684   \n",
       "Embarked_S -0.151777  0.076466  0.006319  0.069438  0.061512 -0.163758   \n",
       "\n",
       "            Sex_male  Embarked_Q  Embarked_S  \n",
       "Survived   -0.541585    0.004536   -0.151777  \n",
       "Pclass      0.127741    0.220558    0.076466  \n",
       "Age         0.085232   -0.070862    0.006319  \n",
       "SibSp      -0.116348   -0.026692    0.069438  \n",
       "Parch      -0.247508   -0.081585    0.061512  \n",
       "Fare       -0.179958   -0.116684   -0.163758  \n",
       "Sex_male    1.000000   -0.075217    0.121405  \n",
       "Embarked_Q -0.075217    1.000000   -0.499261  \n",
       "Embarked_S  0.121405   -0.499261    1.000000  "
      ]
     },
     "execution_count": 25,
     "metadata": {},
     "output_type": "execute_result"
    }
   ],
   "source": [
    "# checking the correlation (checking for independence between features)\n",
    "# check if multicolinearity exists\n",
    "df_train_dummied.corr()"
   ]
  },
  {
   "cell_type": "code",
   "execution_count": 26,
   "id": "774e5d07",
   "metadata": {},
   "outputs": [
    {
     "data": {
      "text/plain": [
       "<Axes: title={'center': 'Correlation between features'}>"
      ]
     },
     "execution_count": 26,
     "metadata": {},
     "output_type": "execute_result"
    },
    {
     "data": {
      "image/png": "[encoded data removed]",
      "text/plain": [
       "<Figure size 800x400 with 2 Axes>"
      ]
     },
     "metadata": {},
     "output_type": "display_data"
    }
   ],
   "source": [
    "plt.figure(figsize = (8,4))\n",
    "plt.title('Correlation between features')\n",
    "sns.heatmap(df_train_dummied.corr())"
   ]
  },
  {
   "cell_type": "code",
   "execution_count": 27,
   "id": "593ae32f",
   "metadata": {},
   "outputs": [],
   "source": [
    "# splitting the data into target and features\n",
    "# dropping the Fare columns as it is not impacting much in the model. and to reduce redundancy\n",
    "# if you want, you can keep the Fare column and perform the model\n",
    "X = df_train_dummied.drop(['Survived'], axis = 1)\n",
    "y = df_train_dummied['Survived']"
   ]
  },
  {
   "cell_type": "code",
   "execution_count": 28,
   "id": "f5f7e8fd",
   "metadata": {},
   "outputs": [
    {
     "data": {
      "text/plain": [
       "(889, 8)"
      ]
     },
     "execution_count": 28,
     "metadata": {},
     "output_type": "execute_result"
    }
   ],
   "source": [
    "X.shape"
   ]
  },
  {
   "cell_type": "code",
   "execution_count": 29,
   "id": "4b9db5d2",
   "metadata": {},
   "outputs": [
    {
     "data": {
      "text/plain": [
       "(889, 9)"
      ]
     },
     "execution_count": 29,
     "metadata": {},
     "output_type": "execute_result"
    }
   ],
   "source": [
    "df_train_dummied.shape"
   ]
  },
  {
   "cell_type": "code",
   "execution_count": 30,
   "id": "e0eff93e",
   "metadata": {},
   "outputs": [],
   "source": [
    "X_train, X_test, y_train, y_test = train_test_split(X,y, train_size= 0.7, random_state=11)"
   ]
  },
  {
   "cell_type": "code",
   "execution_count": 31,
   "id": "039eef0e",
   "metadata": {},
   "outputs": [],
   "source": [
    "import warnings\n",
    "warnings.filterwarnings(\"ignore\")"
   ]
  },
  {
   "cell_type": "markdown",
   "id": "ab14bade",
   "metadata": {},
   "source": [
    "###### Random state can be selected by randomly. However if you want to check which random_state gives best accuracy, can use for loop in range(0,100) and find out which is the best suited. But this is not advisable\n",
    "best_accuracy = 0.0\n",
    "best_random_state = None\n",
    "\n",
    "for random_state in range(100):  # try different random states\n",
    "    X_train, X_test, y_train, y_test = train_test_split(X, y, test_size=0.3, random_state=random_state)\n",
    "\n",
    "    # Create and train your classifier (replace with your actual classifier)\n",
    "    model = LogisticRegression()\n",
    "    model.fit(X_train, y_train)\n",
    "\n",
    "    # Make predictions\n",
    "    y_pred = model.predict(X_test)\n",
    "\n",
    "    # Calculate accuracy\n",
    "    accuracy = accuracy_score(y_test, y_pred)\n",
    "\n",
    "    # Update best random state if current accuracy is higher\n",
    "    if accuracy > best_accuracy:\n",
    "        best_accuracy = accuracy\n",
    "        best_random_state = random_state\n",
    "\n",
    "print(\"Best Random State:\", best_random_state)\n",
    "print(\"Best Accuracy:\", best_accuracy)"
   ]
  },
  {
   "cell_type": "code",
   "execution_count": 32,
   "id": "a6f38510",
   "metadata": {},
   "outputs": [
    {
     "name": "stdout",
     "output_type": "stream",
     "text": [
      "(622, 8)\n",
      "(267, 8)\n",
      "(622,)\n",
      "(267,)\n"
     ]
    }
   ],
   "source": [
    "print(X_train.shape)\n",
    "print(X_test.shape)\n",
    "print(y_train.shape)\n",
    "print(y_test.shape)"
   ]
  },
  {
   "cell_type": "code",
   "execution_count": 33,
   "id": "29e8e497",
   "metadata": {},
   "outputs": [],
   "source": [
    "# initiating the classifier\n",
    "\n",
    "LogReg = LogisticRegression()"
   ]
  },
  {
   "cell_type": "code",
   "execution_count": 34,
   "id": "8737f827",
   "metadata": {
    "scrolled": true
   },
   "outputs": [
    {
     "data": {
      "text/html": [
       "<style>#sk-container-id-1 {color: black;}#sk-container-id-1 pre{padding: 0;}#sk-container-id-1 div.sk-toggleable {background-color: white;}#sk-container-id-1 label.sk-toggleable__label {cursor: pointer;display: block;width: 100%;margin-bottom: 0;padding: 0.3em;box-sizing: border-box;text-align: center;}#sk-container-id-1 label.sk-toggleable__label-arrow:before {content: \"▸\";float: left;margin-right: 0.25em;color: #696969;}#sk-container-id-1 label.sk-toggleable__label-arrow:hover:before {color: black;}#sk-container-id-1 div.sk-estimator:hover label.sk-toggleable__label-arrow:before {color: black;}#sk-container-id-1 div.sk-toggleable__content {max-height: 0;max-width: 0;overflow: hidden;text-align: left;background-color: #f0f8ff;}#sk-container-id-1 div.sk-toggleable__content pre {margin: 0.2em;color: black;border-radius: 0.25em;background-color: #f0f8ff;}#sk-container-id-1 input.sk-toggleable__control:checked~div.sk-toggleable__content {max-height: 200px;max-width: 100%;overflow: auto;}#sk-container-id-1 input.sk-toggleable__control:checked~label.sk-toggleable__label-arrow:before {content: \"▾\";}#sk-container-id-1 div.sk-estimator input.sk-toggleable__control:checked~label.sk-toggleable__label {background-color: #d4ebff;}#sk-container-id-1 div.sk-label input.sk-toggleable__control:checked~label.sk-toggleable__label {background-color: #d4ebff;}#sk-container-id-1 input.sk-hidden--visually {border: 0;clip: rect(1px 1px 1px 1px);clip: rect(1px, 1px, 1px, 1px);height: 1px;margin: -1px;overflow: hidden;padding: 0;position: absolute;width: 1px;}#sk-container-id-1 div.sk-estimator {font-family: monospace;background-color: #f0f8ff;border: 1px dotted black;border-radius: 0.25em;box-sizing: border-box;margin-bottom: 0.5em;}#sk-container-id-1 div.sk-estimator:hover {background-color: #d4ebff;}#sk-container-id-1 div.sk-parallel-item::after {content: \"\";width: 100%;border-bottom: 1px solid gray;flex-grow: 1;}#sk-container-id-1 div.sk-label:hover label.sk-toggleable__label {background-color: #d4ebff;}#sk-container-id-1 div.sk-serial::before {content: \"\";position: absolute;border-left: 1px solid gray;box-sizing: border-box;top: 0;bottom: 0;left: 50%;z-index: 0;}#sk-container-id-1 div.sk-serial {display: flex;flex-direction: column;align-items: center;background-color: white;padding-right: 0.2em;padding-left: 0.2em;position: relative;}#sk-container-id-1 div.sk-item {position: relative;z-index: 1;}#sk-container-id-1 div.sk-parallel {display: flex;align-items: stretch;justify-content: center;background-color: white;position: relative;}#sk-container-id-1 div.sk-item::before, #sk-container-id-1 div.sk-parallel-item::before {content: \"\";position: absolute;border-left: 1px solid gray;box-sizing: border-box;top: 0;bottom: 0;left: 50%;z-index: -1;}#sk-container-id-1 div.sk-parallel-item {display: flex;flex-direction: column;z-index: 1;position: relative;background-color: white;}#sk-container-id-1 div.sk-parallel-item:first-child::after {align-self: flex-end;width: 50%;}#sk-container-id-1 div.sk-parallel-item:last-child::after {align-self: flex-start;width: 50%;}#sk-container-id-1 div.sk-parallel-item:only-child::after {width: 0;}#sk-container-id-1 div.sk-dashed-wrapped {border: 1px dashed gray;margin: 0 0.4em 0.5em 0.4em;box-sizing: border-box;padding-bottom: 0.4em;background-color: white;}#sk-container-id-1 div.sk-label label {font-family: monospace;font-weight: bold;display: inline-block;line-height: 1.2em;}#sk-container-id-1 div.sk-label-container {text-align: center;}#sk-container-id-1 div.sk-container {/* jupyter's `normalize.less` sets `[hidden] { display: none; }` but bootstrap.min.css set `[hidden] { display: none !important; }` so we also need the `!important` here to be able to override the default hidden behavior on the sphinx rendered scikit-learn.org. See: https://github.com/scikit-learn/scikit-learn/issues/21755 */display: inline-block !important;position: relative;}#sk-container-id-1 div.sk-text-repr-fallback {display: none;}</style><div id=\"sk-container-id-1\" class=\"sk-top-container\"><div class=\"sk-text-repr-fallback\"><pre>LogisticRegression()</pre><b>In a Jupyter environment, please rerun this cell to show the HTML representation or trust the notebook. <br />On GitHub, the HTML representation is unable to render, please try loading this page with nbviewer.org.</b></div><div class=\"sk-container\" hidden><div class=\"sk-item\"><div class=\"sk-estimator sk-toggleable\"><input class=\"sk-toggleable__control sk-hidden--visually\" id=\"sk-estimator-id-1\" type=\"checkbox\" checked><label for=\"sk-estimator-id-1\" class=\"sk-toggleable__label sk-toggleable__label-arrow\">LogisticRegression</label><div class=\"sk-toggleable__content\"><pre>LogisticRegression()</pre></div></div></div></div></div>"
      ],
      "text/plain": [
       "LogisticRegression()"
      ]
     },
     "execution_count": 34,
     "metadata": {},
     "output_type": "execute_result"
    }
   ],
   "source": [
    "# training the classifier\n",
    "\n",
    "LogReg.fit(X_train, y_train)"
   ]
  },
  {
   "cell_type": "code",
   "execution_count": 35,
   "id": "daaa2510",
   "metadata": {},
   "outputs": [],
   "source": [
    "# predicting the output using test features\n",
    "\n",
    "y_pred = LogReg.predict(X_test)"
   ]
  },
  {
   "cell_type": "markdown",
   "id": "e639e126",
   "metadata": {},
   "source": [
    "#### Evaluation of the model"
   ]
  },
  {
   "cell_type": "code",
   "execution_count": 36,
   "id": "b5abffa6",
   "metadata": {},
   "outputs": [
    {
     "data": {
      "text/plain": [
       "array([[142,  19],\n",
       "       [ 23,  83]], dtype=int64)"
      ]
     },
     "execution_count": 36,
     "metadata": {},
     "output_type": "execute_result"
    }
   ],
   "source": [
    "metrics.confusion_matrix(y_test, y_pred)"
   ]
  },
  {
   "cell_type": "code",
   "execution_count": 37,
   "id": "a9db4bee",
   "metadata": {},
   "outputs": [
    {
     "data": {
      "text/plain": [
       "<Axes: >"
      ]
     },
     "execution_count": 37,
     "metadata": {},
     "output_type": "execute_result"
    },
    {
     "data": {
      "image/png": "[encoded data removed]",
      "text/plain": [
       "<Figure size 300x200 with 2 Axes>"
      ]
     },
     "metadata": {},
     "output_type": "display_data"
    }
   ],
   "source": [
    "# using heatmap for confusion matrix\n",
    "plt.figure(figsize=(3,2))\n",
    "sns.heatmap(metrics.confusion_matrix(y_test, y_pred), annot=True, fmt = '0.3g')"
   ]
  },
  {
   "cell_type": "code",
   "execution_count": 38,
   "id": "7fd19232",
   "metadata": {},
   "outputs": [
    {
     "data": {
      "text/plain": [
       "0.8426966292134831"
      ]
     },
     "execution_count": 38,
     "metadata": {},
     "output_type": "execute_result"
    }
   ],
   "source": [
    "metrics.accuracy_score(y_test, y_pred)"
   ]
  },
  {
   "cell_type": "code",
   "execution_count": 39,
   "id": "e9cf2096",
   "metadata": {},
   "outputs": [
    {
     "data": {
      "text/plain": [
       "267"
      ]
     },
     "execution_count": 39,
     "metadata": {},
     "output_type": "execute_result"
    }
   ],
   "source": [
    "len(X_test)"
   ]
  },
  {
   "cell_type": "code",
   "execution_count": 40,
   "id": "f16c22d5",
   "metadata": {
    "scrolled": true
   },
   "outputs": [
    {
     "name": "stdout",
     "output_type": "stream",
     "text": [
      "              precision    recall  f1-score   support\n",
      "\n",
      "           0       0.86      0.88      0.87       161\n",
      "           1       0.81      0.78      0.80       106\n",
      "\n",
      "    accuracy                           0.84       267\n",
      "   macro avg       0.84      0.83      0.83       267\n",
      "weighted avg       0.84      0.84      0.84       267\n",
      "\n"
     ]
    }
   ],
   "source": [
    "print(classification_report(y_test, y_pred))  # this report gives, various metrics as below"
   ]
  },
  {
   "cell_type": "code",
   "execution_count": 41,
   "id": "166cae89",
   "metadata": {},
   "outputs": [
    {
     "data": {
      "text/plain": [
       "0.7830188679245284"
      ]
     },
     "execution_count": 41,
     "metadata": {},
     "output_type": "execute_result"
    }
   ],
   "source": [
    "metrics.recall_score(y_test, y_pred)"
   ]
  },
  {
   "cell_type": "code",
   "execution_count": 42,
   "id": "1dcde048",
   "metadata": {},
   "outputs": [
    {
     "data": {
      "text/plain": [
       "0.8137254901960784"
      ]
     },
     "execution_count": 42,
     "metadata": {},
     "output_type": "execute_result"
    }
   ],
   "source": [
    "metrics.precision_score(y_test,y_pred)"
   ]
  },
  {
   "cell_type": "code",
   "execution_count": 43,
   "id": "4c7d21fd",
   "metadata": {
    "scrolled": true
   },
   "outputs": [
    {
     "data": {
      "text/plain": [
       "(array([0.39700375, 0.81372549, 1.        ]),\n",
       " array([1.        , 0.78301887, 0.        ]),\n",
       " array([0, 1], dtype=int64))"
      ]
     },
     "execution_count": 43,
     "metadata": {},
     "output_type": "execute_result"
    }
   ],
   "source": [
    "metrics.precision_recall_curve(y_test, y_pred)  # 1st array is precision, 2- recall 3 -thresholds"
   ]
  },
  {
   "cell_type": "code",
   "execution_count": 44,
   "id": "cdaaffd0",
   "metadata": {},
   "outputs": [
    {
     "name": "stdout",
     "output_type": "stream",
     "text": [
      "Coefficient: [[-1.02258497 -0.03581339 -0.28252377 -0.16564894  0.00496645 -2.30751656\n",
      "   0.17374416 -0.30836795]]\n",
      "intercept: [4.54982645]\n"
     ]
    }
   ],
   "source": [
    "print(\"Coefficient:\",LogReg.coef_)\n",
    "print(\"intercept:\",LogReg.intercept_)"
   ]
  },
  {
   "cell_type": "code",
   "execution_count": 45,
   "id": "25cdf2f1",
   "metadata": {},
   "outputs": [
    {
     "data": {
      "text/plain": [
       "Index(['Survived', 'Pclass', 'Age', 'SibSp', 'Parch', 'Fare', 'Sex_male',\n",
       "       'Embarked_Q', 'Embarked_S'],\n",
       "      dtype='object')"
      ]
     },
     "execution_count": 45,
     "metadata": {},
     "output_type": "execute_result"
    }
   ],
   "source": [
    "df_train_dummied.columns"
   ]
  },
  {
   "cell_type": "code",
   "execution_count": 46,
   "id": "d8cf062c",
   "metadata": {},
   "outputs": [],
   "source": [
    "prob_values = LogReg.predict_proba(X_test)"
   ]
  },
  {
   "cell_type": "code",
   "execution_count": 47,
   "id": "314573b1",
   "metadata": {},
   "outputs": [
    {
     "data": {
      "text/plain": [
       "267"
      ]
     },
     "execution_count": 47,
     "metadata": {},
     "output_type": "execute_result"
    }
   ],
   "source": [
    "len(prob_values)"
   ]
  },
  {
   "cell_type": "code",
   "execution_count": 48,
   "id": "c1666c77",
   "metadata": {},
   "outputs": [
    {
     "data": {
      "text/plain": [
       "array([[0.36848301, 0.63151699],\n",
       "       [0.92864223, 0.07135777],\n",
       "       [0.34256076, 0.65743924],\n",
       "       [0.47426036, 0.52573964],\n",
       "       [0.81111476, 0.18888524],\n",
       "       [0.83329241, 0.16670759],\n",
       "       [0.56490566, 0.43509434],\n",
       "       [0.07156822, 0.92843178],\n",
       "       [0.06670059, 0.93329941],\n",
       "       [0.81884556, 0.18115444],\n",
       "       [0.57709806, 0.42290194],\n",
       "       [0.85499004, 0.14500996],\n",
       "       [0.8187872 , 0.1812128 ],\n",
       "       [0.07429771, 0.92570229],\n",
       "       [0.27274233, 0.72725767],\n",
       "       [0.86575832, 0.13424168],\n",
       "       [0.85227784, 0.14772216],\n",
       "       [0.63456325, 0.36543675],\n",
       "       [0.0629947 , 0.9370053 ],\n",
       "       [0.90382638, 0.09617362],\n",
       "       [0.46761496, 0.53238504],\n",
       "       [0.60649614, 0.39350386],\n",
       "       [0.86342234, 0.13657766],\n",
       "       [0.8288411 , 0.1711589 ],\n",
       "       [0.87622246, 0.12377754],\n",
       "       [0.88629987, 0.11370013],\n",
       "       [0.87965506, 0.12034494],\n",
       "       [0.49455966, 0.50544034],\n",
       "       [0.70482311, 0.29517689],\n",
       "       [0.92934019, 0.07065981],\n",
       "       [0.06840214, 0.93159786],\n",
       "       [0.69090858, 0.30909142],\n",
       "       [0.88840333, 0.11159667],\n",
       "       [0.62152001, 0.37847999],\n",
       "       [0.87965506, 0.12034494],\n",
       "       [0.93524774, 0.06475226],\n",
       "       [0.35940652, 0.64059348],\n",
       "       [0.9121676 , 0.0878324 ],\n",
       "       [0.89064765, 0.10935235],\n",
       "       [0.90385694, 0.09614306],\n",
       "       [0.08805196, 0.91194804],\n",
       "       [0.96123854, 0.03876146],\n",
       "       [0.85492334, 0.14507666],\n",
       "       [0.32296808, 0.67703192],\n",
       "       [0.52592071, 0.47407929],\n",
       "       [0.25592025, 0.74407975],\n",
       "       [0.31024567, 0.68975433],\n",
       "       [0.758063  , 0.241937  ],\n",
       "       [0.48354991, 0.51645009],\n",
       "       [0.07853774, 0.92146226],\n",
       "       [0.81863273, 0.18136727],\n",
       "       [0.75025519, 0.24974481],\n",
       "       [0.2597794 , 0.7402206 ],\n",
       "       [0.68985948, 0.31014052],\n",
       "       [0.43788923, 0.56211077],\n",
       "       [0.82503306, 0.17496694],\n",
       "       [0.13787967, 0.86212033],\n",
       "       [0.81884556, 0.18115444],\n",
       "       [0.85508496, 0.14491504],\n",
       "       [0.86483054, 0.13516946],\n",
       "       [0.2216047 , 0.7783953 ],\n",
       "       [0.221305  , 0.778695  ],\n",
       "       [0.05731215, 0.94268785],\n",
       "       [0.87736413, 0.12263587],\n",
       "       [0.64783034, 0.35216966],\n",
       "       [0.9127195 , 0.0872805 ],\n",
       "       [0.27114768, 0.72885232],\n",
       "       [0.16899121, 0.83100879],\n",
       "       [0.0644112 , 0.9355888 ],\n",
       "       [0.84354915, 0.15645085],\n",
       "       [0.87975689, 0.12024311],\n",
       "       [0.85499004, 0.14500996],\n",
       "       [0.06857198, 0.93142802],\n",
       "       [0.27967073, 0.72032927],\n",
       "       [0.19760497, 0.80239503],\n",
       "       [0.9212685 , 0.0787315 ],\n",
       "       [0.30820208, 0.69179792],\n",
       "       [0.39894809, 0.60105191],\n",
       "       [0.18296977, 0.81703023],\n",
       "       [0.49654802, 0.50345198],\n",
       "       [0.8064484 , 0.1935516 ],\n",
       "       [0.07177916, 0.92822084],\n",
       "       [0.04005062, 0.95994938],\n",
       "       [0.0595181 , 0.9404819 ],\n",
       "       [0.05447655, 0.94552345],\n",
       "       [0.87973611, 0.12026389],\n",
       "       [0.85938883, 0.14061117],\n",
       "       [0.87965506, 0.12034494],\n",
       "       [0.86376114, 0.13623886],\n",
       "       [0.86114338, 0.13885662],\n",
       "       [0.75967841, 0.24032159],\n",
       "       [0.75947734, 0.24052266],\n",
       "       [0.7532012 , 0.2467988 ],\n",
       "       [0.87965506, 0.12034494],\n",
       "       [0.31024567, 0.68975433],\n",
       "       [0.87121062, 0.12878938],\n",
       "       [0.03978588, 0.96021412],\n",
       "       [0.90695762, 0.09304238],\n",
       "       [0.90073462, 0.09926538],\n",
       "       [0.42135466, 0.57864534],\n",
       "       [0.40905004, 0.59094996],\n",
       "       [0.84363079, 0.15636921],\n",
       "       [0.03805656, 0.96194344],\n",
       "       [0.91827009, 0.08172991],\n",
       "       [0.89342775, 0.10657225],\n",
       "       [0.3409336 , 0.6590664 ],\n",
       "       [0.47439839, 0.52560161],\n",
       "       [0.8435519 , 0.1564481 ],\n",
       "       [0.62862228, 0.37137772],\n",
       "       [0.89024391, 0.10975609],\n",
       "       [0.06938579, 0.93061421],\n",
       "       [0.88347395, 0.11652605],\n",
       "       [0.07679873, 0.92320127],\n",
       "       [0.39232006, 0.60767994],\n",
       "       [0.46447898, 0.53552102],\n",
       "       [0.04817301, 0.95182699],\n",
       "       [0.87090229, 0.12909771],\n",
       "       [0.94297044, 0.05702956],\n",
       "       [0.84354915, 0.15645085],\n",
       "       [0.87740395, 0.12259605],\n",
       "       [0.81950155, 0.18049845],\n",
       "       [0.88071913, 0.11928087],\n",
       "       [0.91558985, 0.08441015],\n",
       "       [0.85033519, 0.14966481],\n",
       "       [0.91045532, 0.08954468],\n",
       "       [0.65162162, 0.34837838],\n",
       "       [0.88007503, 0.11992497],\n",
       "       [0.74218152, 0.25781848],\n",
       "       [0.85311436, 0.14688564],\n",
       "       [0.36701736, 0.63298264],\n",
       "       [0.04689138, 0.95310862],\n",
       "       [0.55269263, 0.44730737],\n",
       "       [0.31995216, 0.68004784],\n",
       "       [0.60456033, 0.39543967],\n",
       "       [0.49000343, 0.50999657],\n",
       "       [0.31016151, 0.68983849],\n",
       "       [0.8149166 , 0.1850834 ],\n",
       "       [0.83320556, 0.16679444],\n",
       "       [0.13976392, 0.86023608],\n",
       "       [0.12154283, 0.87845717],\n",
       "       [0.75418635, 0.24581365],\n",
       "       [0.8435519 , 0.1564481 ],\n",
       "       [0.44717356, 0.55282644],\n",
       "       [0.50087746, 0.49912254],\n",
       "       [0.91574325, 0.08425675],\n",
       "       [0.7349031 , 0.2650969 ],\n",
       "       [0.93089237, 0.06910763],\n",
       "       [0.81886397, 0.18113603],\n",
       "       [0.13779851, 0.86220149],\n",
       "       [0.9489139 , 0.0510861 ],\n",
       "       [0.37536422, 0.62463578],\n",
       "       [0.86795419, 0.13204581],\n",
       "       [0.41703873, 0.58296127],\n",
       "       [0.06394802, 0.93605198],\n",
       "       [0.87821354, 0.12178646],\n",
       "       [0.74066715, 0.25933285],\n",
       "       [0.06140574, 0.93859426],\n",
       "       [0.90363735, 0.09636265],\n",
       "       [0.21258035, 0.78741965],\n",
       "       [0.06420412, 0.93579588],\n",
       "       [0.85900603, 0.14099397],\n",
       "       [0.64586294, 0.35413706],\n",
       "       [0.87736413, 0.12263587],\n",
       "       [0.27450802, 0.72549198],\n",
       "       [0.10622813, 0.89377187],\n",
       "       [0.87589521, 0.12410479],\n",
       "       [0.84133742, 0.15866258],\n",
       "       [0.92095756, 0.07904244],\n",
       "       [0.24697263, 0.75302737],\n",
       "       [0.80897848, 0.19102152],\n",
       "       [0.92068566, 0.07931434],\n",
       "       [0.18004686, 0.81995314],\n",
       "       [0.55561733, 0.44438267],\n",
       "       [0.84678693, 0.15321307],\n",
       "       [0.87622246, 0.12377754],\n",
       "       [0.90623215, 0.09376785],\n",
       "       [0.8435519 , 0.1564481 ],\n",
       "       [0.57876179, 0.42123821],\n",
       "       [0.6475694 , 0.3524306 ],\n",
       "       [0.09628453, 0.90371547],\n",
       "       [0.8435519 , 0.1564481 ],\n",
       "       [0.12552304, 0.87447696],\n",
       "       [0.46332524, 0.53667476],\n",
       "       [0.86709408, 0.13290592],\n",
       "       [0.89024493, 0.10975507],\n",
       "       [0.87965506, 0.12034494],\n",
       "       [0.25901416, 0.74098584],\n",
       "       [0.41141101, 0.58858899],\n",
       "       [0.44841588, 0.55158412],\n",
       "       [0.89333827, 0.10666173],\n",
       "       [0.07320391, 0.92679609],\n",
       "       [0.82335515, 0.17664485],\n",
       "       [0.81884556, 0.18115444],\n",
       "       [0.21864907, 0.78135093],\n",
       "       [0.87979957, 0.12020043],\n",
       "       [0.66791164, 0.33208836],\n",
       "       [0.727883  , 0.272117  ],\n",
       "       [0.24872082, 0.75127918],\n",
       "       [0.04390951, 0.95609049],\n",
       "       [0.85177161, 0.14822839],\n",
       "       [0.86299756, 0.13700244],\n",
       "       [0.9639958 , 0.0360042 ],\n",
       "       [0.81886088, 0.18113912],\n",
       "       [0.40709221, 0.59290779],\n",
       "       [0.87973611, 0.12026389],\n",
       "       [0.23894149, 0.76105851],\n",
       "       [0.9399883 , 0.0600117 ],\n",
       "       [0.94164237, 0.05835763],\n",
       "       [0.61053264, 0.38946736],\n",
       "       [0.05158431, 0.94841569],\n",
       "       [0.92096328, 0.07903672],\n",
       "       [0.87973611, 0.12026389],\n",
       "       [0.48105782, 0.51894218],\n",
       "       [0.63128029, 0.36871971],\n",
       "       [0.408759  , 0.591241  ],\n",
       "       [0.68243688, 0.31756312],\n",
       "       [0.88339508, 0.11660492],\n",
       "       [0.73786939, 0.26213061],\n",
       "       [0.98628181, 0.01371819],\n",
       "       [0.70739967, 0.29260033],\n",
       "       [0.83875224, 0.16124776],\n",
       "       [0.21055336, 0.78944664],\n",
       "       [0.93866592, 0.06133408],\n",
       "       [0.7551157 , 0.2448843 ],\n",
       "       [0.92637211, 0.07362789],\n",
       "       [0.53083975, 0.46916025],\n",
       "       [0.79663188, 0.20336812],\n",
       "       [0.06314604, 0.93685396],\n",
       "       [0.3620933 , 0.6379067 ],\n",
       "       [0.76943234, 0.23056766],\n",
       "       [0.73896395, 0.26103605],\n",
       "       [0.42998444, 0.57001556],\n",
       "       [0.87965506, 0.12034494],\n",
       "       [0.87502656, 0.12497344],\n",
       "       [0.3193653 , 0.6806347 ],\n",
       "       [0.56680914, 0.43319086],\n",
       "       [0.44491233, 0.55508767],\n",
       "       [0.93765943, 0.06234057],\n",
       "       [0.20774817, 0.79225183],\n",
       "       [0.85623656, 0.14376344],\n",
       "       [0.9769189 , 0.0230811 ],\n",
       "       [0.11730251, 0.88269749],\n",
       "       [0.93899409, 0.06100591],\n",
       "       [0.40939177, 0.59060823],\n",
       "       [0.60524477, 0.39475523],\n",
       "       [0.32190947, 0.67809053],\n",
       "       [0.91854677, 0.08145323],\n",
       "       [0.84311173, 0.15688827],\n",
       "       [0.94884163, 0.05115837],\n",
       "       [0.57397187, 0.42602813],\n",
       "       [0.09179552, 0.90820448],\n",
       "       [0.46443469, 0.53556531],\n",
       "       [0.75154765, 0.24845235],\n",
       "       [0.88347819, 0.11652181],\n",
       "       [0.30572962, 0.69427038],\n",
       "       [0.88004227, 0.11995773],\n",
       "       [0.22021178, 0.77978822],\n",
       "       [0.33895524, 0.66104476],\n",
       "       [0.93300601, 0.06699399],\n",
       "       [0.87965506, 0.12034494],\n",
       "       [0.86780943, 0.13219057],\n",
       "       [0.71306172, 0.28693828],\n",
       "       [0.87581194, 0.12418806],\n",
       "       [0.66002167, 0.33997833],\n",
       "       [0.30082958, 0.69917042],\n",
       "       [0.3647197 , 0.6352803 ],\n",
       "       [0.3875157 , 0.6124843 ]])"
      ]
     },
     "execution_count": 48,
     "metadata": {},
     "output_type": "execute_result"
    }
   ],
   "source": [
    "prob_values"
   ]
  },
  {
   "cell_type": "code",
   "execution_count": 49,
   "id": "c67dcef0",
   "metadata": {},
   "outputs": [
    {
     "data": {
      "text/plain": [
       "0.83250322278214"
      ]
     },
     "execution_count": 49,
     "metadata": {},
     "output_type": "execute_result"
    }
   ],
   "source": [
    "metrics.roc_auc_score(y_test, y_pred)   # this is area under the roc curve"
   ]
  },
  {
   "cell_type": "code",
   "execution_count": 50,
   "id": "753e8678",
   "metadata": {
    "scrolled": false
   },
   "outputs": [
    {
     "data": {
      "text/plain": [
       "<sklearn.metrics._plot.roc_curve.RocCurveDisplay at 0x218563922d0>"
      ]
     },
     "execution_count": 50,
     "metadata": {},
     "output_type": "execute_result"
    },
    {
     "data": {
      "image/png": "[encoded data removed]",
      "text/plain": [
       "<Figure size 640x480 with 1 Axes>"
      ]
     },
     "metadata": {},
     "output_type": "display_data"
    }
   ],
   "source": [
    "# plotting the ROC Curve from Estimators, X_test, y_test\n",
    "# this ROC curve is nothing but Sigmoid curve for logistic regression\n",
    "\n",
    "metrics.RocCurveDisplay.from_estimator(LogReg, X_test,y_test)"
   ]
  },
  {
   "cell_type": "code",
   "execution_count": 51,
   "id": "d83496ba",
   "metadata": {},
   "outputs": [
    {
     "data": {
      "text/plain": [
       "<sklearn.metrics._plot.roc_curve.RocCurveDisplay at 0x2185cc0cd50>"
      ]
     },
     "execution_count": 51,
     "metadata": {},
     "output_type": "execute_result"
    },
    {
     "data": {
      "image/png": "[encoded data removed]",
      "text/plain": [
       "<Figure size 640x480 with 1 Axes>"
      ]
     },
     "metadata": {},
     "output_type": "display_data"
    }
   ],
   "source": [
    "# ROC curve from Predictions y_test, y_pred\n",
    "\n",
    "metrics.RocCurveDisplay.from_predictions(y_test,y_pred)"
   ]
  },
  {
   "cell_type": "code",
   "execution_count": 52,
   "id": "a7e57f4b",
   "metadata": {
    "scrolled": false
   },
   "outputs": [
    {
     "data": {
      "text/plain": [
       "<sklearn.metrics._plot.roc_curve.RocCurveDisplay at 0x2185cd3bdd0>"
      ]
     },
     "execution_count": 52,
     "metadata": {},
     "output_type": "execute_result"
    },
    {
     "data": {
      "image/png": "[encoded data removed]",
      "text/plain": [
       "<Figure size 640x480 with 1 Axes>"
      ]
     },
     "metadata": {},
     "output_type": "display_data"
    }
   ],
   "source": [
    "# this is method to display the curve using \n",
    "# fpr = False Positive Rate\n",
    "# tpr = True Positive Rate\n",
    "# roc_auc = Area under curve\n",
    "# ROC - Receiver Operating Characteristic\n",
    "# thresholds  - 1.,  0.\n",
    "\n",
    "\n",
    "fpr, tpr, thresholds = metrics.roc_curve(y_test, y_pred)\n",
    "roc_auc = metrics.auc(fpr, tpr)\n",
    "display = metrics.RocCurveDisplay(fpr=fpr, tpr=tpr, roc_auc=roc_auc)\n",
    "display.plot()"
   ]
  },
  {
   "cell_type": "code",
   "execution_count": 53,
   "id": "4bdf1ee4",
   "metadata": {},
   "outputs": [
    {
     "name": "stdout",
     "output_type": "stream",
     "text": [
      "False Positive Rate: [0.         0.11801242 1.        ]\n",
      "True Positive Rate: [0.         0.78301887 1.        ]\n",
      "Area under curve: 0.83250322278214\n",
      "Threshold: [inf  1.  0.]\n"
     ]
    }
   ],
   "source": [
    "print(\"False Positive Rate:\", fpr) #(1-Specificity) Specificity --> True negative rate\n",
    "print(\"True Positive Rate:\", tpr) # Recall Rate\n",
    "print(\"Area under curve:\", roc_auc)\n",
    "print(\"Threshold:\", thresholds)"
   ]
  }
 ],
 "metadata": {
  "kernelspec": {
   "display_name": "Python 3 (ipykernel)",
   "language": "python",
   "name": "python3"
  },
  "language_info": {
   "codemirror_mode": {
    "name": "ipython",
    "version": 3
   },
   "file_extension": ".py",
   "mimetype": "text/x-python",
   "name": "python",
   "nbconvert_exporter": "python",
   "pygments_lexer": "ipython3",
   "version": "3.11.5"
  }
 },
 "nbformat": 4,
 "nbformat_minor": 5
}
