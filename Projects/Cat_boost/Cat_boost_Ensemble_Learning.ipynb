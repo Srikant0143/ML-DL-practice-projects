{
 "cells": [
  {
   "cell_type": "markdown",
   "metadata": {
    "id": "pPi899u95iC2"
   },
   "source": [
    "### <b> Ensemble Learning </b>"
   ]
  },
  {
   "cell_type": "markdown",
   "metadata": {
    "id": "3ncdJlfL8EyT"
   },
   "source": [
    "### CatBoost\n",
    "\n",
    "CatBoost is an algorithm for gradient boosting on decision trees. It is developed by Yandex researchers and engineers and is used for search, recommendation systems, personal assistants, self-driving cars, weather prediction, and many other tasks at Yandex and in other companies, including CERN, Cloudflare, Careem taxi. It is open-source and can be used by anyone.\n",
    "\n",
    "Let's study this with the help of a use case.\n"
   ]
  },
  {
   "cell_type": "markdown",
   "metadata": {
    "id": "NfzCTxdM9tz2"
   },
   "source": [
    "#### <b> Data Description </b>\n",
    "The data consists of real historical data collected from 2010 & 2011. Employees are manually allowed or denied access to resources over time. You must create an algorithm capable of learning from this historical data to predict approval or denial for an unknown set of employees.\n",
    "\n",
    "#### <b> File Descriptions </b>\n",
    "\n",
    "**train.csv:** It is a training set. Each row has the action (ground truth), resources, and information about the employee's role at the time of approval.\n",
    "\n",
    "**test.csv:** It is the test set for which predictions should be made. Each row asks whether an employee having the listed characteristics should have access to the listed resource.\n",
    "\n",
    "The objective is to develop a model from historical data that will decide the access needs of an employee so that manual access transactions (grants and revocations) are reduced as the attributes of the employee change over time. The model will take information on the position of an employee and a resource code and return whether access should be given or not.\n",
    "\n",
    "Note: The problem statement is from a Kaggle contest"
   ]
  },
  {
   "cell_type": "markdown",
   "metadata": {
    "id": "FiB_jNkd-PNx"
   },
   "source": [
    "The objective is to develop a model from historical data, that will decide the access needs of an employee, so that manual access transactions (grants and revocations) are reduced as the attributes of the employee change over time. The model will take information on the position of an employee and a resource code and return whether access should be given or not. <br>\n",
    "`Note: The problem statement is from a Kaggle contest`"
   ]
  },
  {
   "cell_type": "markdown",
   "metadata": {
    "id": "O2Nm6BAT5OdY"
   },
   "source": [
    "#### <b> Libraries Installation </b>"
   ]
  },
  {
   "cell_type": "code",
   "execution_count": 7,
   "metadata": {
    "id": "NTMJOp4Z5Odk",
    "outputId": "f89ad23e-3d6a-4c32-f148-9410ccb9b836"
   },
   "outputs": [
    {
     "name": "stdout",
     "output_type": "stream",
     "text": [
      "1.2.2\n",
      "Python 3.11.5\n"
     ]
    }
   ],
   "source": [
    "#To import libraries\n",
    "import catboost\n",
    "print(catboost.__version__)\n",
    "!python --version"
   ]
  },
  {
   "cell_type": "markdown",
   "metadata": {
    "id": "9IvIcY_05Odt"
   },
   "source": [
    "#### <b> Reading the Data </b>"
   ]
  },
  {
   "cell_type": "code",
   "execution_count": 8,
   "metadata": {
    "id": "bazUWz1i5Odu"
   },
   "outputs": [],
   "source": [
    "#To read the data\n",
    "import pandas as pd\n",
    "import os\n",
    "import numpy as np\n",
    "np.set_printoptions(precision=4)\n",
    "import catboost\n",
    "from catboost import *\n",
    "from catboost import datasets"
   ]
  },
  {
   "cell_type": "code",
   "execution_count": 9,
   "metadata": {
    "id": "zHhZNN1K5Od2"
   },
   "outputs": [],
   "source": [
    "(train_df, test_df) = catboost.datasets.amazon()"
   ]
  },
  {
   "cell_type": "code",
   "execution_count": 10,
   "metadata": {
    "id": "fdHqNPC25Od8",
    "outputId": "defc4746-3a75-4dfb-86a8-830186de05bf"
   },
   "outputs": [
    {
     "data": {
      "text/html": [
       "<div>\n",
       "<style scoped>\n",
       "    .dataframe tbody tr th:only-of-type {\n",
       "        vertical-align: middle;\n",
       "    }\n",
       "\n",
       "    .dataframe tbody tr th {\n",
       "        vertical-align: top;\n",
       "    }\n",
       "\n",
       "    .dataframe thead th {\n",
       "        text-align: right;\n",
       "    }\n",
       "</style>\n",
       "<table border=\"1\" class=\"dataframe\">\n",
       "  <thead>\n",
       "    <tr style=\"text-align: right;\">\n",
       "      <th></th>\n",
       "      <th>ACTION</th>\n",
       "      <th>RESOURCE</th>\n",
       "      <th>MGR_ID</th>\n",
       "      <th>ROLE_ROLLUP_1</th>\n",
       "      <th>ROLE_ROLLUP_2</th>\n",
       "      <th>ROLE_DEPTNAME</th>\n",
       "      <th>ROLE_TITLE</th>\n",
       "      <th>ROLE_FAMILY_DESC</th>\n",
       "      <th>ROLE_FAMILY</th>\n",
       "      <th>ROLE_CODE</th>\n",
       "    </tr>\n",
       "  </thead>\n",
       "  <tbody>\n",
       "    <tr>\n",
       "      <th>0</th>\n",
       "      <td>1</td>\n",
       "      <td>39353</td>\n",
       "      <td>85475</td>\n",
       "      <td>117961</td>\n",
       "      <td>118300</td>\n",
       "      <td>123472</td>\n",
       "      <td>117905</td>\n",
       "      <td>117906</td>\n",
       "      <td>290919</td>\n",
       "      <td>117908</td>\n",
       "    </tr>\n",
       "    <tr>\n",
       "      <th>1</th>\n",
       "      <td>1</td>\n",
       "      <td>17183</td>\n",
       "      <td>1540</td>\n",
       "      <td>117961</td>\n",
       "      <td>118343</td>\n",
       "      <td>123125</td>\n",
       "      <td>118536</td>\n",
       "      <td>118536</td>\n",
       "      <td>308574</td>\n",
       "      <td>118539</td>\n",
       "    </tr>\n",
       "    <tr>\n",
       "      <th>2</th>\n",
       "      <td>1</td>\n",
       "      <td>36724</td>\n",
       "      <td>14457</td>\n",
       "      <td>118219</td>\n",
       "      <td>118220</td>\n",
       "      <td>117884</td>\n",
       "      <td>117879</td>\n",
       "      <td>267952</td>\n",
       "      <td>19721</td>\n",
       "      <td>117880</td>\n",
       "    </tr>\n",
       "    <tr>\n",
       "      <th>3</th>\n",
       "      <td>1</td>\n",
       "      <td>36135</td>\n",
       "      <td>5396</td>\n",
       "      <td>117961</td>\n",
       "      <td>118343</td>\n",
       "      <td>119993</td>\n",
       "      <td>118321</td>\n",
       "      <td>240983</td>\n",
       "      <td>290919</td>\n",
       "      <td>118322</td>\n",
       "    </tr>\n",
       "    <tr>\n",
       "      <th>4</th>\n",
       "      <td>1</td>\n",
       "      <td>42680</td>\n",
       "      <td>5905</td>\n",
       "      <td>117929</td>\n",
       "      <td>117930</td>\n",
       "      <td>119569</td>\n",
       "      <td>119323</td>\n",
       "      <td>123932</td>\n",
       "      <td>19793</td>\n",
       "      <td>119325</td>\n",
       "    </tr>\n",
       "  </tbody>\n",
       "</table>\n",
       "</div>"
      ],
      "text/plain": [
       "   ACTION  RESOURCE  MGR_ID  ROLE_ROLLUP_1  ROLE_ROLLUP_2  ROLE_DEPTNAME  \\\n",
       "0       1     39353   85475         117961         118300         123472   \n",
       "1       1     17183    1540         117961         118343         123125   \n",
       "2       1     36724   14457         118219         118220         117884   \n",
       "3       1     36135    5396         117961         118343         119993   \n",
       "4       1     42680    5905         117929         117930         119569   \n",
       "\n",
       "   ROLE_TITLE  ROLE_FAMILY_DESC  ROLE_FAMILY  ROLE_CODE  \n",
       "0      117905            117906       290919     117908  \n",
       "1      118536            118536       308574     118539  \n",
       "2      117879            267952        19721     117880  \n",
       "3      118321            240983       290919     118322  \n",
       "4      119323            123932        19793     119325  "
      ]
     },
     "execution_count": 10,
     "metadata": {},
     "output_type": "execute_result"
    }
   ],
   "source": [
    "train_df.head()"
   ]
  },
  {
   "cell_type": "markdown",
   "metadata": {
    "id": "2cpBrqOFShpW"
   },
   "source": [
    "The data will be displayed on the screen."
   ]
  },
  {
   "cell_type": "markdown",
   "metadata": {
    "id": "-qQrg9yc5OeC"
   },
   "source": [
    "#### <b> Preparing Your Data </b>"
   ]
  },
  {
   "cell_type": "markdown",
   "metadata": {
    "id": "fP5OC4_G5OeF"
   },
   "source": [
    "Label values extraction"
   ]
  },
  {
   "cell_type": "markdown",
   "metadata": {
    "id": "qJJ7w958Nklf"
   },
   "source": [
    "Action column contains the categorical feature. However, it is not available for test dataset, so you must drop the Action column."
   ]
  },
  {
   "cell_type": "code",
   "execution_count": 11,
   "metadata": {
    "id": "gTjy52n15OeG"
   },
   "outputs": [],
   "source": [
    "y = train_df.ACTION\n",
    "X = train_df.drop('ACTION', axis=1)"
   ]
  },
  {
   "cell_type": "markdown",
   "metadata": {
    "id": "do17No295OeO"
   },
   "source": [
    "Categorical features declaration \n"
   ]
  },
  {
   "cell_type": "markdown",
   "metadata": {
    "id": "O59buCb9Nklf"
   },
   "source": [
    "* <b>cat_features </b> is a one-dimensional array of categorical columns indices. \n",
    "* It has one of the following types: list, numpy.ndarray, pandas.DataFrame, and pandas.Series."
   ]
  },
  {
   "cell_type": "markdown",
   "metadata": {
    "id": "zV5KB_szNklg"
   },
   "source": [
    "Now we will declare the cat feature that holds the categorical values present on train dataset."
   ]
  },
  {
   "cell_type": "code",
   "execution_count": 12,
   "metadata": {
    "id": "mq03gQnU5OeP",
    "outputId": "acf6c36c-1f8c-479a-e704-095720ab2299"
   },
   "outputs": [
    {
     "name": "stdout",
     "output_type": "stream",
     "text": [
      "[0, 1, 2, 3, 4, 5, 6, 7, 8]\n"
     ]
    }
   ],
   "source": [
    "#The type list is used here\n",
    "cat_features = list(range(0, X.shape[1]))\n",
    "print(cat_features)"
   ]
  },
  {
   "cell_type": "code",
   "execution_count": 13,
   "metadata": {
    "id": "rYryzS3m5OeY",
    "outputId": "34a7ff68-8b88-47b9-f288-2d802d5d55e4"
   },
   "outputs": [
    {
     "name": "stdout",
     "output_type": "stream",
     "text": [
      "Labels: {0, 1}\n",
      "Zero count = 1897, One count = 30872\n"
     ]
    }
   ],
   "source": [
    "#looking for label balance in dataset\n",
    "print('Labels: {}'.format(set(y)))\n",
    "print('Zero count = {}, One count = {}'.format(len(y) - sum(y), sum(y)))"
   ]
  },
  {
   "cell_type": "markdown",
   "metadata": {
    "id": "2lZni3Qb5Oed"
   },
   "source": [
    "Ways to create **Pool** class\n",
    "- In multiprocessing, the Pool class may handle a huge number of processes. It enables you to run several jobs in a single process due to its ability to queue the jobs."
   ]
  },
  {
   "cell_type": "code",
   "execution_count": 14,
   "metadata": {
    "id": "edN1u7wx5Oef"
   },
   "outputs": [],
   "source": [
    "#Specifying the dataset\n",
    "dataset_dir = './amazon'\n",
    "if not os.path.exists(dataset_dir):\n",
    "    os.makedirs(dataset_dir)\n",
    "\n",
    "#We will be able to work with files with/without header and with different separators\n",
    "train_df.to_csv(\n",
    "    os.path.join(dataset_dir, 'train.tsv'),\n",
    "    index=False, sep='\\t', header=False\n",
    ")\n",
    "test_df.to_csv(\n",
    "    os.path.join(dataset_dir, 'test.tsv'),\n",
    "    index=False, sep='\\t', header=False\n",
    ")\n",
    "\n",
    "train_df.to_csv(\n",
    "    os.path.join(dataset_dir, 'train.csv'),\n",
    "    index=False, sep=',', header=True\n",
    ")\n",
    "test_df.to_csv(\n",
    "    os.path.join(dataset_dir, 'test.csv'),\n",
    "    index=False, sep=',', header=True\n",
    ")"
   ]
  },
  {
   "cell_type": "code",
   "execution_count": 17,
   "metadata": {
    "id": "l8pHZhnF5Oel",
    "outputId": "1df49bb2-c5b4-4add-b186-136145afe095"
   },
   "outputs": [
    {
     "name": "stderr",
     "output_type": "stream",
     "text": [
      "'head' is not recognized as an internal or external command,\n",
      "operable program or batch file.\n"
     ]
    }
   ],
   "source": [
    "!head amazon/train.csv"
   ]
  },
  {
   "cell_type": "code",
   "execution_count": 18,
   "metadata": {
    "id": "8DBuSqjQ5Oer"
   },
   "outputs": [],
   "source": [
    "from catboost.utils import create_cd\n",
    "feature_names = dict()\n",
    "for column, name in enumerate(train_df):\n",
    "    if column == 0:\n",
    "        continue\n",
    "    feature_names[column - 1] = name\n",
    "    \n",
    "create_cd(\n",
    "    label=0, \n",
    "    cat_features=list(range(1, train_df.columns.shape[0])),\n",
    "   \n",
    "    output_path=os.path.join(dataset_dir, 'train.cd')\n",
    ")"
   ]
  },
  {
   "cell_type": "code",
   "execution_count": 19,
   "metadata": {
    "id": "i9NOIq_F5Oex",
    "outputId": "fb865df9-05c6-44dc-db31-d346943a0689"
   },
   "outputs": [
    {
     "name": "stderr",
     "output_type": "stream",
     "text": [
      "'cat' is not recognized as an internal or external command,\n",
      "operable program or batch file.\n"
     ]
    }
   ],
   "source": [
    "!cat amazon/train.cd"
   ]
  },
  {
   "cell_type": "code",
   "execution_count": 20,
   "metadata": {
    "id": "l9P75ddI5Oe4",
    "outputId": "f8953e1c-c097-4b7a-a7fa-98897916effa"
   },
   "outputs": [
    {
     "name": "stdout",
     "output_type": "stream",
     "text": [
      "Dataset shape\n",
      "dataset 1:(32769, 9)\n",
      "dataset 2:(32769, 9)\n",
      "dataset 3:(32769, 9)\n",
      "dataset 4: (32769, 9)\n",
      "\n",
      "\n",
      "Column names\n",
      "dataset 1:\n",
      "['RESOURCE', 'MGR_ID', 'ROLE_ROLLUP_1', 'ROLE_ROLLUP_2', 'ROLE_DEPTNAME', 'ROLE_TITLE', 'ROLE_FAMILY_DESC', 'ROLE_FAMILY', 'ROLE_CODE']\n",
      "\n",
      "dataset 2:\n",
      "['RESOURCE', 'MGR_ID', 'ROLE_ROLLUP_1', 'ROLE_ROLLUP_2', 'ROLE_DEPTNAME', 'ROLE_TITLE', 'ROLE_FAMILY_DESC', 'ROLE_FAMILY', 'ROLE_CODE']\n",
      "\n",
      "dataset 3:\n",
      "['RESOURCE', 'MGR_ID', 'ROLE_ROLLUP_1', 'ROLE_ROLLUP_2', 'ROLE_DEPTNAME', 'ROLE_TITLE', 'ROLE_FAMILY_DESC', 'ROLE_FAMILY', 'ROLE_CODE']\n",
      "\n",
      "dataset 4:\n",
      "['RESOURCE', 'MGR_ID', 'ROLE_ROLLUP_1', 'ROLE_ROLLUP_2', 'ROLE_DEPTNAME', 'ROLE_TITLE', 'ROLE_FAMILY_DESC', 'ROLE_FAMILY', 'ROLE_CODE']\n"
     ]
    }
   ],
   "source": [
    "pool1 = Pool(data=X, label=y, cat_features=cat_features)\n",
    "pool2 = Pool(\n",
    "    data=os.path.join(dataset_dir, 'train.csv'), \n",
    "    delimiter=',', \n",
    "    column_description=os.path.join(dataset_dir, 'train.cd'),\n",
    "    has_header=True\n",
    ")\n",
    "pool3 = Pool(data=X, cat_features=cat_features)\n",
    "\n",
    "#Fastest way to create a Pool is to create it from numpy matrix.\n",
    "#This way should be used if you want fast predictions\n",
    "#or fastest way to load the data in python.\n",
    "\n",
    "X_prepared = X.values.astype(str).astype(object)\n",
    "#For FeaturesData class categorial features must have type str\n",
    "\n",
    "pool4 = Pool(\n",
    "    data=FeaturesData(\n",
    "        cat_feature_data=X_prepared,\n",
    "        cat_feature_names=list(X)\n",
    "    ),\n",
    "    label=y.values\n",
    ")\n",
    "\n",
    "print('Dataset shape')\n",
    "print('dataset 1:' + str(pool1.shape) +\n",
    "      '\\ndataset 2:' + str(pool2.shape) + \n",
    "      '\\ndataset 3:' + str(pool3.shape) +\n",
    "      '\\ndataset 4: ' + str(pool4.shape))\n",
    "\n",
    "print('\\n')\n",
    "print('Column names')\n",
    "print('dataset 1:')\n",
    "print(pool1.get_feature_names()) \n",
    "print('\\ndataset 2:')\n",
    "print(pool2.get_feature_names())\n",
    "print('\\ndataset 3:')\n",
    "print(pool3.get_feature_names())\n",
    "print('\\ndataset 4:')\n",
    "print(pool4.get_feature_names())"
   ]
  },
  {
   "cell_type": "markdown",
   "metadata": {
    "id": "fXtl9SJU5Oe-"
   },
   "source": [
    "#### <b> Split Your Data into Train and Validation </b>"
   ]
  },
  {
   "cell_type": "markdown",
   "metadata": {
    "id": "HQEc29rVShpY"
   },
   "source": [
    "Let us split the data into **Train** and **Validation**."
   ]
  },
  {
   "cell_type": "code",
   "execution_count": 21,
   "metadata": {
    "id": "cE-9zYl65Oe_"
   },
   "outputs": [],
   "source": [
    "from sklearn.model_selection import train_test_split\n",
    "X_train, X_validation, y_train, y_validation = train_test_split(X, y, train_size=0.8, random_state=1234)"
   ]
  },
  {
   "cell_type": "markdown",
   "metadata": {
    "id": "Pmy68aJN5OfF"
   },
   "source": [
    "#### <b> Selecting the Objective Function </b>"
   ]
  },
  {
   "cell_type": "markdown",
   "metadata": {
    "id": "6pmmHAOk5OfG"
   },
   "source": [
    "Possible options for binary classification:\n",
    "\n",
    "`Logloss`\n",
    "\n",
    "`CrossEntropy` for probabilities in target"
   ]
  },
  {
   "cell_type": "markdown",
   "metadata": {
    "id": "iNvDzSNatd-r"
   },
   "source": [
    "A **CatBoostClassifier** trains and applies models for the classification problems. It provides compatibility with the scikit-learn tools."
   ]
  },
  {
   "cell_type": "code",
   "execution_count": 22,
   "metadata": {
    "id": "OKW4qD2V5OfI",
    "outputId": "799de3ac-0f50-4d9f-9a44-66718231b5d3"
   },
   "outputs": [
    {
     "name": "stdout",
     "output_type": "stream",
     "text": [
      "Model is fitted: True\n",
      "Model params:\n",
      "{'iterations': 5, 'learning_rate': 0.1}\n"
     ]
    }
   ],
   "source": [
    "from catboost import CatBoostClassifier\n",
    "model = CatBoostClassifier(\n",
    "    iterations=5,\n",
    "    learning_rate=0.1,\n",
    "    #loss_function='CrossEntropy'\n",
    ")\n",
    "model.fit(\n",
    "    X_train, y_train,\n",
    "    cat_features=cat_features,\n",
    "    eval_set=(X_validation, y_validation),\n",
    "    verbose=False\n",
    ")\n",
    "print('Model is fitted: ' + str(model.is_fitted()))\n",
    "print('Model params:')\n",
    "print(model.get_params())"
   ]
  },
  {
   "cell_type": "markdown",
   "metadata": {
    "id": "ZzrnZlaS5OfP"
   },
   "source": [
    "#### <b> Stdout of the Training </b>\n",
    "Stdout displays output directly to the screen console.\n",
    "Output can take any form.\n",
    "It can be output from a print statement, an expression statement, or even a direct prompt.\n"
   ]
  },
  {
   "cell_type": "code",
   "execution_count": 23,
   "metadata": {
    "id": "BlkrU9zN5OfQ",
    "outputId": "07632a8e-ee88-4db0-e8e7-a782dac1b610"
   },
   "outputs": [
    {
     "name": "stdout",
     "output_type": "stream",
     "text": [
      "Learning rate set to 0.441257\n",
      "0:\tlearn: 0.4220777\ttest: 0.4223741\tbest: 0.4223741 (0)\ttotal: 55.5ms\tremaining: 777ms\n",
      "1:\tlearn: 0.3149660\ttest: 0.3151186\tbest: 0.3151186 (1)\ttotal: 119ms\tremaining: 772ms\n",
      "2:\tlearn: 0.2621494\ttest: 0.2629766\tbest: 0.2629766 (2)\ttotal: 176ms\tremaining: 706ms\n",
      "3:\tlearn: 0.2302316\ttest: 0.2302315\tbest: 0.2302315 (3)\ttotal: 284ms\tremaining: 781ms\n",
      "4:\tlearn: 0.2060274\ttest: 0.2019603\tbest: 0.2019603 (4)\ttotal: 336ms\tremaining: 673ms\n",
      "5:\tlearn: 0.1956107\ttest: 0.1894627\tbest: 0.1894627 (5)\ttotal: 391ms\tremaining: 587ms\n",
      "6:\tlearn: 0.1870345\ttest: 0.1790904\tbest: 0.1790904 (6)\ttotal: 449ms\tremaining: 513ms\n",
      "7:\tlearn: 0.1836943\ttest: 0.1748030\tbest: 0.1748030 (7)\ttotal: 503ms\tremaining: 440ms\n",
      "8:\tlearn: 0.1807119\ttest: 0.1707896\tbest: 0.1707896 (8)\ttotal: 562ms\tremaining: 375ms\n",
      "9:\tlearn: 0.1775777\ttest: 0.1662489\tbest: 0.1662489 (9)\ttotal: 622ms\tremaining: 311ms\n",
      "10:\tlearn: 0.1762130\ttest: 0.1654446\tbest: 0.1654446 (10)\ttotal: 692ms\tremaining: 252ms\n",
      "11:\tlearn: 0.1760650\ttest: 0.1653191\tbest: 0.1653191 (11)\ttotal: 717ms\tremaining: 179ms\n",
      "12:\tlearn: 0.1748232\ttest: 0.1642093\tbest: 0.1642093 (12)\ttotal: 796ms\tremaining: 122ms\n",
      "13:\tlearn: 0.1742028\ttest: 0.1638902\tbest: 0.1638902 (13)\ttotal: 878ms\tremaining: 62.7ms\n",
      "14:\tlearn: 0.1733966\ttest: 0.1627237\tbest: 0.1627237 (14)\ttotal: 943ms\tremaining: 0us\n",
      "\n",
      "bestTest = 0.162723674\n",
      "bestIteration = 14\n",
      "\n"
     ]
    },
    {
     "data": {
      "text/plain": [
       "<catboost.core.CatBoostClassifier at 0x1dd184fef50>"
      ]
     },
     "execution_count": 23,
     "metadata": {},
     "output_type": "execute_result"
    }
   ],
   "source": [
    "from catboost import CatBoostClassifier\n",
    "model = CatBoostClassifier(\n",
    "    iterations=15,\n",
    "#verbose=5,\n",
    ")\n",
    "model.fit(\n",
    "    X_train, y_train,\n",
    "    cat_features=cat_features,\n",
    "    eval_set=(X_validation, y_validation),\n",
    ")"
   ]
  },
  {
   "cell_type": "markdown",
   "metadata": {
    "id": "zRUBDxgk5OfX"
   },
   "source": [
    "#### <b> Metric Calculation and Graph Plotting </b>"
   ]
  },
  {
   "cell_type": "markdown",
   "metadata": {
    "id": "bxX9-FWZShpZ"
   },
   "source": [
    "Let us perform metric calculation and graph plotting by importing the **CatBoostClassifier**."
   ]
  },
  {
   "cell_type": "code",
   "execution_count": 24,
   "metadata": {
    "colab": {
     "referenced_widgets": [
      "e62d7e59b8e54eb984d9ff6952a21d36",
      "d4a874c1c53a4e838f4c23ac98f85d24"
     ]
    },
    "id": "nq9gp0YE5OfY",
    "outputId": "eca40a54-b8ce-4e6c-8b5f-508305047eb5"
   },
   "outputs": [
    {
     "data": {
      "application/vnd.jupyter.widget-view+json": {
       "model_id": "cb62bea30f564247a41f4ba77137255f",
       "version_major": 2,
       "version_minor": 0
      },
      "text/plain": [
       "MetricVisualizer(layout=Layout(align_self='stretch', height='500px'))"
      ]
     },
     "metadata": {},
     "output_type": "display_data"
    },
    {
     "data": {
      "text/plain": [
       "<catboost.core.CatBoostClassifier at 0x1dd18cbfe10>"
      ]
     },
     "execution_count": 24,
     "metadata": {},
     "output_type": "execute_result"
    }
   ],
   "source": [
    "from catboost import CatBoostClassifier\n",
    "model = CatBoostClassifier(\n",
    "    iterations=50,\n",
    "    random_seed=63,\n",
    "    learning_rate=0.5,\n",
    "    custom_loss=['AUC', 'Accuracy']\n",
    ")\n",
    "model.fit(\n",
    "    X_train, y_train,\n",
    "    cat_features=cat_features,\n",
    "    eval_set=(X_validation, y_validation),\n",
    "    verbose=False,\n",
    "    plot=True\n",
    ")"
   ]
  },
  {
   "cell_type": "markdown",
   "metadata": {
    "id": "DemIlngc5Ofd"
   },
   "source": [
    "#### <b> Model Comparison </b>"
   ]
  },
  {
   "cell_type": "markdown",
   "metadata": {
    "id": "qfLm729MShpZ"
   },
   "source": [
    "Let us compare the models."
   ]
  },
  {
   "cell_type": "code",
   "execution_count": 25,
   "metadata": {
    "id": "oC9hegPs5Ofe",
    "outputId": "73bbe9cf-efba-4020-ebd2-a6fd8fff56d5"
   },
   "outputs": [
    {
     "data": {
      "text/plain": [
       "<catboost.core.CatBoostClassifier at 0x1dd1758e690>"
      ]
     },
     "execution_count": 25,
     "metadata": {},
     "output_type": "execute_result"
    }
   ],
   "source": [
    "model1 = CatBoostClassifier(\n",
    "    learning_rate=0.7,\n",
    "    iterations=100,\n",
    "    random_seed=0,\n",
    "    train_dir='learing_rate_0.7'\n",
    ")\n",
    "\n",
    "model2 = CatBoostClassifier(\n",
    "    learning_rate=0.01,\n",
    "    iterations=100,\n",
    "    random_seed=0,\n",
    "    train_dir='learing_rate_0.01'\n",
    ")\n",
    "model1.fit(\n",
    "    X_train, y_train,\n",
    "    eval_set=(X_validation, y_validation),\n",
    "    cat_features=cat_features,\n",
    "    verbose=False\n",
    ")\n",
    "model2.fit(\n",
    "    X_train, y_train,\n",
    "    eval_set=(X_validation, y_validation),\n",
    "    cat_features=cat_features,\n",
    "    verbose=False\n",
    ")"
   ]
  },
  {
   "cell_type": "code",
   "execution_count": 26,
   "metadata": {
    "colab": {
     "referenced_widgets": [
      "b8aacfcf2d224c00b22a31bee8287cf0",
      "82f6f10a397b468f8acb7e26d289ed49"
     ]
    },
    "id": "_eFSknNm5Ofi",
    "outputId": "2f4d1802-1b08-46ac-d59f-571e7c1cee1e"
   },
   "outputs": [
    {
     "data": {
      "application/vnd.jupyter.widget-view+json": {
       "model_id": "744d2f36572140599bd78723abe42d53",
       "version_major": 2,
       "version_minor": 0
      },
      "text/plain": [
       "MetricVisualizer(layout=Layout(align_self='stretch', height='500px'))"
      ]
     },
     "metadata": {},
     "output_type": "display_data"
    }
   ],
   "source": [
    "from catboost import MetricVisualizer\n",
    "MetricVisualizer(['learing_rate_0.01', 'learing_rate_0.7']).start()"
   ]
  },
  {
   "cell_type": "markdown",
   "metadata": {
    "id": "bbW98AMw5Ofm"
   },
   "source": [
    "#### <b> Best Iteration </b>"
   ]
  },
  {
   "cell_type": "code",
   "execution_count": 27,
   "metadata": {
    "colab": {
     "referenced_widgets": [
      "91d7354aa35844bfab82f40bf08d2fc0",
      "a0a59673a8cb47ec95ee513789c0a61c"
     ]
    },
    "id": "ZkfYD0ht5Ofn",
    "outputId": "cc6148f2-a825-4e54-cec0-09f1374ec479"
   },
   "outputs": [
    {
     "data": {
      "application/vnd.jupyter.widget-view+json": {
       "model_id": "9f0fe2ca5f2b474f8975093176c2030f",
       "version_major": 2,
       "version_minor": 0
      },
      "text/plain": [
       "MetricVisualizer(layout=Layout(align_self='stretch', height='500px'))"
      ]
     },
     "metadata": {},
     "output_type": "display_data"
    },
    {
     "data": {
      "text/plain": [
       "<catboost.core.CatBoostClassifier at 0x1dd1cd5bbd0>"
      ]
     },
     "execution_count": 27,
     "metadata": {},
     "output_type": "execute_result"
    }
   ],
   "source": [
    "#Performing best iteration\n",
    "from catboost import CatBoostClassifier\n",
    "model = CatBoostClassifier(\n",
    "    iterations=100,\n",
    "    random_seed=63,\n",
    "    learning_rate=0.5,\n",
    "#use_best_model=False\n",
    ")\n",
    "model.fit(\n",
    "    X_train, y_train,\n",
    "    cat_features=cat_features,\n",
    "    eval_set=(X_validation, y_validation),\n",
    "    verbose=False,\n",
    "    plot=True\n",
    ")"
   ]
  },
  {
   "cell_type": "code",
   "execution_count": 28,
   "metadata": {
    "id": "mPJ8Uy7o5Ofs",
    "outputId": "81d939e9-cd36-4511-b750-c9397b3a86ea"
   },
   "outputs": [
    {
     "name": "stdout",
     "output_type": "stream",
     "text": [
      "Tree count: 82\n"
     ]
    }
   ],
   "source": [
    "print('Tree count: ' + str(model.tree_count_))"
   ]
  },
  {
   "cell_type": "markdown",
   "metadata": {
    "id": "RcUeZopH5Ofw"
   },
   "source": [
    "#### <b> Cross-Validation </b>"
   ]
  },
  {
   "cell_type": "markdown",
   "metadata": {
    "id": "DX_ow3UNNklj"
   },
   "source": [
    "Cross-validation is a technique which involves reserving a particular sample of a dataset on which you do not train the model.\n",
    "CatBoost allows to perform cross-validation on the given dataset."
   ]
  },
  {
   "cell_type": "code",
   "execution_count": 29,
   "metadata": {
    "colab": {
     "referenced_widgets": [
      "76bc366fdb7c40ac9c95a1210ff894de",
      "3ff3b0e279cd4b399718e8947d61ceb1"
     ]
    },
    "id": "YpzDR3Qn5Ofx",
    "outputId": "75a3060f-94ab-404c-9a6f-0d70acfc0f09"
   },
   "outputs": [
    {
     "data": {
      "application/vnd.jupyter.widget-view+json": {
       "model_id": "986eb1b89d4d42f297b2a02ed767242d",
       "version_major": 2,
       "version_minor": 0
      },
      "text/plain": [
       "MetricVisualizer(layout=Layout(align_self='stretch', height='500px'))"
      ]
     },
     "metadata": {},
     "output_type": "display_data"
    },
    {
     "name": "stdout",
     "output_type": "stream",
     "text": [
      "Training on fold [0/4]\n",
      "\n",
      "bestTest = 0.1694293267\n",
      "bestIteration = 51\n",
      "\n",
      "Training on fold [1/4]\n",
      "\n",
      "bestTest = 0.1629317796\n",
      "bestIteration = 45\n",
      "\n",
      "Training on fold [2/4]\n",
      "\n",
      "bestTest = 0.1519866763\n",
      "bestIteration = 74\n",
      "\n",
      "Training on fold [3/4]\n",
      "\n",
      "bestTest = 0.1534714429\n",
      "bestIteration = 33\n",
      "\n"
     ]
    }
   ],
   "source": [
    "#Performing cross-validation\n",
    "from catboost import cv\n",
    "\n",
    "params = {}\n",
    "params['loss_function'] = 'Logloss'\n",
    "params['iterations'] = 80\n",
    "params['custom_loss'] = 'AUC'\n",
    "params['random_seed'] = 63\n",
    "params['learning_rate'] = 0.5\n",
    "\n",
    "cv_data = cv(\n",
    "    params = params,\n",
    "    pool = Pool(X, label=y, cat_features=cat_features),\n",
    "    fold_count=4,\n",
    "    shuffle=True,\n",
    "    partition_random_seed=0,\n",
    "    plot=True,\n",
    "    stratified=False,\n",
    "    verbose=False\n",
    ")"
   ]
  },
  {
   "cell_type": "code",
   "execution_count": 30,
   "metadata": {
    "id": "7bZHjNBk5Of2",
    "outputId": "6977177c-3046-466c-8a46-d01c1331f404"
   },
   "outputs": [
    {
     "data": {
      "text/html": [
       "<div>\n",
       "<style scoped>\n",
       "    .dataframe tbody tr th:only-of-type {\n",
       "        vertical-align: middle;\n",
       "    }\n",
       "\n",
       "    .dataframe tbody tr th {\n",
       "        vertical-align: top;\n",
       "    }\n",
       "\n",
       "    .dataframe thead th {\n",
       "        text-align: right;\n",
       "    }\n",
       "</style>\n",
       "<table border=\"1\" class=\"dataframe\">\n",
       "  <thead>\n",
       "    <tr style=\"text-align: right;\">\n",
       "      <th></th>\n",
       "      <th>iterations</th>\n",
       "      <th>test-Logloss-mean</th>\n",
       "      <th>test-Logloss-std</th>\n",
       "      <th>train-Logloss-mean</th>\n",
       "      <th>train-Logloss-std</th>\n",
       "      <th>test-AUC-mean</th>\n",
       "      <th>test-AUC-std</th>\n",
       "    </tr>\n",
       "  </thead>\n",
       "  <tbody>\n",
       "    <tr>\n",
       "      <th>0</th>\n",
       "      <td>0</td>\n",
       "      <td>0.300306</td>\n",
       "      <td>0.003563</td>\n",
       "      <td>0.302136</td>\n",
       "      <td>0.002963</td>\n",
       "      <td>0.551287</td>\n",
       "      <td>0.011148</td>\n",
       "    </tr>\n",
       "    <tr>\n",
       "      <th>1</th>\n",
       "      <td>1</td>\n",
       "      <td>0.228557</td>\n",
       "      <td>0.007893</td>\n",
       "      <td>0.230263</td>\n",
       "      <td>0.003826</td>\n",
       "      <td>0.619480</td>\n",
       "      <td>0.019165</td>\n",
       "    </tr>\n",
       "    <tr>\n",
       "      <th>2</th>\n",
       "      <td>2</td>\n",
       "      <td>0.192566</td>\n",
       "      <td>0.006182</td>\n",
       "      <td>0.198289</td>\n",
       "      <td>0.003126</td>\n",
       "      <td>0.767270</td>\n",
       "      <td>0.015818</td>\n",
       "    </tr>\n",
       "    <tr>\n",
       "      <th>3</th>\n",
       "      <td>3</td>\n",
       "      <td>0.180724</td>\n",
       "      <td>0.006280</td>\n",
       "      <td>0.187878</td>\n",
       "      <td>0.003681</td>\n",
       "      <td>0.803570</td>\n",
       "      <td>0.009006</td>\n",
       "    </tr>\n",
       "    <tr>\n",
       "      <th>4</th>\n",
       "      <td>4</td>\n",
       "      <td>0.174026</td>\n",
       "      <td>0.006543</td>\n",
       "      <td>0.182572</td>\n",
       "      <td>0.003379</td>\n",
       "      <td>0.814640</td>\n",
       "      <td>0.007196</td>\n",
       "    </tr>\n",
       "  </tbody>\n",
       "</table>\n",
       "</div>"
      ],
      "text/plain": [
       "   iterations  test-Logloss-mean  test-Logloss-std  train-Logloss-mean  \\\n",
       "0           0           0.300306          0.003563            0.302136   \n",
       "1           1           0.228557          0.007893            0.230263   \n",
       "2           2           0.192566          0.006182            0.198289   \n",
       "3           3           0.180724          0.006280            0.187878   \n",
       "4           4           0.174026          0.006543            0.182572   \n",
       "\n",
       "   train-Logloss-std  test-AUC-mean  test-AUC-std  \n",
       "0           0.002963       0.551287      0.011148  \n",
       "1           0.003826       0.619480      0.019165  \n",
       "2           0.003126       0.767270      0.015818  \n",
       "3           0.003681       0.803570      0.009006  \n",
       "4           0.003379       0.814640      0.007196  "
      ]
     },
     "execution_count": 30,
     "metadata": {},
     "output_type": "execute_result"
    }
   ],
   "source": [
    "cv_data.head()"
   ]
  },
  {
   "cell_type": "markdown",
   "metadata": {
    "id": "3onuoT6BShpb"
   },
   "source": [
    "<b> Logloss </b> is indicative of how close the prediction probability is to the corresponding true value.\n",
    "\n",
    "Let us print the **Best validation Logloss score**."
   ]
  },
  {
   "cell_type": "code",
   "execution_count": 31,
   "metadata": {
    "id": "3G_wLwaC5Of5",
    "outputId": "73c6a6fb-e8be-4fa3-d69f-7c356489ee7b"
   },
   "outputs": [
    {
     "name": "stdout",
     "output_type": "stream",
     "text": [
      "Best validation Logloss score, not stratified: 0.1600±0.0079 on step 57\n"
     ]
    }
   ],
   "source": [
    "best_value = np.min(cv_data['test-Logloss-mean'])\n",
    "best_iter = np.argmin(cv_data['test-Logloss-mean'])\n",
    "\n",
    "print('Best validation Logloss score, not stratified: {:.4f}±{:.4f} on step {}'.format(\n",
    "    best_value,\n",
    "    cv_data['test-Logloss-std'][best_iter],\n",
    "    best_iter)\n",
    ")"
   ]
  },
  {
   "cell_type": "code",
   "execution_count": 32,
   "metadata": {
    "colab": {
     "referenced_widgets": [
      "f33d77a327b240e0a6f7ec8ef1b14605",
      "b5b4aa4b383e46e998644f18996bced8"
     ]
    },
    "id": "cmZMkPh15OgC",
    "outputId": "ecf5ece0-f367-4616-eaba-984793bc3238"
   },
   "outputs": [
    {
     "data": {
      "application/vnd.jupyter.widget-view+json": {
       "model_id": "033f2436dee14d26842086ada3a96a79",
       "version_major": 2,
       "version_minor": 0
      },
      "text/plain": [
       "MetricVisualizer(layout=Layout(align_self='stretch', height='500px'))"
      ]
     },
     "metadata": {},
     "output_type": "display_data"
    },
    {
     "name": "stdout",
     "output_type": "stream",
     "text": [
      "Training on fold [0/5]\n",
      "\n",
      "bestTest = 0.1614486451\n",
      "bestIteration = 31\n",
      "\n",
      "Training on fold [1/5]\n",
      "\n",
      "bestTest = 0.1551886688\n",
      "bestIteration = 56\n",
      "\n",
      "Training on fold [2/5]\n",
      "\n",
      "bestTest = 0.156915781\n",
      "bestIteration = 57\n",
      "\n",
      "Training on fold [3/5]\n",
      "\n",
      "bestTest = 0.1521221373\n",
      "bestIteration = 59\n",
      "\n",
      "Training on fold [4/5]\n",
      "\n",
      "bestTest = 0.1576264978\n",
      "bestIteration = 29\n",
      "\n",
      "Best validation Logloss score, stratified: 0.1574±0.0036 on step 57\n"
     ]
    }
   ],
   "source": [
    "cv_data = cv(\n",
    "    params = params,\n",
    "    pool = Pool(X, label=y, cat_features=cat_features),\n",
    "    fold_count=5,\n",
    "    type = 'Classical',\n",
    "    shuffle=True,\n",
    "    partition_random_seed=0,\n",
    "    plot=True,\n",
    "    stratified=True,\n",
    "    verbose=False\n",
    ")\n",
    "\n",
    "best_value = np.min(cv_data['test-Logloss-mean'])\n",
    "best_iter = np.argmin(cv_data['test-Logloss-mean'])\n",
    "\n",
    "print('Best validation Logloss score, stratified: {:.4f}±{:.4f} on step {}'.format(\n",
    "    best_value,\n",
    "    cv_data['test-Logloss-std'][best_iter],\n",
    "    best_iter)\n",
    ")"
   ]
  },
  {
   "cell_type": "markdown",
   "metadata": {
    "id": "4G_qISWi5OgH"
   },
   "source": [
    "####  <b> Overfitting Detector </b>"
   ]
  },
  {
   "cell_type": "markdown",
   "metadata": {
    "id": "D8wK2NxxNklk"
   },
   "source": [
    "If overfitting occurs, CatBoost can stop the training earlier than the training parameters dictate. For example, it can be stopped before the specified number of trees are built. This option is set in the starting parameters."
   ]
  },
  {
   "cell_type": "code",
   "execution_count": 33,
   "metadata": {
    "colab": {
     "referenced_widgets": [
      "0e1841ffcc2948829815023ddef4adf2",
      "9eec2a0b54904c8b88a573d249aab21a"
     ]
    },
    "id": "90aASIdT5OgH",
    "outputId": "197b26e6-c680-4644-dfa0-1829d4e59714"
   },
   "outputs": [
    {
     "data": {
      "application/vnd.jupyter.widget-view+json": {
       "model_id": "a230e8c1543b4feebfbd43a21ed277c9",
       "version_major": 2,
       "version_minor": 0
      },
      "text/plain": [
       "MetricVisualizer(layout=Layout(align_self='stretch', height='500px'))"
      ]
     },
     "metadata": {},
     "output_type": "display_data"
    },
    {
     "data": {
      "text/plain": [
       "<catboost.core.CatBoostClassifier at 0x1dd18c6fa10>"
      ]
     },
     "execution_count": 33,
     "metadata": {},
     "output_type": "execute_result"
    }
   ],
   "source": [
    "model_with_early_stop = CatBoostClassifier(\n",
    "    iterations=200,\n",
    "    random_seed=63,\n",
    "    learning_rate=0.5,\n",
    "    early_stopping_rounds=20\n",
    ")\n",
    "model_with_early_stop.fit(\n",
    "    X_train, y_train,\n",
    "    cat_features=cat_features,\n",
    "    eval_set=(X_validation, y_validation),\n",
    "    verbose=False,\n",
    "    plot=True\n",
    ")"
   ]
  },
  {
   "cell_type": "code",
   "execution_count": 34,
   "metadata": {
    "id": "kE8PeJo75OgM",
    "outputId": "5563415b-f409-4072-cbd9-39cc2daa08a0"
   },
   "outputs": [
    {
     "name": "stdout",
     "output_type": "stream",
     "text": [
      "30\n"
     ]
    }
   ],
   "source": [
    "print(model_with_early_stop.tree_count_)"
   ]
  },
  {
   "cell_type": "code",
   "execution_count": 35,
   "metadata": {
    "colab": {
     "referenced_widgets": [
      "1531eed4e779494583a0afb80ba0c36c",
      "7a7827852e6e4d4dae09925aa203ed7a"
     ]
    },
    "id": "krNSogvR5OgQ",
    "outputId": "19b41933-621e-4ac6-c34a-d43e9e52a757"
   },
   "outputs": [
    {
     "data": {
      "application/vnd.jupyter.widget-view+json": {
       "model_id": "1ff1dd50c38545b180f227c659e042e3",
       "version_major": 2,
       "version_minor": 0
      },
      "text/plain": [
       "MetricVisualizer(layout=Layout(align_self='stretch', height='500px'))"
      ]
     },
     "metadata": {},
     "output_type": "display_data"
    },
    {
     "data": {
      "text/plain": [
       "<catboost.core.CatBoostClassifier at 0x1dd18c6e490>"
      ]
     },
     "execution_count": 35,
     "metadata": {},
     "output_type": "execute_result"
    }
   ],
   "source": [
    "model_with_early_stop = CatBoostClassifier(\n",
    "    eval_metric='AUC',\n",
    "    iterations=200,\n",
    "    random_seed=63,\n",
    "    learning_rate=0.5,\n",
    "    early_stopping_rounds=20\n",
    ")\n",
    "model_with_early_stop.fit(\n",
    "    X_train, y_train,\n",
    "    cat_features=cat_features,\n",
    "    eval_set=(X_validation, y_validation),\n",
    "    verbose=False,\n",
    "    plot=True\n",
    ")"
   ]
  },
  {
   "cell_type": "code",
   "execution_count": 36,
   "metadata": {
    "id": "dxBiKSFD5OgV",
    "outputId": "5eceb682-e3d2-49bf-cb99-39926f9d86d2"
   },
   "outputs": [
    {
     "name": "stdout",
     "output_type": "stream",
     "text": [
      "30\n"
     ]
    }
   ],
   "source": [
    "print(model_with_early_stop.tree_count_)"
   ]
  },
  {
   "cell_type": "markdown",
   "metadata": {
    "id": "PxAb9Kl15OgY"
   },
   "source": [
    "#### <b> Select Decision Boundary </b>"
   ]
  },
  {
   "cell_type": "markdown",
   "metadata": {
    "id": "KGCB5MV-Nklk"
   },
   "source": [
    "In classification problems with two or more classes, a decision boundary is a hypersurface that separates the underlying vector space into sets, keeping one for each class."
   ]
  },
  {
   "cell_type": "code",
   "execution_count": 37,
   "metadata": {
    "colab": {
     "referenced_widgets": [
      "ff8a649adf424cbdb096e92ad9df871b",
      "a78e54693e1148d4960144fdbf0ffe97"
     ]
    },
    "id": "M1XlJ4ET5OgZ",
    "outputId": "d300cb7a-9739-437c-bc33-c50457537cc1"
   },
   "outputs": [
    {
     "data": {
      "application/vnd.jupyter.widget-view+json": {
       "model_id": "df3f78f2879b47b78691fefa9fea8202",
       "version_major": 2,
       "version_minor": 0
      },
      "text/plain": [
       "MetricVisualizer(layout=Layout(align_self='stretch', height='500px'))"
      ]
     },
     "metadata": {},
     "output_type": "display_data"
    },
    {
     "data": {
      "text/plain": [
       "<catboost.core.CatBoostClassifier at 0x1dd1cd7d750>"
      ]
     },
     "execution_count": 37,
     "metadata": {},
     "output_type": "execute_result"
    }
   ],
   "source": [
    "model = CatBoostClassifier(\n",
    "    random_seed=63,\n",
    "    iterations=200,\n",
    "    learning_rate=0.03,\n",
    ")\n",
    "model.fit(\n",
    "    X_train, y_train,\n",
    "    cat_features=cat_features,\n",
    "    verbose=False,\n",
    "    plot=True\n",
    ")"
   ]
  },
  {
   "cell_type": "markdown",
   "metadata": {
    "id": "9gy--FHg5Ogd"
   },
   "source": [
    "![Decision_Boundary](https://labcontent.simplicdn.net/data-content/content-assets/Data_and_AI/Applied_Machine_Learning/Images/Lesson_07_Ensemble_Learning/Decision_Boundary.png)"
   ]
  },
  {
   "cell_type": "code",
   "execution_count": 38,
   "metadata": {
    "id": "NOwXIxd_5Oge"
   },
   "outputs": [],
   "source": [
    "#Using utils to make the pattern easier\n",
    "from catboost.utils import get_roc_curve\n",
    "import sklearn\n",
    "from sklearn import metrics\n",
    "\n",
    "eval_pool = Pool(X_validation, y_validation, cat_features=cat_features)\n",
    "curve = get_roc_curve(model, eval_pool)\n",
    "(fpr, tpr, thresholds) = curve\n",
    "roc_auc = sklearn.metrics.auc(fpr, tpr)"
   ]
  },
  {
   "cell_type": "code",
   "execution_count": 39,
   "metadata": {
    "id": "2D0OXjqK5Ogh",
    "outputId": "ed129b7f-e51d-4217-f8bf-2958a6f88db4"
   },
   "outputs": [
    {
     "data": {
      "image/png": "[encoded data removed]",
      "text/plain": [
       "<Figure size 1600x800 with 1 Axes>"
      ]
     },
     "metadata": {},
     "output_type": "display_data"
    }
   ],
   "source": [
    "import matplotlib.pyplot as plt\n",
    "\n",
    "plt.figure(figsize=(16, 8))\n",
    "lw = 2\n",
    "\n",
    "plt.plot(fpr, tpr, color='darkorange',\n",
    "         lw=lw, label='ROC curve (area = %0.2f)' % roc_auc, alpha=0.5)\n",
    "\n",
    "plt.plot([0, 1], [0, 1], color='navy', lw=lw, linestyle='--', alpha=0.5)\n",
    "\n",
    "plt.xlim([0.0, 1.0])\n",
    "plt.ylim([0.0, 1.05])\n",
    "plt.xticks(fontsize=16)\n",
    "plt.yticks(fontsize=16)\n",
    "plt.grid(True)\n",
    "plt.xlabel('False Positive Rate', fontsize=16)\n",
    "plt.ylabel('True Positive Rate', fontsize=16)\n",
    "plt.title('Receiver operating characteristic', fontsize=20)\n",
    "plt.legend(loc=\"lower right\", fontsize=16)\n",
    "plt.show()"
   ]
  },
  {
   "cell_type": "markdown",
   "metadata": {
    "id": "pm5u4WQyNkll"
   },
   "source": [
    "The above graph illustrates the diagnostic ability of a binary classifier system as its discrimination threshold is varied."
   ]
  },
  {
   "cell_type": "code",
   "execution_count": 40,
   "metadata": {
    "id": "s6XnzMnU5Ogk"
   },
   "outputs": [],
   "source": [
    "from catboost.utils import get_fpr_curve\n",
    "from catboost.utils import get_fnr_curve\n",
    "\n",
    "(thresholds, fpr) = get_fpr_curve(curve=curve)\n",
    "(thresholds, fnr) = get_fnr_curve(curve=curve)"
   ]
  },
  {
   "cell_type": "code",
   "execution_count": 41,
   "metadata": {
    "id": "yO22sy2R5Ogn",
    "outputId": "29f539e2-7458-4192-fb96-51d2af58410a"
   },
   "outputs": [
    {
     "data": {
      "image/png": "[encoded data removed]",
      "text/plain": [
       "<Figure size 1600x800 with 1 Axes>"
      ]
     },
     "metadata": {},
     "output_type": "display_data"
    }
   ],
   "source": [
    "plt.figure(figsize=(16, 8))\n",
    "lw = 2\n",
    "\n",
    "plt.plot(thresholds, fpr, color='blue', lw=lw, label='FPR', alpha=0.5)\n",
    "plt.plot(thresholds, fnr, color='green', lw=lw, label='FNR', alpha=0.5)\n",
    "\n",
    "plt.xlim([0.0, 1.0])\n",
    "plt.ylim([0.0, 1.05])\n",
    "plt.xticks(fontsize=16)\n",
    "plt.yticks(fontsize=16)\n",
    "plt.grid(True)\n",
    "plt.xlabel('Threshold', fontsize=16)\n",
    "plt.ylabel('Error Rate', fontsize=16)\n",
    "plt.title('FPR-FNR curves', fontsize=20)\n",
    "plt.legend(loc=\"lower left\", fontsize=16)\n",
    "plt.show()"
   ]
  },
  {
   "cell_type": "markdown",
   "metadata": {
    "id": "T8lJSZAONkll"
   },
   "source": [
    "The above graph displays the FPR-FNR curves for error rate and threshold."
   ]
  },
  {
   "cell_type": "code",
   "execution_count": 42,
   "metadata": {
    "id": "WAcclDiN5Ogr",
    "outputId": "833b3f18-c1af-42b5-f1ad-e38bbae8bf29"
   },
   "outputs": [
    {
     "name": "stdout",
     "output_type": "stream",
     "text": [
      "0.48689529945049076\n",
      "0.9899713850692811\n"
     ]
    }
   ],
   "source": [
    "from catboost.utils import select_threshold\n",
    "\n",
    "print(select_threshold(model=model, data=eval_pool, FNR=0.01))\n",
    "print(select_threshold(model=model, data=eval_pool, FPR=0.01))"
   ]
  },
  {
   "cell_type": "markdown",
   "metadata": {
    "id": "aIAjbgbE5Ogv"
   },
   "source": [
    "#### <b> Snapshotting </b>"
   ]
  },
  {
   "cell_type": "markdown",
   "metadata": {
    "id": "0RYEUiDVNkll"
   },
   "source": [
    "Catboost supports snapshotting. You can use it to recover training after an interruption or start training with previous results."
   ]
  },
  {
   "cell_type": "code",
   "execution_count": 43,
   "metadata": {
    "id": "UxB4pDMC5Ogw",
    "outputId": "c635e351-1147-409e-d1f3-040be0cbae80",
    "scrolled": true
   },
   "outputs": [
    {
     "name": "stdout",
     "output_type": "stream",
     "text": [
      "Learning rate set to 0.193326\n",
      "0:\tlearn: 0.5565905\ttest: 0.5566217\tbest: 0.5566217 (0)\ttotal: 32.6ms\tremaining: 3.22s\n",
      "1:\tlearn: 0.4642626\ttest: 0.4639935\tbest: 0.4639935 (1)\ttotal: 66.2ms\tremaining: 3.24s\n",
      "2:\tlearn: 0.3989148\ttest: 0.3981304\tbest: 0.3981304 (2)\ttotal: 126ms\tremaining: 4.08s\n",
      "3:\tlearn: 0.3516186\ttest: 0.3510286\tbest: 0.3510286 (3)\ttotal: 152ms\tremaining: 3.65s\n",
      "4:\tlearn: 0.3164302\ttest: 0.3161297\tbest: 0.3161297 (4)\ttotal: 210ms\tremaining: 3.99s\n",
      "5:\tlearn: 0.2906047\ttest: 0.2905494\tbest: 0.2905494 (5)\ttotal: 224ms\tremaining: 3.51s\n",
      "6:\tlearn: 0.2710475\ttest: 0.2708899\tbest: 0.2708899 (6)\ttotal: 252ms\tremaining: 3.35s\n",
      "7:\tlearn: 0.2538458\ttest: 0.2539798\tbest: 0.2539798 (7)\ttotal: 316ms\tremaining: 3.63s\n",
      "8:\tlearn: 0.2399269\ttest: 0.2401350\tbest: 0.2401350 (8)\ttotal: 380ms\tremaining: 3.84s\n",
      "9:\tlearn: 0.2298664\ttest: 0.2304173\tbest: 0.2304173 (9)\ttotal: 451ms\tremaining: 4.06s\n",
      "10:\tlearn: 0.2180381\ttest: 0.2161946\tbest: 0.2161946 (10)\ttotal: 533ms\tremaining: 4.31s\n",
      "11:\tlearn: 0.2089276\ttest: 0.2055572\tbest: 0.2055572 (11)\ttotal: 589ms\tremaining: 4.32s\n",
      "12:\tlearn: 0.2027605\ttest: 0.1985313\tbest: 0.1985313 (12)\ttotal: 632ms\tremaining: 4.23s\n",
      "13:\tlearn: 0.1980597\ttest: 0.1929079\tbest: 0.1929079 (13)\ttotal: 697ms\tremaining: 4.28s\n",
      "14:\tlearn: 0.1931802\ttest: 0.1869335\tbest: 0.1869335 (14)\ttotal: 766ms\tremaining: 4.34s\n",
      "15:\tlearn: 0.1899584\ttest: 0.1827767\tbest: 0.1827767 (15)\ttotal: 865ms\tremaining: 4.54s\n",
      "16:\tlearn: 0.1868109\ttest: 0.1791481\tbest: 0.1791481 (16)\ttotal: 968ms\tremaining: 4.73s\n",
      "17:\tlearn: 0.1844046\ttest: 0.1764212\tbest: 0.1764212 (17)\ttotal: 1.03s\tremaining: 4.71s\n",
      "18:\tlearn: 0.1826815\ttest: 0.1739992\tbest: 0.1739992 (18)\ttotal: 1.14s\tremaining: 4.85s\n",
      "19:\tlearn: 0.1813182\ttest: 0.1724242\tbest: 0.1724242 (19)\ttotal: 1.23s\tremaining: 4.9s\n",
      "20:\tlearn: 0.1799044\ttest: 0.1705979\tbest: 0.1705979 (20)\ttotal: 1.28s\tremaining: 4.82s\n",
      "21:\tlearn: 0.1787567\ttest: 0.1691593\tbest: 0.1691593 (21)\ttotal: 1.34s\tremaining: 4.75s\n",
      "22:\tlearn: 0.1778479\ttest: 0.1679138\tbest: 0.1679138 (22)\ttotal: 1.4s\tremaining: 4.68s\n",
      "23:\tlearn: 0.1769800\ttest: 0.1669261\tbest: 0.1669261 (23)\ttotal: 1.45s\tremaining: 4.59s\n",
      "24:\tlearn: 0.1761963\ttest: 0.1659238\tbest: 0.1659238 (24)\ttotal: 1.5s\tremaining: 4.52s\n",
      "25:\tlearn: 0.1759394\ttest: 0.1656044\tbest: 0.1656044 (25)\ttotal: 1.54s\tremaining: 4.38s\n",
      "26:\tlearn: 0.1756321\ttest: 0.1651183\tbest: 0.1651183 (26)\ttotal: 1.6s\tremaining: 4.32s\n",
      "27:\tlearn: 0.1753093\ttest: 0.1645482\tbest: 0.1645482 (27)\ttotal: 1.67s\tremaining: 4.28s\n",
      "28:\tlearn: 0.1746490\ttest: 0.1634569\tbest: 0.1634569 (28)\ttotal: 1.73s\tremaining: 4.24s\n",
      "29:\tlearn: 0.1741248\ttest: 0.1626719\tbest: 0.1626719 (29)\ttotal: 1.8s\tremaining: 4.21s\n",
      "30:\tlearn: 0.1739190\ttest: 0.1624505\tbest: 0.1624505 (30)\ttotal: 1.88s\tremaining: 4.18s\n",
      "31:\tlearn: 0.1737505\ttest: 0.1621577\tbest: 0.1621577 (31)\ttotal: 1.95s\tremaining: 4.15s\n",
      "32:\tlearn: 0.1735156\ttest: 0.1617652\tbest: 0.1617652 (32)\ttotal: 2.02s\tremaining: 4.11s\n",
      "33:\tlearn: 0.1733737\ttest: 0.1616706\tbest: 0.1616706 (33)\ttotal: 2.08s\tremaining: 4.03s\n",
      "34:\tlearn: 0.1730710\ttest: 0.1615700\tbest: 0.1615700 (34)\ttotal: 2.19s\tremaining: 4.06s\n",
      "35:\tlearn: 0.1726234\ttest: 0.1613597\tbest: 0.1613597 (35)\ttotal: 2.26s\tremaining: 4.01s\n",
      "36:\tlearn: 0.1724223\ttest: 0.1609771\tbest: 0.1609771 (36)\ttotal: 2.31s\tremaining: 3.94s\n",
      "37:\tlearn: 0.1723166\ttest: 0.1609138\tbest: 0.1609138 (37)\ttotal: 2.37s\tremaining: 3.87s\n",
      "38:\tlearn: 0.1721109\ttest: 0.1607760\tbest: 0.1607760 (38)\ttotal: 2.44s\tremaining: 3.81s\n",
      "39:\tlearn: 0.1718253\ttest: 0.1604844\tbest: 0.1604844 (39)\ttotal: 2.5s\tremaining: 3.75s\n",
      "40:\tlearn: 0.1718135\ttest: 0.1604838\tbest: 0.1604838 (40)\ttotal: 2.53s\tremaining: 3.65s\n",
      "41:\tlearn: 0.1717654\ttest: 0.1604337\tbest: 0.1604337 (41)\ttotal: 2.6s\tremaining: 3.59s\n",
      "42:\tlearn: 0.1714937\ttest: 0.1602021\tbest: 0.1602021 (42)\ttotal: 2.65s\tremaining: 3.52s\n",
      "43:\tlearn: 0.1713759\ttest: 0.1601088\tbest: 0.1601088 (43)\ttotal: 2.71s\tremaining: 3.45s\n",
      "44:\tlearn: 0.1712930\ttest: 0.1601280\tbest: 0.1601088 (43)\ttotal: 2.75s\tremaining: 3.36s\n",
      "45:\tlearn: 0.1710363\ttest: 0.1601333\tbest: 0.1601088 (43)\ttotal: 2.81s\tremaining: 3.3s\n",
      "46:\tlearn: 0.1708310\ttest: 0.1598021\tbest: 0.1598021 (46)\ttotal: 2.87s\tremaining: 3.23s\n",
      "47:\tlearn: 0.1707415\ttest: 0.1598379\tbest: 0.1598021 (46)\ttotal: 2.94s\tremaining: 3.19s\n",
      "48:\tlearn: 0.1706194\ttest: 0.1597803\tbest: 0.1597803 (48)\ttotal: 3s\tremaining: 3.13s\n",
      "49:\tlearn: 0.1705094\ttest: 0.1598181\tbest: 0.1597803 (48)\ttotal: 3.07s\tremaining: 3.07s\n",
      "50:\tlearn: 0.1703454\ttest: 0.1596611\tbest: 0.1596611 (50)\ttotal: 3.13s\tremaining: 3.01s\n",
      "51:\tlearn: 0.1701364\ttest: 0.1594569\tbest: 0.1594569 (51)\ttotal: 3.23s\tremaining: 2.98s\n",
      "52:\tlearn: 0.1699351\ttest: 0.1594792\tbest: 0.1594569 (51)\ttotal: 3.29s\tremaining: 2.92s\n",
      "53:\tlearn: 0.1698191\ttest: 0.1594453\tbest: 0.1594453 (53)\ttotal: 3.35s\tremaining: 2.85s\n",
      "54:\tlearn: 0.1696360\ttest: 0.1594233\tbest: 0.1594233 (54)\ttotal: 3.4s\tremaining: 2.79s\n",
      "55:\tlearn: 0.1695476\ttest: 0.1593201\tbest: 0.1593201 (55)\ttotal: 3.47s\tremaining: 2.72s\n",
      "56:\tlearn: 0.1694507\ttest: 0.1593702\tbest: 0.1593201 (55)\ttotal: 3.54s\tremaining: 2.67s\n",
      "57:\tlearn: 0.1693879\ttest: 0.1593558\tbest: 0.1593201 (55)\ttotal: 3.59s\tremaining: 2.6s\n",
      "58:\tlearn: 0.1692182\ttest: 0.1593365\tbest: 0.1593201 (55)\ttotal: 3.65s\tremaining: 2.53s\n",
      "59:\tlearn: 0.1691692\ttest: 0.1593046\tbest: 0.1593046 (59)\ttotal: 3.7s\tremaining: 2.47s\n",
      "60:\tlearn: 0.1689825\ttest: 0.1590959\tbest: 0.1590959 (60)\ttotal: 3.76s\tremaining: 2.4s\n",
      "61:\tlearn: 0.1688233\ttest: 0.1587949\tbest: 0.1587949 (61)\ttotal: 3.82s\tremaining: 2.34s\n",
      "62:\tlearn: 0.1687423\ttest: 0.1587121\tbest: 0.1587121 (62)\ttotal: 3.89s\tremaining: 2.29s\n",
      "63:\tlearn: 0.1685821\ttest: 0.1585367\tbest: 0.1585367 (63)\ttotal: 3.95s\tremaining: 2.22s\n",
      "64:\tlearn: 0.1682095\ttest: 0.1583598\tbest: 0.1583598 (64)\ttotal: 4.02s\tremaining: 2.16s\n",
      "65:\tlearn: 0.1680435\ttest: 0.1581916\tbest: 0.1581916 (65)\ttotal: 4.09s\tremaining: 2.11s\n",
      "66:\tlearn: 0.1678092\ttest: 0.1580685\tbest: 0.1580685 (66)\ttotal: 4.16s\tremaining: 2.05s\n",
      "67:\tlearn: 0.1676905\ttest: 0.1579741\tbest: 0.1579741 (67)\ttotal: 4.26s\tremaining: 2.01s\n",
      "68:\tlearn: 0.1674648\ttest: 0.1579143\tbest: 0.1579143 (68)\ttotal: 4.33s\tremaining: 1.95s\n",
      "69:\tlearn: 0.1673214\ttest: 0.1579064\tbest: 0.1579064 (69)\ttotal: 4.38s\tremaining: 1.88s\n",
      "70:\tlearn: 0.1672664\ttest: 0.1579522\tbest: 0.1579064 (69)\ttotal: 4.44s\tremaining: 1.81s\n",
      "71:\tlearn: 0.1672555\ttest: 0.1579174\tbest: 0.1579064 (69)\ttotal: 4.49s\tremaining: 1.75s\n",
      "72:\tlearn: 0.1672462\ttest: 0.1579299\tbest: 0.1579064 (69)\ttotal: 4.54s\tremaining: 1.68s\n",
      "73:\tlearn: 0.1670767\ttest: 0.1578301\tbest: 0.1578301 (73)\ttotal: 4.6s\tremaining: 1.61s\n",
      "74:\tlearn: 0.1670546\ttest: 0.1577969\tbest: 0.1577969 (74)\ttotal: 4.65s\tremaining: 1.55s\n",
      "75:\tlearn: 0.1669987\ttest: 0.1577948\tbest: 0.1577948 (75)\ttotal: 4.71s\tremaining: 1.49s\n",
      "76:\tlearn: 0.1668860\ttest: 0.1577237\tbest: 0.1577237 (76)\ttotal: 4.78s\tremaining: 1.43s\n",
      "77:\tlearn: 0.1667215\ttest: 0.1576140\tbest: 0.1576140 (77)\ttotal: 4.85s\tremaining: 1.37s\n",
      "78:\tlearn: 0.1667140\ttest: 0.1575968\tbest: 0.1575968 (78)\ttotal: 4.91s\tremaining: 1.3s\n",
      "79:\tlearn: 0.1666534\ttest: 0.1575803\tbest: 0.1575803 (79)\ttotal: 4.98s\tremaining: 1.25s\n",
      "80:\tlearn: 0.1666215\ttest: 0.1575678\tbest: 0.1575678 (80)\ttotal: 5.06s\tremaining: 1.19s\n",
      "81:\tlearn: 0.1665369\ttest: 0.1576578\tbest: 0.1575678 (80)\ttotal: 5.14s\tremaining: 1.13s\n",
      "82:\tlearn: 0.1664881\ttest: 0.1576933\tbest: 0.1575678 (80)\ttotal: 5.2s\tremaining: 1.06s\n",
      "83:\tlearn: 0.1664809\ttest: 0.1576931\tbest: 0.1575678 (80)\ttotal: 5.3s\tremaining: 1.01s\n",
      "84:\tlearn: 0.1664459\ttest: 0.1577250\tbest: 0.1575678 (80)\ttotal: 5.36s\tremaining: 946ms\n",
      "85:\tlearn: 0.1664193\ttest: 0.1577061\tbest: 0.1575678 (80)\ttotal: 5.42s\tremaining: 882ms\n",
      "86:\tlearn: 0.1663895\ttest: 0.1577540\tbest: 0.1575678 (80)\ttotal: 5.47s\tremaining: 817ms\n",
      "87:\tlearn: 0.1663837\ttest: 0.1577521\tbest: 0.1575678 (80)\ttotal: 5.53s\tremaining: 754ms\n",
      "88:\tlearn: 0.1663628\ttest: 0.1577793\tbest: 0.1575678 (80)\ttotal: 5.59s\tremaining: 691ms\n",
      "89:\tlearn: 0.1663101\ttest: 0.1577507\tbest: 0.1575678 (80)\ttotal: 5.65s\tremaining: 627ms\n",
      "90:\tlearn: 0.1662302\ttest: 0.1576135\tbest: 0.1575678 (80)\ttotal: 5.72s\tremaining: 565ms\n",
      "91:\tlearn: 0.1662257\ttest: 0.1576185\tbest: 0.1575678 (80)\ttotal: 5.77s\tremaining: 502ms\n",
      "92:\tlearn: 0.1662070\ttest: 0.1576770\tbest: 0.1575678 (80)\ttotal: 5.84s\tremaining: 439ms\n",
      "93:\tlearn: 0.1661519\ttest: 0.1576925\tbest: 0.1575678 (80)\ttotal: 5.92s\tremaining: 378ms\n",
      "94:\tlearn: 0.1659885\ttest: 0.1576700\tbest: 0.1575678 (80)\ttotal: 6.01s\tremaining: 316ms\n",
      "95:\tlearn: 0.1659752\ttest: 0.1577138\tbest: 0.1575678 (80)\ttotal: 6.08s\tremaining: 253ms\n"
     ]
    },
    {
     "name": "stdout",
     "output_type": "stream",
     "text": [
      "96:\tlearn: 0.1658729\ttest: 0.1577104\tbest: 0.1575678 (80)\ttotal: 6.15s\tremaining: 190ms\n",
      "97:\tlearn: 0.1658312\ttest: 0.1577005\tbest: 0.1575678 (80)\ttotal: 6.22s\tremaining: 127ms\n",
      "98:\tlearn: 0.1657567\ttest: 0.1576310\tbest: 0.1575678 (80)\ttotal: 6.28s\tremaining: 63.5ms\n",
      "99:\tlearn: 0.1655047\ttest: 0.1576241\tbest: 0.1575678 (80)\ttotal: 6.39s\tremaining: 0us\n",
      "\n",
      "bestTest = 0.1575677776\n",
      "bestIteration = 80\n",
      "\n",
      "Shrink model to first 81 iterations.\n"
     ]
    },
    {
     "data": {
      "text/plain": [
       "<catboost.core.CatBoostClassifier at 0x1dd24eb6010>"
      ]
     },
     "execution_count": 43,
     "metadata": {},
     "output_type": "execute_result"
    }
   ],
   "source": [
    "#!rm 'catboost_info/snapshot.bkp'\n",
    "from catboost import CatBoostClassifier\n",
    "model = CatBoostClassifier(\n",
    "    iterations=100,\n",
    "    save_snapshot=True,\n",
    "    snapshot_file='snapshot.bkp',\n",
    "    snapshot_interval=1,\n",
    "    random_seed=43\n",
    ")\n",
    "model.fit(\n",
    "    X_train, y_train,\n",
    "    eval_set=(X_validation, y_validation),\n",
    "    cat_features=cat_features,\n",
    "    verbose=True\n",
    ")"
   ]
  },
  {
   "cell_type": "markdown",
   "metadata": {
    "id": "vcDF3uub5Og0"
   },
   "source": [
    "#### <b> Model Predictions </b>"
   ]
  },
  {
   "cell_type": "markdown",
   "metadata": {
    "id": "Cw6A0o-fNklm"
   },
   "source": [
    "predict_proba gives you the probabilities for the target in array form. The number of probabilities for each row is equal to the number of categories in the target variable."
   ]
  },
  {
   "cell_type": "code",
   "execution_count": 44,
   "metadata": {
    "id": "nZ-EOgNs5Og1",
    "outputId": "7d214afd-e1df-42f0-d71f-7e7c76cffb31"
   },
   "outputs": [
    {
     "name": "stdout",
     "output_type": "stream",
     "text": [
      "[[0.0508 0.9492]\n",
      " [0.0181 0.9819]\n",
      " [0.0179 0.9821]\n",
      " ...\n",
      " [0.0161 0.9839]\n",
      " [0.017  0.983 ]\n",
      " [0.0236 0.9764]]\n"
     ]
    }
   ],
   "source": [
    "print(model.predict_proba(X=X_validation))"
   ]
  },
  {
   "cell_type": "code",
   "execution_count": 45,
   "metadata": {
    "id": "QofNHstF5Og8",
    "outputId": "5f26f440-f5a4-49c9-e265-366db4f00553"
   },
   "outputs": [
    {
     "name": "stdout",
     "output_type": "stream",
     "text": [
      "[1 1 1 ... 1 1 1]\n"
     ]
    }
   ],
   "source": [
    "print(model.predict(data=X_validation))"
   ]
  },
  {
   "cell_type": "code",
   "execution_count": 46,
   "metadata": {
    "id": "0wRvj9K45OhA",
    "outputId": "05602437-9a51-40b4-9a64-eb247af6059d"
   },
   "outputs": [
    {
     "name": "stdout",
     "output_type": "stream",
     "text": [
      "[2.9282 3.9947 4.0077 ... 4.1115 4.06   3.7207]\n"
     ]
    }
   ],
   "source": [
    "raw_pred = model.predict(\n",
    "    data=X_validation,\n",
    "    prediction_type='RawFormulaVal'\n",
    ")\n",
    "print(raw_pred)"
   ]
  },
  {
   "cell_type": "code",
   "execution_count": 47,
   "metadata": {
    "id": "rPnLlKoP5OhF",
    "outputId": "2e208fb7-ee97-4e99-eae4-777bd324ea52"
   },
   "outputs": [
    {
     "name": "stdout",
     "output_type": "stream",
     "text": [
      "[0.9492 0.9819 0.9821 ... 0.9839 0.983  0.9764]\n"
     ]
    }
   ],
   "source": [
    "from numpy import exp\n",
    "\n",
    "#Calculating sigmoid\n",
    "sigmoid = lambda x: 1 / (1 + exp(-x))\n",
    "\n",
    "probabilities = sigmoid(raw_pred)\n",
    "\n",
    "print(probabilities)"
   ]
  },
  {
   "cell_type": "markdown",
   "metadata": {
    "id": "tfu959oGNklm"
   },
   "source": [
    "The probabilities will be displayed on the screen."
   ]
  },
  {
   "cell_type": "code",
   "execution_count": 48,
   "metadata": {
    "id": "QOnzpfW_5OhJ",
    "outputId": "0eeaa872-a1ee-4969-c6f4-1c6990c7a95e"
   },
   "outputs": [
    {
     "name": "stdout",
     "output_type": "stream",
     "text": [
      "[[0.0508 0.9492]\n",
      " [0.0181 0.9819]\n",
      " [0.0179 0.9821]\n",
      " ...\n",
      " [0.0161 0.9839]\n",
      " [0.017  0.983 ]\n",
      " [0.0236 0.9764]]\n"
     ]
    }
   ],
   "source": [
    "X_prepared = X_validation.values.astype(str).astype(object)\n",
    "#For FeaturesData class categorial features must have type str\n",
    "\n",
    "fast_predictions = model.predict_proba(\n",
    "    X=FeaturesData(\n",
    "        cat_feature_data=X_prepared,\n",
    "        cat_feature_names=list(X_validation)\n",
    "    )\n",
    ")\n",
    "print(fast_predictions)"
   ]
  },
  {
   "cell_type": "markdown",
   "metadata": {
    "id": "j7nBYBzI5OhN"
   },
   "source": [
    "#### <b> Staged Prediction </b>"
   ]
  },
  {
   "cell_type": "markdown",
   "metadata": {
    "id": "vgJCOks8Nklm"
   },
   "source": [
    "CatBoost allows to apply a trained model and calculate the results for each i-th tree of the model, taking into consideration only the trees in the range [0; i)."
   ]
  },
  {
   "cell_type": "code",
   "execution_count": 49,
   "metadata": {
    "id": "cRYfQdbD5OhO",
    "outputId": "af7c4b71-c11c-4486-db40-15ace5c03912"
   },
   "outputs": [
    {
     "name": "stdout",
     "output_type": "stream",
     "text": [
      "Iteration 0, predictions:\n",
      "[[0.4154 0.5846]\n",
      " [0.4154 0.5846]\n",
      " [0.4154 0.5846]\n",
      " ...\n",
      " [0.4154 0.5846]\n",
      " [0.4154 0.5846]\n",
      " [0.4154 0.5846]]\n",
      "Iteration 1, predictions:\n",
      "[[0.3476 0.6524]\n",
      " [0.3476 0.6524]\n",
      " [0.3476 0.6524]\n",
      " ...\n",
      " [0.3476 0.6524]\n",
      " [0.3476 0.6524]\n",
      " [0.3476 0.6524]]\n",
      "Iteration 2, predictions:\n",
      "[[0.292  0.708 ]\n",
      " [0.292  0.708 ]\n",
      " [0.2978 0.7022]\n",
      " ...\n",
      " [0.2978 0.7022]\n",
      " [0.292  0.708 ]\n",
      " [0.2978 0.7022]]\n",
      "Iteration 3, predictions:\n",
      "[[0.2485 0.7515]\n",
      " [0.2485 0.7515]\n",
      " [0.2538 0.7462]\n",
      " ...\n",
      " [0.2538 0.7462]\n",
      " [0.2485 0.7515]\n",
      " [0.2538 0.7462]]\n",
      "Iteration 4, predictions:\n",
      "[[0.2126 0.7874]\n",
      " [0.2126 0.7874]\n",
      " [0.2173 0.7827]\n",
      " ...\n",
      " [0.2173 0.7827]\n",
      " [0.2126 0.7874]\n",
      " [0.2173 0.7827]]\n"
     ]
    }
   ],
   "source": [
    "predictions_gen = model.staged_predict_proba(\n",
    "    data=X_validation,\n",
    "    ntree_start=0, \n",
    "    ntree_end=5, \n",
    "    eval_period=1\n",
    ")\n",
    "try:\n",
    "    for iteration, predictions in enumerate(predictions_gen):\n",
    "        print('Iteration ' + str(iteration) + ', predictions:')\n",
    "        print(predictions)\n",
    "except Exception:\n",
    "    pass"
   ]
  },
  {
   "cell_type": "markdown",
   "metadata": {
    "id": "3aW6hlAi5OhR"
   },
   "source": [
    "#### <b> Solving Multiclass Classification Problem </b>"
   ]
  },
  {
   "cell_type": "markdown",
   "metadata": {
    "id": "rCwesf-eShpf"
   },
   "source": [
    "Let us solve the **Multiclass Classification Problem** using the **CatBoostClassifier.**"
   ]
  },
  {
   "cell_type": "code",
   "execution_count": 50,
   "metadata": {
    "colab": {
     "referenced_widgets": [
      "0327b93beef24d888c8d7f0010219b84",
      "22b5a0cdd5e649d9b35a4a039fb52bd1"
     ]
    },
    "id": "rT5s48co5OhS",
    "outputId": "da0eaf76-4345-4737-ac9c-bd8f5a788b5e"
   },
   "outputs": [
    {
     "data": {
      "application/vnd.jupyter.widget-view+json": {
       "model_id": "ff3ddd9f169242acaccc6baddc246da9",
       "version_major": 2,
       "version_minor": 0
      },
      "text/plain": [
       "MetricVisualizer(layout=Layout(align_self='stretch', height='500px'))"
      ]
     },
     "metadata": {},
     "output_type": "display_data"
    },
    {
     "data": {
      "text/plain": [
       "<catboost.core.CatBoostClassifier at 0x1dd1cd71f90>"
      ]
     },
     "execution_count": 50,
     "metadata": {},
     "output_type": "execute_result"
    }
   ],
   "source": [
    "from catboost import CatBoostClassifier\n",
    "model = CatBoostClassifier(\n",
    "    iterations=50,\n",
    "    random_seed=43,\n",
    "    loss_function='MultiClass'\n",
    ")\n",
    "model.fit(\n",
    "    X_train, y_train,\n",
    "    cat_features=cat_features,\n",
    "    eval_set=(X_validation, y_validation),\n",
    "    verbose=False,\n",
    "    plot=True\n",
    ")"
   ]
  },
  {
   "cell_type": "markdown",
   "metadata": {
    "id": "FlpFRZCz5OhX"
   },
   "source": [
    "For multiclass problems with many classes, sometimes, it's better to solve classification problems using ranking. To do that, we will build a dataset with groups. Every group will represent one object from our initial dataset. But it will have one additional categorical feature, a possible class value. Target values will be equal to 1 if the class value is equal to the correct class and 0 otherwise. Thus, each group will have exactly one 1 in labels and some zeros. You can put all possible class values in the group, or you can try setting only hard negatives if there are too many labels. We'll show this approach as an example of a binary classification problem."
   ]
  },
  {
   "cell_type": "code",
   "execution_count": 51,
   "metadata": {
    "id": "zIvkXuVl5OhX"
   },
   "outputs": [],
   "source": [
    "#Defining custom function to build multiclass ranking\n",
    "from copy import deepcopy\n",
    "def build_multiclass_ranking_dataset(X, y, cat_features, label_values=[0,1], start_group_id=0):\n",
    "    ranking_matrix = []\n",
    "    ranking_labels = []\n",
    "    group_ids = []\n",
    "\n",
    "    X_train_matrix = X.values\n",
    "    y_train_vector = y.values\n",
    "\n",
    "    for obj_idx in range(X.shape[0]):\n",
    "        obj = list(X_train_matrix[obj_idx])\n",
    "\n",
    "        for label in label_values:\n",
    "            obj_of_given_class = deepcopy(obj)\n",
    "            obj_of_given_class.append(label)\n",
    "            ranking_matrix.append(obj_of_given_class)\n",
    "            ranking_labels.append(float(y_train_vector[obj_idx] == label)) \n",
    "            group_ids.append(start_group_id + obj_idx)\n",
    "        \n",
    "    final_cat_features = deepcopy(cat_features)\n",
    "    final_cat_features.append(X.shape[1]) # new feature that we are adding should be categorical.\n",
    "    return Pool(ranking_matrix, ranking_labels, cat_features=final_cat_features, group_id = group_ids)"
   ]
  },
  {
   "cell_type": "code",
   "execution_count": 52,
   "metadata": {
    "colab": {
     "referenced_widgets": [
      "4e0e1252d5b04dbca3952276a8475fd5",
      "52b87a3ce3684f7e958ab1df8380d9d7"
     ]
    },
    "id": "VlxBiDwl5Ohb",
    "outputId": "4214d974-54bd-4c64-ec62-aed3acb1bfbd"
   },
   "outputs": [
    {
     "data": {
      "application/vnd.jupyter.widget-view+json": {
       "model_id": "17957e7e128142d9b49d63b6307c946f",
       "version_major": 2,
       "version_minor": 0
      },
      "text/plain": [
       "MetricVisualizer(layout=Layout(align_self='stretch', height='500px'))"
      ]
     },
     "metadata": {},
     "output_type": "display_data"
    },
    {
     "data": {
      "text/plain": [
       "<catboost.core.CatBoost at 0x1dd16c9d010>"
      ]
     },
     "execution_count": 52,
     "metadata": {},
     "output_type": "execute_result"
    }
   ],
   "source": [
    "from catboost import CatBoost\n",
    "params = {'iterations':150, 'learning_rate':0.01, 'l2_leaf_reg':30, 'random_seed':0, 'loss_function':'QuerySoftMax'}\n",
    "\n",
    "groupwise_train_pool = build_multiclass_ranking_dataset(X_train, y_train, cat_features, [0,1])\n",
    "groupwise_eval_pool = build_multiclass_ranking_dataset(X_validation, y_validation, cat_features, [0,1], X_train.shape[0])\n",
    "\n",
    "model = CatBoost(params)\n",
    "model.fit(\n",
    "    X=groupwise_train_pool,\n",
    "    verbose=False,\n",
    "    eval_set=groupwise_eval_pool,\n",
    "    plot=True\n",
    ")"
   ]
  },
  {
   "cell_type": "markdown",
   "metadata": {
    "id": "e_jOxVQC5Ohm"
   },
   "source": [
    "Making predictions with ranking mode"
   ]
  },
  {
   "cell_type": "code",
   "execution_count": 53,
   "metadata": {
    "id": "0LJ1_59F5Ohn",
    "outputId": "29213586-7da0-4ad2-b4b5-efa2b2599ff7"
   },
   "outputs": [
    {
     "name": "stdout",
     "output_type": "stream",
     "text": [
      "Raw values: [-0.471   0.4713]\n",
      "Probabilities [0.2804 0.7196]\n"
     ]
    }
   ],
   "source": [
    "import math\n",
    "\n",
    "obj = list(X_validation.values[0])\n",
    "ratings = []\n",
    "for label in [0,1]:\n",
    "    obj_with_label = deepcopy(obj)\n",
    "    obj_with_label.append(label)\n",
    "    rating = model.predict([obj_with_label])[0]\n",
    "    ratings.append(rating)\n",
    "print('Raw values:', np.array(ratings))\n",
    "\n",
    "def soft_max(values):\n",
    "    return [math.exp(val) / sum([math.exp(val) for val in values]) for val in values]\n",
    "\n",
    "print('Probabilities', np.array(soft_max(ratings)))"
   ]
  },
  {
   "cell_type": "markdown",
   "metadata": {
    "id": "Cq-I_WzD5Ohq"
   },
   "source": [
    "#### <b> Metric Evaluation on a New Dataset </b>"
   ]
  },
  {
   "cell_type": "markdown",
   "metadata": {
    "id": "8N4RMYRjShpg"
   },
   "source": [
    "Let us perform **Metric Evaluation** on a new dataset using the training data."
   ]
  },
  {
   "cell_type": "code",
   "execution_count": 54,
   "metadata": {
    "id": "uFDHHfJi5Ohr",
    "outputId": "21b31825-976c-4bcc-86f4-998030456ac9"
   },
   "outputs": [
    {
     "name": "stdout",
     "output_type": "stream",
     "text": [
      "0:\tlearn: 0.6569860\ttotal: 62.7ms\tremaining: 12.5s\n",
      "50:\tlearn: 0.1923495\ttotal: 5.15s\tremaining: 15.1s\n",
      "100:\tlearn: 0.1655631\ttotal: 10.9s\tremaining: 10.7s\n",
      "150:\tlearn: 0.1570882\ttotal: 17.5s\tremaining: 5.68s\n",
      "199:\tlearn: 0.1538475\ttotal: 24.3s\tremaining: 0us\n"
     ]
    },
    {
     "data": {
      "text/plain": [
       "<catboost.core.CatBoostClassifier at 0x1dd24eade50>"
      ]
     },
     "execution_count": 54,
     "metadata": {},
     "output_type": "execute_result"
    }
   ],
   "source": [
    "model = CatBoostClassifier(\n",
    "    random_seed=63,\n",
    "    iterations=200,\n",
    "    learning_rate=0.03,\n",
    ")\n",
    "model.fit(\n",
    "    X_train, y_train,\n",
    "    cat_features=cat_features,\n",
    "    verbose=50\n",
    ")"
   ]
  },
  {
   "cell_type": "code",
   "execution_count": 55,
   "metadata": {
    "colab": {
     "referenced_widgets": [
      "d6422b8f754f4f00a51745e654eae249",
      "22b276b56dda46f999aec525cf70dfb1"
     ]
    },
    "id": "7taQUL7v5Ohu",
    "outputId": "deaf4ec5-ac17-4bf2-a292-5f260a27c847"
   },
   "outputs": [
    {
     "data": {
      "application/vnd.jupyter.widget-view+json": {
       "model_id": "9759918bfedb4841afa6eb36e40c1f36",
       "version_major": 2,
       "version_minor": 0
      },
      "text/plain": [
       "MetricVisualizer(layout=Layout(align_self='stretch', height='500px'))"
      ]
     },
     "metadata": {},
     "output_type": "display_data"
    }
   ],
   "source": [
    "metrics = model.eval_metrics(\n",
    "    data=pool1,\n",
    "    metrics=['Logloss','AUC'],\n",
    "    ntree_start=0,\n",
    "    ntree_end=0,\n",
    "    eval_period=1,\n",
    "    plot=True\n",
    ")"
   ]
  },
  {
   "cell_type": "code",
   "execution_count": 56,
   "metadata": {
    "id": "UD4ATFHB5Oh0",
    "outputId": "42a593e0-3a43-4e66-d510-6311634b77e2"
   },
   "outputs": [
    {
     "name": "stdout",
     "output_type": "stream",
     "text": [
      "AUC values:\n",
      "[0.4998 0.538  0.5504 0.5888 0.6536 0.6515 0.6476 0.648  0.7117 0.731\n",
      " 0.7277 0.7278 0.7299 0.7298 0.7275 0.7273 0.7336 0.735  0.7445 0.7606\n",
      " 0.7627 0.7627 0.7731 0.7769 0.7866 0.7985 0.7986 0.8008 0.8004 0.8004\n",
      " 0.8191 0.8357 0.8518 0.8666 0.8851 0.8855 0.8886 0.8931 0.8936 0.8991\n",
      " 0.9033 0.9115 0.9126 0.9136 0.9148 0.9163 0.9177 0.9184 0.9206 0.9211\n",
      " 0.9259 0.9289 0.9291 0.9324 0.9329 0.9334 0.9338 0.9351 0.9361 0.937\n",
      " 0.9378 0.938  0.9383 0.9393 0.9405 0.9416 0.943  0.9441 0.945  0.9448\n",
      " 0.9457 0.9458 0.9463 0.9464 0.9467 0.9469 0.9484 0.9494 0.9503 0.9515\n",
      " 0.9523 0.9528 0.9539 0.9546 0.955  0.9556 0.9559 0.9563 0.9565 0.9567\n",
      " 0.9572 0.9576 0.9583 0.9591 0.9602 0.9608 0.9613 0.9619 0.9622 0.9625\n",
      " 0.9629 0.9633 0.9637 0.9639 0.9647 0.9655 0.9661 0.9667 0.9673 0.9675\n",
      " 0.9682 0.9687 0.9691 0.9694 0.9699 0.9703 0.9706 0.9707 0.9711 0.9715\n",
      " 0.9716 0.972  0.9723 0.9726 0.9728 0.973  0.9731 0.9731 0.9733 0.9734\n",
      " 0.9738 0.9738 0.9739 0.974  0.9741 0.9742 0.9744 0.9744 0.9745 0.9746\n",
      " 0.9745 0.9746 0.9746 0.9746 0.9746 0.9748 0.9749 0.9748 0.9749 0.9749\n",
      " 0.9749 0.975  0.975  0.9751 0.9751 0.9752 0.9752 0.9752 0.9753 0.9753\n",
      " 0.9753 0.9753 0.9753 0.9754 0.9756 0.9755 0.9757 0.9757 0.9757 0.9757\n",
      " 0.9757 0.9757 0.976  0.976  0.9761 0.9761 0.9761 0.9761 0.9762 0.9762\n",
      " 0.9763 0.9763 0.9763 0.9763 0.9765 0.9765 0.9764 0.9764 0.9765 0.9765\n",
      " 0.9766 0.9767 0.9767 0.9767 0.9767 0.9768 0.9768 0.9767 0.9767 0.9767]\n"
     ]
    }
   ],
   "source": [
    "print('AUC values:')\n",
    "print(np.array(metrics['AUC']))"
   ]
  },
  {
   "cell_type": "markdown",
   "metadata": {
    "id": "UIVIjy4s5Oh3"
   },
   "source": [
    "#### <b> Feature Importances </b>"
   ]
  },
  {
   "cell_type": "markdown",
   "metadata": {
    "id": "ITnCQi5VNklo"
   },
   "source": [
    "<b> Feature importance </b> refers to techniques that assign a score to input features based on how useful they are at predicting a target variable."
   ]
  },
  {
   "cell_type": "code",
   "execution_count": 57,
   "metadata": {
    "id": "h62IP0nx5Oh4",
    "outputId": "21bd1304-8cc0-4417-a760-3779b695a739"
   },
   "outputs": [
    {
     "data": {
      "text/html": [
       "<div>\n",
       "<style scoped>\n",
       "    .dataframe tbody tr th:only-of-type {\n",
       "        vertical-align: middle;\n",
       "    }\n",
       "\n",
       "    .dataframe tbody tr th {\n",
       "        vertical-align: top;\n",
       "    }\n",
       "\n",
       "    .dataframe thead th {\n",
       "        text-align: right;\n",
       "    }\n",
       "</style>\n",
       "<table border=\"1\" class=\"dataframe\">\n",
       "  <thead>\n",
       "    <tr style=\"text-align: right;\">\n",
       "      <th></th>\n",
       "      <th>Feature Id</th>\n",
       "      <th>Importances</th>\n",
       "    </tr>\n",
       "  </thead>\n",
       "  <tbody>\n",
       "    <tr>\n",
       "      <th>0</th>\n",
       "      <td>RESOURCE</td>\n",
       "      <td>23.053159</td>\n",
       "    </tr>\n",
       "    <tr>\n",
       "      <th>1</th>\n",
       "      <td>ROLE_DEPTNAME</td>\n",
       "      <td>17.444028</td>\n",
       "    </tr>\n",
       "    <tr>\n",
       "      <th>2</th>\n",
       "      <td>MGR_ID</td>\n",
       "      <td>15.435686</td>\n",
       "    </tr>\n",
       "    <tr>\n",
       "      <th>3</th>\n",
       "      <td>ROLE_ROLLUP_2</td>\n",
       "      <td>13.141622</td>\n",
       "    </tr>\n",
       "    <tr>\n",
       "      <th>4</th>\n",
       "      <td>ROLE_CODE</td>\n",
       "      <td>10.487834</td>\n",
       "    </tr>\n",
       "    <tr>\n",
       "      <th>5</th>\n",
       "      <td>ROLE_FAMILY_DESC</td>\n",
       "      <td>7.121037</td>\n",
       "    </tr>\n",
       "    <tr>\n",
       "      <th>6</th>\n",
       "      <td>ROLE_TITLE</td>\n",
       "      <td>6.394562</td>\n",
       "    </tr>\n",
       "    <tr>\n",
       "      <th>7</th>\n",
       "      <td>ROLE_FAMILY</td>\n",
       "      <td>4.287269</td>\n",
       "    </tr>\n",
       "    <tr>\n",
       "      <th>8</th>\n",
       "      <td>ROLE_ROLLUP_1</td>\n",
       "      <td>2.634803</td>\n",
       "    </tr>\n",
       "  </tbody>\n",
       "</table>\n",
       "</div>"
      ],
      "text/plain": [
       "         Feature Id  Importances\n",
       "0          RESOURCE    23.053159\n",
       "1     ROLE_DEPTNAME    17.444028\n",
       "2            MGR_ID    15.435686\n",
       "3     ROLE_ROLLUP_2    13.141622\n",
       "4         ROLE_CODE    10.487834\n",
       "5  ROLE_FAMILY_DESC     7.121037\n",
       "6        ROLE_TITLE     6.394562\n",
       "7       ROLE_FAMILY     4.287269\n",
       "8     ROLE_ROLLUP_1     2.634803"
      ]
     },
     "execution_count": 57,
     "metadata": {},
     "output_type": "execute_result"
    }
   ],
   "source": [
    "#To find feature importance\n",
    "model.get_feature_importance(prettified=True)"
   ]
  },
  {
   "cell_type": "markdown",
   "metadata": {
    "id": "837_z1K8Nklp"
   },
   "source": [
    "Scores are assigned to the input features."
   ]
  },
  {
   "cell_type": "markdown",
   "metadata": {
    "id": "kj1c82tM5OiP"
   },
   "source": [
    "#### <b> Feature Evaluation </b>"
   ]
  },
  {
   "cell_type": "markdown",
   "metadata": {
    "id": "EtDVXC7IShph"
   },
   "source": [
    "Let us perform feature evaluation using the **eval_features( )** function."
   ]
  },
  {
   "cell_type": "code",
   "execution_count": 58,
   "metadata": {
    "id": "AWbMgw2v5OiQ",
    "scrolled": true
   },
   "outputs": [],
   "source": [
    "from catboost.eval.catboost_evaluation import *\n",
    "learn_params = {'iterations': 20, # 2000\n",
    "                'learning_rate': 0.5, #we set big learning_rate, because we have small iterations\n",
    "                'random_seed': 0,\n",
    "                'verbose': False,\n",
    "                'loss_function' : 'Logloss',\n",
    "                'boosting_type': 'Plain'}\n",
    "evaluator = CatboostEvaluation('amazon/train.tsv',\n",
    "                               fold_size=10000, #<= 50% of dataset\n",
    "                               fold_count=20,\n",
    "                               column_description='amazon/train.cd',\n",
    "                               partition_random_seed=0,\n",
    "                               #working_dir=... \n",
    ")\n",
    "result = evaluator.eval_features(learn_config=learn_params,\n",
    "                                 eval_metrics=['Logloss', 'Accuracy'],\n",
    "                                 features_to_eval=[6, 7, 8])"
   ]
  },
  {
   "cell_type": "code",
   "execution_count": 59,
   "metadata": {
    "id": "spKLWsNT5OiT",
    "outputId": "cbb7fcea-a18a-4691-8f35-cef203c6f9f3"
   },
   "outputs": [
    {
     "data": {
      "text/html": [
       "<div>\n",
       "<style scoped>\n",
       "    .dataframe tbody tr th:only-of-type {\n",
       "        vertical-align: middle;\n",
       "    }\n",
       "\n",
       "    .dataframe tbody tr th {\n",
       "        vertical-align: top;\n",
       "    }\n",
       "\n",
       "    .dataframe thead th {\n",
       "        text-align: right;\n",
       "    }\n",
       "</style>\n",
       "<table border=\"1\" class=\"dataframe\">\n",
       "  <thead>\n",
       "    <tr style=\"text-align: right;\">\n",
       "      <th></th>\n",
       "      <th>PValue</th>\n",
       "      <th>Score</th>\n",
       "      <th>Quantile 0.005</th>\n",
       "      <th>Quantile 0.995</th>\n",
       "      <th>Decision</th>\n",
       "    </tr>\n",
       "  </thead>\n",
       "  <tbody>\n",
       "    <tr>\n",
       "      <th>Features: 6</th>\n",
       "      <td>0.000189</td>\n",
       "      <td>1.010962</td>\n",
       "      <td>0.601546</td>\n",
       "      <td>1.491466</td>\n",
       "      <td>GOOD</td>\n",
       "    </tr>\n",
       "    <tr>\n",
       "      <th>Features: 7</th>\n",
       "      <td>0.681322</td>\n",
       "      <td>-0.033237</td>\n",
       "      <td>-0.348140</td>\n",
       "      <td>0.308468</td>\n",
       "      <td>UNKNOWN</td>\n",
       "    </tr>\n",
       "    <tr>\n",
       "      <th>Features: 8</th>\n",
       "      <td>0.005111</td>\n",
       "      <td>-0.439271</td>\n",
       "      <td>-0.771474</td>\n",
       "      <td>-0.110104</td>\n",
       "      <td>BAD</td>\n",
       "    </tr>\n",
       "  </tbody>\n",
       "</table>\n",
       "</div>"
      ],
      "text/plain": [
       "               PValue     Score  Quantile 0.005  Quantile 0.995 Decision\n",
       "Features: 6  0.000189  1.010962        0.601546        1.491466     GOOD\n",
       "Features: 7  0.681322 -0.033237       -0.348140        0.308468  UNKNOWN\n",
       "Features: 8  0.005111 -0.439271       -0.771474       -0.110104      BAD"
      ]
     },
     "execution_count": 59,
     "metadata": {},
     "output_type": "execute_result"
    }
   ],
   "source": [
    "from catboost.eval.evaluation_result import *\n",
    "logloss_result = result.get_metric_results('Logloss')\n",
    "logloss_result.get_baseline_comparison(\n",
    "    ScoreConfig(ScoreType.Rel, overfit_iterations_info=False)\n",
    ")"
   ]
  },
  {
   "cell_type": "markdown",
   "metadata": {
    "id": "UcZJ4fdD5OiX"
   },
   "source": [
    "#### <b> Saving the Model </b>"
   ]
  },
  {
   "cell_type": "code",
   "execution_count": 60,
   "metadata": {
    "id": "Xglg7jcd5OiX"
   },
   "outputs": [],
   "source": [
    "my_best_model = CatBoostClassifier(iterations=10)\n",
    "my_best_model.fit(\n",
    "    X_train, y_train,\n",
    "    eval_set=(X_validation, y_validation),\n",
    "    cat_features=cat_features,\n",
    "    verbose=False\n",
    ")\n",
    "my_best_model.save_model('catboost_model.bin')\n",
    "my_best_model.save_model('catboost_model.json', format='json')"
   ]
  },
  {
   "cell_type": "code",
   "execution_count": 61,
   "metadata": {
    "id": "IgMDZPUH5Oi6",
    "outputId": "363c4aa5-05da-4016-d67f-526b25d6f73f"
   },
   "outputs": [
    {
     "name": "stdout",
     "output_type": "stream",
     "text": [
      "{'iterations': 10, 'loss_function': 'Logloss', 'verbose': 0}\n",
      "0\n"
     ]
    }
   ],
   "source": [
    "my_best_model.load_model('catboost_model.bin')\n",
    "print(my_best_model.get_params())\n",
    "print(my_best_model.random_seed_)"
   ]
  },
  {
   "cell_type": "markdown",
   "metadata": {
    "id": "0aAqAHuV5Oi9"
   },
   "source": [
    "### **Hyperparameter Tunning**"
   ]
  },
  {
   "cell_type": "markdown",
   "metadata": {
    "id": "_D23SEkMNklp"
   },
   "source": [
    "Hyperparameter tuning is the process of determining the right combination of hyperparameters that allows the model to maximize model performance. Setting the correct combination of hyperparameters is the only way to extract the maximum performance out of models."
   ]
  },
  {
   "cell_type": "markdown",
   "metadata": {
    "id": "GzuTd82i5Oi9"
   },
   "source": [
    "#### <b> Training Speed </b>"
   ]
  },
  {
   "cell_type": "code",
   "execution_count": 62,
   "metadata": {
    "colab": {
     "referenced_widgets": [
      "5919aaf4ce58490d8010972c0d27e2d9",
      "76030f163f7c44199cbae12b33a3b1e3"
     ]
    },
    "id": "U9T_sgtS5Oi9",
    "outputId": "eb7b6801-1b60-4dc5-8320-9d35d28c1f7d"
   },
   "outputs": [
    {
     "data": {
      "application/vnd.jupyter.widget-view+json": {
       "model_id": "1646ccb2fde840d79863d171c82383b3",
       "version_major": 2,
       "version_minor": 0
      },
      "text/plain": [
       "MetricVisualizer(layout=Layout(align_self='stretch', height='500px'))"
      ]
     },
     "metadata": {},
     "output_type": "display_data"
    },
    {
     "data": {
      "text/plain": [
       "<catboost.core.CatBoostClassifier at 0x1dd24ed9f90>"
      ]
     },
     "execution_count": 62,
     "metadata": {},
     "output_type": "execute_result"
    }
   ],
   "source": [
    "from catboost import CatBoost\n",
    "fast_model = CatBoostClassifier(\n",
    "    random_seed=63,\n",
    "    iterations=150,\n",
    "    learning_rate=0.01,\n",
    "    boosting_type='Plain',\n",
    "    bootstrap_type='Bernoulli',\n",
    "    subsample=0.5,\n",
    "    one_hot_max_size=20,\n",
    "    rsm=0.5,\n",
    "    leaf_estimation_iterations=5,\n",
    "    max_ctr_complexity=1)\n",
    "\n",
    "fast_model.fit(\n",
    "    X_train, y_train,\n",
    "    cat_features=cat_features,\n",
    "    verbose=False,\n",
    "    plot=True\n",
    ")"
   ]
  },
  {
   "cell_type": "markdown",
   "metadata": {
    "id": "dJ4Q2M3S5OjB"
   },
   "source": [
    "#### <b> Accuracy </b>"
   ]
  },
  {
   "cell_type": "code",
   "execution_count": 63,
   "metadata": {
    "colab": {
     "referenced_widgets": [
      "a753f2a03cd64448969399ae15bf5f8e",
      "ef0114e102ed4ff694f884264ec7d64d"
     ]
    },
    "id": "6AHvnAq95OjB",
    "outputId": "50e8d209-c8dd-420f-ce47-3768cd0986a9"
   },
   "outputs": [
    {
     "data": {
      "application/vnd.jupyter.widget-view+json": {
       "model_id": "c0a40832aa234417aa256d52e76713f0",
       "version_major": 2,
       "version_minor": 0
      },
      "text/plain": [
       "MetricVisualizer(layout=Layout(align_self='stretch', height='500px'))"
      ]
     },
     "metadata": {},
     "output_type": "display_data"
    },
    {
     "data": {
      "text/plain": [
       "<catboost.core.CatBoostClassifier at 0x1dd18caf590>"
      ]
     },
     "execution_count": 63,
     "metadata": {},
     "output_type": "execute_result"
    }
   ],
   "source": [
    "tunned_model = CatBoostClassifier(\n",
    "    random_seed=63,\n",
    "    iterations=1000,\n",
    "    learning_rate=0.03,\n",
    "    l2_leaf_reg=3,\n",
    "    bagging_temperature=1,\n",
    "    random_strength=1,\n",
    "    one_hot_max_size=2,\n",
    "    leaf_estimation_method='Newton'\n",
    ")\n",
    "tunned_model.fit(\n",
    "    X_train, y_train,\n",
    "    cat_features=cat_features,\n",
    "    verbose=False,\n",
    "    eval_set=(X_validation, y_validation),\n",
    "    plot=True\n",
    ")"
   ]
  },
  {
   "cell_type": "markdown",
   "metadata": {
    "id": "ICXlZNSk5OjE"
   },
   "source": [
    "#### <b> Training the Model after Parameter Tuning </b>"
   ]
  },
  {
   "cell_type": "code",
   "execution_count": 64,
   "metadata": {
    "id": "cNRcMeN65OjF",
    "outputId": "fd5992b7-15e8-4219-9efc-7ca073977848"
   },
   "outputs": [
    {
     "name": "stdout",
     "output_type": "stream",
     "text": [
      "Learning rate set to 0.042562\n",
      "0:\tlearn: 0.6431230\ttotal: 61.2ms\tremaining: 1m 6s\n",
      "100:\tlearn: 0.1543277\ttotal: 13.8s\tremaining: 2m 14s\n",
      "200:\tlearn: 0.1468157\ttotal: 30.4s\tremaining: 2m 13s\n",
      "300:\tlearn: 0.1432971\ttotal: 46.6s\tremaining: 2m\n",
      "400:\tlearn: 0.1394889\ttotal: 1m 3s\tremaining: 1m 46s\n",
      "500:\tlearn: 0.1366166\ttotal: 1m 20s\tremaining: 1m 32s\n",
      "600:\tlearn: 0.1336685\ttotal: 1m 36s\tremaining: 1m 17s\n",
      "700:\tlearn: 0.1305189\ttotal: 1m 54s\tremaining: 1m 2s\n",
      "800:\tlearn: 0.1278539\ttotal: 2m 12s\tremaining: 46.2s\n",
      "900:\tlearn: 0.1250599\ttotal: 2m 30s\tremaining: 30s\n",
      "1000:\tlearn: 0.1223452\ttotal: 2m 48s\tremaining: 13.4s\n",
      "1080:\tlearn: 0.1201653\ttotal: 3m 4s\tremaining: 0us\n"
     ]
    },
    {
     "data": {
      "text/plain": [
       "<catboost.core.CatBoostClassifier at 0x1dd24ed2e50>"
      ]
     },
     "execution_count": 64,
     "metadata": {},
     "output_type": "execute_result"
    }
   ],
   "source": [
    "best_model = CatBoostClassifier(\n",
    "    random_seed=63,\n",
    "    iterations=int(tunned_model.tree_count_ * 1.2),\n",
    ")\n",
    "best_model.fit(\n",
    "    X, y,\n",
    "    cat_features=cat_features,\n",
    "    verbose=100\n",
    ")"
   ]
  },
  {
   "cell_type": "markdown",
   "metadata": {
    "id": "qW0i-lul5OjI"
   },
   "source": [
    "#### <b> Calculate Prediction </b>"
   ]
  },
  {
   "cell_type": "code",
   "execution_count": 65,
   "metadata": {
    "id": "hIfCEu-b5OjJ",
    "outputId": "35628d37-1425-4140-8ce3-3028339f7649"
   },
   "outputs": [
    {
     "name": "stdout",
     "output_type": "stream",
     "text": [
      "Predictions:\n",
      "[[0.2987 0.7013]\n",
      " [0.018  0.982 ]\n",
      " [0.0137 0.9863]\n",
      " ...\n",
      " [0.0049 0.9951]\n",
      " [0.0384 0.9616]\n",
      " [0.013  0.987 ]]\n"
     ]
    }
   ],
   "source": [
    "#Let us calculate contest predictions\n",
    "X_test = test_df.drop('id', axis=1)\n",
    "test_pool = Pool(data=X_test, cat_features=cat_features)\n",
    "contest_predictions = best_model.predict_proba(test_pool)\n",
    "print('Predictions:')\n",
    "print(contest_predictions)"
   ]
  },
  {
   "cell_type": "markdown",
   "metadata": {
    "id": "vnyu4ovB5OjL"
   },
   "source": [
    "### <b>Voting Ensemble</b>\n",
    "\n",
    "Voting is one of the simplest ways of combining the predictions from multiple machine learning algorithms.\n",
    "\n",
    "It works by first creating two or more standalone models from your training dataset. A Voting Classifier can then be used to wrap your models and average the predictions of the submodels when asked to make predictions for new data.\n",
    "\n",
    "The predictions of the submodels can be weighted, but specifying the weights for classifiers manually or even heuristically is difficult. More advanced methods can learn how to best weight the predictions from submodels, but this is called stacking (stacked generalization) and is currently not provided in scikit-learn.\n",
    "\n",
    "You can create a voting ensemble model for classification using the **VotingClassifier** class.\n",
    "\n",
    "The code below provides an example of combining the predictions of logistic regression, classification, and regression trees and support vector machines together for a classification problem.\n"
   ]
  },
  {
   "cell_type": "code",
   "execution_count": 66,
   "metadata": {
    "id": "wmMBPdN58cMW",
    "outputId": "ca81f02d-ec1a-46b1-a6b0-20c5c47cd309",
    "scrolled": false
   },
   "outputs": [
    {
     "name": "stderr",
     "output_type": "stream",
     "text": [
      "C:\\Users\\srika\\anaconda3\\Lib\\site-packages\\sklearn\\linear_model\\_logistic.py:460: ConvergenceWarning: lbfgs failed to converge (status=1):\n",
      "STOP: TOTAL NO. of ITERATIONS REACHED LIMIT.\n",
      "\n",
      "Increase the number of iterations (max_iter) or scale the data as shown in:\n",
      "    https://scikit-learn.org/stable/modules/preprocessing.html\n",
      "Please also refer to the documentation for alternative solver options:\n",
      "    https://scikit-learn.org/stable/modules/linear_model.html#logistic-regression\n",
      "  n_iter_i = _check_optimize_result(\n",
      "C:\\Users\\srika\\anaconda3\\Lib\\site-packages\\sklearn\\linear_model\\_logistic.py:460: ConvergenceWarning: lbfgs failed to converge (status=1):\n",
      "STOP: TOTAL NO. of ITERATIONS REACHED LIMIT.\n",
      "\n",
      "Increase the number of iterations (max_iter) or scale the data as shown in:\n",
      "    https://scikit-learn.org/stable/modules/preprocessing.html\n",
      "Please also refer to the documentation for alternative solver options:\n",
      "    https://scikit-learn.org/stable/modules/linear_model.html#logistic-regression\n",
      "  n_iter_i = _check_optimize_result(\n",
      "C:\\Users\\srika\\anaconda3\\Lib\\site-packages\\sklearn\\linear_model\\_logistic.py:460: ConvergenceWarning: lbfgs failed to converge (status=1):\n",
      "STOP: TOTAL NO. of ITERATIONS REACHED LIMIT.\n",
      "\n",
      "Increase the number of iterations (max_iter) or scale the data as shown in:\n",
      "    https://scikit-learn.org/stable/modules/preprocessing.html\n",
      "Please also refer to the documentation for alternative solver options:\n",
      "    https://scikit-learn.org/stable/modules/linear_model.html#logistic-regression\n",
      "  n_iter_i = _check_optimize_result(\n",
      "C:\\Users\\srika\\anaconda3\\Lib\\site-packages\\sklearn\\linear_model\\_logistic.py:460: ConvergenceWarning: lbfgs failed to converge (status=1):\n",
      "STOP: TOTAL NO. of ITERATIONS REACHED LIMIT.\n",
      "\n",
      "Increase the number of iterations (max_iter) or scale the data as shown in:\n",
      "    https://scikit-learn.org/stable/modules/preprocessing.html\n",
      "Please also refer to the documentation for alternative solver options:\n",
      "    https://scikit-learn.org/stable/modules/linear_model.html#logistic-regression\n",
      "  n_iter_i = _check_optimize_result(\n",
      "C:\\Users\\srika\\anaconda3\\Lib\\site-packages\\sklearn\\linear_model\\_logistic.py:460: ConvergenceWarning: lbfgs failed to converge (status=1):\n",
      "STOP: TOTAL NO. of ITERATIONS REACHED LIMIT.\n",
      "\n",
      "Increase the number of iterations (max_iter) or scale the data as shown in:\n",
      "    https://scikit-learn.org/stable/modules/preprocessing.html\n",
      "Please also refer to the documentation for alternative solver options:\n",
      "    https://scikit-learn.org/stable/modules/linear_model.html#logistic-regression\n",
      "  n_iter_i = _check_optimize_result(\n",
      "C:\\Users\\srika\\anaconda3\\Lib\\site-packages\\sklearn\\linear_model\\_logistic.py:460: ConvergenceWarning: lbfgs failed to converge (status=1):\n",
      "STOP: TOTAL NO. of ITERATIONS REACHED LIMIT.\n",
      "\n",
      "Increase the number of iterations (max_iter) or scale the data as shown in:\n",
      "    https://scikit-learn.org/stable/modules/preprocessing.html\n",
      "Please also refer to the documentation for alternative solver options:\n",
      "    https://scikit-learn.org/stable/modules/linear_model.html#logistic-regression\n",
      "  n_iter_i = _check_optimize_result(\n",
      "C:\\Users\\srika\\anaconda3\\Lib\\site-packages\\sklearn\\linear_model\\_logistic.py:460: ConvergenceWarning: lbfgs failed to converge (status=1):\n",
      "STOP: TOTAL NO. of ITERATIONS REACHED LIMIT.\n",
      "\n",
      "Increase the number of iterations (max_iter) or scale the data as shown in:\n",
      "    https://scikit-learn.org/stable/modules/preprocessing.html\n",
      "Please also refer to the documentation for alternative solver options:\n",
      "    https://scikit-learn.org/stable/modules/linear_model.html#logistic-regression\n",
      "  n_iter_i = _check_optimize_result(\n",
      "C:\\Users\\srika\\anaconda3\\Lib\\site-packages\\sklearn\\linear_model\\_logistic.py:460: ConvergenceWarning: lbfgs failed to converge (status=1):\n",
      "STOP: TOTAL NO. of ITERATIONS REACHED LIMIT.\n",
      "\n",
      "Increase the number of iterations (max_iter) or scale the data as shown in:\n",
      "    https://scikit-learn.org/stable/modules/preprocessing.html\n",
      "Please also refer to the documentation for alternative solver options:\n",
      "    https://scikit-learn.org/stable/modules/linear_model.html#logistic-regression\n",
      "  n_iter_i = _check_optimize_result(\n",
      "C:\\Users\\srika\\anaconda3\\Lib\\site-packages\\sklearn\\linear_model\\_logistic.py:460: ConvergenceWarning: lbfgs failed to converge (status=1):\n",
      "STOP: TOTAL NO. of ITERATIONS REACHED LIMIT.\n",
      "\n",
      "Increase the number of iterations (max_iter) or scale the data as shown in:\n",
      "    https://scikit-learn.org/stable/modules/preprocessing.html\n",
      "Please also refer to the documentation for alternative solver options:\n",
      "    https://scikit-learn.org/stable/modules/linear_model.html#logistic-regression\n",
      "  n_iter_i = _check_optimize_result(\n",
      "C:\\Users\\srika\\anaconda3\\Lib\\site-packages\\sklearn\\linear_model\\_logistic.py:460: ConvergenceWarning: lbfgs failed to converge (status=1):\n",
      "STOP: TOTAL NO. of ITERATIONS REACHED LIMIT.\n",
      "\n",
      "Increase the number of iterations (max_iter) or scale the data as shown in:\n",
      "    https://scikit-learn.org/stable/modules/preprocessing.html\n",
      "Please also refer to the documentation for alternative solver options:\n",
      "    https://scikit-learn.org/stable/modules/linear_model.html#logistic-regression\n",
      "  n_iter_i = _check_optimize_result(\n"
     ]
    },
    {
     "name": "stdout",
     "output_type": "stream",
     "text": [
      "0.7669002050580997\n"
     ]
    }
   ],
   "source": [
    "#Voting Ensemble for Classification\n",
    "import pandas\n",
    "from sklearn import model_selection\n",
    "from sklearn.linear_model import LogisticRegression\n",
    "from sklearn.tree import DecisionTreeClassifier\n",
    "from sklearn.svm import SVC\n",
    "from sklearn.ensemble import VotingClassifier\n",
    "\n",
    "url = \"https://raw.githubusercontent.com/jbrownlee/Datasets/master/pima-indians-diabetes.data.csv\"\n",
    "names = ['preg', 'plas', 'pres', 'skin', 'test', 'mass', 'pedi', 'age', 'class']\n",
    "dataframe = pandas.read_csv(url, names=names)\n",
    "\n",
    "array = dataframe.values\n",
    "X = array[:,0:8]\n",
    "Y = array[:,8]\n",
    "seed = 7\n",
    "kfold = model_selection.KFold(n_splits=10)\n",
    "\n",
    "#Create the sub models\n",
    "estimators = []\n",
    "model1 = LogisticRegression()\n",
    "estimators.append(('logistic', model1))\n",
    "model2 = DecisionTreeClassifier()\n",
    "estimators.append(('cart', model2))\n",
    "model3 = SVC()\n",
    "estimators.append(('svm', model3))\n",
    "\n",
    "#Create the ensemble model\n",
    "ensemble = VotingClassifier(estimators)\n",
    "results = model_selection.cross_val_score(ensemble, X, Y, cv=kfold)\n",
    "print(results.mean())"
   ]
  }
 ],
 "metadata": {
  "colab": {
   "collapsed_sections": [],
   "name": "7.01_Ensemble_Learning.ipynb",
   "provenance": []
  },
  "kernelspec": {
   "display_name": "Python 3 (ipykernel)",
   "language": "python",
   "name": "python3"
  },
  "language_info": {
   "codemirror_mode": {
    "name": "ipython",
    "version": 3
   },
   "file_extension": ".py",
   "mimetype": "text/x-python",
   "name": "python",
   "nbconvert_exporter": "python",
   "pygments_lexer": "ipython3",
   "version": "3.11.5"
  }
 },
 "nbformat": 4,
 "nbformat_minor": 1
}
