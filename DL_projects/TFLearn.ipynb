{
 "cells": [
  {
   "cell_type": "markdown",
   "id": "40a948fc",
   "metadata": {},
   "source": [
    "## TFlearn"
   ]
  },
  {
   "cell_type": "markdown",
   "id": "1c7f3c5e",
   "metadata": {},
   "source": [
    "TFLearn creates a TrainOp class to describe an optimization procedure (such as backprop). \n",
    "- Here's how it's defined:"
   ]
  },
  {
   "cell_type": "markdown",
   "id": "8b758576",
   "metadata": {},
   "source": [
    "# DO NOT RUN ANY CODE"
   ]
  },
  {
   "cell_type": "code",
   "execution_count": 4,
   "id": "aab0e81a",
   "metadata": {},
   "outputs": [],
   "source": [
    "import tensorflow as tf"
   ]
  },
  {
   "cell_type": "code",
   "execution_count": 2,
   "id": "829f76dc",
   "metadata": {},
   "outputs": [],
   "source": [
    "# import tflearn\n",
    "# it will throw import error because of the following reason\n",
    "# I believe it is because tflearn==0.5.0 which is too old and cannot work with latest tensorflow=2.13.0"
   ]
  },
  {
   "cell_type": "code",
   "execution_count": null,
   "id": "b059b18b",
   "metadata": {},
   "outputs": [],
   "source": [
    "#Define your network architecture\n",
    "input_placeholder = tf.placeholder(tf.float32, shape=[None, input_size]) \n",
    "target_placeholder = tf.placeholder(tf.float32, shape=[None, num_classes]) \n",
    "my_network = tflearn.fully_connected(input_placeholder, 32) \n",
    "loss = tflearn.objectives.categorical_crossentropy(my_network, target_placeholder) \n",
    "accuracy = tflearn.metrics.accuracy(my_network, target_placeholder)"
   ]
  },
  {
   "cell_type": "code",
   "execution_count": null,
   "id": "d5e25e18",
   "metadata": {},
   "outputs": [],
   "source": [
    "#Create TrainOp and Trainer \n",
    "trainop = tflearn.TrainOp(net=my_network, loss=loss, metric=accuracy) \n",
    "model = tflearn.Trainer(train_ops=trainop, tensorboard_dir='/tmp/tflearn')"
   ]
  },
  {
   "cell_type": "code",
   "execution_count": null,
   "id": "9623d2e5",
   "metadata": {},
   "outputs": [],
   "source": [
    "#Train the model \n",
    "model.fit(feed_dicts={input_placeholder: X, target_placeholder: Y}, \n",
    "n_epoch=10, batch_size=128, show_metric=True)"
   ]
  },
  {
   "cell_type": "code",
   "execution_count": null,
   "id": "2d03fc81",
   "metadata": {},
   "outputs": [],
   "source": [
    "#Create TrainOp objects for each training operation \n",
    "trainop1 = tflearn.TrainOp(net=network1, loss=loss1) \n",
    "trainop2 = tflearn.TrainOp(net=network2, loss=loss2) \n",
    "trainop3 = tflearn.TrainOp(net=network3, loss=loss3)"
   ]
  },
  {
   "cell_type": "code",
   "execution_count": null,
   "id": "5bab11f9",
   "metadata": {},
   "outputs": [],
   "source": [
    "#Create Trainer with multiple TrainOps\n",
    "model = tflearn.Trainer(train_ops=[trainop1, trainop2, trainop3])"
   ]
  },
  {
   "cell_type": "code",
   "execution_count": null,
   "id": "236b4d79",
   "metadata": {},
   "outputs": [],
   "source": [
    "#Train the model with different feed dictionaries for each training operation\n",
    "feed_dict1 = {in1: X1, label1: Y1} \n",
    "feed_dict2 = {in2: X2, in3: X3, label2: Y2} \n",
    "model.fit(feed_dicts=[feed_dict1, feed_dict2])"
   ]
  },
  {
   "cell_type": "markdown",
   "id": "45473acc",
   "metadata": {},
   "source": [
    "###### For prediction, TFLearn implements an Evaluator class that works the same as the trainer. It takes a parameter and returns the predicted value."
   ]
  },
  {
   "cell_type": "code",
   "execution_count": null,
   "id": "1f780211",
   "metadata": {},
   "outputs": [],
   "source": [
    "#Create Evaluator \n",
    "model = tflearn.Evaluator(network)"
   ]
  },
  {
   "cell_type": "code",
   "execution_count": null,
   "id": "0992b22c",
   "metadata": {},
   "outputs": [],
   "source": [
    "#Make predictions \n",
    "predictions = model.predict(feed_dict={input_placeholder: X})"
   ]
  },
  {
   "cell_type": "markdown",
   "id": "9bfcf954",
   "metadata": {},
   "source": [
    "###### The Trainer class in TFLearn utilizes the is_training boolean variable to handle network behavior during training, testing, and prediction. "
   ]
  },
  {
   "cell_type": "code",
   "execution_count": null,
   "id": "2ff2acf6",
   "metadata": {},
   "outputs": [],
   "source": [
    "#Example for Dropout:\n",
    "x = ...\n",
    "def apply_dropout(): #Function to apply when training mode ON.\n",
    "return tf.nn.dropout(x, keep_prob)\n",
    "is_training = tflearn.get_training_mode() #Retrieve is_training variable.\n",
    "tf.cond(is_training, apply_dropout, lambda: x) #Only apply dropout at training time."
   ]
  },
  {
   "cell_type": "markdown",
   "id": "9dca33f1",
   "metadata": {},
   "source": [
    "###### TFLearn implements functions to retrieve that variable or change its value:"
   ]
  },
  {
   "cell_type": "code",
   "execution_count": null,
   "id": "af5877d7",
   "metadata": {},
   "outputs": [],
   "source": [
    "#Set training mode ON (set is_training var to True) \n",
    "tflearn.is_training(True) \n",
    "#Set training mode OFF (set is_training var to False)\n",
    "tflearn.is_training(False)"
   ]
  },
  {
   "cell_type": "markdown",
   "id": "ff895ea9",
   "metadata": {},
   "source": [
    "###### "
   ]
  },
  {
   "cell_type": "markdown",
   "id": "c2bb1e72",
   "metadata": {},
   "source": [
    "## Weight Persistence"
   ]
  },
  {
   "cell_type": "markdown",
   "id": "9bdd1504",
   "metadata": {},
   "source": [
    "It is the process of saving and loading learned parameter values (weights) of a trained model for \n",
    "future use or deployment"
   ]
  },
  {
   "cell_type": "code",
   "execution_count": null,
   "id": "5c2aad51",
   "metadata": {},
   "outputs": [],
   "source": [
    "#Save the weights\n",
    "model.save_weights('my_model_weights.npy’)\n",
    "#Load a model\n",
    "torch.save(model.state_dict(), 'my_model_weights.pth’)"
   ]
  },
  {
   "cell_type": "markdown",
   "id": "804675cf",
   "metadata": {},
   "source": [
    "A layer variable can be directly retrieved by using the layer name, or indirectly by using the W or b\n",
    "attributes that are associated with the layer's returned tensor."
   ]
  },
  {
   "cell_type": "code",
   "execution_count": null,
   "id": "29e9d38e",
   "metadata": {},
   "outputs": [],
   "source": [
    "# Let's create a layer\n",
    "fc1 = fully_connected(input_layer, 64, name=\"fc_layer_1\")"
   ]
  },
  {
   "cell_type": "code",
   "execution_count": null,
   "id": "f60a4c51",
   "metadata": {},
   "outputs": [],
   "source": [
    "# Using Tensor attributes (Layer will supercharge the returned Tensor with \n",
    "weights attributes)\n",
    "fc1_weights_var = fc1.W\n",
    "fc1_biases_var = fc1.b"
   ]
  },
  {
   "cell_type": "code",
   "execution_count": null,
   "id": "20c0f34d",
   "metadata": {},
   "outputs": [],
   "source": [
    "# Using Tensor name\n",
    "fc1_vars = tflearn.get_layer_variables_by_name(\"fc_layer_1\")\n",
    "fc1_weights_var = fc1_vars[0]\n",
    "fc1_biases_var = fc1_vars[1]"
   ]
  },
  {
   "cell_type": "markdown",
   "id": "035454e8",
   "metadata": {},
   "source": [
    "The TFLearn model classes implement the get_weights and set_weights methods to obtain or set the \n",
    "values of these variables:"
   ]
  },
  {
   "cell_type": "code",
   "execution_count": null,
   "id": "52aa4dad",
   "metadata": {},
   "outputs": [],
   "source": [
    "input_data = tflearn.input_data(shape=[None, 784])\n",
    "fc1 = tflearn.fully_connected(input_data, 64)\n",
    "fc2 = tflearn.fully_connected(fc1, 10, activation='softmax')\n",
    "net = tflearn.regression(fc2)\n",
    "model = DNN(net)"
   ]
  },
  {
   "cell_type": "code",
   "execution_count": null,
   "id": "18d890d9",
   "metadata": {},
   "outputs": [],
   "source": [
    "# Get weights values of fc2\n",
    "model.get_weights(fc2.W)"
   ]
  },
  {
   "cell_type": "code",
   "execution_count": null,
   "id": "65de30b4",
   "metadata": {},
   "outputs": [],
   "source": [
    "# Assign new random weights to fc2\n",
    "model.set_weights(fc2.W, numpy.random.rand(64, 10))"
   ]
  },
  {
   "cell_type": "markdown",
   "id": "3375e517",
   "metadata": {},
   "source": [
    "###### The following is an illustration of how to save, restore, and retrieve weights for models:"
   ]
  },
  {
   "cell_type": "markdown",
   "id": "f9f2f5a1",
   "metadata": {},
   "source": [
    "pip install tflearn"
   ]
  },
  {
   "cell_type": "code",
   "execution_count": null,
   "id": "f3b74972",
   "metadata": {},
   "outputs": [],
   "source": [
    "from __future__ import absolute_import, division, print_function\n",
    "import tflearn\n",
    "import tflearn.datasets.mnist as mnist"
   ]
  },
  {
   "cell_type": "code",
   "execution_count": null,
   "id": "6d95c0bd",
   "metadata": {},
   "outputs": [],
   "source": [
    "# MNIST Data\n",
    "x, y, testx, testy = mnist.load_data(one_hot=True)"
   ]
  },
  {
   "cell_type": "code",
   "execution_count": null,
   "id": "03ba4f79",
   "metadata": {},
   "outputs": [],
   "source": [
    "# Model\n",
    "input_layer = tflearn.input_data(shape=[None, 784], name='input')\n",
    "dense1 = tflearn.fully_connected(input_layer, 128, name='dense1')\n",
    "dense2 = tflearn.fully_connected(dense1, 256, name='dense2')\n",
    "softmax = tflearn.fully_connected(dense2, 10, activation='softmax')\n",
    "regression = tflearn.regression(softmax, optimizer='adam',\n",
    "learning_rate=0.001,\n",
    "loss='categorical_crossentropy')"
   ]
  },
  {
   "cell_type": "markdown",
   "id": "ae53d65c",
   "metadata": {},
   "source": [
    "###### A classifier model with a model checkpoint that automatically saves the model and weights for later use or evaluation during training"
   ]
  },
  {
   "cell_type": "code",
   "execution_count": null,
   "id": "ac360752",
   "metadata": {},
   "outputs": [],
   "source": [
    "# Define classifier, with model checkpoint (autosave)\n",
    "model = tflearn.DNN(regression, checkpoint_path='model.tfl.ckpt’)"
   ]
  },
  {
   "cell_type": "code",
   "execution_count": null,
   "id": "15011cb7",
   "metadata": {},
   "outputs": [],
   "source": [
    "# Train model, with model checkpoint every epoch and every 200 training steps.\n",
    "model.fit(x, y, n_epoch=1, \n",
    "validation_set=(testx, testy), \n",
    "show_metric=True, \n",
    "snapshot_epoch=True, # Snapshot (save & evaluate) model every epoch. \n",
    "snapshot_step=500, # Snapshot (save & evalaute) model every 500 steps.\n",
    "run_id='model_and_weights’)"
   ]
  },
  {
   "cell_type": "code",
   "execution_count": null,
   "id": "f62a18a0",
   "metadata": {},
   "outputs": [],
   "source": [
    "# Manually save model\n",
    "model.save(\"model.tfl\")\n",
    "# Load a model\n",
    "model.load(\"model.tfl\")"
   ]
  },
  {
   "cell_type": "markdown",
   "id": "935892e7",
   "metadata": {},
   "source": [
    "###### The following is an illustration of how to retrieve and print the weights:"
   ]
  },
  {
   "cell_type": "code",
   "execution_count": null,
   "id": "e6678f57",
   "metadata": {},
   "outputs": [],
   "source": [
    "# Retrieve a layer weights, by layer name:\n",
    "dense1_vars = \n",
    "tflearn.variables.get_layer_variables_by_name('dense1’)"
   ]
  },
  {
   "cell_type": "code",
   "execution_count": null,
   "id": "11669814",
   "metadata": {},
   "outputs": [],
   "source": [
    "# Get a variable's value, using model `get_weights` \n",
    "method:\n",
    "print(\"Dense1 layer weights:\")\n",
    "print(model.get_weights(dense1_vars[0]))"
   ]
  },
  {
   "cell_type": "code",
   "execution_count": null,
   "id": "8e5a4a1c",
   "metadata": {},
   "outputs": [],
   "source": [
    "# Or using generic tflearn function:\n",
    "print(\"Dense1 layer biases:\")\n",
    "with model.session.as_default():\n",
    "print(tflearn.variables.get_value(dense1_vars[1]))"
   ]
  },
  {
   "cell_type": "markdown",
   "id": "a616f209",
   "metadata": {},
   "source": [
    "###### It is also possible to retrieve a layer’s weights through its attributes W and b."
   ]
  },
  {
   "cell_type": "code",
   "execution_count": null,
   "id": "617d8412",
   "metadata": {},
   "outputs": [],
   "source": [
    "# Get variable's value, using model `get_weights` \n",
    "method:\n",
    "print(\"Dense2 layer weights:\")\n",
    "print(model.get_weights(dense2.W))"
   ]
  },
  {
   "cell_type": "code",
   "execution_count": null,
   "id": "dab2b92d",
   "metadata": {},
   "outputs": [],
   "source": [
    "# Or using generic tflearn function:\n",
    "print(\"Dense2 layer biases:\")\n",
    "with model.session.as_default():\n",
    "print(tflearn.variables.get_value(dense2.b))"
   ]
  }
 ],
 "metadata": {
  "kernelspec": {
   "display_name": "Python 3 (ipykernel)",
   "language": "python",
   "name": "python3"
  },
  "language_info": {
   "codemirror_mode": {
    "name": "ipython",
    "version": 3
   },
   "file_extension": ".py",
   "mimetype": "text/x-python",
   "name": "python",
   "nbconvert_exporter": "python",
   "pygments_lexer": "ipython3",
   "version": "3.11.5"
  }
 },
 "nbformat": 4,
 "nbformat_minor": 5
}
