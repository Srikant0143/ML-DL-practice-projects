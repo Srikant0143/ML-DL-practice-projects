{
 "cells": [
  {
   "cell_type": "markdown",
   "id": "608e9c46",
   "metadata": {},
   "source": [
    "### Introduction to Tensors"
   ]
  },
  {
   "cell_type": "code",
   "execution_count": 1,
   "id": "7a434028",
   "metadata": {},
   "outputs": [],
   "source": [
    "import os\n",
    "os.environ['TF_CPP_MIN_LOG_LEVEL'] = '2'"
   ]
  },
  {
   "cell_type": "code",
   "execution_count": 2,
   "id": "fc31fb1c",
   "metadata": {},
   "outputs": [
    {
     "name": "stdout",
     "output_type": "stream",
     "text": [
      "WARNING:tensorflow:From C:\\Users\\srika\\anaconda3\\Lib\\site-packages\\keras\\src\\losses.py:2976: The name tf.losses.sparse_softmax_cross_entropy is deprecated. Please use tf.compat.v1.losses.sparse_softmax_cross_entropy instead.\n",
      "\n"
     ]
    }
   ],
   "source": [
    "import tensorflow as tf\n",
    "import numpy as np"
   ]
  },
  {
   "cell_type": "code",
   "execution_count": 3,
   "id": "6888f824",
   "metadata": {},
   "outputs": [],
   "source": [
    "rank_0_tensor = tf.constant(5)"
   ]
  },
  {
   "cell_type": "code",
   "execution_count": 4,
   "id": "1040c23a",
   "metadata": {},
   "outputs": [
    {
     "name": "stdout",
     "output_type": "stream",
     "text": [
      "tf.Tensor(5, shape=(), dtype=int32)\n"
     ]
    }
   ],
   "source": [
    "print(rank_0_tensor) # rank zero"
   ]
  },
  {
   "cell_type": "code",
   "execution_count": 5,
   "id": "77c7e4e9",
   "metadata": {},
   "outputs": [
    {
     "name": "stdout",
     "output_type": "stream",
     "text": [
      "tf.Tensor([2. 4. 5.], shape=(3,), dtype=float32)\n"
     ]
    }
   ],
   "source": [
    "# rand one\n",
    "\n",
    "rank_1_tensor = tf.constant([2.0,4.0,5.0])\n",
    "print(rank_1_tensor)"
   ]
  },
  {
   "cell_type": "code",
   "execution_count": 6,
   "id": "c28b8391",
   "metadata": {},
   "outputs": [
    {
     "name": "stdout",
     "output_type": "stream",
     "text": [
      "tf.Tensor(\n",
      "[[1. 2.]\n",
      " [3. 4.]\n",
      " [5. 6.]], shape=(3, 2), dtype=float16)\n"
     ]
    }
   ],
   "source": [
    "rank_2_tensor = tf.constant([[1,2],\n",
    "                            [3,4],\n",
    "                            [5,6]], dtype = tf.float16)\n",
    "print(rank_2_tensor)"
   ]
  },
  {
   "cell_type": "code",
   "execution_count": 7,
   "id": "acf6fdfd",
   "metadata": {},
   "outputs": [
    {
     "name": "stdout",
     "output_type": "stream",
     "text": [
      "tf.Tensor(\n",
      "[[[ 0  1  2  3  4]\n",
      "  [ 5  6  7  8  9]]\n",
      "\n",
      " [[10 11 12 13 14]\n",
      "  [15 16 17 18 19]]\n",
      "\n",
      " [[20 21 22 23 24]\n",
      "  [25 26 27 28 28]]], shape=(3, 2, 5), dtype=int32)\n"
     ]
    }
   ],
   "source": [
    "rank_3_tensor = tf.constant([\n",
    "    [[0,1,2,3,4],\n",
    "    [5,6,7,8,9]],\n",
    "    [[10,11,12,13,14],\n",
    "    [15,16,17,18,19]],\n",
    "    [[20,21,22,23,24],\n",
    "    [25,26,27,28,28]],\n",
    "])\n",
    "\n",
    "print(rank_3_tensor)"
   ]
  },
  {
   "cell_type": "code",
   "execution_count": 8,
   "id": "6a0a5a9b",
   "metadata": {},
   "outputs": [
    {
     "data": {
      "text/plain": [
       "array([[1., 2.],\n",
       "       [3., 4.],\n",
       "       [5., 6.]], dtype=float16)"
      ]
     },
     "execution_count": 8,
     "metadata": {},
     "output_type": "execute_result"
    }
   ],
   "source": [
    "# converting a tensor to Numpy array\n",
    "\n",
    "rank_2_tensor.numpy()"
   ]
  },
  {
   "cell_type": "code",
   "execution_count": 9,
   "id": "684290ab",
   "metadata": {},
   "outputs": [],
   "source": [
    "a = tf.constant([[1,2],\n",
    "                [3,4]])\n",
    "b = tf.constant([[1,1],\n",
    "                [1,1]])"
   ]
  },
  {
   "cell_type": "code",
   "execution_count": 14,
   "id": "9bb8b623",
   "metadata": {},
   "outputs": [
    {
     "name": "stdout",
     "output_type": "stream",
     "text": [
      "tf.Tensor(\n",
      "[[2 3]\n",
      " [4 5]], shape=(2, 2), dtype=int32) \n",
      "\n",
      "tf.Tensor(\n",
      "[[1 2]\n",
      " [3 4]], shape=(2, 2), dtype=int32) \n",
      "\n",
      "tf.Tensor(\n",
      "[[3 3]\n",
      " [7 7]], shape=(2, 2), dtype=int32)\n"
     ]
    }
   ],
   "source": [
    "print(tf.add(a,b), \"\\n\")\n",
    "print(tf.multiply(a,b), \"\\n\")  # element wise multiplication\n",
    "print(tf.matmul(a,b))  # matrix multiplication"
   ]
  },
  {
   "cell_type": "code",
   "execution_count": 11,
   "id": "30b38abf",
   "metadata": {},
   "outputs": [
    {
     "data": {
      "text/plain": [
       "tensorflow.python.framework.ops.EagerTensor"
      ]
     },
     "execution_count": 11,
     "metadata": {},
     "output_type": "execute_result"
    }
   ],
   "source": [
    "type(rank_1_tensor)"
   ]
  },
  {
   "cell_type": "code",
   "execution_count": 12,
   "id": "bf104340",
   "metadata": {},
   "outputs": [
    {
     "data": {
      "text/plain": [
       "tensorflow.python.framework.ops.EagerTensor"
      ]
     },
     "execution_count": 12,
     "metadata": {},
     "output_type": "execute_result"
    }
   ],
   "source": [
    "type(rank_2_tensor)"
   ]
  },
  {
   "cell_type": "code",
   "execution_count": 15,
   "id": "071b3f07",
   "metadata": {},
   "outputs": [],
   "source": [
    "c = tf.constant([[4.0,5.0],\n",
    "                [10.0,1.0]])"
   ]
  },
  {
   "cell_type": "code",
   "execution_count": 19,
   "id": "9d553f68",
   "metadata": {},
   "outputs": [
    {
     "data": {
      "text/plain": [
       "<tf.Tensor: shape=(), dtype=float32, numpy=10.0>"
      ]
     },
     "execution_count": 19,
     "metadata": {},
     "output_type": "execute_result"
    }
   ],
   "source": [
    "# initializing the tensor\n",
    "tf.reduce_max(c)  # gives max value"
   ]
  },
  {
   "cell_type": "code",
   "execution_count": 22,
   "id": "bc922b3e",
   "metadata": {},
   "outputs": [
    {
     "name": "stdout",
     "output_type": "stream",
     "text": [
      "tf.Tensor([1 0], shape=(2,), dtype=int64)\n"
     ]
    }
   ],
   "source": [
    "print(tf.math.argmax(c))  # returns the index of maximum value"
   ]
  },
  {
   "cell_type": "code",
   "execution_count": 23,
   "id": "87652b4a",
   "metadata": {},
   "outputs": [
    {
     "name": "stdout",
     "output_type": "stream",
     "text": [
      "tf.Tensor(\n",
      "[[2.6894143e-01 7.3105854e-01]\n",
      " [9.9987662e-01 1.2339458e-04]], shape=(2, 2), dtype=float32)\n"
     ]
    }
   ],
   "source": [
    "print(tf.nn.softmax(c)) \n",
    "# computes the probability distribution over the elements of c."
   ]
  },
  {
   "cell_type": "code",
   "execution_count": 24,
   "id": "15307347",
   "metadata": {},
   "outputs": [],
   "source": [
    "# broadcasting the variables"
   ]
  },
  {
   "cell_type": "code",
   "execution_count": 25,
   "id": "b0cb3605",
   "metadata": {},
   "outputs": [],
   "source": [
    "x = tf.constant([1,2,3])\n",
    "y = tf.constant(2)\n",
    "z = tf.constant([2,2,2])"
   ]
  },
  {
   "cell_type": "code",
   "execution_count": 30,
   "id": "2eae849d",
   "metadata": {},
   "outputs": [
    {
     "name": "stdout",
     "output_type": "stream",
     "text": [
      "tf.Tensor([2 4 6], shape=(3,), dtype=int32)\n"
     ]
    }
   ],
   "source": [
    "print(tf.multiply(x,2))"
   ]
  },
  {
   "cell_type": "code",
   "execution_count": 32,
   "id": "49971e36",
   "metadata": {},
   "outputs": [
    {
     "name": "stdout",
     "output_type": "stream",
     "text": [
      "tf.Tensor([2 4 6], shape=(3,), dtype=int32)\n"
     ]
    }
   ],
   "source": [
    "print(x*y)"
   ]
  },
  {
   "cell_type": "code",
   "execution_count": 33,
   "id": "030e221c",
   "metadata": {},
   "outputs": [
    {
     "name": "stdout",
     "output_type": "stream",
     "text": [
      "tf.Tensor([2 4 6], shape=(3,), dtype=int32)\n"
     ]
    }
   ],
   "source": [
    "print(x*z)"
   ]
  },
  {
   "cell_type": "code",
   "execution_count": 34,
   "id": "13130ff5",
   "metadata": {},
   "outputs": [
    {
     "name": "stdout",
     "output_type": "stream",
     "text": [
      "tf.Tensor([4 4 4], shape=(3,), dtype=int32)\n"
     ]
    }
   ],
   "source": [
    "print(y*z)"
   ]
  },
  {
   "cell_type": "code",
   "execution_count": 35,
   "id": "95f46b1c",
   "metadata": {},
   "outputs": [],
   "source": [
    "# reshaping\n",
    "x = tf.constant([[1],[2],[3]])"
   ]
  },
  {
   "cell_type": "code",
   "execution_count": 38,
   "id": "df091572",
   "metadata": {},
   "outputs": [
    {
     "name": "stdout",
     "output_type": "stream",
     "text": [
      "(3, 1)\n"
     ]
    }
   ],
   "source": [
    "print(x.shape)"
   ]
  },
  {
   "cell_type": "code",
   "execution_count": 39,
   "id": "2232835f",
   "metadata": {},
   "outputs": [],
   "source": [
    "reshaped = tf.reshape(x,[1,3])"
   ]
  },
  {
   "cell_type": "code",
   "execution_count": 40,
   "id": "f281fccc",
   "metadata": {},
   "outputs": [
    {
     "name": "stdout",
     "output_type": "stream",
     "text": [
      "(3, 1)\n"
     ]
    }
   ],
   "source": [
    "print(x.shape)"
   ]
  },
  {
   "cell_type": "code",
   "execution_count": 41,
   "id": "94978e6b",
   "metadata": {},
   "outputs": [
    {
     "name": "stdout",
     "output_type": "stream",
     "text": [
      "(1, 3)\n"
     ]
    }
   ],
   "source": [
    "print(reshaped.shape)"
   ]
  },
  {
   "cell_type": "code",
   "execution_count": 43,
   "id": "e5c78cf5",
   "metadata": {},
   "outputs": [
    {
     "name": "stdout",
     "output_type": "stream",
     "text": [
      "tf.Tensor([[1 2 3]], shape=(1, 3), dtype=int32)\n"
     ]
    }
   ],
   "source": [
    "print(reshaped)"
   ]
  },
  {
   "cell_type": "code",
   "execution_count": 44,
   "id": "2b97fd3f",
   "metadata": {},
   "outputs": [
    {
     "name": "stdout",
     "output_type": "stream",
     "text": [
      "tf.Tensor(\n",
      "[[1]\n",
      " [2]\n",
      " [3]], shape=(3, 1), dtype=int32)\n"
     ]
    }
   ],
   "source": [
    "print(x)"
   ]
  },
  {
   "cell_type": "markdown",
   "id": "c6899580",
   "metadata": {},
   "source": [
    "##### Different Types of Tensors"
   ]
  },
  {
   "cell_type": "markdown",
   "id": "170af553",
   "metadata": {},
   "source": [
    "- Ragged Tensor: Tensor with the variable number of elements along some axes is called Ragged Tensor"
   ]
  },
  {
   "cell_type": "code",
   "execution_count": 46,
   "id": "8385778b",
   "metadata": {},
   "outputs": [],
   "source": [
    "ragged_list = [\n",
    "    [0,1,2,3],\n",
    "    [4,5],\n",
    "    [6,7,8],\n",
    "    [9]]"
   ]
  },
  {
   "cell_type": "code",
   "execution_count": 49,
   "id": "18779a61",
   "metadata": {},
   "outputs": [
    {
     "data": {
      "text/plain": [
       "[[0, 1, 2, 3], [4, 5], [6, 7, 8], [9]]"
      ]
     },
     "execution_count": 49,
     "metadata": {},
     "output_type": "execute_result"
    }
   ],
   "source": [
    "ragged_list"
   ]
  },
  {
   "cell_type": "code",
   "execution_count": 50,
   "id": "62d0357b",
   "metadata": {},
   "outputs": [],
   "source": [
    "ragged_tensor = tf.ragged.constant(ragged_list)"
   ]
  },
  {
   "cell_type": "code",
   "execution_count": 51,
   "id": "5b35b993",
   "metadata": {},
   "outputs": [
    {
     "data": {
      "text/plain": [
       "<tf.RaggedTensor [[0, 1, 2, 3], [4, 5], [6, 7, 8], [9]]>"
      ]
     },
     "execution_count": 51,
     "metadata": {},
     "output_type": "execute_result"
    }
   ],
   "source": [
    "ragged_tensor"
   ]
  },
  {
   "cell_type": "markdown",
   "id": "d34c16cc",
   "metadata": {},
   "source": [
    " "
   ]
  },
  {
   "cell_type": "markdown",
   "id": "7a5a5c05",
   "metadata": {},
   "source": [
    "- Scalar String Tensor: It is a datatype, which means that data can be represented as strings (variable-length byte arrays) in Tensors"
   ]
  },
  {
   "cell_type": "code",
   "execution_count": 53,
   "id": "f78e7285",
   "metadata": {},
   "outputs": [],
   "source": [
    "scalar_string_tensor = tf.constant(\"gray wolf\")"
   ]
  },
  {
   "cell_type": "code",
   "execution_count": 54,
   "id": "0bec8e1e",
   "metadata": {},
   "outputs": [
    {
     "name": "stdout",
     "output_type": "stream",
     "text": [
      "tf.Tensor(b'gray wolf', shape=(), dtype=string)\n"
     ]
    }
   ],
   "source": [
    "print(scalar_string_tensor)"
   ]
  },
  {
   "cell_type": "markdown",
   "id": "7eb5f283",
   "metadata": {},
   "source": [
    "We can see that we can even represent the strings as Tensors."
   ]
  }
 ],
 "metadata": {
  "kernelspec": {
   "display_name": "Python 3 (ipykernel)",
   "language": "python",
   "name": "python3"
  },
  "language_info": {
   "codemirror_mode": {
    "name": "ipython",
    "version": 3
   },
   "file_extension": ".py",
   "mimetype": "text/x-python",
   "name": "python",
   "nbconvert_exporter": "python",
   "pygments_lexer": "ipython3",
   "version": "3.11.5"
  }
 },
 "nbformat": 4,
 "nbformat_minor": 5
}
