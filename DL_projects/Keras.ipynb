{
 "cells": [
  {
   "cell_type": "markdown",
   "id": "b4613f7e",
   "metadata": {},
   "source": [
    "###### Working on Keras example"
   ]
  },
  {
   "cell_type": "markdown",
   "id": "8977af94",
   "metadata": {},
   "source": [
    "#### Step 1: Import the libraries"
   ]
  },
  {
   "cell_type": "code",
   "execution_count": 3,
   "id": "f60b4b92",
   "metadata": {},
   "outputs": [
    {
     "name": "stdout",
     "output_type": "stream",
     "text": [
      "WARNING:tensorflow:From C:\\Users\\srika\\anaconda3\\Lib\\site-packages\\keras\\src\\losses.py:2976: The name tf.losses.sparse_softmax_cross_entropy is deprecated. Please use tf.compat.v1.losses.sparse_softmax_cross_entropy instead.\n",
      "\n"
     ]
    }
   ],
   "source": [
    "from tensorflow.keras.models import Sequential\n",
    "from tensorflow.keras.layers import Convolution2D, MaxPooling2D, Flatten,Dense\n",
    "from tensorflow.keras.datasets import cifar10\n",
    "from tensorflow.keras.utils import to_categorical"
   ]
  },
  {
   "cell_type": "code",
   "execution_count": 4,
   "id": "8f84bca8",
   "metadata": {},
   "outputs": [
    {
     "name": "stdout",
     "output_type": "stream",
     "text": [
      "Downloading data from https://www.cs.toronto.edu/~kriz/cifar-10-python.tar.gz\n",
      "170498071/170498071 [==============================] - 333s 2us/step\n"
     ]
    }
   ],
   "source": [
    "# Load and preprocess the CIFAR-10 dataset\n",
    "(x_train, y_train), (x_test, y_test) = cifar10.load_data()\n",
    "x_train = x_train.astype('float32') / 255\n",
    "x_test = x_test.astype('float32') / 255\n",
    "y_train = to_categorical(y_train, 10)\n",
    "y_test = to_categorical(y_test, 10)\n",
    "# Image dimensions\n",
    "img_width, img_height = x_train.shape[1], x_train.shape[2]"
   ]
  },
  {
   "cell_type": "markdown",
   "id": "4168dde6",
   "metadata": {},
   "source": [
    "#### Step 2: Create the Model"
   ]
  },
  {
   "cell_type": "code",
   "execution_count": 7,
   "id": "f24b77b9",
   "metadata": {},
   "outputs": [
    {
     "name": "stdout",
     "output_type": "stream",
     "text": [
      "WARNING:tensorflow:From C:\\Users\\srika\\anaconda3\\Lib\\site-packages\\keras\\src\\backend.py:873: The name tf.get_default_graph is deprecated. Please use tf.compat.v1.get_default_graph instead.\n",
      "\n",
      "WARNING:tensorflow:From C:\\Users\\srika\\anaconda3\\Lib\\site-packages\\keras\\src\\layers\\pooling\\max_pooling2d.py:161: The name tf.nn.max_pool is deprecated. Please use tf.nn.max_pool2d instead.\n",
      "\n"
     ]
    }
   ],
   "source": [
    "# The sequential model is a linear stack of layers.\n",
    "# Model definition\n",
    "model = Sequential()\n",
    "model.add(Convolution2D(16, (5, 5), activation='relu', input_shape=(img_width, \n",
    "img_height, 3)))\n",
    "model.add(MaxPooling2D(2, 2))\n",
    "model.add(Convolution2D(32, (5, 5), activation='relu'))\n",
    "model.add(MaxPooling2D(2, 2))\n",
    "model.add(Flatten())\n",
    "model.add(Dense(1000, activation='relu'))\n",
    "model.add(Dense(10, activation='softmax'))"
   ]
  },
  {
   "cell_type": "markdown",
   "id": "1df30390",
   "metadata": {},
   "source": [
    "The provided code creates a sequential model in Keras with convolutional, pooling, and \n",
    "dense layers, ultimately forming a network for image classification with 10 classes"
   ]
  },
  {
   "cell_type": "markdown",
   "id": "bd0a0acd",
   "metadata": {},
   "source": [
    "#### Step 3: Compile the Model"
   ]
  },
  {
   "cell_type": "markdown",
   "id": "894bb04d",
   "metadata": {},
   "source": [
    "- The loss function evaluates a set of weights.\n",
    "- The optimizer searches through different weights for the network and optional metrics to collect and report during training.\n",
    "- Set metrics=[‘accuracy’] for the classification problem."
   ]
  },
  {
   "cell_type": "code",
   "execution_count": 8,
   "id": "d98f4239",
   "metadata": {},
   "outputs": [
    {
     "name": "stdout",
     "output_type": "stream",
     "text": [
      "WARNING:tensorflow:From C:\\Users\\srika\\anaconda3\\Lib\\site-packages\\keras\\src\\optimizers\\__init__.py:309: The name tf.train.Optimizer is deprecated. Please use tf.compat.v1.train.Optimizer instead.\n",
      "\n"
     ]
    }
   ],
   "source": [
    "# Compile the model\n",
    "model.compile(loss='binary_crossentropy', \n",
    "optimizer='adam', metrics=['accuracy'])"
   ]
  },
  {
   "cell_type": "markdown",
   "id": "25a4eb36",
   "metadata": {},
   "source": [
    "The syntax compiles the model with binary cross-entropy loss, Adam optimizer, and \n",
    "accuracy as the metrics for evaluation"
   ]
  },
  {
   "cell_type": "markdown",
   "id": "e4f811e8",
   "metadata": {},
   "source": [
    "##### Step 4: Fit the Model\n",
    "- Executes a model for some data\n",
    "- Trains and iterates data in batches"
   ]
  },
  {
   "cell_type": "code",
   "execution_count": 9,
   "id": "e3082ba2",
   "metadata": {},
   "outputs": [
    {
     "name": "stdout",
     "output_type": "stream",
     "text": [
      "Epoch 1/10\n",
      "WARNING:tensorflow:From C:\\Users\\srika\\anaconda3\\Lib\\site-packages\\keras\\src\\utils\\tf_utils.py:492: The name tf.ragged.RaggedTensorValue is deprecated. Please use tf.compat.v1.ragged.RaggedTensorValue instead.\n",
      "\n",
      "WARNING:tensorflow:From C:\\Users\\srika\\anaconda3\\Lib\\site-packages\\keras\\src\\engine\\base_layer_utils.py:384: The name tf.executing_eagerly_outside_functions is deprecated. Please use tf.compat.v1.executing_eagerly_outside_functions instead.\n",
      "\n",
      "1563/1563 [==============================] - 33s 20ms/step - loss: 0.2373 - accuracy: 0.4407 - val_loss: 0.2058 - val_accuracy: 0.5293\n",
      "Epoch 2/10\n",
      "1563/1563 [==============================] - 29s 19ms/step - loss: 0.1877 - accuracy: 0.5855 - val_loss: 0.1834 - val_accuracy: 0.5990\n",
      "Epoch 3/10\n",
      "1563/1563 [==============================] - 29s 19ms/step - loss: 0.1646 - accuracy: 0.6463 - val_loss: 0.1678 - val_accuracy: 0.6421\n",
      "Epoch 4/10\n",
      "1563/1563 [==============================] - 31s 20ms/step - loss: 0.1456 - accuracy: 0.6969 - val_loss: 0.1595 - val_accuracy: 0.6637\n",
      "Epoch 5/10\n",
      "1563/1563 [==============================] - 30s 19ms/step - loss: 0.1288 - accuracy: 0.7387 - val_loss: 0.1594 - val_accuracy: 0.6737\n",
      "Epoch 6/10\n",
      "1563/1563 [==============================] - 31s 20ms/step - loss: 0.1137 - accuracy: 0.7795 - val_loss: 0.1586 - val_accuracy: 0.6847\n",
      "Epoch 7/10\n",
      "1563/1563 [==============================] - 29s 19ms/step - loss: 0.0985 - accuracy: 0.8156 - val_loss: 0.1687 - val_accuracy: 0.6775\n",
      "Epoch 8/10\n",
      "1563/1563 [==============================] - 30s 19ms/step - loss: 0.0830 - accuracy: 0.8545 - val_loss: 0.1807 - val_accuracy: 0.6777\n",
      "Epoch 9/10\n",
      "1563/1563 [==============================] - 31s 20ms/step - loss: 0.0688 - accuracy: 0.8877 - val_loss: 0.1941 - val_accuracy: 0.6767\n",
      "Epoch 10/10\n",
      "1563/1563 [==============================] - 29s 19ms/step - loss: 0.0559 - accuracy: 0.9167 - val_loss: 0.2138 - val_accuracy: 0.6758\n"
     ]
    },
    {
     "data": {
      "text/plain": [
       "<keras.src.callbacks.History at 0x15553adef10>"
      ]
     },
     "execution_count": 9,
     "metadata": {},
     "output_type": "execute_result"
    }
   ],
   "source": [
    "# Train the model\n",
    "model.fit(x_train, y_train, \n",
    "batch_size=32,\n",
    "epochs=10,\n",
    "verbose=1,\n",
    "validation_data=(x_test, y_test))"
   ]
  },
  {
   "cell_type": "markdown",
   "id": "b04f5fb7",
   "metadata": {},
   "source": [
    "##### Step 5: Evaluate the Model\n",
    "- The syntax evaluates the trained model on the test data and prints the test loss and test accuracy."
   ]
  },
  {
   "cell_type": "code",
   "execution_count": 11,
   "id": "02ec4af8",
   "metadata": {},
   "outputs": [
    {
     "name": "stdout",
     "output_type": "stream",
     "text": [
      "313/313 - 2s - loss: 0.2138 - accuracy: 0.6758 - 2s/epoch - 6ms/step\n",
      "Test loss: 0.21377399563789368\n",
      "Test accuracy: 0.6758000254631042\n"
     ]
    }
   ],
   "source": [
    "# Evaluate the model\n",
    "score = model.evaluate(x_test, y_test, verbose=2)\n",
    "print('Test loss:', score[0])\n",
    "print('Test accuracy:', score[1])"
   ]
  },
  {
   "cell_type": "markdown",
   "id": "6ce193e2",
   "metadata": {},
   "source": [
    "##### Step 6: Predict the Model\n",
    "- The syntax makes predictions on the test data x_test using the trained model and returns the \n",
    "predicted classes."
   ]
  },
  {
   "cell_type": "code",
   "execution_count": 12,
   "id": "14593316",
   "metadata": {},
   "outputs": [
    {
     "name": "stdout",
     "output_type": "stream",
     "text": [
      "79/79 [==============================] - 1s 14ms/step\n"
     ]
    }
   ],
   "source": [
    "classes=model.predict(x_test,batch_size=128)"
   ]
  }
 ],
 "metadata": {
  "kernelspec": {
   "display_name": "Python 3 (ipykernel)",
   "language": "python",
   "name": "python3"
  },
  "language_info": {
   "codemirror_mode": {
    "name": "ipython",
    "version": 3
   },
   "file_extension": ".py",
   "mimetype": "text/x-python",
   "name": "python",
   "nbconvert_exporter": "python",
   "pygments_lexer": "ipython3",
   "version": "3.11.5"
  }
 },
 "nbformat": 4,
 "nbformat_minor": 5
}
