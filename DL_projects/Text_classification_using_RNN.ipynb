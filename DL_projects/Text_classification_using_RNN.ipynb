{
 "cells": [
  {
   "cell_type": "markdown",
   "id": "c31d0ebd",
   "metadata": {},
   "source": [
    "### Text Classification with RNN"
   ]
  },
  {
   "cell_type": "code",
   "execution_count": 1,
   "id": "d09d3214",
   "metadata": {},
   "outputs": [
    {
     "name": "stderr",
     "output_type": "stream",
     "text": [
      "[nltk_data] Downloading package stopwords to\n",
      "[nltk_data]     C:\\Users\\srika\\AppData\\Roaming\\nltk_data...\n",
      "[nltk_data]   Package stopwords is already up-to-date!\n"
     ]
    },
    {
     "data": {
      "text/plain": [
       "True"
      ]
     },
     "execution_count": 1,
     "metadata": {},
     "output_type": "execute_result"
    }
   ],
   "source": [
    "# importing libraries\n",
    "\n",
    "import nltk\n",
    "nltk.download('stopwords')"
   ]
  },
  {
   "cell_type": "code",
   "execution_count": 2,
   "id": "ae258360",
   "metadata": {},
   "outputs": [
    {
     "name": "stdout",
     "output_type": "stream",
     "text": [
      "WARNING:tensorflow:From C:\\Users\\srika\\anaconda3\\Lib\\site-packages\\keras\\src\\losses.py:2976: The name tf.losses.sparse_softmax_cross_entropy is deprecated. Please use tf.compat.v1.losses.sparse_softmax_cross_entropy instead.\n",
      "\n"
     ]
    }
   ],
   "source": [
    "import csv\n",
    "import tensorflow as tf\n",
    "import numpy as np\n",
    "from tensorflow.keras.preprocessing.text import Tokenizer\n",
    "from tensorflow.keras.preprocessing.sequence import pad_sequences\n",
    "from nltk.corpus import stopwords\n",
    "STOPWORDS = set(stopwords.words('english'))\n",
    "import matplotlib.pyplot as plt\n",
    "%matplotlib inline"
   ]
  },
  {
   "cell_type": "markdown",
   "id": "2a2c8a96",
   "metadata": {},
   "source": [
    "###### Defining the Hyperparameter"
   ]
  },
  {
   "cell_type": "code",
   "execution_count": 3,
   "id": "cb030057",
   "metadata": {},
   "outputs": [],
   "source": [
    "vocab_size = 5000      # representing the size of the vocabulary\n",
    "embedding_dim = 64     # specifying the dimensionality of the word embeddings\n",
    "max_length = 200       # indicating the maximum length of input sequences\n",
    "padding_type = 'post'  # specifying that padding should be added at the end of sequences\n",
    "trunc_type = 'post'    # indicating that truncation should be applied at the end of sequences\n",
    "oov_tok = '<OOV>'      # representing the token to be used for out-of-vocabulary words\n",
    "training_portion = .8  # representing the proportion of data to be used for training"
   ]
  },
  {
   "cell_type": "markdown",
   "id": "4760f628",
   "metadata": {},
   "source": [
    "##### Preprocessing the Data and Printing the Lengths of the Labels and Articles Lists.\n",
    "\n",
    "- Define two empty lists, articles, and labels to store the articles and labels, respectively\n",
    "- Read the contents of the **bbc-text.csv** file using csv.reader and iterate through each row\n",
    "- Extract the label from the first column of each row and append it to the labels list\n",
    "- Process the article from the second column by removing stopwords and replacing consecutive spaces with a single space and then append it to the articles list\n",
    "- Print the lengths of the labels and articles lists to display the number of labels and processed articles, respectively"
   ]
  },
  {
   "cell_type": "code",
   "execution_count": 4,
   "id": "7d6d01df",
   "metadata": {},
   "outputs": [],
   "source": [
    "articles = []\n",
    "labels = []"
   ]
  },
  {
   "cell_type": "code",
   "execution_count": 5,
   "id": "b824e14b",
   "metadata": {},
   "outputs": [
    {
     "name": "stdout",
     "output_type": "stream",
     "text": [
      "2225\n",
      "2225\n"
     ]
    }
   ],
   "source": [
    "articles = []\n",
    "labels = []\n",
    "\n",
    "with open(\"bbc-text.csv\", 'r') as csvfile:\n",
    "    reader = csv.reader(csvfile, delimiter=',')\n",
    "    next(reader)\n",
    "    for row in reader:\n",
    "        labels.append(row[0])\n",
    "        article = row[1]\n",
    "        for word in STOPWORDS:\n",
    "            token = ' ' + word + ' '\n",
    "            article = article.replace(token, ' ')\n",
    "            article = article.replace(' ', ' ')\n",
    "        articles.append(article)\n",
    "print(len(labels))\n",
    "print(len(articles))"
   ]
  },
  {
   "cell_type": "markdown",
   "id": "2f4a44b7",
   "metadata": {},
   "source": [
    "__Observations:__\n",
    "- There are only **2,225** articles in the data.\n",
    "- Then, we split into a training set and validation set, according to the parameter we set earlier, 80% for training, and 20% for validation."
   ]
  },
  {
   "cell_type": "markdown",
   "id": "00272e56",
   "metadata": {},
   "source": [
    "###### Splitting the Data into Training and Validation Sets\n",
    "- Calculate the **train_size** by multiplying the length of the articles list with __training_portion__ and converting it to an integer\n",
    "- Create **train_articles** by slicing the articles list from index **0** to **train_size**\n",
    "- Create **train_labels** by slicing the labels list from index** 0 **to **train_size**\n",
    "- Create validation_articles by slicing the articles list from **train_size** onward\n",
    "- Create **validation_labels** by slicing the labels list from **train_size** onward\n",
    "- Print the **train_size** to display the calculated value\n",
    "\n",
    "- The lengths of **train_articles**, **train_labels**, **validation_articles**, and **validation_labels** represent the number of items in each list."
   ]
  },
  {
   "cell_type": "code",
   "execution_count": 6,
   "id": "4a3024c9",
   "metadata": {},
   "outputs": [
    {
     "name": "stdout",
     "output_type": "stream",
     "text": [
      "1780\n",
      "1780\n",
      "1780\n",
      "445\n",
      "445\n"
     ]
    }
   ],
   "source": [
    "train_size = int(len(articles) * training_portion)\n",
    "\n",
    "train_articles = articles[0: train_size]\n",
    "train_labels = labels[0: train_size]\n",
    "\n",
    "validation_articles = articles[train_size:]\n",
    "validation_labels = labels[train_size:]\n",
    "\n",
    "print(train_size)\n",
    "print(len(train_articles))\n",
    "print(len(train_labels))\n",
    "print(len(validation_articles))\n",
    "print(len(validation_labels))"
   ]
  },
  {
   "cell_type": "markdown",
   "id": "2fa3baed",
   "metadata": {},
   "source": [
    "__Observations:__\n",
    "- The value of **train_size** is calculated based on the proportion of training data.\n",
    "- The lengths of **train_articles**, **train_labels**, **validation_articles**, and **validation_labels** representing the number of items in each list."
   ]
  },
  {
   "cell_type": "markdown",
   "id": "002a29a3",
   "metadata": {},
   "source": [
    "###### Initializing a Tokenizer and Fitting It on the Training Articles\n",
    "\n",
    "- Initialize a **Tokenizer** object named tokenizer with the specified parameters: **num_words** representing the vocabulary size and **oov_token** representing the out-of-vocabulary token\n",
    "- Fit the tokenizer on the training articles **(train_articles)** using the **fit_on_texts** method\n",
    "- This step updates the tokenizer's internal word index based on the words in the training articles\n",
    "- Assign the word index obtained from the tokenizer to the variable **word_index**\n",
    "- Extract the first 10 items from the word_index dictionary\n",
    "- Print the resulting dictionary"
   ]
  },
  {
   "cell_type": "code",
   "execution_count": 7,
   "id": "ee204a47",
   "metadata": {},
   "outputs": [],
   "source": [
    "tokenizer = Tokenizer(num_words=vocab_size, oov_token=oov_tok)\n",
    "tokenizer.fit_on_texts(train_articles)\n",
    "word_index = tokenizer.word_index"
   ]
  },
  {
   "cell_type": "code",
   "execution_count": 8,
   "id": "4c873a23",
   "metadata": {},
   "outputs": [
    {
     "data": {
      "text/plain": [
       "{'<OOV>': 1,\n",
       " 'said': 2,\n",
       " 'mr': 3,\n",
       " 'would': 4,\n",
       " 'year': 5,\n",
       " 'also': 6,\n",
       " 'people': 7,\n",
       " 'new': 8,\n",
       " 'us': 9,\n",
       " 'one': 10}"
      ]
     },
     "execution_count": 8,
     "metadata": {},
     "output_type": "execute_result"
    }
   ],
   "source": [
    "dict(list(word_index.items())[0:10])"
   ]
  },
  {
   "cell_type": "markdown",
   "id": "05ec2ffc",
   "metadata": {},
   "source": [
    "__Observations:__\n",
    "- The code prints a dictionary containing the first 10 items from the word_index dictionary.\n",
    "- These items represent a subset of the word-to-index mappings generated by the tokenizer."
   ]
  },
  {
   "cell_type": "markdown",
   "id": "140797df",
   "metadata": {},
   "source": [
    "###### Converting the Training Articles into Sequences Using the Tokenizer\n",
    "- Convert the training articles **(train_articles)** into sequences using the **texts_to_sequences** method of the tokenizer object and assign the result to **train_sequences**\n",
    "- Print the sequence representation of the 11th training article (index 10) by accessing **train_sequences[10]**"
   ]
  },
  {
   "cell_type": "code",
   "execution_count": 9,
   "id": "1363e944",
   "metadata": {},
   "outputs": [
    {
     "name": "stdout",
     "output_type": "stream",
     "text": [
      "[2432, 1, 225, 4995, 22, 641, 586, 225, 4995, 1, 1, 1661, 1, 1, 2432, 22, 564, 1, 1, 140, 278, 1, 140, 278, 796, 822, 662, 2308, 1, 1144, 1692, 1, 1720, 4996, 1, 1, 1, 1, 1, 4738, 1, 1, 122, 4514, 1, 2, 2874, 1504, 352, 4739, 1, 52, 341, 1, 352, 2171, 3961, 41, 22, 3794, 1, 1, 1, 1, 542, 1, 1, 1, 835, 631, 2367, 347, 4740, 1, 365, 22, 1, 787, 2368, 1, 4302, 138, 10, 1, 3664, 682, 3531, 1, 22, 1, 414, 822, 662, 1, 90, 13, 633, 1, 225, 4995, 1, 600, 1, 1692, 1021, 1, 4997, 807, 1863, 117, 1, 1, 1, 2974, 22, 1, 99, 278, 1, 1607, 4998, 542, 492, 1, 1444, 4741, 778, 1320, 1, 1860, 10, 33, 641, 319, 1, 62, 478, 564, 301, 1505, 22, 479, 1, 1, 1664, 1, 797, 1, 3067, 1, 1364, 6, 1, 2432, 564, 22, 2971, 4735, 1, 1, 1, 1, 1, 850, 39, 1824, 675, 297, 26, 979, 1, 882, 22, 361, 22, 13, 301, 1505, 1342, 374, 20, 63, 883, 1096, 4303, 247]\n"
     ]
    }
   ],
   "source": [
    "train_sequences = tokenizer.texts_to_sequences(train_articles)\n",
    "\n",
    "print(train_sequences[10])"
   ]
  },
  {
   "cell_type": "markdown",
   "id": "ff992bbf",
   "metadata": {},
   "source": [
    "__Observation:__\n",
    "- The code prints the sequence representation of the 11th training article (index 10) in the **train_sequences** list.\n",
    "- The output is a list of integers, where each integer represents the index of a word in the tokenizer's word index vocabulary that corresponds to a word in the article."
   ]
  },
  {
   "cell_type": "markdown",
   "id": "0344277f",
   "metadata": {},
   "source": [
    "###### Padding the Sequence\n",
    "- Pad the sequences in **train_sequences** using the **pad_sequences** function\n",
    "- Set the maximum length of the padded sequences to **max_length**\n",
    "- Specify the padding type as **padding_type** and the truncation type as **trunc_type**\n",
    "- Assign the padded sequences to the variable **train_padded**"
   ]
  },
  {
   "cell_type": "code",
   "execution_count": 10,
   "id": "1da260d7",
   "metadata": {},
   "outputs": [],
   "source": [
    "train_padded = pad_sequences(train_sequences, maxlen=max_length,\n",
    "                            padding=padding_type, truncating=trunc_type)"
   ]
  },
  {
   "cell_type": "code",
   "execution_count": 11,
   "id": "3b57f83b",
   "metadata": {},
   "outputs": [
    {
     "name": "stdout",
     "output_type": "stream",
     "text": [
      "[2432, 1, 225, 4995, 22, 641, 586, 225, 4995, 1, 1, 1661, 1, 1, 2432, 22, 564, 1, 1, 140, 278, 1, 140, 278, 796, 822, 662, 2308, 1, 1144, 1692, 1, 1720, 4996, 1, 1, 1, 1, 1, 4738, 1, 1, 122, 4514, 1, 2, 2874, 1504, 352, 4739, 1, 52, 341, 1, 352, 2171, 3961, 41, 22, 3794, 1, 1, 1, 1, 542, 1, 1, 1, 835, 631, 2367, 347, 4740, 1, 365, 22, 1, 787, 2368, 1, 4302, 138, 10, 1, 3664, 682, 3531, 1, 22, 1, 414, 822, 662, 1, 90, 13, 633, 1, 225, 4995, 1, 600, 1, 1692, 1021, 1, 4997, 807, 1863, 117, 1, 1, 1, 2974, 22, 1, 99, 278, 1, 1607, 4998, 542, 492, 1, 1444, 4741, 778, 1320, 1, 1860, 10, 33, 641, 319, 1, 62, 478, 564, 301, 1505, 22, 479, 1, 1, 1664, 1, 797, 1, 3067, 1, 1364, 6, 1, 2432, 564, 22, 2971, 4735, 1, 1, 1, 1, 1, 850, 39, 1824, 675, 297, 26, 979, 1, 882, 22, 361, 22, 13, 301, 1505, 1342, 374, 20, 63, 883, 1096, 4303, 247]\n"
     ]
    }
   ],
   "source": [
    "print(train_sequences[10])"
   ]
  },
  {
   "cell_type": "markdown",
   "id": "3bc185a6",
   "metadata": {},
   "source": [
    "__Observations:__\n",
    "- The code prints the sequence representation of the 11th training article (index 10) in the **train_sequences** list.\n",
    "- The output is a list of integers, where each integer represents the index of a word in the tokenizer's word index vocabulary that corresponds to a word in the article."
   ]
  },
  {
   "cell_type": "code",
   "execution_count": 12,
   "id": "2da1646b",
   "metadata": {
    "scrolled": true
   },
   "outputs": [
    {
     "name": "stdout",
     "output_type": "stream",
     "text": [
      "[2432    1  225 4995   22  641  586  225 4995    1    1 1661    1    1\n",
      " 2432   22  564    1    1  140  278    1  140  278  796  822  662 2308\n",
      "    1 1144 1692    1 1720 4996    1    1    1    1    1 4738    1    1\n",
      "  122 4514    1    2 2874 1504  352 4739    1   52  341    1  352 2171\n",
      " 3961   41   22 3794    1    1    1    1  542    1    1    1  835  631\n",
      " 2367  347 4740    1  365   22    1  787 2368    1 4302  138   10    1\n",
      " 3664  682 3531    1   22    1  414  822  662    1   90   13  633    1\n",
      "  225 4995    1  600    1 1692 1021    1 4997  807 1863  117    1    1\n",
      "    1 2974   22    1   99  278    1 1607 4998  542  492    1 1444 4741\n",
      "  778 1320    1 1860   10   33  641  319    1   62  478  564  301 1505\n",
      "   22  479    1    1 1664    1  797    1 3067    1 1364    6    1 2432\n",
      "  564   22 2971 4735    1    1    1    1    1  850   39 1824  675  297\n",
      "   26  979    1  882   22  361   22   13  301 1505 1342  374   20   63\n",
      "  883 1096 4303  247    0    0    0    0    0    0    0    0    0    0\n",
      "    0    0    0    0]\n"
     ]
    }
   ],
   "source": [
    "print(train_padded[10])"
   ]
  },
  {
   "cell_type": "markdown",
   "id": "2d0b34b0",
   "metadata": {},
   "source": [
    "__Observation:__\n",
    "- The code prints the padded sequence representation of the 11th training article.\n",
    "- The output is a list of integers representing the word indices of the corresponding words in the article, after applying padding to ensure a consistent length (max_length) for all sequences."
   ]
  },
  {
   "cell_type": "markdown",
   "id": "aaaaf18b",
   "metadata": {},
   "source": [
    "###### Printing the Length of Validation Sequences and the Shape of Validation Padded\n",
    "- Convert the validation articles into sequences using the tokenizer and pad the sequences to a maximum length. Assign the result to **validation_padded**\n",
    "- Print the length of **validation_sequences** and the shape of **validation_padded**\n",
    "- Create a tokenizer for the labels and fit it on the labels list\n",
    "- Convert the training and validation labels into sequences using the label tokenizer and store the results in **training_label_seq** and **validation_label_seq** as NumPy arrays"
   ]
  },
  {
   "cell_type": "code",
   "execution_count": 13,
   "id": "33acc345",
   "metadata": {},
   "outputs": [
    {
     "name": "stdout",
     "output_type": "stream",
     "text": [
      "445\n",
      "(445, 200)\n"
     ]
    }
   ],
   "source": [
    "validation_sequences = tokenizer.texts_to_sequences(validation_articles)\n",
    "validation_padded = pad_sequences(validation_sequences,\n",
    "                                 maxlen=max_length, \n",
    "                                 padding=padding_type,\n",
    "                                 truncating=trunc_type)\n",
    "\n",
    "print(len(validation_sequences))\n",
    "print(validation_padded.shape)"
   ]
  },
  {
   "cell_type": "markdown",
   "id": "f1764cf8",
   "metadata": {},
   "source": [
    "__Observations:__\n",
    "- The length of **validation_sequences**, indicating the number of sequences in the validation set.\n",
    "- The shape of **validation_padded**, representing the dimensions of the padded validation sequences."
   ]
  },
  {
   "cell_type": "code",
   "execution_count": 14,
   "id": "e8e62629",
   "metadata": {},
   "outputs": [
    {
     "name": "stdout",
     "output_type": "stream",
     "text": [
      "{'sport', 'tech', 'politics', 'business', 'entertainment'}\n"
     ]
    }
   ],
   "source": [
    "print(set(labels))"
   ]
  },
  {
   "cell_type": "code",
   "execution_count": 15,
   "id": "38f4c21f",
   "metadata": {},
   "outputs": [],
   "source": [
    "label_tokenizer = Tokenizer()\n",
    "label_tokenizer.fit_on_texts(labels)\n",
    "\n",
    "train_label_seq = np.array(label_tokenizer.texts_to_sequences(train_labels))\n",
    "validation_label_seq = np.array(label_tokenizer.texts_to_sequences(validation_labels))"
   ]
  },
  {
   "cell_type": "markdown",
   "id": "4a7f5eec",
   "metadata": {},
   "source": [
    "__Observations:__\n",
    "- The output of this code is the conversion of label sequences for the training and validation sets.\n",
    "- The **training_label_seq** and **validation_label_seq** are NumPy arrays containing the label sequences for the respective sets, based on the word index mapping generated by the **label_tokenizer**"
   ]
  },
  {
   "cell_type": "markdown",
   "id": "ce58c46d",
   "metadata": {},
   "source": [
    "###### Training the Model\n",
    "- Create a sequential model using **tf.keras.Sequential()**\n",
    "- Add an embedding layer to the model with the specified vocabulary size **(vocab_size)** and embedding dimension **(embedding_dim)**\n",
    "- Add a bidirectional SimpleRNN layer to the model with the same embedding dimension\n",
    "- Add a dense layer to the model with the embedding dimension as the number of units and **relu** activation function\n",
    "- Add a dense layer with 6 units and the **softmax** activation function to the model\n",
    "- Print a summary of the model's architecture using **model.summary()**"
   ]
  },
  {
   "cell_type": "code",
   "execution_count": 16,
   "id": "242ab8c8",
   "metadata": {},
   "outputs": [
    {
     "name": "stdout",
     "output_type": "stream",
     "text": [
      "WARNING:tensorflow:From C:\\Users\\srika\\anaconda3\\Lib\\site-packages\\keras\\src\\backend.py:873: The name tf.get_default_graph is deprecated. Please use tf.compat.v1.get_default_graph instead.\n",
      "\n"
     ]
    }
   ],
   "source": [
    "model = tf.keras.Sequential([\n",
    "    tf.keras.layers.Embedding(vocab_size, embedding_dim),\n",
    "    tf.keras.layers.Bidirectional(tf.keras.layers.SimpleRNN(embedding_dim)),\n",
    "    tf.keras.layers.Dense(embedding_dim, activation='relu'),\n",
    "    tf.keras.layers.Dense(6, activation='softmax')\n",
    "])"
   ]
  },
  {
   "cell_type": "code",
   "execution_count": 17,
   "id": "f4263b64",
   "metadata": {},
   "outputs": [
    {
     "name": "stdout",
     "output_type": "stream",
     "text": [
      "Model: \"sequential\"\n",
      "_________________________________________________________________\n",
      " Layer (type)                Output Shape              Param #   \n",
      "=================================================================\n",
      " embedding (Embedding)       (None, None, 64)          320000    \n",
      "                                                                 \n",
      " bidirectional (Bidirection  (None, 128)               16512     \n",
      " al)                                                             \n",
      "                                                                 \n",
      " dense (Dense)               (None, 64)                8256      \n",
      "                                                                 \n",
      " dense_1 (Dense)             (None, 6)                 390       \n",
      "                                                                 \n",
      "=================================================================\n",
      "Total params: 345158 (1.32 MB)\n",
      "Trainable params: 345158 (1.32 MB)\n",
      "Non-trainable params: 0 (0.00 Byte)\n",
      "_________________________________________________________________\n"
     ]
    }
   ],
   "source": [
    "model.summary()"
   ]
  },
  {
   "cell_type": "markdown",
   "id": "d7db46f9",
   "metadata": {},
   "source": [
    "###### Compiling the Model\n",
    "- Compile the model using **model.compile()** with the loss function set to **sparse_categorical_crossentropy**, the optimizer set to **adam**, and the metrics set to **accuracy**\n",
    "- Set the number of epochs to 10\n",
    "- Train the model using **model.fit()** with the training padded sequences **(train_padded)** and training label sequences **(training_label_seq)**\n",
    "- Specify the number of epochs as **num_epochs**, the validation data as the validation padded sequences **(validation_padded)** and validation label sequences **(validation_label_seq)**, and **verbose** mode as **2**"
   ]
  },
  {
   "cell_type": "code",
   "execution_count": 18,
   "id": "7dc95e3b",
   "metadata": {},
   "outputs": [
    {
     "name": "stdout",
     "output_type": "stream",
     "text": [
      "WARNING:tensorflow:From C:\\Users\\srika\\anaconda3\\Lib\\site-packages\\keras\\src\\optimizers\\__init__.py:309: The name tf.train.Optimizer is deprecated. Please use tf.compat.v1.train.Optimizer instead.\n",
      "\n"
     ]
    }
   ],
   "source": [
    "model.compile(loss='sparse_categorical_crossentropy',\n",
    "             optimizer = 'adam',\n",
    "             metrics = ['accuracy'])"
   ]
  },
  {
   "cell_type": "code",
   "execution_count": 19,
   "id": "58c33323",
   "metadata": {},
   "outputs": [
    {
     "name": "stdout",
     "output_type": "stream",
     "text": [
      "Epoch 1/10\n",
      "WARNING:tensorflow:From C:\\Users\\srika\\anaconda3\\Lib\\site-packages\\keras\\src\\utils\\tf_utils.py:492: The name tf.ragged.RaggedTensorValue is deprecated. Please use tf.compat.v1.ragged.RaggedTensorValue instead.\n",
      "\n",
      "WARNING:tensorflow:From C:\\Users\\srika\\anaconda3\\Lib\\site-packages\\keras\\src\\engine\\base_layer_utils.py:384: The name tf.executing_eagerly_outside_functions is deprecated. Please use tf.compat.v1.executing_eagerly_outside_functions instead.\n",
      "\n",
      "56/56 [==============================] - 13s 124ms/step - loss: 1.6068 - accuracy: 0.2388 - val_loss: 1.5174 - val_accuracy: 0.3101\n",
      "Epoch 2/10\n",
      "56/56 [==============================] - 6s 115ms/step - loss: 1.4019 - accuracy: 0.4573 - val_loss: 1.3924 - val_accuracy: 0.4022\n",
      "Epoch 3/10\n",
      "56/56 [==============================] - 6s 114ms/step - loss: 0.7072 - accuracy: 0.8348 - val_loss: 0.8520 - val_accuracy: 0.6944\n",
      "Epoch 4/10\n",
      "56/56 [==============================] - 7s 131ms/step - loss: 0.0571 - accuracy: 0.9938 - val_loss: 0.7237 - val_accuracy: 0.7438\n",
      "Epoch 5/10\n",
      "56/56 [==============================] - 6s 102ms/step - loss: 0.0069 - accuracy: 1.0000 - val_loss: 0.6254 - val_accuracy: 0.7820\n",
      "Epoch 6/10\n",
      "56/56 [==============================] - 6s 112ms/step - loss: 0.0031 - accuracy: 1.0000 - val_loss: 0.6150 - val_accuracy: 0.7843\n",
      "Epoch 7/10\n",
      "56/56 [==============================] - 6s 113ms/step - loss: 0.0020 - accuracy: 1.0000 - val_loss: 0.6195 - val_accuracy: 0.7798\n",
      "Epoch 8/10\n",
      "56/56 [==============================] - 6s 116ms/step - loss: 0.0014 - accuracy: 1.0000 - val_loss: 0.6320 - val_accuracy: 0.7775\n",
      "Epoch 9/10\n",
      "56/56 [==============================] - 7s 120ms/step - loss: 0.0011 - accuracy: 1.0000 - val_loss: 0.6296 - val_accuracy: 0.7820\n",
      "Epoch 10/10\n",
      "56/56 [==============================] - 6s 111ms/step - loss: 8.5183e-04 - accuracy: 1.0000 - val_loss: 0.6315 - val_accuracy: 0.7753\n"
     ]
    }
   ],
   "source": [
    "num_epoch = 10\n",
    "history = model.fit(train_padded, train_label_seq, epochs=num_epoch,\n",
    "                   validation_data=(validation_padded, validation_label_seq))"
   ]
  },
  {
   "cell_type": "markdown",
   "id": "2e5f5716",
   "metadata": {},
   "source": [
    "###### Plotting the Graph\n",
    "- Define a function named **plot_graphs** that takes history and string as inputs. Inside the function, plot the training and validation values of the given metric (string) from the history object using **plt.plot()**\n",
    "- Set the x-axis label as **Epochs** and the y-axis label as the given metric (string)\n",
    "- Call the **plot_graphs** function twice, first with **history** and **accuracy** as arguments, and then with **history** and **loss** as arguments\n",
    "- Display the generated plots showing the training and validation values of the accuracy and loss metrics over the epochs"
   ]
  },
  {
   "cell_type": "code",
   "execution_count": 20,
   "id": "dfa5a0e9",
   "metadata": {},
   "outputs": [],
   "source": [
    "def plot_graphs(history, string):\n",
    "    plt.plot(history.history[string])\n",
    "    plt.plot(history.history['val_'+string])\n",
    "    plt.xlabel('Epochs')\n",
    "    plt.ylabel(string)\n",
    "    plt.legend([string, 'val_'+string])\n",
    "    plt.show()"
   ]
  },
  {
   "cell_type": "code",
   "execution_count": 21,
   "id": "fe9af7a9",
   "metadata": {},
   "outputs": [
    {
     "data": {
      "image/png": "[encoded data removed]",
      "text/plain": [
       "<Figure size 640x480 with 1 Axes>"
      ]
     },
     "metadata": {},
     "output_type": "display_data"
    },
    {
     "data": {
      "image/png": "[encoded data removed]",
      "text/plain": [
       "<Figure size 640x480 with 1 Axes>"
      ]
     },
     "metadata": {},
     "output_type": "display_data"
    }
   ],
   "source": [
    "plot_graphs(history, \"accuracy\")\n",
    "plot_graphs(history, 'loss')"
   ]
  },
  {
   "cell_type": "code",
   "execution_count": null,
   "id": "185ddebc",
   "metadata": {},
   "outputs": [],
   "source": []
  }
 ],
 "metadata": {
  "kernelspec": {
   "display_name": "Python 3 (ipykernel)",
   "language": "python",
   "name": "python3"
  },
  "language_info": {
   "codemirror_mode": {
    "name": "ipython",
    "version": 3
   },
   "file_extension": ".py",
   "mimetype": "text/x-python",
   "name": "python",
   "nbconvert_exporter": "python",
   "pygments_lexer": "ipython3",
   "version": "3.11.5"
  }
 },
 "nbformat": 4,
 "nbformat_minor": 5
}
